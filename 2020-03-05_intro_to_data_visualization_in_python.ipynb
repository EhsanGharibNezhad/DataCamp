{
 "cells": [
  {
   "cell_type": "markdown",
   "metadata": {},
   "source": [
    "- Notebook Author: [Trenton McKinney][1]\n",
    "- Course: **[DataCamp: Introduction to Data Visualization in Python][2]**\n",
    " - This [notebook][3] was created as a reproducible reference.\n",
    " - The material is from the course\n",
    " - I completed the exercises\n",
    " - If you find the content beneficial, consider a [DataCamp Subscription][4].\n",
    "\n",
    "  [1]: https://trenton3983.github.io/\n",
    "  [2]: https://learn.datacamp.com/courses/introduction-to-data-visualization-in-python\n",
    "  [3]: https://github.com/trenton3983/DataCamp/blob/master/2020-03-05_intro_to_data_visualization_in_python.ipynb\n",
    "  [4]: https://www.datacamp.com/pricing"
   ]
  },
  {
   "cell_type": "markdown",
   "metadata": {},
   "source": [
    "**Course Description**\n",
    "\n",
    "This course extends Intermediate Python for Data Science to provide a stronger foundation in data visualization in Python. You'll get a broader coverage of the Matplotlib library and an overview of seaborn, a package for statistical graphics. Topics covered include customizing graphics, plotting two-dimensional arrays (like pseudocolor plots, contour plots, and images), statistical graphics (like visualizing distributions and regressions), and working with time series and image data."
   ]
  },
  {
   "cell_type": "markdown",
   "metadata": {},
   "source": [
    "**Datasets**"
   ]
  },
  {
   "cell_type": "code",
   "execution_count": null,
   "metadata": {},
   "outputs": [],
   "source": [
    "mpg_url = 'https://assets.datacamp.com/production/repositories/558/datasets/1a03987ad77b38d61fc4c692bf64454ddf345fbe/auto-mpg.csv'\n",
    "women_bach_url = 'https://assets.datacamp.com/production/repositories/558/datasets/5f4f1a9bab95fba4d7fea1ad3c30dcab8f5b9c96/percent-bachelors-degrees-women-usa.csv'\n",
    "stocks_url = 'https://assets.datacamp.com/production/repositories/558/datasets/8dd58ff003e399765cdf348305783b842ff1d7eb/stocks.csv'"
   ]
  },
  {
   "cell_type": "markdown",
   "metadata": {},
   "source": [
    "**Imports**"
   ]
  },
  {
   "cell_type": "code",
   "execution_count": null,
   "metadata": {},
   "outputs": [],
   "source": [
    "import pandas as pd\n",
    "from pprint import pprint as pp\n",
    "from itertools import combinations\n",
    "import matplotlib.pyplot as plt\n",
    "import seaborn as sns"
   ]
  },
  {
   "cell_type": "markdown",
   "metadata": {},
   "source": [
    "**Pandas Configuration Options**"
   ]
  },
  {
   "cell_type": "code",
   "execution_count": null,
   "metadata": {},
   "outputs": [],
   "source": [
    "pd.set_option('max_columns', 200)\n",
    "pd.set_option('max_rows', 300)\n",
    "pd.set_option('display.expand_frame_repr', True)"
   ]
  },
  {
   "cell_type": "markdown",
   "metadata": {},
   "source": [
    "**DataFrames**"
   ]
  },
  {
   "cell_type": "code",
   "execution_count": null,
   "metadata": {},
   "outputs": [],
   "source": [
    "df_mpg = pd.read_csv(mpg_url)\n",
    "df_women = pd.read_csv(women_bach_url)\n",
    "df_stocks = pd.read_csv(stocks_url)"
   ]
  },
  {
   "cell_type": "code",
   "execution_count": null,
   "metadata": {},
   "outputs": [],
   "source": [
    "df_mpg.head()"
   ]
  },
  {
   "cell_type": "code",
   "execution_count": null,
   "metadata": {},
   "outputs": [],
   "source": [
    "df_mpg.info()"
   ]
  },
  {
   "cell_type": "code",
   "execution_count": null,
   "metadata": {},
   "outputs": [],
   "source": [
    "df_women.head()"
   ]
  },
  {
   "cell_type": "code",
   "execution_count": null,
   "metadata": {},
   "outputs": [],
   "source": [
    "df_women.info()"
   ]
  },
  {
   "cell_type": "code",
   "execution_count": null,
   "metadata": {},
   "outputs": [],
   "source": [
    "df_stocks.head()"
   ]
  },
  {
   "cell_type": "code",
   "execution_count": null,
   "metadata": {},
   "outputs": [],
   "source": [
    "df_stocks.Date = pd.to_datetime(df_stocks.Date)\n",
    "df_stocks.info()"
   ]
  },
  {
   "cell_type": "markdown",
   "metadata": {},
   "source": [
    "# Customizing plots\n",
    "\n",
    "Following a review of basic plotting with Matplotlib, this chapter delves into customizing plots using Matplotlib. This includes overlaying plots, making subplots, controlling axes, adding legends and annotations, and using different plot styles."
   ]
  },
  {
   "cell_type": "markdown",
   "metadata": {},
   "source": [
    "## Plotting Multiple Graphs"
   ]
  },
  {
   "cell_type": "markdown",
   "metadata": {},
   "source": [
    "### Multiple plots on single axis\n",
    "\n",
    "It is time now to put together some of what you have learned and combine line plots on a common set of axes. The data set here comes from records of undergraduate degrees awarded to women in a variety of fields from 1970 to 2011. You can compare trends in degrees most easily by viewing two curves on the same set of axes.\n",
    "\n",
    "Here, three NumPy arrays have been pre-loaded for you: `year` (enumerating years from 1970 to 2011 inclusive), `physical_sciences` (representing the percentage of Physical Sciences degrees awarded to women each in corresponding year), and `computer_science` (representing the percentage of Computer Science degrees awarded to women in each corresponding year).\n",
    "\n",
    "You will issue two `plt.plot()` commands to draw line plots of different colors on the same set of axes. Here, `year` represents the x-axis, while `physical_science`s and `computer_science` are the y-axes.\n",
    "\n",
    "**Instructions**\n",
    "\n",
    "* Import `matplotlib.pyplot` as its usual alias.\n",
    "* Add a `'blue'` line plot of the % of degrees awarded to women in the Physical Sciences (`physical_sciences`) from 1970 to 2011 (`year`). Note that the x-axis should be specified first.\n",
    "* Add a `'red'` line plot of the % of degrees awarded to women in Computer Science (`computer_science`) from 1970 to 2011 (`year`).\n",
    "* Use `plt.show()` to display the figure with the curves on the same axes."
   ]
  },
  {
   "cell_type": "code",
   "execution_count": null,
   "metadata": {},
   "outputs": [],
   "source": [
    "# Plot in blue the % of degrees awarded to women in the Physical Sciences\n",
    "plt.plot(df_women.Year, df_women['Physical Sciences'], c='blue')\n",
    "\n",
    "# Plot in red the % of degrees awarded to women in Computer Science\n",
    "plt.plot(df_women.Year, df_women['Computer Science'], c='red')\n",
    "\n",
    "# Display the plot\n",
    "plt.show()"
   ]
  },
  {
   "cell_type": "markdown",
   "metadata": {},
   "source": [
    "**It looks like, for the last 25 years or so, more women have been awarded undergraduate degrees in the Physical Sciences than in Computer Science.**"
   ]
  },
  {
   "cell_type": "markdown",
   "metadata": {},
   "source": [
    "### Using axes()\n",
    "\n",
    "Rather than overlaying line plots on common axes, you may prefer to plot different line plots on distinct axes. The command `plt.axes()` is one way to do this (but it requires specifying coordinates relative to the size of the figure).\n",
    "\n",
    "Here, you have the same three arrays `year`, `physical_sciences`, and `computer_science` representing percentages of degrees awarded to women over a range of years. You will use `plt.axes()` to create separate sets of axes in which you will draw each line plot.\n",
    "\n",
    "In calling `plt.axes([xlo, ylo, width, height])`, a set of axes is created and made active with lower corner at coordinates `(xlo, ylo)` of the specified `width` and `height`. Note that these coordinates can be passed to `plt.axes()` in the form of a list or a tuple.\n",
    "\n",
    "The coordinates and lengths are values between 0 and 1 representing lengths relative to the dimensions of the figure. After issuing a `plt.axes()` command, plots generated are put in that set of axes.\n",
    "\n",
    "**Instructions**\n",
    "\n",
    "* Create a set of plot axes with lower corner xlo and ylo of `0.05` and `0.05`, width of `0.425`, and height of `0.9` (in units relative to the figure dimension).\n",
    " * Note: Remember to pass these coordinates to `plt.axes()` in the form of a list: `[xlo, ylo, width, height]`.\n",
    "* Plot the percentage of degrees awarded to women in Physical Sciences in blue in the active axes just created.\n",
    "* Create a set of plot axes with lower corner xlo and ylo of `0.525` and `0.05`, width of `0.425`, and height of `0.9` (in units relative to the figure dimension).\n",
    "* Plot the percentage of degrees awarded to women in Computer Science in red in the active axes just created."
   ]
  },
  {
   "cell_type": "code",
   "execution_count": null,
   "metadata": {},
   "outputs": [],
   "source": [
    "# Create plot axes for the first line plot\n",
    "plt.axes([0.05, 0.05, 0.425, 0.9])\n",
    "\n",
    "# Plot in blue the % of degrees awarded to women in the Physical Sciences\n",
    "plt.plot(df_women.Year, df_women['Physical Sciences'], c='blue')\n",
    "\n",
    "# Create plot axes for the second line plot\n",
    "plt.axes([0.525, 0.05, 0.425, 0.9])\n",
    "\n",
    "# Plot in red the % of degrees awarded to women in Computer Science\n",
    "plt.plot(df_women.Year, df_women['Computer Science'], c='red')\n",
    "\n",
    "# Display the plot\n",
    "plt.show()"
   ]
  },
  {
   "cell_type": "markdown",
   "metadata": {},
   "source": [
    "**As you can see, not only are there now two separate plots with their own axes, but the axes for each plot are slightly different.**"
   ]
  },
  {
   "cell_type": "markdown",
   "metadata": {},
   "source": [
    "### Using subplot() (1)\n",
    "\n",
    "The command `plt.axes()` requires a lot of effort to use well because the coordinates of the axes need to be set manually. A better alternative is to use `plt.subplot()` to determine the layout automatically.\n",
    "\n",
    "In this exercise, you will continue working with the same arrays from the previous exercises: `year`, `physical_sciences`, and `computer_science`. Rather than using `plt.axes()` to explicitly lay out the axes, you will use `plt.subplot(m, n, k)` to make the subplot grid of dimensions `m` by `n` and to make the `k`th subplot active (subplots are numbered starting from 1 row-wise from the top left corner of the subplot grid).\n",
    "\n",
    "**Instructions**\n",
    "\n",
    "* Use `plt.subplot()` to create a figure with 1x2 subplot layout & make the first subplot active.\n",
    "* Plot the percentage of degrees awarded to women in Physical Sciences in blue in the active subplot.\n",
    "* Use `plt.subplot()` again to make the second subplot active in the current 1x2 subplot grid.\n",
    "* Plot the percentage of degrees awarded to women in Computer Science in red in the active subplot."
   ]
  },
  {
   "cell_type": "code",
   "execution_count": null,
   "metadata": {},
   "outputs": [],
   "source": [
    "# Create a figure with 1x2 subplot and make the left subplot active\n",
    "plt.subplot(1, 2, 1)\n",
    "\n",
    "# Plot in blue the % of degrees awarded to women in the Physical Sciences\n",
    "plt.plot(df_women.Year, df_women['Physical Sciences'], c='blue')\n",
    "plt.title('Physical Sciences')\n",
    "\n",
    "# Make the right subplot active in the current 1x2 subplot grid\n",
    "plt.subplot(1, 2, 2)\n",
    "\n",
    "# Plot in red the % of degrees awarded to women in Computer Science\n",
    "plt.plot(df_women.Year, df_women['Computer Science'], c='red')\n",
    "plt.title('Computer Science')\n",
    "\n",
    "# Use plt.tight_layout() to improve the spacing between subplots\n",
    "plt.tight_layout()\n",
    "plt.show()"
   ]
  },
  {
   "cell_type": "markdown",
   "metadata": {},
   "source": [
    "**Using subplots like this is a better alternative to using plt.axes().**"
   ]
  },
  {
   "cell_type": "markdown",
   "metadata": {},
   "source": [
    "### Using subplot() (2)\n",
    "\n",
    "Now you have some familiarity with `plt.subplot()`, you can use it to plot more plots in larger grids of subplots of the same figure.\n",
    "\n",
    "Here, you will make a 2×2 grid of subplots and plot the percentage of degrees awarded to women in Physical Sciences (using `physical_sciences`), in Computer Science (using `computer_science`), in Health Professions (using `health`), and in Education (using `education`).\n",
    "\n",
    "**Instructions**\n",
    "\n",
    "* Create a figure with 2×2 subplot layout, make the top, left subplot active, and plot the % of degrees awarded to women in Physical Sciences in blue in the active subplot.\n",
    "* Make the top, right subplot active in the current 2×2 subplot grid and plot the % of degrees awarded to women in Computer Science in red in the active subplot.\n",
    "* Make the bottom, left subplot active in the current 2×2 subplot grid and plot the % of degrees awarded to women in Health Professions in green in the active subplot.\n",
    "* Make the bottom, right subplot active in the current 2×2 subplot grid and plot the % of degrees awarded to women in Education in yellow in the active subplot.\n",
    "* _When making your plots, be sure to use the variable names specified in the exercise text above (`computer_science`, `health`, and `education`)!_"
   ]
  },
  {
   "cell_type": "code",
   "execution_count": null,
   "metadata": {},
   "outputs": [],
   "source": [
    "# Create a figure with 2x2 subplot layout and make the top left subplot active\n",
    "plt.subplot(2, 2, 1)\n",
    "\n",
    "# Plot in blue the % of degrees awarded to women in the Physical Sciences\n",
    "plt.plot(df_women.Year, df_women['Physical Sciences'], color='blue')\n",
    "plt.title('Physical Sciences')\n",
    "\n",
    "# Make the top right subplot active in the current 2x2 subplot grid \n",
    "plt.subplot(2, 2, 2)\n",
    "\n",
    "# Plot in red the % of degrees awarded to women in Computer Science\n",
    "plt.plot(df_women.Year, df_women['Computer Science'], color='red')\n",
    "plt.title('Computer Science')\n",
    "\n",
    "# Make the bottom left subplot active in the current 2x2 subplot grid\n",
    "plt.subplot(2, 2, 3)\n",
    "\n",
    "# Plot in green the % of degrees awarded to women in Health Professions\n",
    "plt.plot(df_women.Year, df_women['Health Professions'], color='green')\n",
    "plt.title('Health Professions')\n",
    "\n",
    "# Make the bottom right subplot active in the current 2x2 subplot grid\n",
    "plt.subplot(2, 2, 4)\n",
    "\n",
    "# Plot in yellow the % of degrees awarded to women in Education\n",
    "plt.plot(df_women.Year, df_women['Education'], color='yellow')\n",
    "plt.title('Education')\n",
    "\n",
    "# Improve the spacing between subplots and display them\n",
    "plt.tight_layout()\n",
    "plt.show()"
   ]
  },
  {
   "cell_type": "markdown",
   "metadata": {},
   "source": [
    "**You can use this approach to create subplots in any layout of your choice.**"
   ]
  },
  {
   "cell_type": "markdown",
   "metadata": {},
   "source": [
    "## Customizing Axes"
   ]
  },
  {
   "cell_type": "markdown",
   "metadata": {},
   "source": [
    "### Using xlim(), ylim()\n",
    "\n",
    "In this exercise, you will work with the `matplotlib.pyplot` interface to quickly set the x- and y-limits of your plots.\n",
    "\n",
    "You will now create the same figure as in the previous exercise using `plt.plot()`, this time setting the axis extents using `plt.xlim()` and `plt.ylim()`. These commands allow you to either zoom or expand the plot or to set the axis ranges to include important values (such as the origin).\n",
    "\n",
    "In this exercise, as before, the percentage of women graduates in Computer Science and in the Physical Sciences are held in the variables `computer_science` and `physical_sciences` respectively over `year`.\n",
    "\n",
    "After creating the plot, you will use `plt.savefig()` to export the image produced to a file.\n",
    "\n",
    "**Instructions**\n",
    "\n",
    "* Use `plt.xlim()` to set the x-axis range to the period between the years 1990 and 2010.\n",
    "* Use `plt.ylim()` to set the y-axis range to the interval between 0% and 50% of degrees awarded.\n",
    "* Display the final figure with `plt.show()` and save the output to `'xlim_and_ylim.png'`."
   ]
  },
  {
   "cell_type": "code",
   "execution_count": null,
   "metadata": {},
   "outputs": [],
   "source": []
  },
  {
   "cell_type": "markdown",
   "metadata": {},
   "source": [
    "### Using axis()\n",
    "\n",
    "Using `plt.xlim()` and `plt.ylim()` are useful for setting the axis limits individually. In this exercise, you will see how you can pass a 4-tuple to `plt.axis()` to set limits for both axes at once. For example, `plt.axis((1980,1990,0,75))` would set the extent of the x-axis to the period between 1980 and 1990, and would set the y-axis extent from 0 to 75% degrees award.\n",
    "\n",
    "Once again, the percentage of women graduates in Computer Science and in the Physical Sciences are held in the variables computer_science and physical_sciences where each value was measured at the corresponding year held in the year variable.\n",
    "\n",
    "**Instructions**\n",
    "\n",
    "* Use `plt.axis()` to select the time period between 1990 and 2010 on the x-axis as well as the interval between 0 and 50% awarded on the y-axis.\n",
    "* Save the resulting plot as `'axis_limits.png'`."
   ]
  },
  {
   "cell_type": "code",
   "execution_count": null,
   "metadata": {},
   "outputs": [],
   "source": []
  },
  {
   "cell_type": "markdown",
   "metadata": {},
   "source": [
    "## Legends, Annotations, and Styles"
   ]
  },
  {
   "cell_type": "markdown",
   "metadata": {},
   "source": [
    "### Using legend()\n",
    "\n",
    "Legends are useful for distinguishing between multiple datasets displayed on common axes. The relevant data are created using specific line colors or markers in various plot commands. Using the keyword argument `label` in the plotting function associates a string to use in a legend.\n",
    "\n",
    "For example, here, you will plot enrollment of women in the Physical Sciences and in Computer Science over time. You can label each curve by passing a `label` argument to the plotting call, and request a legend using `plt.legend()`. Specifying the keyword argument `loc` determines where the legend will be placed.\n",
    "\n",
    "**Instructions**\n",
    "\n",
    "* Modify the plot command provided that draws the enrollment of women in Computer Science over time so that the curve is labeled `'Computer Science'` in the legend.\n",
    "* Modify the plot command provided that draws the enrollment of women in the Physical Sciences over time so that the curve is labeled `'Physical Sciences'` in the legend.\n",
    "* Add a legend at the lower center (i.e., `loc='lower center'`)."
   ]
  },
  {
   "cell_type": "code",
   "execution_count": null,
   "metadata": {},
   "outputs": [],
   "source": []
  },
  {
   "cell_type": "markdown",
   "metadata": {},
   "source": [
    "### Using annotate()\n",
    "\n",
    "It is often useful to annotate a simple plot to provide context. This makes the plot more readable and can highlight specific aspects of the data. Annotations like text and arrows can be used to emphasize specific observations.\n",
    "\n",
    "Here, you will once again plot enrollment of women in the Physical Sciences and Computer Science over time. The legend is set up as before. Additionally, you will mark the inflection point when enrollment of women in Computer Science reached a peak and started declining using `plt.annotate()`.\n",
    "\n",
    "To enable an arrow, set `arrowprops=dict(facecolor='black')`. The arrow will point to the location given by `xy` and the text will appear at the location given by `xytext`.\n",
    "\n",
    "Computer Science enrollment and the years of enrollment have been preloaded for you as the arrays `computer_science` and `year`, respectively.\n",
    "\n",
    "**Instructions 1/2**\n",
    "\n",
    "* First, calculate the position for your annotation by finding the peak of women enrolling in Computer Science.\n",
    "* Compute the **maximum** enrollment of women in Computer Science (using the `computer_science` array).\n",
    "* Calculate the year in which there was the maximum enrollment of women in Computer Science.\n",
    " * To do so, you will need to retrieve the index of the highest value in the `computer_science` array using `.argmax()`, and then use this value to index the `year` array."
   ]
  },
  {
   "cell_type": "code",
   "execution_count": null,
   "metadata": {},
   "outputs": [],
   "source": []
  },
  {
   "cell_type": "markdown",
   "metadata": {},
   "source": [
    "**Instructions 2/2**"
   ]
  },
  {
   "cell_type": "code",
   "execution_count": null,
   "metadata": {},
   "outputs": [],
   "source": []
  },
  {
   "cell_type": "markdown",
   "metadata": {},
   "source": [
    "### Modifying styles\n",
    "\n",
    "Matplotlib comes with a number of different stylesheets to customize the overall look of different plots. To activate a particular stylesheet you can simply call `plt.style.use()` with the name of the style sheet you want. To list all the available style sheets you can execute: `print(plt.style.available)`.\n",
    "\n",
    "**Instructions**\n",
    "\n",
    "* Import `matplotlib.pyplot` as its usual alias.\n",
    "* Activate the `'ggplot'` style sheet with `plt.style.use()`."
   ]
  },
  {
   "cell_type": "code",
   "execution_count": null,
   "metadata": {},
   "outputs": [],
   "source": []
  },
  {
   "cell_type": "markdown",
   "metadata": {},
   "source": [
    "# Plotting 2D arrays\n",
    "\n",
    "This chapter showcases various techniques for visualizing two-dimensional arrays. This includes the use, presentation, and orientation of grids for representing two-variable functions followed by discussions of pseudocolor plots, contour plots, color maps, two-dimensional histograms, and images."
   ]
  },
  {
   "cell_type": "markdown",
   "metadata": {},
   "source": [
    "## Working With 2D Arrays"
   ]
  },
  {
   "cell_type": "markdown",
   "metadata": {},
   "source": [
    "### Generating meshes\n",
    "\n",
    "In order to visualize two-dimensional arrays of data, it is necessary to understand how to generate and manipulate 2-D arrays. Many Matplotlib plots support arrays as input and in particular, they support NumPy arrays. The NumPy library is the most widely-supported means for supporting numeric arrays in Python.\n",
    "\n",
    "In this exercise, you will use the meshgrid function in NumPy to generate 2-D arrays which you will then visualize using `plt.imshow()`. The simplest way to generate a meshgrid is as follows:\n",
    "\n",
    "```python\n",
    "import numpy as np\n",
    "Y, X = np.meshgrid(range(10),range(20))\n",
    "```\n",
    "\n",
    "This will create two arrays with a shape of `(20,10)`, which corresponds to 20 rows along the Y-axis and 10 columns along the X-axis. In this exercise, you will use `np.meshgrid()` to generate a regular 2-D sampling of a mathematical function.\n",
    "\n",
    "**Instructions**\n",
    "\n",
    "* Import the `numpy` and `matplotlib.pyplot` modules using the respective aliases `np` and `plt`.\n",
    "* Generate two one-dimensional arrays `u` and `v` using `np.linspace()`. The array `u` should contain 41 values uniformly spaced between -2 and +2. The array `v` should contain 21 values uniformly spaced between -1 and +1.\n",
    "* Construct two two-dimensional arrays `X` and `Y` from `u` and `v` using `np.meshgrid()`.\n",
    "* After the array Z is computed using `X` and `Y`, visualize the array `Z` using `plt.pcolor()` and `plt.show()`.\n",
    "* Save the resulting figure as `'sine_mesh.png'`."
   ]
  },
  {
   "cell_type": "code",
   "execution_count": null,
   "metadata": {},
   "outputs": [],
   "source": []
  },
  {
   "cell_type": "markdown",
   "metadata": {},
   "source": [
    "### Array orientation\n",
    "\n",
    "![matrix picture][1]\n",
    "\n",
    "The commands\n",
    "\n",
    "```python\n",
    "In [1]: plt.pcolor(A, cmap='Blues')\n",
    "In [2]: plt.colorbar()\n",
    "In [3]: plt.show()\n",
    "```\n",
    "\n",
    "produce the pseudocolor plot above using a Numpy array `A`. Which of the commands below could have generated `A`?\n",
    "\n",
    "`numpy` and `matplotlib.pyplot` have been imported as `np` and `plt` respectively. Play around in the IPython shell with different arrays and generate pseudocolor plots from them to identify which of the below commands could have generated `A`.\n",
    "\n",
    "**Instructions**\n",
    "\n",
    "* `A = np.array([[1, 2, 1], [0, 0, 1], [-1, 1, 1]])`\n",
    "* `A = np.array([[1, 0, -1], [2, 0, 1], [1, 1, 1]])`\n",
    "* `A = np.array([[-1, 0, 1], [1, 0, 2], [1, 1, 1]])`\n",
    "* `A = np.array([[1, 1, 1], [2, 0, 1], [1, 0, -1]])`\n",
    "\n",
    "\n",
    "  [1]: https://raw.githubusercontent.com/trenton3983/DataCamp/master/Images/intro_to_data_visualization_in_python/2_1_2_array_orientation.JPG"
   ]
  },
  {
   "cell_type": "code",
   "execution_count": null,
   "metadata": {},
   "outputs": [],
   "source": []
  },
  {
   "cell_type": "markdown",
   "metadata": {},
   "source": [
    "## Visualizing Bivariate Functions"
   ]
  },
  {
   "cell_type": "markdown",
   "metadata": {},
   "source": [
    "### Contour & filled contour plots\n",
    "\n",
    "Although `plt.imshow()` or `plt.pcolor()` are often used to visualize a 2-D array in entirety, there are other ways of visualizing such data without displaying all of the available sample values. One option is to use the array to compute contours that are visualized instead.\n",
    "\n",
    "Two types of contour plot supported by Matplotlib are `plt.contour()` and `plt.contourf()` where the former displays the contours as lines and the latter displayed filled areas between contours. Both these plotting commands accept a two dimensional array from which the appropriate contours are computed.\n",
    "\n",
    "In this exercise, you will visualize a 2-D array repeatedly using both `plt.contour()` and `plt.contourf()`. You will use `plt.subplot()` to display several contour plots in a common figure, using the meshgrid `X`, `Y` as the axes. For example, `plt.contour(X, Y, Z)` generates a default contour map of the array `Z`.\n",
    "\n",
    "_Don't forget to include the meshgrid in each plot for this exercise!_\n",
    "\n",
    "**Instructions**\n",
    "\n",
    "* Using the meshgrid `X`, `Y` as axes for **each** plot:\n",
    "* Generate a default contour plot of the array `Z` in the upper left subplot.\n",
    "* Generate a contour plot of the array `Z` in the upper right subplot with `20` contours.\n",
    "* Generate a default _filled_ contour plot of the array `Z` in the lower left subplot.\n",
    "* Generate a default _filled_ contour plot of the array `Z` in the lower right subplot with `20` contours.\n",
    "* Improve the spacing between the subplots with `plt.tight_layout()` and display the figure."
   ]
  },
  {
   "cell_type": "code",
   "execution_count": null,
   "metadata": {},
   "outputs": [],
   "source": []
  },
  {
   "cell_type": "markdown",
   "metadata": {},
   "source": [
    "### Modifying colormaps\n",
    "\n",
    "When displaying a 2-D array with plt.imshow() or plt.pcolor(), the values of the array are mapped to a corresponding color. The set of colors used is determined by a colormap which smoothly maps values to colors, making it easy to understand the structure of the data at a glance.\n",
    "\n",
    "It is often useful to change the colormap from the default 'jet' colormap used by matplotlib. A good colormap is visually pleasing and conveys the structure of the data faithfully and in a way that makes sense for the application.\n",
    "\n",
    "Some matplotlib colormaps have unique names such as 'jet', 'coolwarm', 'magma' and 'viridis'.\n",
    "Others have a naming scheme based on overall color such as 'Greens', 'Blues', 'Reds', and 'Purples'.\n",
    "Another four colormaps are based on the seasons, namely 'summer', 'autumn', 'winter' and 'spring'.\n",
    "You can insert the option cmap=<name> into most matplotlib functions to change the color map of the resulting plot.\n",
    "In this exercise, you will explore four different colormaps together using plt.subplot(). You will use a pregenerated array Z and a meshgrid X, Y to generate the same filled contour plot with four different color maps. Be sure to also add a color bar to each filled contour plot with plt.colorbar().\n",
    "\n",
    "**Instructions**\n",
    "\n",
    "Modify the call to plt.contourf() so the filled contours in the top left subplot use the 'viridis' colormap.\n",
    "Modify the call to plt.contourf() so the filled contours in the top right subplot use the 'gray' colormap.\n",
    "Modify the call to plt.contourf() so the filled contours in the bottom left subplot use the 'autumn' colormap.\n",
    "Modify the call to plt.contourf() so the filled contours in the bottom right subplot use the 'winter' colormap."
   ]
  },
  {
   "cell_type": "code",
   "execution_count": null,
   "metadata": {},
   "outputs": [],
   "source": []
  },
  {
   "cell_type": "markdown",
   "metadata": {},
   "source": [
    "## Visualizing Bivariate Distributions"
   ]
  },
  {
   "cell_type": "markdown",
   "metadata": {},
   "source": [
    "### Using hist2d()\n",
    "\n",
    "Given a set of ordered pairs describing data points, you can count the number of points with similar values to construct a two-dimensional histogram. This is similar to a one-dimensional histogram, but it describes the joint variation of two random variables rather than just one.\n",
    "\n",
    "In matplotlib, one function to visualize 2-D histograms is plt.hist2d().\n",
    "\n",
    "You specify the coordinates of the points using plt.hist2d(x,y) assuming x and y are two vectors of the same length.\n",
    "You can specify the number of bins with the argument bins=(nx, ny) where nx is the number of bins to use in the horizontal direction and ny is the number of bins to use in the vertical direction.\n",
    "You can specify the rectangular region in which the samples are counted in constructing the 2D histogram. The optional parameter required is range=((xmin, xmax), (ymin, ymax)) where\n",
    "xmin and xmax are the respective lower and upper limits for the variables on the x-axis and\n",
    "ymin and ymax are the respective lower and upper limits for the variables on the y-axis. Notice that the optional range argument can use nested tuples or lists.\n",
    "In this exercise, you'll use some data from the auto-mpg data set. There are two arrays mpg and hp that respectively contain miles per gallon and horse power ratings from over three hundred automobiles built.\n",
    "\n",
    "**Instructions**\n",
    "\n",
    "Generate a two-dimensional histogram to view the joint variation of the mpg and hp arrays.\n",
    "\n",
    "Put hp along the horizontal axis and mpg along the vertical axis.\n",
    "Specify 20 by 20 rectangular bins with the bins argument.\n",
    "Specify the region covered by using the optional range argument so that the plot samples hp between 40 and 235 on the x-axis and mpg between 8 and 48 on the y-axis. Your argument should take the form: range=((xmin, xmax), (ymin, ymax)).\n",
    "Add a color bar to the histogram."
   ]
  },
  {
   "cell_type": "code",
   "execution_count": null,
   "metadata": {},
   "outputs": [],
   "source": []
  },
  {
   "cell_type": "markdown",
   "metadata": {},
   "source": [
    "### Using hexbin()\n",
    "\n",
    "The function plt.hist2d() uses rectangular bins to construct a two dimensional histogram. As an alternative, the function plt.hexbin() uses hexagonal bins. The underlying algorithm (based on this article from 1987) constructs a hexagonal tesselation of a planar region and aggregates points inside hexagonal bins.\n",
    "\n",
    "The optional gridsize argument (default 100) gives the number of hexagons across the x-direction used in the hexagonal tiling. If specified as a list or a tuple of length two, gridsize fixes the number of hexagon in the x- and y-directions respectively in the tiling.\n",
    "The optional parameter extent=(xmin, xmax, ymin, ymax) specifies rectangular region covered by the hexagonal tiling. In that case, xmin and xmax are the respective lower and upper limits for the variables on the x-axis and ymin and ymax are the respective lower and upper limits for the variables on the y-axis.\n",
    "In this exercise, you'll use the same auto-mpg data as in the last exercise (again using arrays mpg and hp). This time, you'll use plt.hexbin() to visualize the two-dimensional histogram.\n",
    "\n",
    "**Instructions**\n",
    "\n",
    "Generate a two-dimensional histogram with plt.hexbin() to view the joint variation of the mpg and hp vectors.\n",
    "\n",
    "Put hp along the horizontal axis and mpg along the vertical axis.\n",
    "Specify a hexagonal tesselation with 15 hexagons across the x-direction and 12 hexagons across the y-direction using gridsize.\n",
    "Specify the rectangular region covered with the optional extent argument: use hp from 40 to 235 and mpg from 8 to 48. Note: Unlike the range argument in the previous exercise, extent takes one tuple of four values.\n",
    "Add a color bar to the histogram."
   ]
  },
  {
   "cell_type": "code",
   "execution_count": null,
   "metadata": {},
   "outputs": [],
   "source": []
  },
  {
   "cell_type": "markdown",
   "metadata": {},
   "source": [
    "## Working With Images"
   ]
  },
  {
   "cell_type": "markdown",
   "metadata": {},
   "source": [
    "### Loading, examining images\n",
    "\n",
    "Color images such as photographs contain the intensity of the red, green and blue color channels.\n",
    "\n",
    "To read an image from file, use plt.imread() by passing the path to a file, such as a PNG or JPG file.\n",
    "The color image can be plotted as usual using plt.imshow().\n",
    "The resulting image loaded is a NumPy array of three dimensions. The array typically has dimensions M×N×3, where M×N is the dimensions of the image. The third dimensions are referred to as color channels (typically red, green, and blue).\n",
    "The color channels can be extracted by Numpy array slicing.\n",
    "In this exercise, you will load & display an image of an astronaut (by NASA (Public domain), via Wikimedia Commons). You will also examine its attributes to understand how color images are represented.\n",
    "\n",
    "**Instructions**\n",
    "\n",
    "Load the file '480px-Astronaut-EVA.jpg' into an array.\n",
    "Print the shape of the img array. How wide and tall do you expect the image to be?\n",
    "Prepare img for display using plt.imshow().\n",
    "Turn off the axes using plt.axis('off')."
   ]
  },
  {
   "cell_type": "code",
   "execution_count": null,
   "metadata": {},
   "outputs": [],
   "source": []
  },
  {
   "cell_type": "markdown",
   "metadata": {},
   "source": [
    "### Pseudocolor plot from image data\n",
    "\n",
    "Image data comes in many forms and it is not always appropriate to display the available channels in RGB space. In many situations, an image may be processed and analysed in some way before it is visualized in pseudocolor, also known as 'false' color.\n",
    "\n",
    "In this exercise, you will perform a simple analysis using the image showing an astronaut as viewed from space. Instead of simply displaying the image, you will compute the total intensity across the red, green and blue channels. The result is a single two dimensional array which you will display using plt.imshow() with the 'gray' colormap.\n",
    "\n",
    "**Instructions**\n",
    "\n",
    "Print the shape of the existing image array.\n",
    "Compute the sum of the red, green, and blue channels of img by using the .sum() method with axis=2.\n",
    "Print the shape of the intensity array to verify this is the shape you expect.\n",
    "Plot intensity with plt.imshow() using a 'gray' colormap.\n",
    "Add a colorbar to the figure."
   ]
  },
  {
   "cell_type": "code",
   "execution_count": null,
   "metadata": {},
   "outputs": [],
   "source": []
  },
  {
   "cell_type": "markdown",
   "metadata": {},
   "source": [
    "### Extent and aspect\n",
    "\n",
    "When using plt.imshow() to display an array, the default behavior is to keep pixels square so that the height to width ratio of the output matches the ratio determined by the shape of the array. In addition, by default, the x- and y-axes are labeled by the number of samples in each direction.\n",
    "\n",
    "The ratio of the displayed width to height is known as the image aspect and the range used to label the x- and y-axes is known as the image extent. The default aspect value of 'auto' keeps the pixels square and the extents are automatically computed from the shape of the array if not specified otherwise.\n",
    "\n",
    "In this exercise, you will investigate how to set these options explicitly by plotting the same image in a 2 by 2 grid of subplots with distinct aspect and extent options.\n",
    "\n",
    "**Instructions**\n",
    "\n",
    "Display img in the top left subplot with horizontal extent from -1 to 1, vertical extent from -1 to 1, and aspect ratio 0.5.\n",
    "Display img in the top right subplot with horizontal extent from -1 to 1, vertical extent from -1 to 1, and aspect ratio 1.\n",
    "Display img in the bottom left subplot with horizontal extent from -1 to 1, vertical extent from -1 to 1, and aspect ratio 2.\n",
    "Display img in the bottom right subplot with horizontal extent from -2 to 2, vertical extent from -1 to 1, and aspect ratio 2."
   ]
  },
  {
   "cell_type": "code",
   "execution_count": null,
   "metadata": {},
   "outputs": [],
   "source": []
  },
  {
   "cell_type": "markdown",
   "metadata": {},
   "source": [
    "### Rescaling pixel intensities\n",
    "Sometimes, low contrast images can be improved by rescaling their intensities. For instance, this image of Hawkes Bay, New Zealand has no pixel values near 0 or near 255 (the limits of valid intensities). (originally by Phillip Capper, modified by User:Konstable, via Wikimedia Commons, CC BY 2.0)\n",
    "\n",
    "![Hawkes Bay, New Zealand][1]\n",
    "\n",
    "For this exercise, you will do a simple rescaling (remember, an image is NumPy array) to translate and stretch the pixel intensities so that the intensities of the new image fill the range from 0 to 255.\n",
    "\n",
    "**Instructions**\n",
    "\n",
    "Use the methods .min() and .max() to save the minimum and maximum values from the array image as pmin and pmax respectively.\n",
    "Create a new 2-D array rescaled_image using 256*(image-pmin)/(pmax-pmin)\n",
    "Plot the new array rescaled_image.\n",
    "\n",
    "  [1]: https://raw.githubusercontent.com/trenton3983/DataCamp/master/Images/intro_to_data_visualization_in_python/2_4_4_rescaling_pixel_intensities.JPG"
   ]
  },
  {
   "cell_type": "code",
   "execution_count": null,
   "metadata": {},
   "outputs": [],
   "source": []
  },
  {
   "cell_type": "markdown",
   "metadata": {},
   "source": [
    "# Statistical plots with Seaborn\n",
    "\n",
    "This is a high-level tour of the seaborn plotting library for producing statistical graphics in Python. We'll cover seaborn tools for computing and visualizing linear regressions, as well as tools for visualizing univariate distributions (like strip, swarm, and violin plots) and multivariate distributions (like joint plots, pair plots, and heatmaps). We'll also discuss grouping categories in plots."
   ]
  },
  {
   "cell_type": "markdown",
   "metadata": {},
   "source": [
    "## Visualizing Regressions"
   ]
  },
  {
   "cell_type": "markdown",
   "metadata": {},
   "source": [
    "### Simple linear regressions\n",
    "\n",
    "As you have seen, seaborn provides a convenient interface to generate complex and great-looking statistical plots. One of the simplest things you can do using seaborn is to fit and visualize a simple linear regression between two variables using sns.lmplot().\n",
    "\n",
    "One difference between seaborn and regular matplotlib plotting is that you can pass pandas DataFrames directly to the plot and refer to each column by name. For example, if you were to plot the column 'price' vs the column 'area' from a DataFrame df, you could call sns.lmplot(x='area', y='price', data=df).\n",
    "\n",
    "In this exercise, you will once again use the DataFrame auto containing the auto-mpg dataset. You will plot a linear regression illustrating the relationship between automobile weight and horse power.\n",
    "\n",
    "**Instructions**\n",
    "\n",
    "Import matplotlib.pyplot and seaborn using the standard names plt and sns respectively.\n",
    "Plot a linear regression between the 'weight' column (on the x-axis) and the 'hp' column (on the y-axis) from the DataFrame auto.\n",
    "Display the plot as usual with plt.show(). This has been done for you, so hit 'Submit Answer' to view the plot."
   ]
  },
  {
   "cell_type": "code",
   "execution_count": null,
   "metadata": {},
   "outputs": [],
   "source": []
  },
  {
   "cell_type": "markdown",
   "metadata": {},
   "source": [
    "### Plotting residuals of a regression\n",
    "\n",
    "Often, you don't just want to see the regression itself but also see the residuals to get a better idea how well the regression captured the data. Seaborn provides sns.residplot() for that purpose, visualizing how far datapoints diverge from the regression line.\n",
    "\n",
    "In this exercise, you will visualize the residuals of a regression between the 'hp' column (horse power) and the 'mpg' column (miles per gallon) of the auto DataFrame used previously.\n",
    "\n",
    "**Instructions**\n",
    "\n",
    "Import matplotlib.pyplot and seaborn using the standard names plt and sns respectively.\n",
    "Generate a green residual plot of the regression between 'hp' (on the x-axis) and 'mpg' (on the y-axis). You will need to specify the additional data and color parameters.\n",
    "Display the plot as usual using plt.show(). This has been done for you, so hit 'Submit Answer' to view the plot."
   ]
  },
  {
   "cell_type": "code",
   "execution_count": null,
   "metadata": {},
   "outputs": [],
   "source": []
  },
  {
   "cell_type": "markdown",
   "metadata": {},
   "source": [
    "### Higher-order regressions\n",
    "\n",
    "When there are more complex relationships between two variables, a simple first order regression is often not sufficient to accurately capture the relationship between the variables. Seaborn makes it simple to compute and visualize regressions of varying orders.\n",
    "\n",
    "Here, you will plot a second order regression between the horse power ('hp') and miles per gallon ('mpg') using sns.regplot() (the function sns.lmplot() is a higher-level interface to sns.regplot()). However, before plotting this relationship, compare how the residual changes depending on the order of the regression. Does a second order regression perform significantly better than a simple linear regression?\n",
    "\n",
    "A principal difference between sns.lmplot() and sns.regplot() is the way in which matplotlib options are passed (sns.regplot() is more permissive).\n",
    "For both sns.lmplot() and sns.regplot(), the keyword order is used to control the order of polynomial regression.\n",
    "The function sns.regplot() uses the argument scatter=None to prevent plotting the scatter plot points again.\n",
    "\n",
    "**Instructions**\n",
    "\n",
    "Create a scatter plot with auto['weight'] on the x-axis and auto['mpg'] on the y-axis, with label='data'. This has been done for you.\n",
    "Plot a first order linear regression line between 'weight' and 'mpg' in 'blue' without the scatter points.\n",
    "You need to specify the label ('First Order', case-sensitive) and color parameters, in addition to scatter=None.\n",
    "Plot a second order linear regression line between 'weight' and 'mpg' in 'green' without the scatter points.\n",
    "To force a higher order regression, you need to specify the order parameter (here, it should be 2). Don't forget to again add a label ('Second Order').\n",
    "Add a legend to the 'upper right'."
   ]
  },
  {
   "cell_type": "code",
   "execution_count": null,
   "metadata": {},
   "outputs": [],
   "source": []
  },
  {
   "cell_type": "markdown",
   "metadata": {},
   "source": [
    "### Grouping linear regressions by hue\n",
    "\n",
    "Often it is useful to compare and contrast trends between different groups. Seaborn makes it possible to apply linear regressions separately for subsets of the data by applying a groupby operation. Using the hue argument, you can specify a categorical variable by which to group data observations. The distinct groups of points are used to produce distinct regressions with different hues in the plot.\n",
    "\n",
    "In the automobile dataset - which has been pre-loaded here as auto - you can view the relationship between weight ('weight') and horsepower ('hp') of the cars and group them by their origin ('origin'), giving you a quick visual indication how the relationship differs by continent.\n",
    "\n",
    "**Instructions**\n",
    "\n",
    "Plot a linear regression between 'weight' and 'hp' grouped by 'origin'.\n",
    "Use the keyword argument hue to group rows with the categorical column 'origin'.\n",
    "Use the keyword argument palette to specify the 'Set1' palette for coloring the distinct groups."
   ]
  },
  {
   "cell_type": "code",
   "execution_count": null,
   "metadata": {},
   "outputs": [],
   "source": []
  },
  {
   "cell_type": "markdown",
   "metadata": {},
   "source": [
    "### Grouping linear regressions by row or column\n",
    "\n",
    "Rather than overlaying linear regressions of grouped data in the same plot, we may want to use a grid of subplots. The sns.lmplot() accepts the arguments row and/or col to arrangements of subplots for regressions.\n",
    "\n",
    "You'll use the automobile dataset again and, this time, you'll use the keyword argument row to display the subplots organized in rows. That is, you'll produce horsepower vs. weight regressions grouped by continent of origin in separate subplots stacked vertically.\n",
    "\n",
    "**Instructions**\n",
    "\n",
    "Plot linear regressions of 'hp' (on the y-axis) versus 'weight' (on the x-axis) grouped row-wise by 'origin' from DataFrame auto.\n",
    "Use the keyword argument row to group observations with the categorical column 'origin' in subplots organized in rows."
   ]
  },
  {
   "cell_type": "code",
   "execution_count": null,
   "metadata": {},
   "outputs": [],
   "source": []
  },
  {
   "cell_type": "markdown",
   "metadata": {},
   "source": [
    "## Visualizing Univariate Distributions"
   ]
  },
  {
   "cell_type": "markdown",
   "metadata": {},
   "source": [
    "### Constructing strip plots\n",
    "\n",
    "Regressions are useful to understand relationships between two continuous variables. Often we want to explore how the distribution of a single continuous variable is affected by a second categorical variable. Seaborn provides a variety of plot types to perform these types of comparisons between univariate distributions.\n",
    "\n",
    "The strip plot is one way of visualizing this kind of data. It plots the distribution of variables for each category as individual datapoints. For vertical strip plots (the default), distributions of continuous values are laid out parallel to the y-axis and the distinct categories are spaced out along the x-axis.\n",
    "\n",
    "For example, sns.stripplot(x='type', y='length', data=df) produces a sequence of vertical strip plots of length distributions grouped by type (assuming length is a continuous column and type is a categorical column of the DataFrame df).\n",
    "Overlapping points can be difficult to distinguish in strip plots. The argument jitter=True helps spread out overlapping points.\n",
    "Other matplotlib arguments can be passed to sns.stripplot(), e.g., marker, color, size, etc.\n",
    "\n",
    "**Instructions**\n",
    "\n",
    "In the first row of subplots, make a strip plot showing distribution of 'hp' values grouped horizontally by 'cyl'.\n",
    "In the second row of subplots, make a second strip plot with improved readability. In particular, you'll call sns.stripplot() again, this time adding jitter=True and decreasing the point size to 3 using the size parameter."
   ]
  },
  {
   "cell_type": "code",
   "execution_count": null,
   "metadata": {},
   "outputs": [],
   "source": []
  },
  {
   "cell_type": "markdown",
   "metadata": {},
   "source": [
    "### Constructing swarm plots\n",
    "\n",
    "As you have seen, a strip plot can be visually crowded even with jitter applied and smaller point sizes. An alternative is provided by the swarm plot (sns.swarmplot()), which is very similar but spreads out the points to avoid overlap and provides a better visual overview of the data.\n",
    "\n",
    "The syntax for sns.swarmplot() is similar to that of sns.stripplot(), e.g., sns.swarmplot(x='type', y='length', data=df).\n",
    "The orientation for the continuous variable in the strip/swarm plot can be inferred from the choice of the columns x and y from the DataFrame data. The orientation can be set explicitly using orient='h' (horizontal) or orient='v' (vertical).\n",
    "Another grouping can be added in using the hue keyword. For instance, using sns.swarmplot(x='type', y='length', data=df, hue='build year') makes a swarm plot from the DataFrame df with the 'length' column values spread out vertically, horizontally grouped by the column 'type' and each point colored by the categorical column 'build year'.\n",
    "In this exercise, you'll use the auto DataFrame again to illustrate the use of sns.swarmplot() with grouping by hue and with explicit specification of the orientation using the keyword orient.\n",
    "\n",
    "**Instructions**\n",
    "\n",
    "In the first row of subplots, make a swarm plot showing distribution of 'hp' values grouped horizontally by 'cyl'.\n",
    "\n",
    "In the second row of subplots, make a second swarm plot with horizontal orientation (i.e. grouped vertically by 'cyl' with 'hp' value spread out horizontally).\n",
    "\n",
    "In addition to reversing the columns for the x and y parameters, you will need to specify the orient parameter to explicitly set the horizontal orientation.\n",
    "Color the points by 'origin' (refer to the text above if you don't know how to do this)."
   ]
  },
  {
   "cell_type": "code",
   "execution_count": null,
   "metadata": {},
   "outputs": [],
   "source": []
  },
  {
   "cell_type": "markdown",
   "metadata": {},
   "source": [
    "### Constructing violin plots\n",
    "\n",
    "Both strip and swarm plots visualize all the datapoints. For large datasets, this can result in significant overplotting. Therefore, it is often useful to use plot types which reduce a dataset to more descriptive statistics and provide a good summary of the data. Box and whisker plots are a classic way of summarizing univariate distributions but seaborn provides a more sophisticated extension of the standard box plot, called a violin plot.\n",
    "\n",
    "Here, you will produce violin plots of the distribution of horse power ('hp') by the number of cylinders ('cyl'). Additionally, you will combine two different plot types by overlaying a strip plot on the violin plot.\n",
    "\n",
    "As before, the DataFrame has been pre-loaded for you as auto.\n",
    "\n",
    "**Instructions**\n",
    "\n",
    "In the first row of subplots, make a violin plot showing the distribution of 'hp' grouped by 'cyl'.\n",
    "In the second row of subplots, make a second violin plot without the inner annotations (by specifying inner=None) and with the color 'lightgray'.\n",
    "In the second row of subplots, overlay a strip plot with jitter and a point size of 1.5."
   ]
  },
  {
   "cell_type": "code",
   "execution_count": null,
   "metadata": {},
   "outputs": [],
   "source": []
  },
  {
   "cell_type": "markdown",
   "metadata": {},
   "source": [
    "## Visualizing Multivariate Distributions"
   ]
  },
  {
   "cell_type": "markdown",
   "metadata": {},
   "source": [
    "### Plotting joint distributions (1)\n",
    "\n",
    "There are numerous strategies to visualize how pairs of continuous random variables vary jointly. Regression and residual plots are one strategy. Another is to visualize a bivariate distribution.\n",
    "\n",
    "Seaborn's sns.jointplot() provides means of visualizing bivariate distributions. The basic calling syntax is similar to that of sns.lmplot(). By default, calling sns.jointplot(x, y, data) renders a few things:\n",
    "\n",
    "A scatter plot using the specified columns x and y from the DataFrame data.\n",
    "A (univariate) histogram along the top of the scatter plot showing distribution of the column x.\n",
    "A (univariate) histogram along the right of the scatter plot showing distribution of the column y.\n",
    "\n",
    "**Instructions**\n",
    "\n",
    "Use sns.jointplot() to visualize the joint variation of the columns 'hp' (on the x-axis) and 'mpg' (on the y-axis) from the DataFrame auto."
   ]
  },
  {
   "cell_type": "code",
   "execution_count": null,
   "metadata": {},
   "outputs": [],
   "source": []
  },
  {
   "cell_type": "markdown",
   "metadata": {},
   "source": [
    "### Plotting joint distributions (2)\n",
    "\n",
    "The seaborn function sns.jointplot() has a parameter kind to specify how to visualize the joint variation of two continuous random variables (i.e., two columns of a DataFrame)\n",
    "\n",
    "kind='scatter' uses a scatter plot of the data points\n",
    "kind='reg' uses a regression plot (default order 1)\n",
    "kind='resid' uses a residual plot\n",
    "kind='kde' uses a kernel density estimate of the joint distribution\n",
    "kind='hex' uses a hexbin plot of the joint distribution\n",
    "For this exercise, you will again use sns.jointplot() to display the joint distribution of the hp and mpg columns of the auto DataFrame. This time, you will use kind='hex' to generate a hexbin plot of the joint distribution.\n",
    "\n",
    "**Instructions**\n",
    "\n",
    "Create a hexbin plot of the joint distribution between 'hp' and 'mpg'."
   ]
  },
  {
   "cell_type": "code",
   "execution_count": null,
   "metadata": {},
   "outputs": [],
   "source": []
  },
  {
   "cell_type": "markdown",
   "metadata": {},
   "source": [
    "### Plotting distributions pairwise (1)\n",
    "\n",
    "Data sets often contain more than two continuous variables. The function sns.jointplot() is restricted to representing joint variation between only two quantities (i.e., two columns of a DataFrame). Visualizing multivariate relationships is trickier.\n",
    "\n",
    "The function sns.pairplot() constructs a grid of all joint plots pairwise from all pairs of (non-categorical) columns in a DataFrame. The syntax is very simple: sns.pairplot(df), where df is a DataFrame. The non-categorical columns are identified and the corresponding joint plots are plotted in a square grid of subplots. The diagonal of the subplot grid shows the univariate histograms of the individual columns.\n",
    "\n",
    "In this exercise, you will use a DataFrame auto comprising only three columns from the original auto-mpg data set.\n",
    "\n",
    "**Instructions**\n",
    "\n",
    "Print the first five rows of the DataFrame auto. This is done for you.\n",
    "Plot the joint distributions between columns from the entire DataFrame auto."
   ]
  },
  {
   "cell_type": "code",
   "execution_count": null,
   "metadata": {},
   "outputs": [],
   "source": []
  },
  {
   "cell_type": "markdown",
   "metadata": {},
   "source": [
    "### Plotting distributions pairwise (2)\n",
    "\n",
    "In this exercise, you will generate pairwise joint distributions again. This time, you will make two particular additions:\n",
    "\n",
    "You will display regressions as well as scatter plots in the off-diagonal subplots. You will do this with the argument kind='reg' (where 'reg' means 'regression'). Another option for kind is 'scatter' (the default) that plots scatter plots in the off-diagonal subplots.\n",
    "You will also visualize the joint distributions separated by continent of origin. You will do this with the keyword argument hue specifying the 'origin'.\n",
    "\n",
    "**Instructions**\n",
    "\n",
    "Plot the pairwise joint distributions separated by continent of origin and display the regressions."
   ]
  },
  {
   "cell_type": "code",
   "execution_count": null,
   "metadata": {},
   "outputs": [],
   "source": []
  },
  {
   "cell_type": "markdown",
   "metadata": {},
   "source": [
    "### Visualizing correlations with a heatmap\n",
    "\n",
    "Plotting relationships between many variables using a pair plot can quickly get visually overwhelming. It is therefore often useful to compute covariances between the variables instead. The covariance matrix can then easily be visualized as a heatmap. A heatmap is effectively a pseudocolor plot with labelled rows and columns (i.e., a pseudocolor plot based on a pandas DataFrame rather than a matrix). The DataFrame does not have to be square or symmetric (but, in the context of a covariance matrix, it is both).\n",
    "\n",
    "In this exercise, you will view the covariance matrix between the continuous variables in the auto-mpg dataset. You do not have to know here how the covariance matrix is computed; the important point is that its diagonal entries are all 1s, and the off-diagonal entries are between -1 and +1 (quantifying the degree to which variable pairs vary jointly). It is also, then, a symmetric matrix.\n",
    "\n",
    "**Instructions**\n",
    "\n",
    "Print the covariance matrix cov_matrix to examine its contents and labels. This has been done for you.\n",
    "Plot the covariance matrix cov_matrix using sns.heatmap()."
   ]
  },
  {
   "cell_type": "code",
   "execution_count": null,
   "metadata": {},
   "outputs": [],
   "source": []
  },
  {
   "cell_type": "markdown",
   "metadata": {},
   "source": [
    "# Analyzing time series and images\n",
    "\n",
    "This chapter ties together the skills gained so far through examining time series data and images. You'll customize plots of stock data, generate histograms of image pixel intensities, and enhance image contrast through histogram equalization."
   ]
  },
  {
   "cell_type": "markdown",
   "metadata": {},
   "source": [
    "## Visualizing Time Series"
   ]
  },
  {
   "cell_type": "markdown",
   "metadata": {},
   "source": [
    "### Multiple time series on common axes\n",
    "\n",
    "For this exercise, you will construct a plot showing four time series stocks on the same axes. The time series in question are represented in the session using the identifiers aapl, ibm, csco, and msft. You'll generate a single plot showing all the time series on common axes with a legend.\n",
    "\n",
    "**Instructions**\n",
    "\n",
    "Plot the aapl time series in blue with a label of 'AAPL'.\n",
    "Plot the ibm time series in green with a label of 'IBM'.\n",
    "Plot the csco time series in red with a label of 'CSCO'.\n",
    "Plot the msft time series in magenta with a label of 'MSFT'.\n",
    "Specify a rotation of 60 for the xticks with plt.xticks().\n",
    "Add a legend in the 'upper left' corner of the plot."
   ]
  },
  {
   "cell_type": "code",
   "execution_count": null,
   "metadata": {},
   "outputs": [],
   "source": []
  },
  {
   "cell_type": "markdown",
   "metadata": {},
   "source": [
    "### Multiple time series slices (1)\n",
    "\n",
    "You can easily slice subsets corresponding to different time intervals from a time series. In particular, you can use strings like '2001:2005', '2011-03:2011-12', or '2010-04-19:2010-04-30' to extract data from time intervals of length 5 years, 10 months, or 12 days respectively.\n",
    "\n",
    "Unlike slicing from standard Python lists, tuples, and strings, when slicing time series by labels (and other pandas Series & DataFrames by labels), the slice includes the right-most portion of the slice. That is, extracting my_time_series['1990':'1995'] extracts data from my_time_series corresponding to 1990, 1991, 1992, 1993, 1994, and 1995 inclusive.\n",
    "You can use partial strings or datetime objects for indexing and slicing from time series.\n",
    "For this exercise, you will use time series slicing to plot the time series aapl over its full 11-year range and also over a shorter 2-year range. You'll arrange these plots in a 2×1 grid of subplots\n",
    "\n",
    "**Instructions**\n",
    "\n",
    "Plot the series aapl in 'blue' in the top subplot of a vertically-stacked pair of subplots, with the xticks rotated to 45 degrees.\n",
    "Extract a slice named view from the series aapl containing data from the years 2007 to 2008 (inclusive). This has been done for you.\n",
    "Plot the slice view in black in the bottom subplot."
   ]
  },
  {
   "cell_type": "code",
   "execution_count": null,
   "metadata": {},
   "outputs": [],
   "source": []
  },
  {
   "cell_type": "markdown",
   "metadata": {},
   "source": [
    "### Multiple time series slices (2)\n",
    "\n",
    "In this exercise, you will use the same time series aapl from the previous exercise and plot tighter views of the data.\n",
    "\n",
    "Partial string indexing works without slicing as well. For instance, using my_time_series['1995'], my_time_series['1999-05'], and my_time_series['2000-11-04'] respectively extracts views of the time series my_time_series corresponding to the entire year 1995, the entire month May 1999, and the entire day November 4, 2000.\n",
    "\n",
    "**Instructions**\n",
    "\n",
    "100 XP\n",
    "Extract a slice named view_1 from the series aapl containing data from November 2007 to April 2008 (inclusive). This has been done for you.\n",
    "Plot the slice view_1 in 'red' in the top subplot of a vertically-stacked pair of subplots with the xticks rotated to 45 degrees.\n",
    "Assign the slice view_2 to contain data from the series aapl for January 2008. This has been done for you.\n",
    "Plot the slice view_2 in 'green' in the bottom subplot with the xticks rotated to 45 degrees."
   ]
  },
  {
   "cell_type": "code",
   "execution_count": null,
   "metadata": {},
   "outputs": [],
   "source": []
  },
  {
   "cell_type": "markdown",
   "metadata": {},
   "source": [
    "### Plotting an inset view\n",
    "\n",
    "Remember, rather than comparing plots with subplots or overlayed plots, you can generate an inset view directly using plt.axes(). In this exercise, you'll reproduce two of the time series plots from the preceding two exercises. Your figure will contain an inset plot to highlight the dramatic changes in AAPL stock price between November 2007 and April 2008 (as compared to the 11 years from 2001 to 2011).\n",
    "\n",
    "**Instructions**\n",
    "\n",
    "100 XP\n",
    "Extract a slice of series aapl from November 2007 to April 2008 inclusive. This has been done for you.\n",
    "Plot the entire series aapl.\n",
    "Create a set of axes with lower left corner (0.25, 0.5), width 0.35, and height 0.35. Pass these four coordinates to plt.axes() as a list (all in units relative to the figure dimensions).\n",
    "Plot the sliced view in the current axes in 'red'."
   ]
  },
  {
   "cell_type": "code",
   "execution_count": null,
   "metadata": {},
   "outputs": [],
   "source": []
  },
  {
   "cell_type": "markdown",
   "metadata": {},
   "source": [
    "## Time Series With Moving Windows"
   ]
  },
  {
   "cell_type": "markdown",
   "metadata": {},
   "source": [
    "### Plotting moving averages\n",
    "\n",
    "In this exercise, you will plot pre-computed moving averages of AAPL stock prices in distinct subplots.\n",
    "\n",
    "The time series aapl is overlayed in black in each subplot for comparison.\n",
    "The time series mean_30, mean_75, mean_125, and mean_250 have been computed for you (containing the windowed averages of the series aapl computed over windows of width 30 days, 75 days, 125 days, and 250 days respectively).\n",
    "\n",
    "**Instructions**\n",
    "\n",
    "100 XP\n",
    "In the top left subplot, plot the 30-day moving averages series mean_30 in 'green'.\n",
    "In the top right subplot, plot the 75-day moving averages series mean_75 in 'red'.\n",
    "In the bottom left subplot, plot the 125-day moving averages series mean_125 in 'magenta'.\n",
    "In the bottom right subplot, plot the 250-day moving averages series mean_250 in 'cyan'."
   ]
  },
  {
   "cell_type": "code",
   "execution_count": null,
   "metadata": {},
   "outputs": [],
   "source": []
  },
  {
   "cell_type": "markdown",
   "metadata": {},
   "source": [
    "### Plotting moving standard deviations\n",
    "Having plotted pre-computed moving averages of AAPL stock prices on distinct subplots in the previous exercise, you will now plot pre-computed moving standard deviations of the same stock prices, this time together on common axes.\n",
    "\n",
    "The time series aapl is not plotted in this case; it is of a different length scale than the standard deviations.\n",
    "The time series std_30, std_75, stdn_125, & std_250 have been computed for you (containing the windowed standard deviations of the series aapl computed over windows of width 30 days, 75 days, 125 days, & 250 days respectively).\n",
    "\n",
    "**Instructions**\n",
    "\n",
    "100 XP\n",
    "Produce a single plot with four curves overlayed:\n",
    "the series std_30 in 'red' (with corresponding label '30d').\n",
    "the series std_75 in 'cyan' (with corresponding label '75d').\n",
    "the series std_125 in 'green' (with corresponding label '125d').\n",
    "the series std_250 in 'magenta' (with corresponding label '250d').\n",
    "Add a legend to the 'upper left' corner of the plot."
   ]
  },
  {
   "cell_type": "code",
   "execution_count": null,
   "metadata": {},
   "outputs": [],
   "source": []
  },
  {
   "cell_type": "markdown",
   "metadata": {},
   "source": [
    "### Interpreting moving statistics\n",
    "In the previous exercise, you generated the plot below.\n",
    "\n",
    "![][1]\n",
    "\n",
    "Plot of moving standard deviations\n",
    "\n",
    "What length is the moving window that most consistently produces the greatest variance (standard deviation) in the AAPL stock price over the time interval shown?\n",
    "\n",
    "**Instructions**\n",
    "\n",
    "50 XP\n",
    "Possible Answers\n",
    "30 days\n",
    "75 days\n",
    "125 days\n",
    "250 days\n",
    "\n",
    "  [1]: https://raw.githubusercontent.com/trenton3983/DataCamp/master/Images/intro_to_data_visualization_in_python/4_2_3_Interpreting_moving_statistics.JPG"
   ]
  },
  {
   "cell_type": "markdown",
   "metadata": {},
   "source": [
    "## Histogram Equalization In Images"
   ]
  },
  {
   "cell_type": "markdown",
   "metadata": {},
   "source": [
    "### Extracting a histogram from a grayscale image\n",
    "For grayscale images, various image processing algorithms use an image histogram. Recall that an image is a two-dimensional array of numerical intensities. An image histogram, then, is computed by counting the occurences of distinct pixel intensities over all the pixels in the image.\n",
    "\n",
    "For this exercise, you will load an unequalized low contrast image of Hawkes Bay, New Zealand (originally by Phillip Capper, modified by User:Konstable, via Wikimedia Commons, CC BY 2.0). You will plot the image and use the pixel intensity values to plot a normalized histogram of pixel intensities.\n",
    "\n",
    "**Instructions**\n",
    "\n",
    "100 XP\n",
    "Load data from the file '640px-Unequalized_Hawkes_Bay_NZ.jpg' into an array.\n",
    "\n",
    "Display image with a color map of 'gray' in the top subplot.\n",
    "\n",
    "Flatten image into a 1-D array using the .flatten() method.\n",
    "\n",
    "Display a histogram of pixels in the bottom subplot.\n",
    "\n",
    "Use histogram options bins=64, range=(0,256), and normed=True to control numerical binning and the vertical scale.\n",
    "Use plotting options color='red' and alpha=0.4 to tailor the color and transparency."
   ]
  },
  {
   "cell_type": "code",
   "execution_count": null,
   "metadata": {},
   "outputs": [],
   "source": []
  },
  {
   "cell_type": "markdown",
   "metadata": {},
   "source": [
    "### Cumulative Distribution Function from an image histogram\n",
    "A histogram of a continuous random variable is sometimes called a Probability Distribution Function (or PDF). The area under a PDF (a definite integral) is called a Cumulative Distribution Function (or CDF). The CDF quantifies the probability of observing certain pixel intensities.\n",
    "\n",
    "Your task here is to plot the PDF and CDF of pixel intensities from a grayscale image. You will use the grayscale image of Hawkes Bay, New Zealand (originally by Phillip Capper, modified by User:Konstable, via Wikimedia Commons, CC BY 2.0). This time, the 2D array image will be pre-loaded and pre-flattened into the 1D array pixels for you.\n",
    "\n",
    "The histogram option cumulative=True permits viewing the CDF instead of the PDF.\n",
    "Notice that plt.grid('off') switches off distracting grid lines.\n",
    "The command plt.twinx() allows two plots to be overlayed sharing the x-axis but with different scales on the y-axis.\n",
    "\n",
    "**Instructions**\n",
    "\n",
    "100 XP\n",
    "First, use plt.hist() to plot the histogram of the 1-D array pixels in the bottom subplot.\n",
    "Use the histogram options bins=64, range=(0,256), and normed=False.\n",
    "Use the plotting options alpha=0.4 and color='red' to make the overlayed plots easier to see.\n",
    "Second, use plt.twinx() to overlay plots with different vertical scales on a common horizontal axis.\n",
    "Third, call plt.hist() again to overlay the CDF in the bottom subplot.\n",
    "Use the histogram options bins=64, range=(0,256), and normed=True.\n",
    "This time, also use cumulative=True to compute and display the CDF.\n",
    "Also, use alpha=0.4 and color='blue' to make the overlayed plots easier to see."
   ]
  },
  {
   "cell_type": "code",
   "execution_count": null,
   "metadata": {},
   "outputs": [],
   "source": []
  },
  {
   "cell_type": "markdown",
   "metadata": {},
   "source": [
    "### Equalizing an image histogram\n",
    "\n",
    "Histogram equalization is an image processing procedure that reassigns image pixel intensities. The basic idea is to use interpolation to map the original CDF of pixel intensities to a CDF that is almost a straight line. In essence, the pixel intensities are spread out and this has the practical effect of making a sharper, contrast-enhanced image. This is particularly useful in astronomy and medical imaging to help us see more features.\n",
    "\n",
    "For this exercise, you will again work with the grayscale image of Hawkes Bay, New Zealand (originally by Phillip Capper, modified by User:Konstable, via Wikimedia Commons, CC BY 2.0). Notice the sample code produces the same plot as the previous exercise. Your task is to modify the code from the previous exercise to plot the new equalized image as well as its PDF and CDF.\n",
    "\n",
    "The arrays image and pixels are extracted for you in advance.\n",
    "The CDF of the original image is computed using plt.hist().\n",
    "Notice an array new_pixels is created for you that interpolates new pixel values using the original image CDF.\n",
    "\n",
    "**Instructions 1/2**\n",
    "\n",
    "Plot the new equalized image.\n",
    "\n",
    "Use the NumPy array method .reshape() to create a 2-D array new_image from the 1-D array new_pixels.\n",
    "\n",
    "The resulting new_image should have the same shape as image.shape, which can be accomplished by passing this as the argument to .reshape().\n",
    "Display new_image with a 'gray' color map to display the sharper, equalized image."
   ]
  },
  {
   "cell_type": "code",
   "execution_count": null,
   "metadata": {},
   "outputs": [],
   "source": []
  },
  {
   "cell_type": "markdown",
   "metadata": {},
   "source": [
    "**Instructions 2/2**"
   ]
  },
  {
   "cell_type": "code",
   "execution_count": null,
   "metadata": {},
   "outputs": [],
   "source": []
  },
  {
   "cell_type": "markdown",
   "metadata": {},
   "source": [
    "### Extracting histograms from a color image\n",
    "\n",
    "This exercise resembles the last in that you will plot histograms from an image. This time, you will use a color image of the Helix Nebula as seen by the Hubble and the Cerro Toledo Inter-American Observatory. The separate RGB (red-green-blue) channels will be extracted for you as two-dimensional arrays red, green, and blue respectively. You will plot three overlaid color histograms on common axes (one for each channel) in a subplot as well as the original image in a separate subplot.\n",
    "\n",
    "**Instructions**\n",
    "\n",
    "100 XP\n",
    "Display image in the top subplot of a 2×1 subplot grid. Don't use a colormap here.\n",
    "Flatten the 2-D arrays red, green, and blue into 1-D arrays.\n",
    "Display three histograms in the bottom subplot: one for red_pixels, one for green_pixels, and one for blue_pixels. For each, use 64 bins and specify a translucency of alpha=0.2."
   ]
  },
  {
   "cell_type": "code",
   "execution_count": null,
   "metadata": {},
   "outputs": [],
   "source": []
  },
  {
   "cell_type": "markdown",
   "metadata": {},
   "source": [
    "### Extracting bivariate histograms from a color image\n",
    "\n",
    "Rather than overlaying univariate histograms of intensities in distinct channels, it is also possible to view the joint variation of pixel intensity in two different channels.\n",
    "\n",
    "For this final exercise, you will use the same color image of the Helix Nebula as seen by the Hubble and the Cerro Tololo Inter-American Observatory. The separate RGB (red-green-blue) channels will be extracted for you as one-dimensional arrays red_pixels, green_pixels, & blue_pixels respectively.\n",
    "\n",
    "**Instructions**\n",
    "\n",
    "100 XP\n",
    "Make a 2-D histogram (not a regular histogram) in the top left subplot showing the joint variation of red_pixels (on the x-axis) and green_pixels (on the y-axis). Use bins=(32,32) to control binning.\n",
    "Make another 2-D histogram in the top right subplot showing the joint variation of green_pixels (on the x-axis) and blue_pixels (on the y-axis). Use bins=(32,32) to control binning.\n",
    "Make another 2-D histogram in the bottom left subplot showing the joint variation of blue_pixels (on the x-axis) and red_pixels (on the y-axis). Use bins=(32,32) to control binning."
   ]
  },
  {
   "cell_type": "code",
   "execution_count": null,
   "metadata": {},
   "outputs": [],
   "source": []
  },
  {
   "cell_type": "markdown",
   "metadata": {},
   "source": [
    "# Certificate\n",
    "\n",
    "![](https://raw.githubusercontent.com/trenton3983/DataCamp/master/Images/jpd_dir/file.jpg)"
   ]
  }
 ],
 "metadata": {
  "kernelspec": {
   "display_name": "Python 3",
   "language": "python",
   "name": "python3"
  },
  "language_info": {
   "codemirror_mode": {
    "name": "ipython",
    "version": 3
   },
   "file_extension": ".py",
   "mimetype": "text/x-python",
   "name": "python",
   "nbconvert_exporter": "python",
   "pygments_lexer": "ipython3",
   "version": "3.7.6"
  }
 },
 "nbformat": 4,
 "nbformat_minor": 4
}
