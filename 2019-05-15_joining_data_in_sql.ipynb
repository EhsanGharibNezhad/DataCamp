{
 "cells": [
  {
   "cell_type": "markdown",
   "metadata": {},
   "source": [
    "**Imports**"
   ]
  },
  {
   "cell_type": "code",
   "execution_count": null,
   "metadata": {},
   "outputs": [],
   "source": [
    "from sqlalchemy import create_engine\n",
    "from sqlalchemy import MetaData\n",
    "from sqlalchemy import Table\n",
    "from sqlalchemy import Column\n",
    "from sqlalchemy import Integer, String\n",
    "from sqlalchemy import inspect\n",
    "import pandas as pd\n",
    "from pprint import pprint as pp"
   ]
  },
  {
   "cell_type": "markdown",
   "metadata": {},
   "source": [
    "**PostgreSQL Connection**"
   ]
  },
  {
   "cell_type": "code",
   "execution_count": null,
   "metadata": {},
   "outputs": [],
   "source": [
    "engine = create_engine('postgresql://postgres:Gr@vitics3980@localhost/postgres')"
   ]
  },
  {
   "cell_type": "code",
   "execution_count": null,
   "metadata": {},
   "outputs": [],
   "source": [
    "meta = MetaData(schema=\"countries\")"
   ]
  },
  {
   "cell_type": "code",
   "execution_count": null,
   "metadata": {},
   "outputs": [],
   "source": [
    "conn = engine.connect()"
   ]
  },
  {
   "cell_type": "markdown",
   "metadata": {},
   "source": [
    "**Example(s) without pd.DataFrames - use fetchall**"
   ]
  },
  {
   "cell_type": "code",
   "execution_count": null,
   "metadata": {},
   "outputs": [],
   "source": [
    "result = conn.execute(\"\"\"SELECT datname from pg_database\"\"\")"
   ]
  },
  {
   "cell_type": "code",
   "execution_count": null,
   "metadata": {},
   "outputs": [],
   "source": [
    "rows = result.fetchall()"
   ]
  },
  {
   "cell_type": "code",
   "execution_count": null,
   "metadata": {},
   "outputs": [],
   "source": [
    "[x for x in rows]"
   ]
  },
  {
   "cell_type": "code",
   "execution_count": null,
   "metadata": {},
   "outputs": [],
   "source": [
    "cities = conn.execute(\"\"\"select * from countries.countries inner join countries.cities on countries.cities.country_code = countries.code\"\"\")"
   ]
  },
  {
   "cell_type": "code",
   "execution_count": null,
   "metadata": {},
   "outputs": [],
   "source": [
    "cities_res = cities.fetchall()"
   ]
  },
  {
   "cell_type": "code",
   "execution_count": null,
   "metadata": {},
   "outputs": [],
   "source": [
    "cities_list = [x for i, x in enumerate(cities_res) if i < 10]"
   ]
  },
  {
   "cell_type": "code",
   "execution_count": null,
   "metadata": {},
   "outputs": [],
   "source": [
    "cities_list"
   ]
  },
  {
   "cell_type": "markdown",
   "metadata": {},
   "source": [
    "# Introduction to joins\n",
    "\n",
    "In this chapter, you'll be introduced to the concept of joining tables, and explore the different ways you can enrich your queries using inner joins and self-joins. You'll also see how to use the case statement to split up a field into different categories."
   ]
  },
  {
   "cell_type": "markdown",
   "metadata": {},
   "source": [
    "## Introduction to INNER JOIN"
   ]
  },
  {
   "cell_type": "code",
   "execution_count": null,
   "metadata": {},
   "outputs": [],
   "source": [
    "cities = conn.execute(\"select * from countries.cities\")"
   ]
  },
  {
   "cell_type": "code",
   "execution_count": null,
   "metadata": {},
   "outputs": [],
   "source": [
    "cities_df = pd.read_sql(\"select * from countries.cities\", conn)"
   ]
  },
  {
   "cell_type": "code",
   "execution_count": null,
   "metadata": {},
   "outputs": [],
   "source": [
    "cities_df.head()"
   ]
  },
  {
   "cell_type": "code",
   "execution_count": null,
   "metadata": {},
   "outputs": [],
   "source": [
    "sql_stmt = \"SELECT * FROM countries.cities INNER JOIN countries.countries ON countries.cities.country_code = countries.countries.code\"\n",
    "pd.read_sql(sql_stmt, conn).head()"
   ]
  },
  {
   "cell_type": "code",
   "execution_count": null,
   "metadata": {},
   "outputs": [],
   "source": [
    "sql_stmt = \"SELECT countries.cities.name as city, countries.countries.name as country, \\\n",
    "countries.countries.region FROM countries.cities INNER JOIN countries.countries ON \\\n",
    "countries.cities.country_code = countries.countries.code\"\n",
    "pd.read_sql(sql_stmt, conn).head()"
   ]
  },
  {
   "cell_type": "markdown",
   "metadata": {},
   "source": [
    "## INNER JOIN via USING"
   ]
  },
  {
   "cell_type": "markdown",
   "metadata": {},
   "source": [
    "![](https://github.com/trenton3983/DataCamp/blob/master/Images/joining_data_in_sql/inner_join_diagram.JPG?raw=true)\n",
    "\n",
    "```sql\n",
    "SELECT left_table.id as L_id\n",
    "       left_table.val as L_val\n",
    "       right_table.val as R_val\n",
    "FROM left_table\n",
    "INNER JOIN right_table\n",
    "ON left_table.id = right_table.id;\n",
    "```\n",
    "\n",
    "* When the key field you'd like to join on is the same name in both tables, you can use a `USING` clause instead of the `ON` clause.\n",
    "\n",
    "```sql\n",
    "SELECT left_table.id as L_id\n",
    "       left_table.val as L_val\n",
    "       right_table.val as R_val\n",
    "FROM left_table\n",
    "INNER JOIN right_table\n",
    "USING (id);\n",
    "```"
   ]
  },
  {
   "cell_type": "markdown",
   "metadata": {},
   "source": [
    "### Countries with prime ministers and presidents\n",
    "\n",
    "```sql\n",
    "SELECT p1.country, p1.continent, prime_minister, president\n",
    "FROM leaders.presidents AS p1\n",
    "INNER JOIN leaders.prime_ministers as p2\n",
    "USING (country);\n",
    "```"
   ]
  },
  {
   "cell_type": "code",
   "execution_count": null,
   "metadata": {},
   "outputs": [],
   "source": [
    "sql_stmt = \"SELECT p1.country, p1.continent, prime_minister, president \\\n",
    "FROM leaders.presidents AS p1 \\\n",
    "INNER JOIN leaders.prime_ministers as p2 \\\n",
    "USING (country)\"\n",
    "\n",
    "pd.read_sql(sql_stmt, conn).head()"
   ]
  },
  {
   "cell_type": "markdown",
   "metadata": {},
   "source": [
    "### Exercises"
   ]
  },
  {
   "cell_type": "markdown",
   "metadata": {},
   "source": [
    "#### Review inner join using on\n",
    "\n",
    "Why does the following code result in an error?\n",
    "\n",
    "```sql\n",
    "SELECT c.name AS country, l.name AS language\n",
    "FROM countries AS c\n",
    "  INNER JOIN languages AS l;\n",
    "```\n",
    "\n",
    "* `INNER JOIN` requires a specification of the key field (or fields) in each table."
   ]
  },
  {
   "cell_type": "markdown",
   "metadata": {},
   "source": [
    "#### Inner join with using\n",
    "\n",
    "When joining tables with a common field name, e.g.\n",
    "\n",
    "```sql\n",
    "SELECT *\n",
    "FROM countries\n",
    "  INNER JOIN economies\n",
    "    ON countries.code = economies.code\n",
    "```\n",
    "\n",
    "You can use `USING` as a shortcut:\n",
    "\n",
    "```sql\n",
    "SELECT *\n",
    "FROM countries\n",
    "  INNER JOIN economies\n",
    "    USING(code)\n",
    "```\n",
    "\n",
    "You'll now explore how this can be done with the `countries` and `languages` tables.\n",
    "\n",
    "**Instructions**\n",
    "\n",
    "* Inner join `countries` on the left and `languages` on the right with `USING(code)`.\n",
    "* Select the fields corresponding to:\n",
    "    * country name `AS country`,\n",
    "    * continent name,\n",
    "    * language name `AS language`, and\n",
    "    * whether or not the language is official.\n",
    "* Remember to alias your tables using the first letter of their names."
   ]
  },
  {
   "cell_type": "markdown",
   "metadata": {},
   "source": [
    "```sql\n",
    "-- 4. Select fields\n",
    "SELECT c.name as country, c.continent, l.name as language, l.official\n",
    "  -- 1. From countries (alias as c)\n",
    "  FROM countries as c\n",
    "  -- 2. Join to languages (as l)\n",
    "  INNER JOIN languages as l\n",
    "    -- 3. Match using code\n",
    "    USING (code)\n",
    "```"
   ]
  },
  {
   "cell_type": "code",
   "execution_count": null,
   "metadata": {},
   "outputs": [],
   "source": [
    "sql_stmt = \"SELECT c.name as country, c.continent, l.name as language, l.official \\\n",
    "FROM countries.countries as c \\\n",
    "INNER JOIN countries.languages as l \\\n",
    "USING (code)\"\n",
    "\n",
    "pd.read_sql(sql_stmt, conn).head()"
   ]
  },
  {
   "cell_type": "markdown",
   "metadata": {},
   "source": [
    "## Self-ish joins, just in CASE"
   ]
  },
  {
   "cell_type": "markdown",
   "metadata": {},
   "source": [
    "### self-join on prime_ministers"
   ]
  },
  {
   "cell_type": "code",
   "execution_count": null,
   "metadata": {},
   "outputs": [],
   "source": [
    "sql_stmt = \"SELECT * \\\n",
    "FROM leaders.prime_ministers\"\n",
    "\n",
    "pm_df = pd.read_sql(sql_stmt, conn)\n",
    "pm_df.head()"
   ]
  },
  {
   "cell_type": "markdown",
   "metadata": {},
   "source": [
    "* inner joins where a table is joined with itself\n",
    "    * self join\n",
    "* Explore how to slice a numerical field into categories using the CASE command\n",
    "* Self-joins are used to compare values in a field to other values of the same field from within the same table\n",
    "* Recall the prime ministers table:\n",
    "    * What if you wanted to create a new table showing countries that are in the same continenet matched as pairs?"
   ]
  },
  {
   "cell_type": "markdown",
   "metadata": {},
   "source": [
    "```sql\n",
    "SELECT p1.country AS country1, p2.country AS country2, p1.continent\n",
    "FROM leaders.prime_ministers as p1\n",
    "INNER JOIN prime_ministers as p2\n",
    "ON p1.continent = p2.continent;\n",
    "```"
   ]
  },
  {
   "cell_type": "code",
   "execution_count": null,
   "metadata": {},
   "outputs": [],
   "source": [
    "sql_stmt = \"SELECT p1.country AS country1, p2.country AS country2, p1.continent \\\n",
    "FROM leaders.prime_ministers as p1 \\\n",
    "INNER JOIN leaders.prime_ministers as p2 \\\n",
    "ON p1.continent = p2.continent\"\n",
    "\n",
    "pm_df_1 = pd.read_sql(sql_stmt, conn)\n",
    "pm_df_1.head()"
   ]
  },
  {
   "cell_type": "markdown",
   "metadata": {},
   "source": [
    "* The country column is selected twice as well as continent. \n",
    "* The prime ministers table is on both the left and the right.\n",
    "* The vital step is setting the key columns by which we match the table to itself.\n",
    "    * For each country, there will be a match if the country in the \"right table\" (that's also prime_ministers) is in the same continent.\n",
    "* This is a pairing of each country with every other country in its same continent\n",
    "    * Conditions where country1 = country2 should not be included in the table"
   ]
  },
  {
   "cell_type": "markdown",
   "metadata": {},
   "source": [
    "### Finishing off the self-join on prime_ministers\n",
    "\n",
    "```sql\n",
    "SELECT p1.country AS country1, p2.country AS country2, p1.continent\n",
    "FROM leaders.prime_ministers as p1\n",
    "INNER JOIN prime_ministers as p2\n",
    "ON p1.continent = p2.continent AND p1.country <> p2.country;\n",
    "```"
   ]
  },
  {
   "cell_type": "code",
   "execution_count": null,
   "metadata": {},
   "outputs": [],
   "source": [
    "sql_stmt = \"SELECT p1.country AS country1, p2.country AS country2, p1.continent \\\n",
    "FROM leaders.prime_ministers as p1 \\\n",
    "INNER JOIN leaders.prime_ministers as p2 \\\n",
    "ON p1.continent = p2.continent AND p1.country <> p2.country\"\n",
    "\n",
    "pm_df_2 = pd.read_sql(sql_stmt, conn)\n",
    "pm_df_2.head()"
   ]
  },
  {
   "cell_type": "code",
   "execution_count": null,
   "metadata": {},
   "outputs": [],
   "source": [
    "pm_df_1.equals(pm_df_2)"
   ]
  },
  {
   "cell_type": "markdown",
   "metadata": {},
   "source": [
    "* `AND` clause can check that multiple conditions are met.\n",
    "* Now a match will not be made between prime_minister and itself if the countries match"
   ]
  },
  {
   "cell_type": "markdown",
   "metadata": {},
   "source": [
    "### CASE WHEN and THEN\n",
    "\n",
    "* The states table contains numeric data about different countries in the six inhabited world continents\n",
    "* Group the year of independence into categories of:\n",
    "    * before 1900\n",
    "    * between 1900 and 1930\n",
    "    * and after 1930\n",
    "* CASE is a way to do multiple if-then-else statements\n",
    "\n",
    "```sql\n",
    "SELECT name, continent, indep_year,\n",
    "    CASE WHEN indep_year < 1900 THEN 'before 1900'\n",
    "    WHEN indep_year <= 1930 THEN 'between 1900 and 1930'\n",
    "    ELSE 'after 1930' END\n",
    "    AS indep_year_group\n",
    "FROM states\n",
    "ORDER BY indep_year_group;\n",
    "```"
   ]
  },
  {
   "cell_type": "code",
   "execution_count": null,
   "metadata": {},
   "outputs": [],
   "source": [
    "sql_stmt = \"SELECT name, continent, indep_year, \\\n",
    "CASE WHEN indep_year < 1900 THEN 'before 1900' \\\n",
    "WHEN indep_year <= 1930 THEN 'between 1900 and 1930' \\\n",
    "ELSE 'after 1930' END \\\n",
    "AS indep_year_group \\\n",
    "FROM leaders.states \\\n",
    "ORDER BY indep_year_group\"\n",
    "\n",
    "pd.read_sql(sql_stmt, conn)"
   ]
  },
  {
   "cell_type": "markdown",
   "metadata": {},
   "source": [
    "### Exercises"
   ]
  },
  {
   "cell_type": "markdown",
   "metadata": {},
   "source": [
    "#### Self-join\n",
    "\n",
    "In this exercise, you'll use the `populations` table to perform a self-join to calculate the percentage increase in population from 2010 to 2015 for each country code!\n",
    "\n",
    "Since you'll be joining the `populations` table to itself, you can alias `populations` as `p1` and also `populations` as `p2`. This is good practice whenever you are aliasing and your tables have the same first letter. Note that you are required to alias the tables with self-joins.\n",
    "\n",
    "**Instructions 1/3**\n",
    "* Join `populations` with itself `ON country_code`.\n",
    "* Select the `country_code` from `p1` and the `size` field from both `p1` and `p2`. SQL won't allow same-named fields, so alias `p1.size as size2010` and `p2.size as size2015`."
   ]
  },
  {
   "cell_type": "markdown",
   "metadata": {},
   "source": [
    "```sql\n",
    "-- 4. Select fields with aliases\n",
    "SELECT p1.size as size2010,\n",
    "    p1.country_code,\n",
    "    p2.size as size2015\n",
    "-- 1. From populations (alias as p1)\n",
    "FROM countries.populations as p1\n",
    "  -- 2. Join to itself (alias as p2)\n",
    "    INNER JOIN countries.populations as p2\n",
    "    -- 3. Match on country code\n",
    "    ON p1.country_code = p2.country_code\n",
    "```"
   ]
  },
  {
   "cell_type": "code",
   "execution_count": null,
   "metadata": {},
   "outputs": [],
   "source": [
    "sql_stmt = \"SELECT p1.size as size2010, p1.country_code, p2.size as size2015 \\\n",
    "FROM countries.populations as p1 \\\n",
    "INNER JOIN countries.populations as p2 \\\n",
    "ON p1.country_code = p2.country_code\"\n",
    "\n",
    "pd.read_sql(sql_stmt, conn).head()"
   ]
  },
  {
   "cell_type": "markdown",
   "metadata": {},
   "source": [
    "**Instructions 2/3**\n",
    "\n",
    "Notice from the result that for each country_code you have four entries laying out all combinations of 2010 and 2015.\n",
    "\n",
    "* Extend the `ON` in your query to include only those records where the `p1.year` (2010) matches with `p2.year - 5` (2015 - 5 = 2010). This will omit the three entries per `country_code` that you aren't interested in."
   ]
  },
  {
   "cell_type": "markdown",
   "metadata": {},
   "source": [
    "```sql\n",
    "-- 4. Select fields with aliases\n",
    "SELECT p1.country_code,\n",
    "       p1.size as size2010,\n",
    "       p2.size as size2015\n",
    "-- 1. From populations (alias as p1)\n",
    "FROM countries.populations as p1\n",
    "  -- 2. Join to itself (alias as p2)\n",
    "    INNER JOIN countries.populations as p2\n",
    "    -- 3. Match on country code\n",
    "    ON p1.country_code = p2.country_code\n",
    "      -- 4. and year (with calculation)\n",
    "      AND p1.year = (p2.year - 5)\n",
    "```"
   ]
  },
  {
   "cell_type": "code",
   "execution_count": null,
   "metadata": {},
   "outputs": [],
   "source": [
    "sql_stmt = \"SELECT p1.size as size2010, p1.country_code, p2.size as size2015 \\\n",
    "FROM countries.populations as p1 \\\n",
    "INNER JOIN countries.populations as p2 \\\n",
    "ON p1.country_code = p2.country_code \\\n",
    "AND p1.year = (p2.year - 5)\"\n",
    "\n",
    "pd.read_sql(sql_stmt, conn).head()"
   ]
  },
  {
   "cell_type": "markdown",
   "metadata": {},
   "source": [
    "**Instructions 3/3**\n",
    "\n",
    "As you just saw, you can also use SQL to calculate values like `p2.year - 5` for you. With two fields like `size2010` and `size2015`, you may want to determine the percentage increase from one field to the next:\n",
    "\n",
    "With two numeric fields `A` and `B`, the percentage growth from `A` to `B` can be calculated as $$\\frac{(B−A)}{A}∗100.0$$.\n",
    "\n",
    "Add a new field to `SELECT`, aliased as `growth_perc`, that calculates the percentage population growth from 2010 to 2015 for each country, using `p2.size` and `p1.size`.\n",
    "\n",
    "\n",
    "```sql\n",
    "SELECT p1.country_code,\n",
    "       p1.size AS size2010, \n",
    "       p2.size AS size2015,\n",
    "       -- 1. calculate growth_perc\n",
    "       ((p2.size - p1.size)/p1.size * 100.0) AS growth_perc\n",
    "-- 2. From populations (alias as p1)\n",
    "FROM countries.populations as p1\n",
    "  -- 3. Join to itself (alias as p2)\n",
    "  INNER JOIN countries.populations as p2\n",
    "    -- 4. Match on country code\n",
    "    ON p1.country_code = p2.country_code\n",
    "        -- 5. and year (with calculation)\n",
    "        AND p1.year = (p2.year - 5);\n",
    "```"
   ]
  },
  {
   "cell_type": "code",
   "execution_count": null,
   "metadata": {},
   "outputs": [],
   "source": [
    "sql_stmt = \"SELECT p1.size as size2010, p1.country_code, p2.size as size2015, \\\n",
    "((p2.size - p1.size)/p1.size * 100.0) AS growth_perc \\\n",
    "FROM countries.populations as p1 \\\n",
    "INNER JOIN countries.populations as p2 \\\n",
    "ON p1.country_code = p2.country_code \\\n",
    "AND p1.year = (p2.year - 5)\"\n",
    "\n",
    "pd.read_sql(sql_stmt, conn).head()"
   ]
  },
  {
   "cell_type": "markdown",
   "metadata": {},
   "source": [
    "#### Case when and then\n",
    "\n",
    "Often it's useful to look at a numerical field not as raw data, but instead as being in different categories or groups.\n",
    "\n",
    "You can use `CASE` with `WHEN`, `THEN`, `ELSE`, and `END` to define a new grouping field.\n",
    "\n",
    "**Instructions**\n",
    "\n",
    "Using the countries table, create a new field AS geosize_group that groups the countries into three groups:\n",
    "\n",
    "* If `surface_area` is greater than 2 million, `geosize_group` is `'large'`.\n",
    "* If `surface_area` is greater than 350 thousand but not larger than 2 million, `geosize_group` is `'medium'`.\n",
    "* Otherwise, `geosize_group` is `'small'`.\n",
    "\n",
    "```sql\n",
    "SELECT name, continent, code, surface_area,\n",
    "    -- 1. First case\n",
    "    CASE WHEN ___ > ___ THEN '___'\n",
    "        -- 2. Second case\n",
    "        WHEN > ___ THEN ___\n",
    "        -- 3. Else clause + end\n",
    "        ELSE ___ END\n",
    "        -- 4. Alias name\n",
    "        AS ___\n",
    "-- 5. From table\n",
    "FROM ___;\n",
    "```"
   ]
  },
  {
   "cell_type": "code",
   "execution_count": null,
   "metadata": {},
   "outputs": [],
   "source": []
  },
  {
   "cell_type": "markdown",
   "metadata": {
    "toc-hr-collapsed": false
   },
   "source": [
    "## Trimet"
   ]
  },
  {
   "cell_type": "markdown",
   "metadata": {},
   "source": [
    "![](Images/postgres_trimet.JPG)"
   ]
  },
  {
   "cell_type": "code",
   "execution_count": null,
   "metadata": {},
   "outputs": [],
   "source": [
    "sql_stmt = \"SELECT * FROM trimet.route\""
   ]
  },
  {
   "cell_type": "code",
   "execution_count": null,
   "metadata": {},
   "outputs": [],
   "source": [
    "trimet_route = pd.read_sql(sql_stmt, conn)"
   ]
  },
  {
   "cell_type": "code",
   "execution_count": null,
   "metadata": {},
   "outputs": [],
   "source": [
    "trimet_route"
   ]
  },
  {
   "cell_type": "code",
   "execution_count": null,
   "metadata": {},
   "outputs": [],
   "source": [
    "sql_stmt = \"SELECT * FROM trimet.agency\""
   ]
  },
  {
   "cell_type": "code",
   "execution_count": null,
   "metadata": {},
   "outputs": [],
   "source": [
    "trimet_agency = pd.read_sql(sql_stmt, conn)"
   ]
  },
  {
   "cell_type": "code",
   "execution_count": null,
   "metadata": {},
   "outputs": [],
   "source": [
    "trimet_agency"
   ]
  },
  {
   "cell_type": "code",
   "execution_count": null,
   "metadata": {},
   "outputs": [],
   "source": [
    "sql_stmt = \"select tr.route_number, ta.agency_name \\\n",
    "from trimet.route tr \\\n",
    "inner join trimet.agency ta \\\n",
    "on tr.agency_id = ta.id where agency_name = 'Trimet'\""
   ]
  },
  {
   "cell_type": "code",
   "execution_count": null,
   "metadata": {},
   "outputs": [],
   "source": [
    "pd.read_sql(sql_stmt, conn)"
   ]
  },
  {
   "cell_type": "code",
   "execution_count": null,
   "metadata": {},
   "outputs": [],
   "source": [
    "conn.close()"
   ]
  }
 ],
 "metadata": {
  "kernelspec": {
   "display_name": "Python 3",
   "language": "python",
   "name": "python3"
  },
  "language_info": {
   "codemirror_mode": {
    "name": "ipython",
    "version": 3
   },
   "file_extension": ".py",
   "mimetype": "text/x-python",
   "name": "python",
   "nbconvert_exporter": "python",
   "pygments_lexer": "ipython3",
   "version": "3.7.3"
  },
  "toc-autonumbering": true,
  "toc-showcode": false,
  "toc-showmarkdowntxt": false
 },
 "nbformat": 4,
 "nbformat_minor": 2
}
