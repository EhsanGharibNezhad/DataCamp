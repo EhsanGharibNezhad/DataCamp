{
 "cells": [
  {
   "cell_type": "markdown",
   "metadata": {},
   "source": [
    "**[Joining Data in SQL](https://www.datacamp.com/courses/joining-data-in-postgresql)**"
   ]
  },
  {
   "cell_type": "markdown",
   "metadata": {},
   "source": [
    "**Course Description**\n",
    "\n",
    "Now that you've learned the basics of SQL in our [Intro to SQL for Data Science](https://www.datacamp.com/courses/intro-to-sql-for-data-science) course, it's time to supercharge your queries using joins and relational set theory! In this course you'll learn all about the power of joining tables while exploring interesting features of countries and their cities throughout the world. You will master inner and outer joins, as well as self-joins, semi-joins, anti-joins and cross joins - fundamental tools in any PostgreSQL wizard's toolbox. You'll fear set theory no more, after learning all about unions, intersections, and except clauses through easy-to-understand diagrams and examples. Lastly, you'll be introduced to the challenging topic of subqueries. You will see a visual perspective to grasp the ideas throughout the course using the mediums of Venn diagrams and other linking illustrations."
   ]
  },
  {
   "cell_type": "markdown",
   "metadata": {},
   "source": [
    "**Datasets**\n",
    "\n",
    "* [Countries](https://assets.datacamp.com/production/repositories/1069/datasets/578834f5908e3b2fa575429a287586d1eaeb2e54/countries2.zip)\n",
    "* [Leaders](https://assets.datacamp.com/production/repositories/1069/datasets/5aba4b2d25e3025de97d9715a022f5c24b74f347/leaders2.zip)\n",
    "* [Diagrams](https://assets.datacamp.com/production/repositories/1069/datasets/379b79c12b968edafe24e4bc02fae89d090a9490/diagrams.zip)"
   ]
  },
  {
   "cell_type": "markdown",
   "metadata": {},
   "source": [
    "**Imports**"
   ]
  },
  {
   "cell_type": "code",
   "execution_count": null,
   "metadata": {},
   "outputs": [],
   "source": [
    "from sqlalchemy import create_engine\n",
    "from sqlalchemy import MetaData\n",
    "from sqlalchemy import Table\n",
    "from sqlalchemy import Column\n",
    "from sqlalchemy import Integer, String\n",
    "from sqlalchemy import inspect\n",
    "import pandas as pd\n",
    "from pprint import pprint as pp"
   ]
  },
  {
   "cell_type": "markdown",
   "metadata": {},
   "source": [
    "**Pandas Configuration Options**"
   ]
  },
  {
   "cell_type": "code",
   "execution_count": null,
   "metadata": {},
   "outputs": [],
   "source": [
    "pd.set_option('max_columns', 200)\n",
    "pd.set_option('max_rows', 300)\n",
    "pd.set_option('display.expand_frame_repr', True)"
   ]
  },
  {
   "cell_type": "markdown",
   "metadata": {},
   "source": [
    "**PostgreSQL Connection**"
   ]
  },
  {
   "cell_type": "code",
   "execution_count": null,
   "metadata": {},
   "outputs": [],
   "source": [
    "engine = create_engine('postgresql://postgres:Gr@vitics3980@localhost/postgres')"
   ]
  },
  {
   "cell_type": "code",
   "execution_count": null,
   "metadata": {},
   "outputs": [],
   "source": [
    "meta = MetaData(schema=\"countries\")"
   ]
  },
  {
   "cell_type": "code",
   "execution_count": null,
   "metadata": {},
   "outputs": [],
   "source": [
    "conn = engine.connect()"
   ]
  },
  {
   "cell_type": "markdown",
   "metadata": {},
   "source": [
    "**Example(s) without pd.DataFrames - use fetchall**"
   ]
  },
  {
   "cell_type": "code",
   "execution_count": null,
   "metadata": {},
   "outputs": [],
   "source": [
    "result = conn.execute(\"SELECT datname from pg_database\")"
   ]
  },
  {
   "cell_type": "code",
   "execution_count": null,
   "metadata": {},
   "outputs": [],
   "source": [
    "rows = result.fetchall()"
   ]
  },
  {
   "cell_type": "code",
   "execution_count": null,
   "metadata": {},
   "outputs": [],
   "source": [
    "[x for x in rows]"
   ]
  },
  {
   "cell_type": "code",
   "execution_count": null,
   "metadata": {},
   "outputs": [],
   "source": [
    "cities = conn.execute(\"select * \\\n",
    "from countries.countries \\\n",
    "inner join countries.cities \\\n",
    "on countries.cities.country_code = countries.code\")"
   ]
  },
  {
   "cell_type": "code",
   "execution_count": null,
   "metadata": {},
   "outputs": [],
   "source": [
    "cities_res = cities.fetchall()"
   ]
  },
  {
   "cell_type": "code",
   "execution_count": null,
   "metadata": {},
   "outputs": [],
   "source": [
    "cities_list = [x for i, x in enumerate(cities_res) if i < 10]"
   ]
  },
  {
   "cell_type": "code",
   "execution_count": null,
   "metadata": {},
   "outputs": [],
   "source": [
    "cities_list"
   ]
  },
  {
   "cell_type": "markdown",
   "metadata": {},
   "source": [
    "# Introduction to joins\n",
    "\n",
    "In this chapter, you'll be introduced to the concept of joining tables, and explore the different ways you can enrich your queries using inner joins and self-joins. You'll also see how to use the case statement to split up a field into different categories."
   ]
  },
  {
   "cell_type": "markdown",
   "metadata": {},
   "source": [
    "## Introduction to INNER JOIN"
   ]
  },
  {
   "cell_type": "code",
   "execution_count": null,
   "metadata": {},
   "outputs": [],
   "source": [
    "cities = conn.execute(\"select * from countries.cities\")"
   ]
  },
  {
   "cell_type": "code",
   "execution_count": null,
   "metadata": {},
   "outputs": [],
   "source": [
    "cities_df = pd.read_sql(\"select * from countries.cities\", conn)"
   ]
  },
  {
   "cell_type": "code",
   "execution_count": null,
   "metadata": {},
   "outputs": [],
   "source": [
    "cities_df.head()"
   ]
  },
  {
   "cell_type": "code",
   "execution_count": null,
   "metadata": {},
   "outputs": [],
   "source": [
    "sql_stmt = \"SELECT * FROM countries.cities INNER JOIN countries.countries ON countries.cities.country_code = countries.countries.code\"\n",
    "pd.read_sql(sql_stmt, conn).head()"
   ]
  },
  {
   "cell_type": "code",
   "execution_count": null,
   "metadata": {},
   "outputs": [],
   "source": [
    "sql_stmt = \"SELECT countries.cities.name as city, countries.countries.name as country, \\\n",
    "countries.countries.region FROM countries.cities INNER JOIN countries.countries ON \\\n",
    "countries.cities.country_code = countries.countries.code\"\n",
    "pd.read_sql(sql_stmt, conn).head()"
   ]
  },
  {
   "cell_type": "markdown",
   "metadata": {},
   "source": [
    "## INNER JOIN via USING"
   ]
  },
  {
   "cell_type": "markdown",
   "metadata": {},
   "source": [
    "![](https://github.com/trenton3983/DataCamp/blob/master/Images/joining_data_in_sql/inner_join_diagram_small.JPG?raw=true)\n",
    "\n",
    "```sql\n",
    "SELECT left_table.id as L_id\n",
    "       left_table.val as L_val\n",
    "       right_table.val as R_val\n",
    "FROM left_table\n",
    "INNER JOIN right_table\n",
    "ON left_table.id = right_table.id;\n",
    "```\n",
    "\n",
    "* When the key field you'd like to join on is the same name in both tables, you can use a `USING` clause instead of the `ON` clause.\n",
    "\n",
    "```sql\n",
    "SELECT left_table.id as L_id\n",
    "       left_table.val as L_val\n",
    "       right_table.val as R_val\n",
    "FROM left_table\n",
    "INNER JOIN right_table\n",
    "USING (id);\n",
    "```"
   ]
  },
  {
   "cell_type": "markdown",
   "metadata": {},
   "source": [
    "### Countries with prime ministers and presidents\n",
    "\n",
    "```sql\n",
    "SELECT p1.country, p1.continent, prime_minister, president\n",
    "FROM leaders.presidents AS p1\n",
    "INNER JOIN leaders.prime_ministers as p2\n",
    "USING (country);\n",
    "```"
   ]
  },
  {
   "cell_type": "code",
   "execution_count": null,
   "metadata": {},
   "outputs": [],
   "source": [
    "sql_stmt = \"SELECT p1.country, p1.continent, prime_minister, president \\\n",
    "FROM leaders.presidents AS p1 \\\n",
    "INNER JOIN leaders.prime_ministers as p2 \\\n",
    "USING (country)\"\n",
    "\n",
    "pd.read_sql(sql_stmt, conn).head()"
   ]
  },
  {
   "cell_type": "markdown",
   "metadata": {},
   "source": [
    "### Exercises"
   ]
  },
  {
   "cell_type": "markdown",
   "metadata": {},
   "source": [
    "#### Review inner join using on\n",
    "\n",
    "Why does the following code result in an error?\n",
    "\n",
    "```sql\n",
    "SELECT c.name AS country, l.name AS language\n",
    "FROM countries AS c\n",
    "  INNER JOIN languages AS l;\n",
    "```\n",
    "\n",
    "* `INNER JOIN` requires a specification of the key field (or fields) in each table."
   ]
  },
  {
   "cell_type": "markdown",
   "metadata": {},
   "source": [
    "#### Inner join with using\n",
    "\n",
    "When joining tables with a common field name, e.g.\n",
    "\n",
    "```sql\n",
    "SELECT *\n",
    "FROM countries\n",
    "  INNER JOIN economies\n",
    "    ON countries.code = economies.code\n",
    "```\n",
    "\n",
    "You can use `USING` as a shortcut:\n",
    "\n",
    "```sql\n",
    "SELECT *\n",
    "FROM countries\n",
    "  INNER JOIN economies\n",
    "    USING(code)\n",
    "```\n",
    "\n",
    "You'll now explore how this can be done with the `countries` and `languages` tables.\n",
    "\n",
    "**Instructions**\n",
    "\n",
    "* Inner join `countries` on the left and `languages` on the right with `USING(code)`.\n",
    "* Select the fields corresponding to:\n",
    "    * country name `AS country`,\n",
    "    * continent name,\n",
    "    * language name `AS language`, and\n",
    "    * whether or not the language is official.\n",
    "* Remember to alias your tables using the first letter of their names."
   ]
  },
  {
   "cell_type": "markdown",
   "metadata": {},
   "source": [
    "```sql\n",
    "-- 4. Select fields\n",
    "SELECT c.name as country, c.continent, l.name as language, l.official\n",
    "  -- 1. From countries (alias as c)\n",
    "  FROM countries as c\n",
    "  -- 2. Join to languages (as l)\n",
    "  INNER JOIN languages as l\n",
    "    -- 3. Match using code\n",
    "    USING (code)\n",
    "```"
   ]
  },
  {
   "cell_type": "code",
   "execution_count": null,
   "metadata": {},
   "outputs": [],
   "source": [
    "sql_stmt = \"SELECT c.name as country, c.continent, l.name as language, l.official \\\n",
    "FROM countries.countries as c \\\n",
    "INNER JOIN countries.languages as l \\\n",
    "USING (code)\"\n",
    "\n",
    "pd.read_sql(sql_stmt, conn).head()"
   ]
  },
  {
   "cell_type": "markdown",
   "metadata": {},
   "source": [
    "## Self-ish joins, just in CASE"
   ]
  },
  {
   "cell_type": "markdown",
   "metadata": {},
   "source": [
    "### self-join on prime_ministers"
   ]
  },
  {
   "cell_type": "code",
   "execution_count": null,
   "metadata": {},
   "outputs": [],
   "source": [
    "sql_stmt = \"SELECT * \\\n",
    "FROM leaders.prime_ministers\"\n",
    "\n",
    "pm_df = pd.read_sql(sql_stmt, conn)\n",
    "pm_df.head()"
   ]
  },
  {
   "cell_type": "markdown",
   "metadata": {},
   "source": [
    "* inner joins where a table is joined with itself\n",
    "    * self join\n",
    "* Explore how to slice a numerical field into categories using the CASE command\n",
    "* Self-joins are used to compare values in a field to other values of the same field from within the same table\n",
    "* Recall the prime ministers table:\n",
    "    * What if you wanted to create a new table showing countries that are in the same continenet matched as pairs?"
   ]
  },
  {
   "cell_type": "markdown",
   "metadata": {},
   "source": [
    "```sql\n",
    "SELECT p1.country AS country1, p2.country AS country2, p1.continent\n",
    "FROM leaders.prime_ministers as p1\n",
    "INNER JOIN prime_ministers as p2\n",
    "ON p1.continent = p2.continent;\n",
    "```"
   ]
  },
  {
   "cell_type": "code",
   "execution_count": null,
   "metadata": {},
   "outputs": [],
   "source": [
    "sql_stmt = \"SELECT p1.country AS country1, p2.country AS country2, p1.continent \\\n",
    "FROM leaders.prime_ministers as p1 \\\n",
    "INNER JOIN leaders.prime_ministers as p2 \\\n",
    "ON p1.continent = p2.continent\"\n",
    "\n",
    "pm_df_1 = pd.read_sql(sql_stmt, conn)\n",
    "pm_df_1.head()"
   ]
  },
  {
   "cell_type": "markdown",
   "metadata": {},
   "source": [
    "* The country column is selected twice as well as continent. \n",
    "* The prime ministers table is on both the left and the right.\n",
    "* The vital step is setting the key columns by which we match the table to itself.\n",
    "    * For each country, there will be a match if the country in the \"right table\" (that's also prime_ministers) is in the same continent.\n",
    "* This is a pairing of each country with every other country in its same continent\n",
    "    * Conditions where country1 = country2 should not be included in the table"
   ]
  },
  {
   "cell_type": "markdown",
   "metadata": {},
   "source": [
    "### Finishing off the self-join on prime_ministers\n",
    "\n",
    "```sql\n",
    "SELECT p1.country AS country1, p2.country AS country2, p1.continent\n",
    "FROM leaders.prime_ministers as p1\n",
    "INNER JOIN prime_ministers as p2\n",
    "ON p1.continent = p2.continent AND p1.country <> p2.country;\n",
    "```"
   ]
  },
  {
   "cell_type": "code",
   "execution_count": null,
   "metadata": {},
   "outputs": [],
   "source": [
    "sql_stmt = \"SELECT p1.country AS country1, p2.country AS country2, p1.continent \\\n",
    "FROM leaders.prime_ministers as p1 \\\n",
    "INNER JOIN leaders.prime_ministers as p2 \\\n",
    "ON p1.continent = p2.continent AND p1.country <> p2.country\"\n",
    "\n",
    "pm_df_2 = pd.read_sql(sql_stmt, conn)\n",
    "pm_df_2.head()"
   ]
  },
  {
   "cell_type": "code",
   "execution_count": null,
   "metadata": {},
   "outputs": [],
   "source": [
    "pm_df_1.equals(pm_df_2)"
   ]
  },
  {
   "cell_type": "markdown",
   "metadata": {},
   "source": [
    "* `AND` clause can check that multiple conditions are met.\n",
    "* Now a match will not be made between prime_minister and itself if the countries match"
   ]
  },
  {
   "cell_type": "markdown",
   "metadata": {
    "toc-hr-collapsed": false
   },
   "source": [
    "### CASE WHEN and THEN\n",
    "\n",
    "* The states table contains numeric data about different countries in the six inhabited world continents\n",
    "* Group the year of independence into categories of:\n",
    "    * before 1900\n",
    "    * between 1900 and 1930\n",
    "    * and after 1930\n",
    "* CASE is a way to do multiple if-then-else statements\n",
    "\n",
    "```sql\n",
    "SELECT name, continent, indep_year,\n",
    "    CASE WHEN indep_year < 1900 THEN 'before 1900'\n",
    "    WHEN indep_year <= 1930 THEN 'between 1900 and 1930'\n",
    "    ELSE 'after 1930' END\n",
    "    AS indep_year_group\n",
    "FROM states\n",
    "ORDER BY indep_year_group;\n",
    "```"
   ]
  },
  {
   "cell_type": "code",
   "execution_count": null,
   "metadata": {},
   "outputs": [],
   "source": [
    "sql_stmt = \"SELECT name, continent, indep_year, \\\n",
    "CASE WHEN indep_year < 1900 THEN 'before 1900' \\\n",
    "WHEN indep_year <= 1930 THEN 'between 1900 and 1930' \\\n",
    "ELSE 'after 1930' END \\\n",
    "AS indep_year_group \\\n",
    "FROM leaders.states \\\n",
    "ORDER BY indep_year_group\"\n",
    "\n",
    "pd.read_sql(sql_stmt, conn)"
   ]
  },
  {
   "cell_type": "markdown",
   "metadata": {
    "toc-hr-collapsed": false
   },
   "source": [
    "### Exercises"
   ]
  },
  {
   "cell_type": "markdown",
   "metadata": {},
   "source": [
    "#### Self-join\n",
    "\n",
    "In this exercise, you'll use the `populations` table to perform a self-join to calculate the percentage increase in population from 2010 to 2015 for each country code!\n",
    "\n",
    "Since you'll be joining the `populations` table to itself, you can alias `populations` as `p1` and also `populations` as `p2`. This is good practice whenever you are aliasing and your tables have the same first letter. Note that you are required to alias the tables with self-joins.\n",
    "\n",
    "**Instructions 1/3**\n",
    "* Join `populations` with itself `ON country_code`.\n",
    "* Select the `country_code` from `p1` and the `size` field from both `p1` and `p2`. SQL won't allow same-named fields, so alias `p1.size as size2010` and `p2.size as size2015`."
   ]
  },
  {
   "cell_type": "markdown",
   "metadata": {},
   "source": [
    "```sql\n",
    "-- 4. Select fields with aliases\n",
    "SELECT p1.size as size2010,\n",
    "    p1.country_code,\n",
    "    p2.size as size2015\n",
    "-- 1. From populations (alias as p1)\n",
    "FROM countries.populations as p1\n",
    "  -- 2. Join to itself (alias as p2)\n",
    "    INNER JOIN countries.populations as p2\n",
    "    -- 3. Match on country code\n",
    "    ON p1.country_code = p2.country_code\n",
    "```"
   ]
  },
  {
   "cell_type": "code",
   "execution_count": null,
   "metadata": {},
   "outputs": [],
   "source": [
    "sql_stmt = \"SELECT p1.size as size2010, p1.country_code, p2.size as size2015 \\\n",
    "FROM countries.populations as p1 \\\n",
    "INNER JOIN countries.populations as p2 \\\n",
    "ON p1.country_code = p2.country_code\"\n",
    "\n",
    "pd.read_sql(sql_stmt, conn).head()"
   ]
  },
  {
   "cell_type": "markdown",
   "metadata": {},
   "source": [
    "**Instructions 2/3**\n",
    "\n",
    "Notice from the result that for each country_code you have four entries laying out all combinations of 2010 and 2015.\n",
    "\n",
    "* Extend the `ON` in your query to include only those records where the `p1.year` (2010) matches with `p2.year - 5` (2015 - 5 = 2010). This will omit the three entries per `country_code` that you aren't interested in."
   ]
  },
  {
   "cell_type": "markdown",
   "metadata": {},
   "source": [
    "```sql\n",
    "-- 4. Select fields with aliases\n",
    "SELECT p1.country_code,\n",
    "       p1.size as size2010,\n",
    "       p2.size as size2015\n",
    "-- 1. From populations (alias as p1)\n",
    "FROM countries.populations as p1\n",
    "  -- 2. Join to itself (alias as p2)\n",
    "    INNER JOIN countries.populations as p2\n",
    "    -- 3. Match on country code\n",
    "    ON p1.country_code = p2.country_code\n",
    "      -- 4. and year (with calculation)\n",
    "      AND p1.year = (p2.year - 5)\n",
    "```"
   ]
  },
  {
   "cell_type": "code",
   "execution_count": null,
   "metadata": {},
   "outputs": [],
   "source": [
    "sql_stmt = \"SELECT p1.size as size2010, p1.country_code, p2.size as size2015 \\\n",
    "FROM countries.populations as p1 \\\n",
    "INNER JOIN countries.populations as p2 \\\n",
    "ON p1.country_code = p2.country_code \\\n",
    "AND p1.year = (p2.year - 5)\"\n",
    "\n",
    "pd.read_sql(sql_stmt, conn).head()"
   ]
  },
  {
   "cell_type": "markdown",
   "metadata": {},
   "source": [
    "**Instructions 3/3**\n",
    "\n",
    "As you just saw, you can also use SQL to calculate values like `p2.year - 5` for you. With two fields like `size2010` and `size2015`, you may want to determine the percentage increase from one field to the next:\n",
    "\n",
    "With two numeric fields `A` and `B`, the percentage growth from `A` to `B` can be calculated as $$\\frac{(B−A)}{A}∗100.0$$.\n",
    "\n",
    "Add a new field to `SELECT`, aliased as `growth_perc`, that calculates the percentage population growth from 2010 to 2015 for each country, using `p2.size` and `p1.size`.\n",
    "\n",
    "\n",
    "```sql\n",
    "SELECT p1.country_code,\n",
    "       p1.size AS size2010, \n",
    "       p2.size AS size2015,\n",
    "       -- 1. calculate growth_perc\n",
    "       ((p2.size - p1.size)/p1.size * 100.0) AS growth_perc\n",
    "-- 2. From populations (alias as p1)\n",
    "FROM countries.populations as p1\n",
    "  -- 3. Join to itself (alias as p2)\n",
    "  INNER JOIN countries.populations as p2\n",
    "    -- 4. Match on country code\n",
    "    ON p1.country_code = p2.country_code\n",
    "        -- 5. and year (with calculation)\n",
    "        AND p1.year = (p2.year - 5);\n",
    "```"
   ]
  },
  {
   "cell_type": "code",
   "execution_count": null,
   "metadata": {},
   "outputs": [],
   "source": [
    "sql_stmt = \"SELECT p1.size as size2010, p1.country_code, p2.size as size2015, \\\n",
    "((p2.size - p1.size)/p1.size * 100.0) AS growth_perc \\\n",
    "FROM countries.populations as p1 \\\n",
    "INNER JOIN countries.populations as p2 \\\n",
    "ON p1.country_code = p2.country_code \\\n",
    "AND p1.year = (p2.year - 5)\"\n",
    "\n",
    "pd.read_sql(sql_stmt, conn).head()"
   ]
  },
  {
   "cell_type": "markdown",
   "metadata": {},
   "source": [
    "#### Case when and then\n",
    "\n",
    "Often it's useful to look at a numerical field not as raw data, but instead as being in different categories or groups.\n",
    "\n",
    "You can use `CASE` with `WHEN`, `THEN`, `ELSE`, and `END` to define a new grouping field.\n",
    "\n",
    "**Instructions**\n",
    "\n",
    "Using the countries table, create a new field AS geosize_group that groups the countries into three groups:\n",
    "\n",
    "* If `surface_area` is greater than 2 million, `geosize_group` is `'large'`.\n",
    "* If `surface_area` is greater than 350 thousand but not larger than 2 million, `geosize_group` is `'medium'`.\n",
    "* Otherwise, `geosize_group` is `'small'`.\n",
    "\n",
    "```sql\n",
    "SELECT name, continent, code, surface_area,\n",
    "    -- 1. First case\n",
    "    CASE WHEN surface_area > 2000000 THEN 'large'\n",
    "        -- 2. Second case\n",
    "        WHEN surface_area > 350000 THEN 'medium'\n",
    "        -- 3. Else clause + end\n",
    "        ELSE 'small' END\n",
    "        -- 4. Alias name\n",
    "        AS geosize_group\n",
    "-- 5. From table\n",
    "FROM countries.countries;\n",
    "```"
   ]
  },
  {
   "cell_type": "code",
   "execution_count": null,
   "metadata": {},
   "outputs": [],
   "source": [
    "sql_stmt = \"SELECT name, continent, code, surface_area, \\\n",
    "CASE WHEN surface_area > 2000000 THEN 'large' \\\n",
    "WHEN surface_area > 350000 THEN 'medium' \\\n",
    "ELSE 'small' END \\\n",
    "AS geosize_group \\\n",
    "FROM countries.countries;\"\n",
    "\n",
    "pd.read_sql(sql_stmt, conn).head()"
   ]
  },
  {
   "cell_type": "markdown",
   "metadata": {},
   "source": [
    "#### Inner challenge\n",
    "\n",
    "The table you created with the added `geosize_group` field has been loaded for you here with the name `countries_plus`. Observe the use of (and the placement of) the `INTO` command to create this `countries_plus` table:\n",
    "\n",
    "**If you have downloaded the data from DataCamp and already have a schema for countries, countries_plus is already one of the tables**\n",
    "\n",
    "```sql\n",
    "SELECT name, continent, code, surface_area,\n",
    "    CASE WHEN surface_area > 2000000\n",
    "            THEN 'large'\n",
    "       WHEN surface_area > 350000\n",
    "            THEN 'medium'\n",
    "       ELSE 'small' END\n",
    "       AS geosize_group\n",
    "INTO countries_plus\n",
    "FROM countries.countries;\n",
    "```\n",
    "\n",
    "You will now explore the relationship between the size of a country in terms of surface area and in terms of population using grouping fields created with `CASE`.\n",
    "\n",
    "By the end of this exercise, you'll be writing two queries back-to-back in a single script. You got this!\n",
    "\n",
    "**Instructions 1/3**\n",
    "\n",
    "Using the `populations` table focused only for the `year` 2015, create a new field `AS popsize_group` to organize population `size` into\n",
    "\n",
    "* `'large'` (> 50 million),\n",
    "* `'medium'` (> 1 million), and\n",
    "* `'small'` groups.\n",
    "\n",
    "Select only the country code, population size, and this new `popsize_group` as fields.\n",
    "\n",
    "```sql\n",
    "SELECT country_code, size,\n",
    "    -- 1. First case\n",
    "    CASE WHEN size > 50000000 THEN 'large'\n",
    "        -- 2. Second case\n",
    "        WHEN size > 1000000 THEN 'medium'\n",
    "        -- 3. Else clause + end\n",
    "        ELSE 'small' END\n",
    "        -- 4. Alias name\n",
    "        AS popsize_group\n",
    "-- 5. From table\n",
    "FROM countries.populations\n",
    "-- 6. Focus on 2015\n",
    "WHERE year = 2015;\n",
    "```"
   ]
  },
  {
   "cell_type": "code",
   "execution_count": null,
   "metadata": {},
   "outputs": [],
   "source": [
    "sql_stmt = \"\\\n",
    "SELECT country_code, size, \\\n",
    "CASE WHEN size > 50000000 THEN 'large' \\\n",
    "WHEN size > 1000000 THEN 'medium' \\\n",
    "ELSE 'small' END \\\n",
    "AS popsize_group \\\n",
    "FROM countries.populations \\\n",
    "WHERE year = 2015; \\\n",
    "\"\n",
    "\n",
    "pd.read_sql(sql_stmt, conn).head()"
   ]
  },
  {
   "cell_type": "markdown",
   "metadata": {},
   "source": [
    "**Instructions 2/3**\n",
    "\n",
    "* Use `INTO` to save the result of the previous query as `pop_plus`. You can see an example of this in the `countries_plus` code in the assignment text. Make sure to include a `;` at the end of your `WHERE` clause!\n",
    "* Then, include another query below your first query to display all the records in `pop_plus` using `SELECT * FROM pop_plus`; so that you generate results and this will display `pop_plus` in query result.\n",
    "\n",
    "**Execute the first part on the PostgreSQL schema to create pop_plus**\n",
    "```sql\n",
    "SELECT country_code, size,\n",
    "    CASE WHEN size > 50000000 THEN 'large'\n",
    "        WHEN size > 1000000 THEN 'medium'\n",
    "        ELSE 'small' END\n",
    "        AS popsize_group\n",
    "-- 1. Into table        \n",
    "INTO countries.pop_plus\n",
    "FROM populations\n",
    "WHERE year = 2015;\n",
    "```\n",
    "\n",
    "**Run this below**\n",
    "```sql\n",
    "-- 2. Select all columns of pop_plus\n",
    "SELECT * FROM countries.pop_plus;\n",
    "```"
   ]
  },
  {
   "cell_type": "code",
   "execution_count": null,
   "metadata": {},
   "outputs": [],
   "source": [
    "sql_stmt = \"\\\n",
    "SELECT * FROM countries.pop_plus; \\\n",
    "\"\n",
    "\n",
    "pd.read_sql(sql_stmt, conn).head()"
   ]
  },
  {
   "cell_type": "markdown",
   "metadata": {},
   "source": [
    "**Instructions 3/3**\n",
    "\n",
    "* Keep the first query intact that creates `pop_plus` using `INTO`.\n",
    "* Write a query to join `countries_plus AS c` on the left with `pop_plus AS p` on the right matching on the country code fields.\n",
    "* Sort the data based on `geosize_group`, in ascending order so that `large` appears on top.\n",
    "* Select the `name`, `continent`, `geosize_group`, and `popsize_group` fields."
   ]
  },
  {
   "cell_type": "code",
   "execution_count": null,
   "metadata": {},
   "outputs": [],
   "source": [
    "sql_stmt = \"\\\n",
    "SELECT c.name, c.continent, c.geosize_group, p.popsize_group \\\n",
    "FROM countries.countries_plus AS c \\\n",
    "INNER JOIN countries.pop_plus AS p \\\n",
    "ON c.code = p.country_code \\\n",
    "ORDER BY geosize_group ASC \\\n",
    "\"\n",
    "\n",
    "q_df = pd.read_sql(sql_stmt, conn)\n",
    "q_df.head()"
   ]
  },
  {
   "cell_type": "code",
   "execution_count": null,
   "metadata": {},
   "outputs": [],
   "source": [
    "q_df.tail()"
   ]
  },
  {
   "cell_type": "markdown",
   "metadata": {
    "toc-hr-collapsed": false
   },
   "source": [
    "# Outer JOINs and Cross JOINs\n",
    "\n",
    "In this chapter, you'll come to grips with different kinds of outer joins. You'll learn how to gain further insights into your data through left joins, right joins, and full joins. In addition to outer joins, you'll also work with cross joins."
   ]
  },
  {
   "cell_type": "markdown",
   "metadata": {},
   "source": [
    "## LEFT and RIGHT JOINs\n",
    "\n",
    "* You can remember outer joins as reaching out to another table while keeping all of the records of the original table.\n",
    "* Inner joins keep only the records in both tables.\n",
    "* This chapter will explore three types of OUTER JOINs:\n",
    "    1. LEFT JOINs\n",
    "    1. RIGHT JOINs\n",
    "    1. FULL JOINs\n",
    "* How a LEFT JOIN differs from an INNER JOIN:\n",
    "\n",
    "**INNER JOIN**\n",
    "\n",
    "![](https://github.com/trenton3983/DataCamp/blob/master/Images/joining_data_in_sql/inner_join_diagram_small.JPG?raw=true \"INNER JOIN\")\n",
    "* The only records included in the resulting table of the INNER JOIN query were those in which the id field had matching values.\n",
    "\n",
    "```sql\n",
    "SELECT p1.country, prime_minister, president\n",
    "FROM prime_ministers as p1\n",
    "INNER JOIN presidents p2\n",
    "ON p1.country = p2.country;\n",
    "```\n",
    "\n",
    "**LEFT JOIN**\n",
    "\n",
    "![](https://github.com/trenton3983/DataCamp/blob/master/Images/joining_data_in_sql/left_join_diagram.JPG?raw=true \"Left JOIN\")\n",
    "* In contrast, a LEFT JOIN notes those record in the left table that do not have a match on the key field in the right table.\n",
    "* This is denoted in the diagram by the open circles remaining close to the left table for id values of 2 and 3.\n",
    "* Whereas the INNER JOIN kept just the records corresponding to id values 1 and 44, a LEFT JOIN keeps all of the original records in the left table, but then marks the values as missing in the right table for those that don't have a match.\n",
    "* The syntax of the LEFT JOIN is similar to that of the INNER JOIN.\n",
    "\n",
    "```sql\n",
    "SELECT p1.country, prime_minister, president\n",
    "FROM prime_ministers as p1\n",
    "LEFT JOIN presidents p2\n",
    "ON p1.country = p2.country;\n",
    "```\n",
    "\n",
    "**LEFT JOIN multiple matches**\n",
    "\n",
    "![](https://github.com/trenton3983/DataCamp/blob/master/Images/joining_data_in_sql/left_join_multi_diagram.JPG?raw=true \"LEF JOIN multiple entries in right table\")\n",
    "* It isn't always the case that each key value in the left table corresponds to exactly one record in the key column of the right table.\n",
    "* Duplicate rows are shown in the LEFT JOIN for id 1 since it has two matches corresponding to the values of R1 and R2 in the right2 table.\n",
    "\n",
    "**RIGHT JOIN**\n",
    "\n",
    "![](https://github.com/trenton3983/DataCamp/blob/master/Images/joining_data_in_sql/right_join_diagram.JPG?raw=true \"RIGHT JOIN - uncommon\")\n",
    "* Instead of matching entries in the id column on the left table to the id column on the right table, a RIGHT JOIN does the reverse.\n",
    "    * The resulting table from a RIGHT JOIN shows the missing entries in the L_val field.\n",
    "* In the SQL statement the right table appears after RIGHT JOIN and the left table appears after FROM.\n",
    "\n",
    "```sql\n",
    "SELECT right_table.id AS R_id,\n",
    "       left_table.val AS L_val,\n",
    "       right_talbe.vale AS R_val\n",
    "FROM left_table\n",
    "RIGHT JOIN right_table\n",
    "ON left_table.id = right_table.id;\n",
    "```"
   ]
  },
  {
   "cell_type": "markdown",
   "metadata": {},
   "source": [
    "#### INNER JOIN"
   ]
  },
  {
   "cell_type": "code",
   "execution_count": null,
   "metadata": {},
   "outputs": [],
   "source": [
    "sql_stmt = \"\\\n",
    "SELECT p1.country, prime_minister, president \\\n",
    "FROM leaders.prime_ministers as p1 \\\n",
    "INNER JOIN leaders.presidents as p2 \\\n",
    "ON p1.country = p2.country \\\n",
    "\"\n",
    "\n",
    "pd.read_sql(sql_stmt, conn)"
   ]
  },
  {
   "cell_type": "markdown",
   "metadata": {},
   "source": [
    "#### LEFT JOIN\n",
    "\n",
    "* The first four records are the same as those from INNER JOIN\n",
    "* The following records correspond to the countries that do not have a president and thus their president values are missing."
   ]
  },
  {
   "cell_type": "code",
   "execution_count": null,
   "metadata": {},
   "outputs": [],
   "source": [
    "sql_stmt = \"\\\n",
    "SELECT p1.country, prime_minister, president \\\n",
    "FROM leaders.prime_ministers as p1 \\\n",
    "LEFT JOIN leaders.presidents as p2 \\\n",
    "ON p1.country = p2.country \\\n",
    "\"\n",
    "\n",
    "pd.read_sql(sql_stmt, conn)"
   ]
  },
  {
   "cell_type": "markdown",
   "metadata": {},
   "source": [
    "### Exercises"
   ]
  },
  {
   "cell_type": "markdown",
   "metadata": {},
   "source": [
    "#### LEFT JOIN\n",
    "\n",
    "Now you'll explore the differences between performing an inner join and a left join using the `cities` and `countries` tables.\n",
    "\n",
    "You'll begin by performing an inner join with the `cities` table on the left and the `countries` table on the right. Remember to alias the name of the city field as `city` and the name of the country field as `country`.\n",
    "\n",
    "You will then change the query to a left join. Take note of how many records are in each query here!\n",
    "\n",
    "**Instructions 1/2**\n",
    "\n",
    "* Fill in the code based on the instructions in the code comments to complete the inner join. Note how many records are in the result of the join in the **query result** tab.\n",
    "\n",
    "```sql\n",
    "-- Select the city name (with alias), the country code,\n",
    "-- the country name (with alias), the region,\n",
    "-- and the city proper population\n",
    "SELECT c1.name AS city, code, c2.name AS country,\n",
    "       region, city_proper_pop\n",
    "-- From left table (with alias)\n",
    "FROM cities AS c1\n",
    "  -- Join to right table (with alias)\n",
    "  INNER JOIN countries AS c2\n",
    "    -- Match on country code\n",
    "    ON c1.country_code = c2.code\n",
    "-- Order by descending country code\n",
    "ORDER BY code DESC;\n",
    "```"
   ]
  },
  {
   "cell_type": "code",
   "execution_count": null,
   "metadata": {},
   "outputs": [],
   "source": [
    "sql_stmt = \"\\\n",
    "SELECT c1.name AS city, code, c2.name AS country, region, city_proper_pop \\\n",
    "FROM countries.cities AS c1 \\\n",
    "INNER JOIN countries.countries AS c2 \\\n",
    "ON c1.country_code = c2.code \\\n",
    "ORDER BY code DESC; \\\n",
    "\"\n",
    "\n",
    "pd.read_sql(sql_stmt, conn).head()"
   ]
  },
  {
   "cell_type": "markdown",
   "metadata": {},
   "source": [
    "**Instructions 2/2**\n",
    "\n",
    "* Change the code to perform a `LEFT JOIN` instead of an `INNER JOIN`. After executing this query, note how many records the query result contains.\n",
    "\n",
    "```sql\n",
    "SELECT c1.name AS city, code, c2.name AS country,\n",
    "       region, city_proper_pop\n",
    "FROM cities AS c1\n",
    "  -- 1. Join right table (with alias)\n",
    "  LEFT JOIN countries AS c2\n",
    "    -- 2. Match on country code\n",
    "    ON c1.country_code = c2.code\n",
    "-- 3. Order by descending country code\n",
    "ORDER BY code DESC;\n",
    "```"
   ]
  },
  {
   "cell_type": "code",
   "execution_count": null,
   "metadata": {},
   "outputs": [],
   "source": [
    "sql_stmt = \"\\\n",
    "SELECT c1.name AS city, code, c2.name AS country, region, city_proper_pop \\\n",
    "FROM countries.cities AS c1 \\\n",
    "LEFT JOIN countries.countries AS c2 \\\n",
    "ON c1.country_code = c2.code \\\n",
    "ORDER BY code DESC; \\\n",
    "\"\n",
    "\n",
    "pd.read_sql(sql_stmt, conn).head()"
   ]
  },
  {
   "cell_type": "markdown",
   "metadata": {},
   "source": [
    "#### JEFT JOIN (2)"
   ]
  },
  {
   "cell_type": "markdown",
   "metadata": {},
   "source": [
    "##### LEFT JOIN (3)"
   ]
  },
  {
   "cell_type": "markdown",
   "metadata": {},
   "source": [
    "#### RIGHT JOIN"
   ]
  },
  {
   "cell_type": "markdown",
   "metadata": {
    "toc-hr-collapsed": false
   },
   "source": [
    "## FULL JOINs"
   ]
  },
  {
   "cell_type": "markdown",
   "metadata": {},
   "source": [
    "### Exercises"
   ]
  },
  {
   "cell_type": "markdown",
   "metadata": {},
   "source": [
    "#### FULL JOIN"
   ]
  },
  {
   "cell_type": "markdown",
   "metadata": {},
   "source": [
    "#### FULL JOIN (2)"
   ]
  },
  {
   "cell_type": "markdown",
   "metadata": {},
   "source": [
    "#### FULL JOIN (3)"
   ]
  },
  {
   "cell_type": "markdown",
   "metadata": {},
   "source": [
    "#### Review OUTER JOINs"
   ]
  },
  {
   "cell_type": "markdown",
   "metadata": {},
   "source": [
    "## CROSSing the rubicon"
   ]
  },
  {
   "cell_type": "markdown",
   "metadata": {},
   "source": [
    "#### Exercises"
   ]
  },
  {
   "cell_type": "markdown",
   "metadata": {},
   "source": [
    "##### A table of two cities"
   ]
  },
  {
   "cell_type": "markdown",
   "metadata": {},
   "source": [
    "##### Outer challenge"
   ]
  },
  {
   "cell_type": "markdown",
   "metadata": {},
   "source": [
    "# Set theory clauses\n",
    "\n",
    "In this chapter, you'll learn more about set theory using Venn diagrams and you will be introduced to union, union all, intersect, and except clauses. You'll finish by investigating semi-joins and anti-joins, which provide a nice introduction to subqueries."
   ]
  },
  {
   "cell_type": "markdown",
   "metadata": {},
   "source": [
    "## State of the UNION"
   ]
  },
  {
   "cell_type": "markdown",
   "metadata": {},
   "source": [
    "### Exercises"
   ]
  },
  {
   "cell_type": "markdown",
   "metadata": {},
   "source": [
    "#### UNION"
   ]
  },
  {
   "cell_type": "markdown",
   "metadata": {},
   "source": [
    "#### UNION (2)"
   ]
  },
  {
   "cell_type": "markdown",
   "metadata": {},
   "source": [
    "#### UNION ALL"
   ]
  },
  {
   "cell_type": "markdown",
   "metadata": {},
   "source": [
    "## INTERSECTional data science"
   ]
  },
  {
   "cell_type": "markdown",
   "metadata": {},
   "source": [
    "### Exercises"
   ]
  },
  {
   "cell_type": "markdown",
   "metadata": {},
   "source": [
    "#### INTERSECT"
   ]
  },
  {
   "cell_type": "markdown",
   "metadata": {},
   "source": [
    "#### INTERSECT (2)"
   ]
  },
  {
   "cell_type": "markdown",
   "metadata": {},
   "source": [
    "#### Review UNION and INTERSECT"
   ]
  },
  {
   "cell_type": "markdown",
   "metadata": {},
   "source": [
    "## EXCEPTional"
   ]
  },
  {
   "cell_type": "markdown",
   "metadata": {},
   "source": [
    "### Exercises"
   ]
  },
  {
   "cell_type": "markdown",
   "metadata": {},
   "source": [
    "#### EXCEPT"
   ]
  },
  {
   "cell_type": "markdown",
   "metadata": {},
   "source": [
    "#### EXCEPT (2)"
   ]
  },
  {
   "cell_type": "markdown",
   "metadata": {},
   "source": [
    "## Semi-JOINs and Anti-JOINS"
   ]
  },
  {
   "cell_type": "markdown",
   "metadata": {},
   "source": [
    "### Exercises"
   ]
  },
  {
   "cell_type": "markdown",
   "metadata": {},
   "source": [
    "#### Semi-JOIN"
   ]
  },
  {
   "cell_type": "markdown",
   "metadata": {},
   "source": [
    "#### Relating semi-JOIN to a tweaked INNER JOIN"
   ]
  },
  {
   "cell_type": "markdown",
   "metadata": {},
   "source": [
    "#### Diagnosing problems using anti-JOIN"
   ]
  },
  {
   "cell_type": "markdown",
   "metadata": {},
   "source": [
    "#### Set theory challenge"
   ]
  },
  {
   "cell_type": "markdown",
   "metadata": {},
   "source": [
    "# Subqueries\n",
    "\n",
    "In this closing chapter, you'll learn how to use nested queries to add some finesse to your data insights. You'll also wrap all of the content covered throughout this course into solving three challenge problems."
   ]
  },
  {
   "cell_type": "markdown",
   "metadata": {},
   "source": [
    "## Subqueries inside WHERE and SELECT clauses"
   ]
  },
  {
   "cell_type": "markdown",
   "metadata": {},
   "source": [
    "### Exercises"
   ]
  },
  {
   "cell_type": "markdown",
   "metadata": {},
   "source": [
    "#### Subquery inside WHERE"
   ]
  },
  {
   "cell_type": "markdown",
   "metadata": {},
   "source": [
    "#### Subquery inside WHERE (2)"
   ]
  },
  {
   "cell_type": "markdown",
   "metadata": {},
   "source": [
    "#### Subquery inside SELECT"
   ]
  },
  {
   "cell_type": "markdown",
   "metadata": {},
   "source": [
    "## Subquery inside FROM clause"
   ]
  },
  {
   "cell_type": "markdown",
   "metadata": {},
   "source": [
    "### Exercises"
   ]
  },
  {
   "cell_type": "markdown",
   "metadata": {},
   "source": [
    "#### Subquery inside FROM"
   ]
  },
  {
   "cell_type": "markdown",
   "metadata": {},
   "source": [
    "#### Advanced subquery"
   ]
  },
  {
   "cell_type": "markdown",
   "metadata": {},
   "source": [
    "#### Subquery challenge"
   ]
  },
  {
   "cell_type": "markdown",
   "metadata": {},
   "source": [
    "#### Subquery review"
   ]
  },
  {
   "cell_type": "markdown",
   "metadata": {},
   "source": [
    "## Course Review"
   ]
  },
  {
   "cell_type": "markdown",
   "metadata": {},
   "source": [
    "### Final Challenge"
   ]
  },
  {
   "cell_type": "markdown",
   "metadata": {},
   "source": [
    "### Final Challenge (2)"
   ]
  },
  {
   "cell_type": "markdown",
   "metadata": {},
   "source": [
    "### Final Challenge (3)"
   ]
  },
  {
   "cell_type": "markdown",
   "metadata": {
    "toc-hr-collapsed": false
   },
   "source": [
    "# Trimet"
   ]
  },
  {
   "cell_type": "markdown",
   "metadata": {},
   "source": [
    "![](https://github.com/trenton3983/DataCamp/blob/master/Images/joining_data_in_sql/postgres_trimet.JPG?raw=true)"
   ]
  },
  {
   "cell_type": "code",
   "execution_count": null,
   "metadata": {},
   "outputs": [],
   "source": [
    "sql_stmt = \"SELECT * FROM trimet.route\""
   ]
  },
  {
   "cell_type": "code",
   "execution_count": null,
   "metadata": {},
   "outputs": [],
   "source": [
    "trimet_route = pd.read_sql(sql_stmt, conn)"
   ]
  },
  {
   "cell_type": "code",
   "execution_count": null,
   "metadata": {},
   "outputs": [],
   "source": [
    "trimet_route"
   ]
  },
  {
   "cell_type": "code",
   "execution_count": null,
   "metadata": {},
   "outputs": [],
   "source": [
    "sql_stmt = \"SELECT * FROM trimet.agency\""
   ]
  },
  {
   "cell_type": "code",
   "execution_count": null,
   "metadata": {},
   "outputs": [],
   "source": [
    "trimet_agency = pd.read_sql(sql_stmt, conn)"
   ]
  },
  {
   "cell_type": "code",
   "execution_count": null,
   "metadata": {},
   "outputs": [],
   "source": [
    "trimet_agency"
   ]
  },
  {
   "cell_type": "code",
   "execution_count": null,
   "metadata": {},
   "outputs": [],
   "source": [
    "sql_stmt = \"select tr.route_number, ta.agency_name \\\n",
    "from trimet.route tr \\\n",
    "inner join trimet.agency ta \\\n",
    "on tr.agency_id = ta.id where agency_name = 'Trimet'\""
   ]
  },
  {
   "cell_type": "code",
   "execution_count": null,
   "metadata": {},
   "outputs": [],
   "source": [
    "pd.read_sql(sql_stmt, conn)"
   ]
  },
  {
   "cell_type": "code",
   "execution_count": null,
   "metadata": {},
   "outputs": [],
   "source": [
    "conn.close()"
   ]
  }
 ],
 "metadata": {
  "kernelspec": {
   "display_name": "Python 3",
   "language": "python",
   "name": "python3"
  },
  "language_info": {
   "codemirror_mode": {
    "name": "ipython",
    "version": 3
   },
   "file_extension": ".py",
   "mimetype": "text/x-python",
   "name": "python",
   "nbconvert_exporter": "python",
   "pygments_lexer": "ipython3",
   "version": "3.7.3"
  },
  "toc-autonumbering": true,
  "toc-showcode": false,
  "toc-showmarkdowntxt": false,
  "toc-showtags": false
 },
 "nbformat": 4,
 "nbformat_minor": 2
}
