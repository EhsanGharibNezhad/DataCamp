{
 "cells": [
  {
   "cell_type": "markdown",
   "metadata": {},
   "source": [
    "# My Comments about this course\n",
    "\n",
    "* Most of the course material is very basic so has not been included in the Notebook\n",
    "* Great course for those with little or not Python experience"
   ]
  },
  {
   "cell_type": "code",
   "execution_count": null,
   "metadata": {},
   "outputs": [],
   "source": [
    "import pandas as pd\n",
    "import matplotlib.pyplot as plt\n",
    "import numpy as np\n",
    "from numpy import NaN\n",
    "from glob import glob\n",
    "import re"
   ]
  },
  {
   "cell_type": "code",
   "execution_count": null,
   "metadata": {},
   "outputs": [],
   "source": [
    "pd.set_option('max_columns', 200)\n",
    "pd.set_option('max_rows', 300)\n",
    "pd.set_option('display.expand_frame_repr', True)"
   ]
  },
  {
   "cell_type": "markdown",
   "metadata": {},
   "source": [
    "### Data Files Location\n",
    "\n",
    "* Most data files for the exercises can be found [here](#https://www.datacamp.com/courses/intro-to-python-for-finance)\n",
    "    * [Stocks data (I)](#https://assets.datacamp.com/production/repositories/1715/datasets/2623c8037df0505d619c87a09131af9105e5883d/stock_data.csv)\n",
    "    * [Stocks data (II)](#https://assets.datacamp.com/production/repositories/1715/datasets/d96bf818f1f6f52af429edcaaf9dd96d37ab7b0a/stock_data2.csv)\n",
    "    * [S&P 100 data](#https://assets.datacamp.com/production/repositories/1715/datasets/0ef2a37a04b12d12368f060efd02b93cd110bd29/sector.txt)    \n",
    "* Other data files may be found in my [DataCamp repository](#https://github.com/trenton3983/DataCamp/tree/master/data)"
   ]
  },
  {
   "cell_type": "markdown",
   "metadata": {},
   "source": [
    "### Data File Objects"
   ]
  },
  {
   "cell_type": "code",
   "execution_count": null,
   "metadata": {},
   "outputs": [],
   "source": [
    "stocks1 = 'data/intro_to_python_for_finance/stock_data.csv'\n",
    "stocks2 = 'data/intro_to_python_for_finance/stock_data2.csv'\n",
    "sector_100 = 'data/intro_to_python_for_finance/sector.txt'\n",
    "exercises = 'data/intro_to_python_for_finance/exercise_data.csv'"
   ]
  },
  {
   "cell_type": "markdown",
   "metadata": {
    "toc-hr-collapsed": false
   },
   "source": [
    "# Intro to Python for Finance\n",
    "\n",
    "***Course Description***\n",
    "\n",
    "The financial industry is increasingly adopting Python for general-purpose programming and quantitative analysis, ranging from understanding trading dynamics to risk management systems. This course focuses specifically on introducing Python for financial analysis. Using practical examples, you will learn the fundamentals of Python data structures such as lists and arrays and learn powerful ways to store and manipulate financial data to identify trends."
   ]
  },
  {
   "cell_type": "markdown",
   "metadata": {
    "toc-hr-collapsed": false
   },
   "source": [
    "## Welcome to Python\n",
    "\n",
    "This chapter is an introduction to basics in Python, including how to name variables and various data types in Python."
   ]
  },
  {
   "cell_type": "markdown",
   "metadata": {},
   "source": [
    "### Welcome to Python for Finance!"
   ]
  },
  {
   "cell_type": "markdown",
   "metadata": {},
   "source": [
    "### Comments and Variables"
   ]
  },
  {
   "cell_type": "markdown",
   "metadata": {},
   "source": [
    "Using variables to evaluate stock trends\n",
    "\n",
    "$\\text{Price to earning ratio} = \\frac{\\text{Maket Price}}{\\text{Earnings per share}}$"
   ]
  },
  {
   "cell_type": "code",
   "execution_count": null,
   "metadata": {},
   "outputs": [],
   "source": [
    "price = 200\n",
    "earnings = 5\n",
    "\n",
    "pe_ratio = price/earnings\n",
    "pe_ratio"
   ]
  },
  {
   "cell_type": "markdown",
   "metadata": {},
   "source": [
    "### Data Types\n",
    "\n",
    "* integer\n",
    "* float\n",
    "* string\n",
    "* boolean\n",
    "\n",
    "***Check type with:***\n",
    "```python\n",
    "type(variable)\n",
    "```"
   ]
  },
  {
   "cell_type": "markdown",
   "metadata": {},
   "source": [
    "#### Booleans in Python\n",
    "\n",
    "Booleans are used to represent True or False statements in Python. Boolean comparisons include:\n",
    "\n",
    "| Operators |      Descriptions     |\n",
    "|:---------:|:---------------------:|\n",
    "|     >     | greater than          |\n",
    "|     >=    | greater than or equal |\n",
    "|     <     | less than             |\n",
    "|     <=    | less than or equal    |\n",
    "|     ==    | equal (compare)       |\n",
    "|     !=    | does not equal        |"
   ]
  },
  {
   "cell_type": "markdown",
   "metadata": {},
   "source": [
    "## Lists\n",
    "\n",
    "This chapter introduces lists in Python and how they can be used to work with data."
   ]
  },
  {
   "cell_type": "markdown",
   "metadata": {},
   "source": [
    "### Lists"
   ]
  },
  {
   "cell_type": "markdown",
   "metadata": {},
   "source": [
    "### Nested Lists"
   ]
  },
  {
   "cell_type": "markdown",
   "metadata": {},
   "source": [
    "### List methods and functions\n",
    "\n",
    "| Methods                                                     | Functions                        |\n",
    "|-------------------------------------------------------------|----------------------------------|\n",
    "| All methods are functions                                   | Not all functions are methods    |\n",
    "| List methods are a subset of built in functions in Python   |                                  |\n",
    "| Used on an object                                           | Requires an input of an object   |\n",
    "| prices.sort()                                               | type(prices)                     |\n",
    "\n",
    "* Functions take objects as inputs or are \"passed\" an object\n",
    "* Methods act on objects"
   ]
  },
  {
   "cell_type": "markdown",
   "metadata": {},
   "source": [
    "## Arrays in Python\n",
    "\n",
    "This chapter introduces packages in Python, specifically the NumPy package and how it can be efficiently used to manipulate arrays."
   ]
  },
  {
   "cell_type": "markdown",
   "metadata": {},
   "source": [
    "### Arrays\n",
    "\n",
    "***Why use an array for financial analysis?***\n",
    "\n",
    "* Arrays can handle very large datasets efficiently\n",
    "    * Computationally memory efficient\n",
    "    * Faster calculations and analysis than lists\n",
    "    * Diverse functionality (many functions in Python packages)\n",
    "* All dtypes in a numpy array are the same\n",
    "* Each element of a python list keeps its dtype"
   ]
  },
  {
   "cell_type": "markdown",
   "metadata": {},
   "source": [
    "#### Array operations"
   ]
  },
  {
   "cell_type": "code",
   "execution_count": null,
   "metadata": {},
   "outputs": [],
   "source": [
    "# Arrays - element-wise sum\n",
    "\n",
    "array_A = np.array([1, 2, 3])\n",
    "array_B = np.array([4, 5, 6])\n",
    "\n",
    "array_A + array_B"
   ]
  },
  {
   "cell_type": "code",
   "execution_count": null,
   "metadata": {},
   "outputs": [],
   "source": [
    "# Lists - list concatenation\n",
    "\n",
    "list_A = [1, 2, 3]\n",
    "list_B = [4, 5, 6]\n",
    "\n",
    "list_A + list_B"
   ]
  },
  {
   "cell_type": "markdown",
   "metadata": {},
   "source": [
    "### 2D arrays and functions"
   ]
  },
  {
   "cell_type": "markdown",
   "metadata": {},
   "source": [
    "### Using arrays for analysis"
   ]
  },
  {
   "cell_type": "markdown",
   "metadata": {},
   "source": [
    "## Visualization in Python\n",
    "\n",
    "In this chapter, you will be introduced to the Matplotlib package for creating line plots, scatter plots, and histograms."
   ]
  },
  {
   "cell_type": "markdown",
   "metadata": {},
   "source": [
    "### Visualization in Python"
   ]
  },
  {
   "cell_type": "markdown",
   "metadata": {},
   "source": [
    "#### Single Plot"
   ]
  },
  {
   "cell_type": "code",
   "execution_count": null,
   "metadata": {},
   "outputs": [],
   "source": [
    "df = pd.read_csv(stocks1)\n",
    "df.head()"
   ]
  },
  {
   "cell_type": "code",
   "execution_count": null,
   "metadata": {},
   "outputs": [],
   "source": [
    "plt.plot(df.Day, df.Price, color='red', linestyle='--')\n",
    "\n",
    "# Add x and y labels\n",
    "plt.xlabel('Days')\n",
    "plt.ylabel('Prices, $')\n",
    "\n",
    "# Add plot title\n",
    "plt.title('Company Stock Prices Over Time')"
   ]
  },
  {
   "cell_type": "markdown",
   "metadata": {},
   "source": [
    "#### Multiple plots I"
   ]
  },
  {
   "cell_type": "code",
   "execution_count": null,
   "metadata": {},
   "outputs": [],
   "source": [
    "df = pd.read_csv(stocks2)\n",
    "df.head()"
   ]
  },
  {
   "cell_type": "code",
   "execution_count": null,
   "metadata": {},
   "outputs": [],
   "source": [
    "# Plot two lines of varying colors \n",
    "plt.plot(df.day, df.company1, color='red')\n",
    "plt.plot(df.day, df.company2, color='green')\n",
    "\n",
    "# Add labels\n",
    "plt.xlabel('Days')\n",
    "plt.ylabel('Prices, $')\n",
    "plt.title('Stock Prices Over Time')"
   ]
  },
  {
   "cell_type": "markdown",
   "metadata": {},
   "source": [
    "#### Multiple plots II"
   ]
  },
  {
   "cell_type": "code",
   "execution_count": null,
   "metadata": {},
   "outputs": [],
   "source": [
    "df[['company1', 'company2']].plot()"
   ]
  },
  {
   "cell_type": "markdown",
   "metadata": {},
   "source": [
    "#### Scatterplots"
   ]
  },
  {
   "cell_type": "code",
   "execution_count": null,
   "metadata": {},
   "outputs": [],
   "source": [
    "plt.scatter(df.day, df.company1, color='green', s=0.1)"
   ]
  },
  {
   "cell_type": "markdown",
   "metadata": {},
   "source": [
    "### Histograms\n",
    "\n",
    "* Tell the distribution of the data\n",
    "* Uses in Finance\n",
    "    * Economic Indicators\n",
    "    * Stock Returns\n",
    "    * Commodity Prices"
   ]
  },
  {
   "cell_type": "markdown",
   "metadata": {},
   "source": [
    "#### Why histograms for financial analysis?\n",
    "    \n",
    "![alt text](https://github.com/trenton3983/DataCamp/blob/master/Images/intro_to_python_for_finance_histogram.JPG?raw=true \"Histogram\")\n",
    "\n",
    "* Is you data skewed?\n",
    "* Is you data centered around the average?\n",
    "* Do you have any abnormal data points (outliers) in your data?"
   ]
  },
  {
   "cell_type": "markdown",
   "metadata": {},
   "source": [
    "#### Histograms and matplotlib.pyplot\n",
    "\n",
    "```python\n",
    "import matplotlib.pyplot as plt\n",
    "plt.hist(x=prices, bins=3)\n",
    "plt.show()\n",
    "```"
   ]
  },
  {
   "cell_type": "markdown",
   "metadata": {},
   "source": [
    "#### Normalizing histogram data\n",
    "\n",
    "```python\n",
    "import matplotlib.pyplot as plt\n",
    "plt.hist(x=prices, bins=6, density=True)\n",
    "plt.show()\n",
    "```\n",
    "\n",
    "* At times it's beneficial to know the relative frequency or the percentage of observations (rather than frequency counts)"
   ]
  },
  {
   "cell_type": "markdown",
   "metadata": {},
   "source": [
    "#### Layering histograms on a plot\n",
    "\n",
    "```python\n",
    "plt.hist(x=prices, bins=6, density=True)\n",
    "plt.hist(x=prices2, bins=6, density=True)\n",
    "plt.show()\n",
    "```"
   ]
  },
  {
   "cell_type": "markdown",
   "metadata": {},
   "source": [
    "#### Alpha: Changing transparency of histograms\n",
    "\n",
    "```python\n",
    "plt.hist(x=prices, bins=6, density=True, alpha=0.5)\n",
    "plt.hist(x=prices2, bins=6, density=True, alpha=0.5)\n",
    "plt.show()\n",
    "```"
   ]
  },
  {
   "cell_type": "markdown",
   "metadata": {},
   "source": [
    "#### Adding a legend\n",
    "\n",
    "```python\n",
    "plt.hist(x=prices, bins=6, density=True, alpha=0.5, label='Prices 1')\n",
    "plt.hist(x=prices2, bins=6, density=True, alpha=0.5, label='Prices New')\n",
    "plt.legend()\n",
    "plt.show()\n",
    "```"
   ]
  },
  {
   "cell_type": "markdown",
   "metadata": {
    "toc-hr-collapsed": false
   },
   "source": [
    "### Exercises"
   ]
  },
  {
   "cell_type": "markdown",
   "metadata": {},
   "source": [
    "#### Is data normally distributed?"
   ]
  },
  {
   "cell_type": "code",
   "execution_count": null,
   "metadata": {},
   "outputs": [],
   "source": [
    "plt.hist(df.company2, bins=100, ec='black')\n",
    "plt.show()"
   ]
  },
  {
   "cell_type": "markdown",
   "metadata": {},
   "source": [
    "#### Comparing two histograms"
   ]
  },
  {
   "cell_type": "code",
   "execution_count": null,
   "metadata": {},
   "outputs": [],
   "source": [
    "df_exercises = pd.read_csv(exercises)\n",
    "df_exercises.head()"
   ]
  },
  {
   "cell_type": "markdown",
   "metadata": {},
   "source": [
    "##### pd.DataFrame.hist"
   ]
  },
  {
   "cell_type": "code",
   "execution_count": null,
   "metadata": {},
   "outputs": [],
   "source": [
    "df_exercises.hist(bins=100, alpha=0.4, ec='black')\n",
    "plt.show()"
   ]
  },
  {
   "cell_type": "markdown",
   "metadata": {},
   "source": [
    "##### matplotlib.pyplt as plt"
   ]
  },
  {
   "cell_type": "code",
   "execution_count": null,
   "metadata": {},
   "outputs": [],
   "source": [
    "# Plot histogram of stocks_A\n",
    "plt.hist(df_exercises.stock_A, bins=100, alpha=0.4, label='Stock A')\n",
    "\n",
    "# Plot histogram of stocks_B \n",
    "plt.hist(df_exercises.stock_B, bins=100, alpha=0.4, label='Stock B')\n",
    "\n",
    "# Add the legend\n",
    "plt.legend()\n",
    "\n",
    "# Display plot\n",
    "plt.show()"
   ]
  },
  {
   "cell_type": "markdown",
   "metadata": {},
   "source": [
    "## S&P 100 Case Study\n",
    "\n",
    "In this chapter, you will get a chance to apply all the techniques you learned in the course on the S&P 100 data."
   ]
  },
  {
   "cell_type": "markdown",
   "metadata": {},
   "source": [
    "### Introducing the dataset"
   ]
  },
  {
   "cell_type": "markdown",
   "metadata": {},
   "source": [
    "### A closer look at sectors"
   ]
  },
  {
   "cell_type": "markdown",
   "metadata": {},
   "source": [
    "### Visualizating trends"
   ]
  },
  {
   "cell_type": "code",
   "execution_count": null,
   "metadata": {},
   "outputs": [],
   "source": []
  }
 ],
 "metadata": {
  "kernelspec": {
   "display_name": "Python 3",
   "language": "python",
   "name": "python3"
  },
  "language_info": {
   "codemirror_mode": {
    "name": "ipython",
    "version": 3
   },
   "file_extension": ".py",
   "mimetype": "text/x-python",
   "name": "python",
   "nbconvert_exporter": "python",
   "pygments_lexer": "ipython3",
   "version": "3.7.2"
  }
 },
 "nbformat": 4,
 "nbformat_minor": 2
}
