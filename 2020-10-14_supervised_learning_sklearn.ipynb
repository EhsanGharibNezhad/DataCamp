{
 "cells": [
  {
   "cell_type": "markdown",
   "metadata": {},
   "source": [
    "- Notebook Author: [Trenton McKinney][1]\n",
    "- Course: **[DataCamp: Supervised Learning with scikit-learn][2]**\n",
    " - This [notebook][3] was created as a reproducible reference.\n",
    " - The material is from the course\n",
    " - I completed the exercises\n",
    " - If you find the content beneficial, consider a [DataCamp Subscription][4].\n",
    " - I added a function (**`create_dir_save_file`**) to automatically download and save the required data (`data/2020-10-14_supervised_learning_sklearn`) and image (`Images/2020-10-14_supervised_learning_sklearn`) files.\n",
    "\n",
    "  [1]: https://trenton3983.github.io/\n",
    "  [2]: https://learn.datacamp.com/courses/supervised-learning-with-scikit-learn\n",
    "  [3]: https://github.com/trenton3983/DataCamp/blob/master/2020-10-14_supervised_learning_sklearn.ipynb\n",
    "  [4]: https://www.datacamp.com/pricing"
   ]
  },
  {
   "cell_type": "markdown",
   "metadata": {},
   "source": [
    "#### Course Description\n",
    "\n",
    "Machine learning is the field that teaches machines and computers to learn from existing data to make predictions on new data: Will a tumor be benign or malignant? Which of your customers will take their business elsewhere? Is a particular email spam? In this course, you'll learn how to use Python to perform supervised learning, an essential component of machine learning. You'll learn how to build predictive models, tune their parameters, and determine how well they will perform with unseen data—all while using real world datasets. You'll be using scikit-learn, one of the most popular and user-friendly machine learning libraries for Python."
   ]
  },
  {
   "cell_type": "markdown",
   "metadata": {},
   "source": [
    "#### Imports"
   ]
  },
  {
   "cell_type": "code",
   "execution_count": null,
   "metadata": {},
   "outputs": [],
   "source": [
    "import pandas as pd\n",
    "import numpy as np\n",
    "from pprint import pprint as pp\n",
    "from itertools import combinations\n",
    "import requests\n",
    "from pathlib import Path\n",
    "from sklearn.datasets import load_iris, load_digits\n",
    "import seaborn as sns\n",
    "import matplotlib.pyplot as plt\n",
    "from matplotlib.colors import ListedColormap\n",
    "from sklearn.neighbors import KNeighborsClassifier\n",
    "from sklearn.model_selection import train_test_split, cross_val_score\n",
    "from sklearn.linear_model import LinearRegression, Ridge, Lasso\n",
    "from sklearn.metrics import mean_squared_error"
   ]
  },
  {
   "cell_type": "markdown",
   "metadata": {},
   "source": [
    "#### Configuration Options"
   ]
  },
  {
   "cell_type": "code",
   "execution_count": null,
   "metadata": {},
   "outputs": [],
   "source": [
    "pd.set_option('max_columns', 200)\n",
    "pd.set_option('max_rows', 300)\n",
    "pd.set_option('display.expand_frame_repr', True)\n",
    "# plt.style.use('ggplot')\n",
    "plt.rcParams[\"patch.force_edgecolor\"] = True"
   ]
  },
  {
   "cell_type": "markdown",
   "metadata": {},
   "source": [
    "#### Functions"
   ]
  },
  {
   "cell_type": "code",
   "execution_count": null,
   "metadata": {},
   "outputs": [],
   "source": [
    "def create_dir_save_file(dir_path: Path, url: str):\n",
    "    \"\"\"\n",
    "    Check if the path exists and create it if it does not.\n",
    "    Check if the file exists and download it if it does not.\n",
    "    \"\"\"\n",
    "    if not dir_path.parents[0].exists():\n",
    "        dir_path.parents[0].mkdir(parents=True)\n",
    "        print(f'Directory Created: {dir_path.parents[0]}')\n",
    "    else:\n",
    "        print('Directory Exists')\n",
    "        \n",
    "    if not dir_path.exists():\n",
    "        r = requests.get(url, allow_redirects=True)\n",
    "        open(dir_path, 'wb').write(r.content)\n",
    "        print(f'File Created: {dir_path.name}')\n",
    "    else:\n",
    "        print('File Exists')"
   ]
  },
  {
   "cell_type": "code",
   "execution_count": null,
   "metadata": {},
   "outputs": [],
   "source": [
    "data_dir = Path('data/2020-10-14_supervised_learning_sklearn')\n",
    "images_dir = Path('Images/2020-10-14_supervised_learning_sklearn')"
   ]
  },
  {
   "cell_type": "markdown",
   "metadata": {},
   "source": [
    "#### Datasets"
   ]
  },
  {
   "cell_type": "code",
   "execution_count": null,
   "metadata": {},
   "outputs": [],
   "source": [
    "file_mpg = 'https://assets.datacamp.com/production/repositories/628/datasets/3781d588cf7b04b1e376c7e9dda489b3e6c7465b/auto.csv'\n",
    "file_housing = 'https://assets.datacamp.com/production/repositories/628/datasets/021d4b9e98d0f9941e7bfc932a5787b362fafe3b/boston.csv'\n",
    "file_diabetes = 'https://assets.datacamp.com/production/repositories/628/datasets/444cdbf175d5fbf564b564bd36ac21740627a834/diabetes.csv'\n",
    "file_gapminder = 'https://assets.datacamp.com/production/repositories/628/datasets/a7e65287ebb197b1267b5042955f27502ec65f31/gm_2008_region.csv'\n",
    "file_voting = 'https://assets.datacamp.com/production/repositories/628/datasets/35a8c54b79d559145bbeb5582de7a6169c703136/house-votes-84.csv'\n",
    "file_wwine = 'https://assets.datacamp.com/production/repositories/628/datasets/2d9076606fb074c66420a36e06d7c7bc605459d4/white-wine.csv'\n",
    "file_rwine = 'https://assets.datacamp.com/production/repositories/628/datasets/013936d2700e2d00207ec42100d448c23692eb6f/winequality-red.csv'"
   ]
  },
  {
   "cell_type": "code",
   "execution_count": null,
   "metadata": {},
   "outputs": [],
   "source": [
    "datasets = [file_mpg, file_housing, file_diabetes, file_gapminder, file_voting, file_wwine, file_rwine]\n",
    "data_paths = list()\n",
    "\n",
    "for data in datasets:\n",
    "    file_name = data.split('/')[-1].replace('?raw=true', '')\n",
    "    data_path = data_dir / file_name\n",
    "    create_dir_save_file(data_path, data)\n",
    "    data_paths.append(data_path)"
   ]
  },
  {
   "cell_type": "markdown",
   "metadata": {},
   "source": [
    "#### DataFrames"
   ]
  },
  {
   "cell_type": "code",
   "execution_count": null,
   "metadata": {},
   "outputs": [],
   "source": []
  },
  {
   "cell_type": "markdown",
   "metadata": {},
   "source": [
    "# Classification\n",
    "\n",
    "In this chapter, you will be introduced to classification problems and learn how to solve them using supervised learning techniques. And you'll apply what you learn to a political dataset, where you classify the party affiliation of United States congressmen based on their voting records."
   ]
  },
  {
   "cell_type": "markdown",
   "metadata": {},
   "source": [
    "## Supervised learning\n",
    "\n",
    "**What is machine learning?**\n",
    "- The art and science of giving computers the ability to learn to make decisions from data without being explicitly programmed.\n",
    "- Examples:\n",
    "  - Your computer can learn to predict whether an email is spam or not spam, given its content and sender.\n",
    "  - Your computer can learn to cluster, say, Wikipedia entries, into different categories based on the words they contain.\n",
    "    - It could then assign any new Wikipedia article to one of the existing clusters.\n",
    "- Note that, in the first example, we are trying to predict a particular class label, the is, spam or not spam.\n",
    "- In the second example, there is not such label.\n",
    "- When there are labels present, we call it supervised learning.\n",
    "- Where there are not labels present, we call it unsupervised learning.\n",
    "\n",
    "**Unsupervised learning**\n",
    "- In essence, is the machine learning task of uncovering hidden patterns and structures from unlabeled data.\n",
    "- Example:\n",
    "  - A business may wish to group its customers into distinct categories (Clustering) based on their purchasing behavior without knowing in advance what these categories might be.\n",
    "    - This is known as clustering, one branch of unsupervised learning.\n",
    "\n",
    "**Reinforcement learning**\n",
    "- Machines or software agents interact with an environment.\n",
    "  - Reinforcement learning agents are able to automatically figure out how to optimize their behavior given a system of rewards and punishments.\n",
    "- Reinforcement learning draws inspiration from behavioral psychology and has applications in many fields, such as, economics, genetics, as well as game playing.\n",
    "- In 2016, reinforcement learning was used to train Google DeepMind's AlphaGo, which was the first computer program to beat the world champion in Go.\n",
    "\n",
    "**Supervised learning**\n",
    "- In supervised learning, we have several data points or samples, described using predictor variables or features and a target variable.\n",
    "- Out data is commonly represented in a tables structure such as the one below, in which there is a row for data point and a column for each feature.\n",
    "```python\n",
    "|    |                        Predictor Variables                      | Target    |\n",
    "|    |   sepal_length |   sepal_width |   petal_length |   petal_width | species   |\n",
    "|---:|---------------:|--------------:|---------------:|--------------:|:----------|\n",
    "|  0 |            5.1 |           3.5 |            1.4 |           0.2 | setosa    |\n",
    "|  1 |            4.9 |           3   |            1.4 |           0.2 | setosa    |\n",
    "|  2 |            4.7 |           3.2 |            1.3 |           0.2 | setosa    |\n",
    "|  3 |            4.6 |           3.1 |            1.5 |           0.2 | setosa    |\n",
    "|  4 |            5   |           3.6 |            1.4 |           0.2 | setosa    |\n",
    "```\n",
    "- Here, we see the iris dataset: each row represents measurements of a different flower and each column is a particular kind of measurement, like the width and length of a certain part of the flower.\n",
    "- The aim of supervised learning is to build a model that is able to predict the target variable, here, the particular species of a flower, given the predictor variables, the physical measurements.\n",
    "- _If the target variable consists of categories_, like `'click'` or `'no click'`, `'spam'` or `'not spam'`, or different species of flowers, we call the learning task, **classification**.\n",
    "- Alternatively, _if the target is a continuously varying variable_, the price of a house, it is a **regression** task.\n",
    "- This chapter will focus on classification, the following, on regression.\n",
    "- The goal of supervised learning is frequently to either automate a time-consuming, or expensive, manual task, such as a doctor's diagnosis, or to make predictions about the future, say whether a customer will click on an add, or not.\n",
    "- For supervised learning, you need labeled data and there are many ways to go get it: you can get historical data, which already has labels that you are interested in; you can perform experiments to get labeled data, such as A/B-testing to see how many clicks you get; or you can also use crowd-sourced labeling data, like reCAPTCHA does for text recognition.\n",
    "- In any case, the goal is to learn from data, for which the right output is known, so that we can make predictions on new data from which we don't know the output.\n",
    "\n",
    "**Supervised learning in python**\n",
    "- There are many ways to perform supervised learning in Python.\n",
    "- In this course, we will use `scikit-learn`, or `sklearn`, one of the most popular and use-friendly machine learning libraries for Python.\n",
    "- It also integrate very well with the `SciPy` stack, including libraries such as `NumPy`.\n",
    "- There are a number of other ML libraries out there, such as `TensorFlow` and `keras`, which are well worth checking out, once you get the basics down.\n",
    "\n",
    "**Naming conventions**\n",
    "- A note on naming conventions: out in the wild, you will find that what we call a feature, others may call a predictor variable, or independent variable, and what we call a target variable, others may call dependent variable, or response variable."
   ]
  },
  {
   "cell_type": "markdown",
   "metadata": {},
   "source": [
    "### Which of these is a classification problem?\n",
    "\n",
    "Once you decide to leverage supervised machine learning to solve a new problem, you need to identify whether your problem is better suited to classification or regression. This exercise will help you develop your intuition for distinguishing between the two.\n",
    "\n",
    "Provided below are 4 example applications of machine learning. Which of them is a supervised classification problem?\n",
    "\n",
    "**Answer the question**\n",
    "\n",
    "- **Using labeled financial data to predict whether the value of a stock will go up or go down next week.**\n",
    "  - Exactly! In this example, there are two discrete, qualitative outcomes: the stock market going up, and the stock market going down. This can be represented using a binary variable, and is an application perfectly suited for classification.\n",
    "- ~~Using labeled housing price data to predict the price of a new house based on various features.~~\n",
    "  - Incorrect. The price of a house is a quantitative variable. This is not a classification problem.\n",
    "- ~~Using unlabeled data to cluster the students of an online education company into different categories based on their learning styles.~~\n",
    "  - Incorrect. When using unlabeled data, we enter the territory of unsupervised learning.\n",
    "- ~~Using labeled financial data to predict what the value of a stock will be next week.~~\n",
    "  - Incorrect. The value of a stock is a quantitative value. This is not a classification problem."
   ]
  },
  {
   "cell_type": "markdown",
   "metadata": {},
   "source": [
    "## Exploratory data analysis\n",
    "\n",
    "- Samples are in rows\n",
    "- Features are in columns"
   ]
  },
  {
   "cell_type": "code",
   "execution_count": null,
   "metadata": {},
   "outputs": [],
   "source": [
    "iris = load_iris()\n",
    "print(f'Type: {type(iris)}')\n",
    "print(f'Keys: {iris.keys()}')\n",
    "print(f'Data Type: {type(iris.data)}\\nTarget Type: {type(iris.target)}')\n",
    "print(f'Data Shape: {iris.data.shape}')\n",
    "print(f'Target Names: {iris.target_names}')\n",
    "\n",
    "X = iris.data\n",
    "y = iris.target\n",
    "df = pd.DataFrame(X, columns=iris.feature_names)\n",
    "df['label'] = y\n",
    "species_map = dict(zip(range(3), iris.target_names))\n",
    "df['species'] = df.label.map(species_map)\n",
    "df = df.reindex(['sepal length (cm)', 'sepal width (cm)', 'petal length (cm)', 'petal width (cm)', 'species', 'label'], axis=1)\n",
    "display(df.head())\n",
    "\n",
    "# pd.plotting.scatter_matrix(df, c=y, figsize=(12, 10))\n",
    "sns.pairplot(df.iloc[:, :5], hue='species', corner=True)\n",
    "plt.show()"
   ]
  },
  {
   "cell_type": "markdown",
   "metadata": {},
   "source": [
    "### Numerical EDA\n",
    "\n",
    "In this chapter, you'll be working with a dataset obtained from the [UCI Machine Learning Repository][1] consisting of votes made by US House of Representatives Congressmen. Your goal will be to predict their party affiliation ('Democrat' or 'Republican') based on how they voted on certain key issues. Here, it's worth noting that we have preprocessed this dataset to deal with missing values. This is so that your focus can be directed towards understanding how to train and evaluate supervised learning models. Once you have mastered these fundamentals, you will be introduced to preprocessing techniques in Chapter 4 and have the chance to apply them there yourself - including on this very same dataset!\n",
    "\n",
    "Before thinking about what supervised learning models you can apply to this, however, you need to perform Exploratory data analysis (EDA) in order to understand the structure of the data. For a refresher on the importance of EDA, check out the first two chapters of [Statistical Thinking in Python (Part 1)][2].\n",
    "\n",
    "Get started with your EDA now by exploring this voting records dataset numerically. It has been pre-loaded for you into a DataFrame called `df`. Use pandas' `.head()`, `.info()`, and `.describe()` methods in the IPython Shell to explore the DataFrame, and select the statement below that is **not** true.\n",
    "\n",
    "  [1]: https://archive.ics.uci.edu/ml/datasets/Congressional+Voting+Records\n",
    "  [2]: https://trenton3983.github.io/certificates/2019-11-21_DataCamp_statistical_thinking_in_python_I.pdf"
   ]
  },
  {
   "cell_type": "code",
   "execution_count": null,
   "metadata": {},
   "outputs": [],
   "source": [
    "cols = ['party', 'infants', 'water', 'budget', 'physician', 'salvador', 'religious', 'satellite', 'aid',\n",
    "        'missile', 'immigration', 'synfuels', 'education', 'superfund', 'crime', 'duty_free_exports', 'eaa_rsa']\n",
    "votes = pd.read_csv(data_paths[4], header=None, names=cols)\n",
    "votes.iloc[:, 1:] = votes.iloc[:, 1:].apply(lambda col: col.map({'?': None, 'n': 0, 'y': 1}))\n",
    "votes.head()"
   ]
  },
  {
   "cell_type": "markdown",
   "metadata": {},
   "source": [
    "**Possible Answers**\n",
    "\n",
    "- The DataFrame has a total of `435` rows and `17` columns.\n",
    "- Except for `'party'`, all of the columns are of type `int64`.\n",
    "- The first two rows of the DataFrame consist of votes made by Republicans and the next three rows consist of votes made by Democrats.\n",
    "- ~~There are 17 predictor variables, or features, in this DataFrame.~~\n",
    "  - The number of columns in the DataFrame is not equal to the number of features. One of the columns - `'party'` is the target variable.\n",
    "- The target variable in this DataFrame is `'party'`."
   ]
  },
  {
   "cell_type": "markdown",
   "metadata": {},
   "source": [
    "### Visual EDA\n",
    "\n",
    "The Numerical EDA you did in the previous exercise gave you some very important information, such as the names and data types of the columns, and the dimensions of the DataFrame. Following this with some visual EDA will give you an even better understanding of the data. In the video, Hugo used the `scatter_matrix()` function on the Iris data for this purpose. However, you may have noticed in the previous exercise that all the features in this dataset are binary; that is, they are either 0 or 1. So a different type of plot would be more useful here, such as [seaborn.countplot][1].\n",
    "\n",
    "Given on the right is a `countplot` of the `'education'` bill, generated from the following code:\n",
    "\n",
    "```python\n",
    "plt.figure()\n",
    "sns.countplot(x='education', hue='party', data=df, palette='RdBu')\n",
    "plt.xticks([0,1], ['No', 'Yes'])\n",
    "plt.show()\n",
    "```\n",
    "\n",
    "In `sns.countplot()`, we specify the x-axis data to be `'education'`, and hue to be `'party'`. Recall that `'party'` is also our target variable. So the resulting plot shows the difference in voting behavior between the two parties for the `'education'` bill, with each party colored differently. We manually specified the color to be `'RdBu'`, as the Republican party has been traditionally associated with red, and the Democratic party with blue.\n",
    "\n",
    "It seems like Democrats voted resoundingly against this bill, compared to Republicans. This is the kind of information that our machine learning model will seek to learn when we try to predict party affiliation solely based on voting behavior. An expert in U.S politics may be able to predict this without machine learning, but probably not instantaneously - and certainly not if we are dealing with hundreds of samples!\n",
    "\n",
    "In the IPython Shell, explore the voting behavior further by generating countplots for the `'satellite'` and `'missile'` bills, and answer the following question: Of these two bills, for which ones do Democrats vote resoundingly in favor of, compared to Republicans? Be sure to begin your plotting statements for each figure with `plt.figure()` so that a new figure will be set up. Otherwise, your plots will be overlayed onto the same figure.\n",
    "\n",
    "\n",
    "  [1]: http://seaborn.pydata.org/generated/seaborn.countplot.html"
   ]
  },
  {
   "cell_type": "code",
   "execution_count": null,
   "metadata": {},
   "outputs": [],
   "source": [
    "# in order to use catplot, the dataframe needs to be in a tidy format\n",
    "vl = votes.set_index('party').stack().reset_index().rename(columns={'level_1': 'cat', 0: 'vote'})\n",
    "\n",
    "g = sns.catplot(data=vl, x='vote', col='cat', col_wrap=6, hue='party', kind='count', height=3, palette='RdBu')"
   ]
  },
  {
   "cell_type": "markdown",
   "metadata": {},
   "source": [
    "**Possible Answers**\n",
    "\n",
    "- ~~`'satellite'`.~~\n",
    "- ~~`'missile'`.~~\n",
    "- **Both `'satellite'` and `'missile'`.**\n",
    "- ~~Neither `'satellite'` nor `'missile'`.~~"
   ]
  },
  {
   "cell_type": "markdown",
   "metadata": {},
   "source": [
    "## The classification challenge\n",
    "\n",
    "- We have a set of labeled data and we want to build a classifier that takes unlabeled data as input and output a label.\n",
    "- How do we construct this classifier?\n",
    "- We first need to choose a type of classifier, and it needs to learn from the already labeled data.\n",
    "- For this reason, we call the already labeled data, the training data.\n",
    "\n",
    "**k-Nearest Neighbors (KNN)**\n",
    "- We'll choose a simple algorithm call K-nearest neighbors.\n",
    "- the basic idea of KNN, is to predict the label of any data point by looking at the K, for example, 3, closest labeled data points, and getting them to vote on what label the unlabeled point should have.\n",
    "- ![knn][knn]\n",
    "  - In this image, there's an example of KNN in two dimensions: how do you classify the data point in the middle?\n",
    "- ![knn3][knn3]\n",
    "  - If `k=3`, you would classify it as red\n",
    "- ![knn5][knn5]\n",
    "  - If `k=5`, you would classify it as green\n",
    "\n",
    "**KNN: Intuition**\n",
    "- To get a bit of intuition for KNN, let's check out a scatter plot of two dimensions of the iris dataset, petal length and petal width.\n",
    "- ![iris_petal][iris_petal]\n",
    "- The following holds for higher dimensions, however, we'll show thae 2D case for illustrative purposes.\n",
    "- What the KNN algorithm essentially does, is create a set of decision boundaries and we visualized the 2D case here.\n",
    "- ![ip_db][iris_petal_db]\n",
    "- Any new data point will have a species prediction based on the boundary.\n",
    "\n",
    "**`scikit-learn` `fit` and `predict`**\n",
    "- All machine learning models in `scikit-learn` are implemented as python classes\n",
    "- These classes serve two purposes:\n",
    "  - They implement the algorithms for learning a model, and predicting\n",
    "  - Storing all the information that is learned from the data.\n",
    "- Training a model on the data is also called fitting the model to the data.\n",
    "  - In `scikit-learn` we use the `.fit()` method to do this.\n",
    "  - The `.predict()` is used to predict the label of an unlabeled data point.\n",
    "\n",
    "\n",
    "  [knn]: https://raw.githubusercontent.com/trenton3983/DataCamp/master/Images/2020-10-14_supervised_learning_sklearn/knn.JPG\n",
    "  [knn3]: https://raw.githubusercontent.com/trenton3983/DataCamp/master/Images/2020-10-14_supervised_learning_sklearn/knn3.JPG\n",
    "  [knn5]: https://raw.githubusercontent.com/trenton3983/DataCamp/master/Images/2020-10-14_supervised_learning_sklearn/knn5.JPG\n",
    "  [iris_petal]: https://raw.githubusercontent.com/trenton3983/DataCamp/master/Images/2020-10-14_supervised_learning_sklearn/iris_petal.JPG\n",
    "  [iris_petal_db]: https://raw.githubusercontent.com/trenton3983/DataCamp/master/Images/2020-10-14_supervised_learning_sklearn/iris_petal_db.JPG"
   ]
  },
  {
   "cell_type": "markdown",
   "metadata": {},
   "source": [
    "#### Code to create boundary plot in the previous block\n",
    "\n",
    "- See [How to extract only the boundary values from k-nearest neighbors predict][1] to see a method to extract the boundary values.\n",
    "\n",
    "\n",
    "  [1]: https://stackoverflow.com/questions/64398946"
   ]
  },
  {
   "cell_type": "code",
   "execution_count": null,
   "metadata": {},
   "outputs": [],
   "source": [
    "# instantiate model\n",
    "knn = KNeighborsClassifier(n_neighbors=6)\n",
    "\n",
    "# predict for 'petal length (cm)' and 'petal width (cm)'\n",
    "knn.fit(df.iloc[:, 2:4], df.label)\n",
    "\n",
    "h = .02  # step size in the mesh\n",
    "\n",
    "# create colormap for the contour plot\n",
    "cmap_light = ListedColormap(list(sns.color_palette('pastel', n_colors=3)))\n",
    "\n",
    "# Plot the decision boundary.\n",
    "# For that, we will assign a color to each point in the mesh [x_min, x_max]x[y_min, y_max].\n",
    "x_min, x_max = df['petal length (cm)'].min() - 1, df['petal length (cm)'].max() + 1\n",
    "y_min, y_max = df['petal width (cm)'].min() - 1, df['petal width (cm)'].max() + 1\n",
    "xx, yy = np.meshgrid(np.arange(x_min, x_max, h), np.arange(y_min, y_max, h))\n",
    "Z = knn.predict(np.c_[xx.ravel(), yy.ravel()]).reshape(xx.shape)\n",
    "\n",
    "# create plot\n",
    "fig, ax = plt.subplots()\n",
    "\n",
    "# add data points\n",
    "sns.scatterplot(data=df, x='petal length (cm)', y='petal width (cm)', hue='species', ax=ax, edgecolor='k')\n",
    "\n",
    "# add decision boundary countour map\n",
    "ax.contourf(xx, yy, Z, cmap=cmap_light, alpha=0.4)\n",
    "\n",
    "# legend\n",
    "lgd = plt.legend(bbox_to_anchor=(1.05, 1), loc='upper left')\n",
    "# plt.show()\n",
    "plt.close()"
   ]
  },
  {
   "cell_type": "markdown",
   "metadata": {},
   "source": [
    "#### Using `scikit-learn` to fit a classifier\n",
    "\n",
    "- `from sklearn.neighbors import KNeighborsClassifier`\n",
    "- The API requires data as a `pandas.DataFrame` or as a `numpy.array`\n",
    "- The API features must take on continuous values, such as the price of a house, as opposed to categories, such as `'male'` or `'female'`.\n",
    "- There should be no missing values in the data.\n",
    "- All dataset we'll work with, satisfy these properties.\n",
    "- Dealing with categorical features and missing data will be discussed later in the course.\n",
    "- The API requires that the features are in an array, where each column is a feature, and each row, a different observation or data point.\n",
    "- There must be a label for each observation.\n",
    "- Check out what's returned when the classifier is fit\n",
    "  - It returns the classifier itself, and modifies it, to fit it to the data.\n",
    "- Now that the classifier is fit, use it to predict on some unlabeled data."
   ]
  },
  {
   "cell_type": "code",
   "execution_count": null,
   "metadata": {},
   "outputs": [],
   "source": [
    "# new data\n",
    "X_new = np.array([[5.6, 2.8, 3.9, 1.1], [5.7, 2.6, 3.8, 1.3], [4.7, 3.2, 1.3, 0.2]])\n",
    "\n",
    "fig, ax = plt.subplots()\n",
    "sns.scatterplot(data=df, x='petal length (cm)', y='petal width (cm)', hue='species', ax=ax, edgecolor='k')\n",
    "sns.scatterplot(x=X_new[:, 2], y=X_new[:, 3], ax=ax, color='magenta', label='uncategorized', s=70)\n",
    "plt.show()"
   ]
  },
  {
   "cell_type": "code",
   "execution_count": null,
   "metadata": {},
   "outputs": [],
   "source": [
    "# instantiate the model, and set the number of neighbors\n",
    "knn = KNeighborsClassifier(n_neighbors=6)\n",
    "\n",
    "# fit the model to the training set, the labeled data\n",
    "knn.fit(df.iloc[:, :4], df.label)\n",
    "\n",
    "# predit the label of the new data\n",
    "pred = knn.predict(X_new)\n",
    "spcies_pred = list(map(species_map.get, pred))\n",
    "print(f'Predicted Label: {pred}\\nSpecies: {spcies_pred}')"
   ]
  },
  {
   "cell_type": "markdown",
   "metadata": {},
   "source": [
    "### k-Nearest Neighbors: Fit\n",
    "\n",
    "Having explored the Congressional voting records dataset, it is time now to build your first classifier. In this exercise, you will fit a k-Nearest Neighbors classifier to the voting dataset, which has once again been pre-loaded for you into a DataFrame `df`.\n",
    "\n",
    "In the video, Hugo discussed the importance of ensuring your data adheres to the format required by the scikit-learn API. The features need to be in an array where each column is a feature and each row a different observation or data point - in this case, a Congressman's voting record. The target needs to be a single column with the same number of observations as the feature data. We have done this for you in this exercise. Notice we named the feature array `X` and response variable `y`: This is in accordance with the common scikit-learn practice.\n",
    "\n",
    "Your job is to create an instance of a k-NN classifier with 6 neighbors (by specifying the `n_neighbors` parameter) and then fit it to the data. The data has been pre-loaded into a DataFrame called `df`.\n",
    "\n",
    "**Instructions**\n",
    "\n",
    "- Import `KNeighborsClassifier` from `sklearn.neighbors`.\n",
    "- Create arrays `X` and `y` for the features and the target variable. Here this has been done for you. Note the use of `.drop()` to drop the target variable `'party'` from the feature array `X` as well as the use of the `.values` attribute to ensure `X` and `y` are NumPy arrays. Without using `.values`, `X` and `y` are a DataFrame and Series respectively; the scikit-learn API will accept them in this form also as long as they are of the right shape.\n",
    "- Instantiate a `KNeighborsClassifier` called `knn` with `6` neighbors by specifying the `n_neighbors` parameter.\n",
    "- Fit the classifier to the data using the `.fit()` method."
   ]
  },
  {
   "cell_type": "code",
   "execution_count": null,
   "metadata": {},
   "outputs": [],
   "source": [
    "v_na = votes.dropna().reset_index(drop=True)\n",
    "v_na.head()"
   ]
  },
  {
   "cell_type": "code",
   "execution_count": null,
   "metadata": {},
   "outputs": [],
   "source": [
    "# Create a k-NN classifier with 6 neighbors\n",
    "knn = KNeighborsClassifier(n_neighbors=6)\n",
    "\n",
    "# Fit the classifier to the data\n",
    "knn.fit(v_na.iloc[:, 1:], v_na.party)"
   ]
  },
  {
   "cell_type": "markdown",
   "metadata": {},
   "source": [
    "**Now that your k-NN classifier with 6 neighbors has been fit to the data, it can be used to predict the labels of new data points.**"
   ]
  },
  {
   "cell_type": "markdown",
   "metadata": {},
   "source": [
    "### k-Nearest Neighbors: Predict\n",
    "\n",
    "Having fit a k-NN classifier, you can now use it to predict the label of a new data point. However, there is no unlabeled data available since all of it was used to fit the model! You can still use the `.predict()` method on the `X` that was used to fit the model, but it is not a good indicator of the model's ability to generalize to new, unseen data.\n",
    "\n",
    "In the next video, Hugo will discuss a solution to this problem. For now, a random unlabeled data point has been generated and is available to you as `X_new`. You will use your classifier to predict the label for this new data point, as well as on the training data `X` that the model has already seen. Using `.predict()` on `X_new` will generate 1 prediction, while using it on `X` will generate 435 predictions: 1 for each sample.\n",
    "\n",
    "The DataFrame has been pre-loaded as `df`. This time, you will create the feature array `X` and target variable array `y` yourself.\n",
    "\n",
    "**Instructions**\n",
    "\n",
    "- Create arrays for the features and the target variable from `df`. As a reminder, the target variable is `'party'`.\n",
    "- Instantiate a `KNeighborsClassifier` with `6` neighbors.\n",
    "- Fit the classifier to the data.\n",
    "- Predict the labels of the training data, `X`.\n",
    "- Predict the label of the new data point `X_new`."
   ]
  },
  {
   "cell_type": "code",
   "execution_count": null,
   "metadata": {},
   "outputs": [],
   "source": [
    "X_new = np.array([[0.69646919, 0.28613933, 0.22685145, 0.55131477, 0.71946897, 0.42310646, 0.9807642 , 0.68482974,\n",
    "                   0.4809319 , 0.39211752, 0.34317802, 0.72904971, 0.43857224, 0.0596779 , 0.39804426, 0.73799541]])"
   ]
  },
  {
   "cell_type": "code",
   "execution_count": null,
   "metadata": {},
   "outputs": [],
   "source": [
    "# Create arrays for the features and the response variable\n",
    "y = v_na.party\n",
    "X = v_na.iloc[:, 1:]\n",
    "\n",
    "# Create a k-NN classifier with 6 neighbors: knn\n",
    "knn = KNeighborsClassifier(n_neighbors=6)\n",
    "\n",
    "# Fit the classifier to the data\n",
    "knn.fit(X, y)\n",
    "\n",
    "# Predict the labels for the training data X\n",
    "y_pred = knn.predict(X)\n",
    "\n",
    "# Predict and print the label for the new data point X_new\n",
    "new_prediction = knn.predict(X_new)\n",
    "print(f'Prediction: {new_prediction}')"
   ]
  },
  {
   "cell_type": "markdown",
   "metadata": {},
   "source": [
    "**Did your model predict 'democrat' or 'republican'? How sure can you be of its predictions? In other words, how can you measure its performance? This is what you will learn in the next video.**"
   ]
  },
  {
   "cell_type": "markdown",
   "metadata": {},
   "source": [
    "## Measuring model performance\n",
    "\n",
    "- Now that we know how to fit a classifier and use it to predict the labels of previously unseen data, we need to figure out how to measure its performance. We need a metric.\n",
    "- In classification problems, accuracy is a commonly-used metric.\n",
    "- The accuracy of a classifier is defined as the number of correct predictions divided by the total number of data points.\n",
    "- This begs the question though: which data do we use to compute accuracy?\n",
    "- What we're really interested in is how well out model will perform on new data; samples that the algorithm has never seen before.\n",
    "- You could compute the accuracy on the data you used to fit the classifier.\n",
    "- However, as this data was used to train it, the classifier's performance will not be indicative of how well it can generalize to unseen data.\n",
    "- For this reason, it is common practice to split the data into two sets, a training and test set.\n",
    "- The classifier is trained or fit on the training set.\n",
    "- Then predictions are made on the labeled test set, and compared with the known labels.\n",
    "- The accuracy of the predictions is then computed.\n",
    "\n",
    "**Train Test Split**\n",
    "- [`sklearn.model_selection.train_test_split`][1]\n",
    "  - `random_state` sets a seed for the random number generator that splits the data into train and test, which allows for reproducing the exact split of the data.\n",
    "  - returns four arrays: train data, test data, training labels and test labels.\n",
    "  - the default split is %75/%25, which is a good rule of thumb, and is specified by `test_size`.\n",
    "  - it is also best practice to perform the split so that the split reflects the labels on the data.\n",
    "    - That is, you want the labels to be distributed in train and test sets as they are in the original dataset, as is achieved by setting `stratify=y`, where `y` is the array or dataframe of labels.\n",
    "  - See below that the accuracy of the model is approximately %96, which is pretty good for an out-of-the-box model.\n",
    "  \n",
    "**Model complexity and over / underfitting**\n",
    "- Recall that we recently discussed the concept of a decision boundary.\n",
    "  - ![neighbors][2]\n",
    "  - We visualized a decision boundary for several, increasing values of `K` in a KNN model.\n",
    "  - As `K` increases, the decision boundary get smoother and less curvy.\n",
    "  - Therefore, we consider it to be a less complex model than those with a lower `K`.\n",
    "  - Generally, complex models run the risk of being sensitive to noise in the specific data that you have, rather than reflecting general trends in the data.\n",
    "    - This is known as overfitting.\n",
    "  - If you increase `K` even more, and make the model even simpler, then the model will perform less well on both test and training sets, as indicated in the following schematic figure, known as a model complexity curve.\n",
    "  - ![neighbors][3]\n",
    "    - We can see there is a sweet spot in the middle that gives us the best performance on the test set\n",
    "\n",
    "\n",
    "  [1]: https://scikit-learn.org/stable/modules/generated/sklearn.model_selection.train_test_split.html\n",
    "  [2]: https://raw.githubusercontent.com/trenton3983/DataCamp/master/Images/2020-10-14_supervised_learning_sklearn/neighbors.JPG\n",
    "  [3]: https://raw.githubusercontent.com/trenton3983/DataCamp/master/Images/2020-10-14_supervised_learning_sklearn/neighbors2.JPG"
   ]
  },
  {
   "cell_type": "code",
   "execution_count": null,
   "metadata": {},
   "outputs": [],
   "source": [
    "df.head()"
   ]
  },
  {
   "cell_type": "code",
   "execution_count": null,
   "metadata": {},
   "outputs": [],
   "source": [
    "# from sklearn.model_selection import train_test_split\n",
    "\n",
    "# split the data\n",
    "X_train, X_test, y_train, y_test = train_test_split(df.iloc[:, :4], df.species, test_size=0.3, random_state=21, stratify=df.species)\n",
    "\n",
    "# instantiate the classifier\n",
    "knn = KNeighborsClassifier(n_neighbors=8)\n",
    "\n",
    "# fit it to the training data\n",
    "knn.fit(X_train, y_train)\n",
    "\n",
    "# make predictions on the test data\n",
    "y_pred = knn.predict(X_test)\n",
    "\n",
    "# check the accuracy using the score method of the model\n",
    "score = knn.score(X_test, y_test)\n",
    "\n",
    "# print the predictions and score\n",
    "print(f'Test set score: {score:0.3f}\\nTest set predictions:\\n{y_pred}')"
   ]
  },
  {
   "cell_type": "markdown",
   "metadata": {},
   "source": [
    "### The digits recognition dataset\n",
    "Up until now, you have been performing binary classification, since the target variable had two possible outcomes. Hugo, however, got to perform multi-class classification in the videos, where the target variable could take on three possible outcomes. Why does he get to have all the fun?! In the following exercises, you'll be working with the MNIST digits recognition dataset, which has 10 classes, the digits 0 through 9! A reduced version of the [MNIST][1] dataset is one of scikit-learn's included datasets, and that is the one we will use in this exercise.\n",
    "\n",
    "Each sample in this scikit-learn dataset is an 8x8 image representing a handwritten digit. Each pixel is represented by an integer in the range 0 to 16, indicating varying levels of black. Recall that scikit-learn's built-in datasets are of type `Bunch`, which are dictionary-like objects. Helpfully for the MNIST dataset, scikit-learn provides an `'images'` key in addition to the `'data'` and `'target'` keys that you have seen with the Iris data. Because it is a 2D array of the images corresponding to each sample, this `'images'` key is useful for visualizing the images, as you'll see in this exercise (for more on plotting 2D arrays, see [Chapter 2 of DataCamp's course on Data Visualization with Python)][2]. On the other hand, the `'data'` key contains the feature array - that is, the images as a flattened array of 64 pixels.\n",
    "\n",
    "Notice that you can access the keys of these `Bunch` objects in two different ways: By using the `.` notation, as in `digits.images`, or the `[]` notation, as in `digits['images']`.\n",
    "\n",
    "For more on the MNIST data, check out this [exercise][3] in Part 1 of DataCamp's Importing Data in Python course. There, the full version of the MNIST dataset is used, in which the images are 28x28. It is a famous dataset in machine learning and computer vision, and frequently used as a benchmark to evaluate the performance of a new model.\n",
    "\n",
    "**Instructions**\n",
    "\n",
    "- Import `datasets` from `sklearn` and `matplotlib.pyplot` as `plt`.\n",
    "- Load the digits dataset using the `.load_digits()` method on `datasets`.\n",
    "- Print the keys and `DESCR` of digits.\n",
    "- Print the shape of `images` and `data` keys using the `.` notation.\n",
    "- Display the 1011th image using `plt.imshow()`. This has been done for you, so hit 'Submit Answer' to see which handwritten digit this happens to be!\n",
    "\n",
    "\n",
    "  [1]: http://yann.lecun.com/exdb/mnist/\n",
    "  [2]: https://trenton3983.github.io/files/projects/2020-03-05_intro_to_data_visualization_in_python/2020-03-05_intro_to_data_visualization_in_python.html\n",
    "  [3]: https://campus.datacamp.com/courses/introduction-to-importing-data-in-python/introduction-and-flat-files-1?ex=10"
   ]
  },
  {
   "cell_type": "code",
   "execution_count": null,
   "metadata": {},
   "outputs": [],
   "source": [
    "# Load the digits dataset: digits\n",
    "digits = load_digits()\n",
    "\n",
    "# Print the keys and DESCR of the dataset\n",
    "print(digits.keys())\n",
    "print(digits.DESCR)\n",
    "\n",
    "# Print the shape of the images and data keys\n",
    "print(digits.images.shape)\n",
    "print(digits.data.shape)\n",
    "\n",
    "# Display digit 1010\n",
    "plt.imshow(digits.images[1010], cmap=plt.cm.gray_r, interpolation='nearest')\n",
    "plt.show()"
   ]
  },
  {
   "cell_type": "markdown",
   "metadata": {},
   "source": [
    "**It looks like the image in question corresponds to the digit '5'. Now, can you build a classifier that can make this prediction not only for this image, but for all the other ones in the dataset? You'll do so in the next exercise!**"
   ]
  },
  {
   "cell_type": "markdown",
   "metadata": {},
   "source": [
    "### Train/Test Split + Fit/Predict/Accuracy\n",
    "\n",
    "Now that you have learned about the importance of splitting your data into training and test sets, it's time to practice doing this on the digits dataset! After creating arrays for the features and target variable, you will split them into training and test sets, fit a k-NN classifier to the training data, and then compute its accuracy using the `.score()` method.\n",
    "\n",
    "**Instructions**\n",
    "\n",
    "- Import `KNeighborsClassifier` from `sklearn.neighbors` and `train_test_split` from `sklearn.model_selection`.\n",
    "- Create an array for the features using `digits.data` and an array for the target using `digits.target`.\n",
    "- Create stratified training and test sets using `0.2` for the size of the test set. Use a random state of `42`. Stratify the split according to the labels so that they are distributed in the training and test sets as they are in the original dataset.\n",
    "- Create a k-NN classifier with `7` neighbors and fit it to the training data.\n",
    "- Compute and print the accuracy of the classifier's predictions using the `.score()` method."
   ]
  },
  {
   "cell_type": "code",
   "execution_count": null,
   "metadata": {},
   "outputs": [],
   "source": [
    "# Create feature and target arrays\n",
    "X = digits.data\n",
    "y = digits.target\n",
    "\n",
    "# Split into training and test set\n",
    "X_train, X_test, y_train, y_test = train_test_split(X, y, test_size=0.2, random_state=42, stratify=y)\n",
    "\n",
    "# Create a k-NN classifier with 7 neighbors: knn\n",
    "knn = KNeighborsClassifier(n_neighbors=7)\n",
    "\n",
    "# Fit the classifier to the training data\n",
    "knn.fit(X_train, y_train)\n",
    "\n",
    "# predict\n",
    "pred = knn.predict(X_test)\n",
    "\n",
    "result = list(zip(pred, y_test))\n",
    "not_correct = [v for v in result if v[0] != v[1]]\n",
    "num_correct = len(result) - len(not_correct)\n",
    "\n",
    "# Print the accuracy\n",
    "score = knn.score(X_test, y_test)\n",
    "\n",
    "print(f'Incorrect Result: {not_correct}\\nNumber Correct: {num_correct}\\nScore: {score:0.2f}')"
   ]
  },
  {
   "cell_type": "markdown",
   "metadata": {},
   "source": [
    "**Incredibly, this out of the box k-NN classifier with 7 neighbors has learned from the training data and predicted the labels of the images in the test set with 98% accuracy, and it did so in less than a second! This is one illustration of how incredibly useful machine learning techniques can be.**"
   ]
  },
  {
   "cell_type": "markdown",
   "metadata": {},
   "source": [
    "### Overfitting and underfitting\n",
    "\n",
    "Remember the model complexity curve that Hugo showed in the video? You will now construct such a curve for the digits dataset! In this exercise, you will compute and plot the training and testing accuracy scores for a variety of different neighbor values. By observing how the accuracy scores differ for the training and testing sets with different values of k, you will develop your intuition for overfitting and underfitting.\n",
    "\n",
    "The training and testing sets are available to you in the workspace as `X_train`, `X_test`, `y_train`, `y_test`. In addition, `KNeighborsClassifier` has been imported from `sklearn.neighbors`.\n",
    "\n",
    "**Instructions**\n",
    "\n",
    "- Inside the for loop:\n",
    "  - Setup a k-NN classifier with the number of neighbors equal to `k`.\n",
    "  - Fit the classifier with `k` neighbors to the training data.\n",
    "  - Compute accuracy scores the training set and test set separately using the `.score()` method and assign the results to the `train_accuracy` and `test_accuracy` arrays respectively."
   ]
  },
  {
   "cell_type": "code",
   "execution_count": null,
   "metadata": {},
   "outputs": [],
   "source": [
    "# Setup arrays to store train and test accuracies\n",
    "neighbors = np.arange(1, 9)\n",
    "train_accuracy = np.empty(len(neighbors))\n",
    "test_accuracy = np.empty(len(neighbors))\n",
    "\n",
    "# Loop over different values of k\n",
    "for i, k in enumerate(neighbors):\n",
    "    # Setup a k-NN Classifier with k neighbors: knn\n",
    "    knn = knn = KNeighborsClassifier(n_neighbors=k)\n",
    "\n",
    "    # Fit the classifier to the training data\n",
    "    knn.fit(X_train, y_train)\n",
    "    \n",
    "    #Compute accuracy on the training set\n",
    "    train_accuracy[i] = knn.score(X_train, y_train)\n",
    "\n",
    "    #Compute accuracy on the testing set\n",
    "    test_accuracy[i] = knn.score(X_test, y_test)\n",
    "\n",
    "# Generate plot\n",
    "plt.title('KNN: Varying Number of Neighbors')\n",
    "plt.plot(neighbors, test_accuracy, label = 'Testing Accuracy')\n",
    "plt.plot(neighbors, train_accuracy, label = 'Training Accuracy')\n",
    "plt.legend()\n",
    "plt.xlabel('Number of Neighbors')\n",
    "plt.ylabel('Accuracy')\n",
    "plt.show()"
   ]
  },
  {
   "cell_type": "markdown",
   "metadata": {},
   "source": [
    "**It looks like the test accuracy is highest when using 3 and 5 neighbors. Using 8 neighbors or more seems to result in a simple model that underfits the data. Now that you've grasped the fundamentals of classification, you will learn about regression in the next chapter!**"
   ]
  },
  {
   "cell_type": "markdown",
   "metadata": {},
   "source": [
    "# Regression\n",
    "\n",
    "In the previous chapter, you used image and political datasets to predict binary and multiclass outcomes. But what if your problem requires a continuous outcome? Regression is best suited to solving such problems. You will learn about fundamental concepts in regression and apply them to predict the life expectancy in a given country using Gapminder data."
   ]
  },
  {
   "cell_type": "markdown",
   "metadata": {},
   "source": [
    "## Introduction to regression\n",
    "\n",
    "- In regression tasks, the target value is a continuously varying variable, such as a country's GDP or the price of a house.\n",
    "- The first regression task will be using the Boston housing dataset.\n",
    "- The data can be loaded from a CSV or scikit-learn's built-in datasets.\n",
    "- `'CRIM'` is per capita crime rate\n",
    "- `'NX'` is nitric oxides concentration\n",
    "- `'RM'` is average number of rooms per dwelling\n",
    "- The target variable, `'MEDV'`, is the median value of owner occupied homes in thousands of dollars\n",
    "\n",
    "**Creating feature and target arrays**\n",
    "- Recall that scikit-learn wants `features` and `target` values in distinct arrays, `X` and `y`.\n",
    "- Using the [`.values`][values] attribute returns the `NumPy` arrays.\n",
    "  - `pandas` documentation recommends using [`.to_numpy`][tonumpy]\n",
    "\n",
    "**Predicting house value from a single feature**\n",
    "- As a first task, let's try to predict the price from a single feature: the average number of rooms\n",
    "- The 5th column is the average number of rooms, `'RM'`\n",
    "- To reshape the arrays, use the `.reshape` method to keep the first dimension, but add another dimension of size one to `X`.\n",
    "\n",
    "**Fitting a regression model**\n",
    "- Instantiate [`sklearn.linear_model.LinearRegression`][linreg]\n",
    "- Fit the model by passing in the data and target\n",
    "- Check out the regressors predictions over the range of the data with [`np.linspace`][linsp] between the `max` and `min` value of `X_rooms`.\n",
    "\n",
    "\n",
    "  [values]: https://pandas.pydata.org/pandas-docs/stable/reference/api/pandas.DataFrame.values.html\n",
    "  [tonumpy]: https://pandas.pydata.org/pandas-docs/stable/reference/api/pandas.DataFrame.to_numpy.html#pandas.DataFrame.to_numpy\n",
    "  [linreg]: https://scikit-learn.org/stable/modules/generated/sklearn.linear_model.LinearRegression.html\n",
    "  [linsp]: https://numpy.org/doc/stable/reference/generated/numpy.linspace.html"
   ]
  },
  {
   "cell_type": "code",
   "execution_count": null,
   "metadata": {},
   "outputs": [],
   "source": [
    "boston = pd.read_csv(data_paths[1])\n",
    "display(boston.head())\n",
    "\n",
    "# creating features and target arrays\n",
    "X = boston.drop('MEDV', axis=1).to_numpy()\n",
    "y = boston.MEDV.to_numpy()\n",
    "\n",
    "# predict from a single feature\n",
    "X_rooms = X[:, 5]\n",
    "\n",
    "# check variable type\n",
    "print(f'X_rooms type: {type(X_rooms)}, shape: {X_rooms.shape}\\ny type: {type(y)}, shape: {y.shape}')\n",
    "\n",
    "# reshape\n",
    "X_rooms = X_rooms.reshape(-1, 1)\n",
    "y = y.reshape(-1, 1)\n",
    "print(f'X_rooms shape: {X_rooms.shape}\\ny shape: {y.shape}')\n",
    "\n",
    "# instantiate model\n",
    "reg = LinearRegression()\n",
    "\n",
    "# fit a linear model\n",
    "reg.fit(X_rooms, y)\n",
    "\n",
    "# data range variable\n",
    "pred_space = np.linspace(min(X_rooms), max(X_rooms)).reshape(-1, 1)\n",
    "\n",
    "# plot house value as a function of rooms\n",
    "sns.scatterplot(data=boston, x='RM', y='MEDV', label='Data')\n",
    "plt.plot(pred_space, reg.predict(pred_space), color='k', lw=3, label='Regression')\n",
    "plt.legend(loc='lower right')\n",
    "plt.xlabel('Number of Rooms')\n",
    "plt.ylabel('Value of house /1000 ($)')\n",
    "plt.show()"
   ]
  },
  {
   "cell_type": "markdown",
   "metadata": {},
   "source": [
    "### Which of the following is a regression problem?\n",
    "\n",
    "Andy introduced regression to you using the Boston housing dataset. But regression models can be used in a variety of contexts to solve a variety of different problems.\n",
    "\n",
    "Given below are four example applications of machine learning. Your job is to pick the one that is best framed as a regression problem.\n",
    "\n",
    "**Answer the question**\n",
    "\n",
    "- ~~An e-commerce company using labeled customer data to predict whether or not a customer will purchase a particular item.~~\n",
    "- ~~A healthcare company using data about cancer tumors (such as their geometric measurements) to predict whether a new tumor is benign or malignant.~~\n",
    "- ~~A restaurant using review data to ascribe positive or negative sentiment to a given review.~~\n",
    "- **A bike share company using time and weather data to predict the number of bikes being rented at any given hour.**\n",
    "  - The target variable here - the number of bike rentals at any given hour - is quantitative, so this is best framed as a regression problem."
   ]
  },
  {
   "cell_type": "markdown",
   "metadata": {},
   "source": [
    "### Importing data for supervised learning\n",
    "\n",
    "In this chapter, you will work with [Gapminder][gm] data that we have consolidated into one CSV file available in the workspace as `'gapminder.csv'`. Specifically, your goal will be to use this data to predict the life expectancy in a given country based on features such as the country's GDP, fertility rate, and population. As in Chapter 1, the dataset has been preprocessed.\n",
    "\n",
    "Since the target variable here is quantitative, this is a regression problem. To begin, you will fit a linear regression with just one feature: `'fertility'`, which is the average number of children a woman in a given country gives birth to. In later exercises, you will use all the features to build regression models.\n",
    "\n",
    "Before that, however, you need to import the data and get it into the form needed by scikit-learn. This involves creating feature and target variable arrays. Furthermore, since you are going to use only one feature to begin with, you need to do some reshaping using NumPy's `.reshape()` method. Don't worry too much about this reshaping right now, but it is something you will have to do occasionally when working with scikit-learn so it is useful to practice.\n",
    "\n",
    "**Instructions**\n",
    "\n",
    "- Import `numpy` and `pandas` as their standard aliases.\n",
    "- Read the file `'gapminder.csv'` into a DataFrame `df` using the `read_csv()` function.\n",
    "- Create array `X` for the `'fertility'` feature and array `y` for the `'life'` target variable.\n",
    "- Reshape the arrays by using the `.reshape()` method and passing in `-1` and `1`.\n",
    "\n",
    "\n",
    "  [gm]: https://www.gapminder.org/data/"
   ]
  },
  {
   "cell_type": "code",
   "execution_count": null,
   "metadata": {},
   "outputs": [],
   "source": [
    "# Read the CSV file into a DataFrame: df\n",
    "df = pd.read_csv(data_paths[3])\n",
    "\n",
    "# Create arrays for features and target variable\n",
    "y = df.life.values\n",
    "X = df.fertility.values\n",
    "\n",
    "# Print the dimensions of X and y before reshaping\n",
    "print(\"Dimensions of y before reshaping: {}\".format(y.shape))\n",
    "print(\"Dimensions of X before reshaping: {}\".format(X.shape))\n",
    "\n",
    "# Reshape X and y\n",
    "y = y.reshape(-1, 1)\n",
    "X = X.reshape(-1, 1)\n",
    "\n",
    "# Print the dimensions of X and y after reshaping\n",
    "print(\"Dimensions of y after reshaping: {}\".format(y.shape))\n",
    "print(\"Dimensions of X after reshaping: {}\".format(X.shape))"
   ]
  },
  {
   "cell_type": "markdown",
   "metadata": {},
   "source": [
    "### Exploring the Gapminder data\n",
    "\n",
    "As always, it is important to explore your data before building models. On the right, we have constructed a heatmap showing the correlation between the different features of the Gapminder dataset, which has been pre-loaded into a DataFrame as `df` and is available for exploration in the IPython Shell. Cells that are in green show positive correlation, while cells that are in red show negative correlation. Take a moment to explore this: Which features are positively correlated with `life`, and which ones are negatively correlated? Does this match your intuition?\n",
    "\n",
    "Then, in the IPython Shell, explore the DataFrame using pandas methods such as `.info()`, `.describe()`, `.head()`.\n",
    "\n",
    "In case you are curious, the heatmap was generated using [Seaborn's heatmap function][sbhm] and the following line of code, where `df.corr()` computes the pairwise correlation between columns:\n",
    "\n",
    "`sns.heatmap(df.corr(), square=True, cmap='RdYlGn')`\n",
    "\n",
    "Once you have a feel for the data, consider the statements below and select the one that is not true. After this, Hugo will explain the mechanics of linear regression in the next video and you will be on your way building regression models!\n",
    "\n",
    "**Instructions**\n",
    "\n",
    "- The DataFrame has `139` samples (or rows) and `9` columns.\n",
    "- `life` and `fertility` are negatively correlated.\n",
    "- The mean of `life` is `69.602878`.\n",
    "- ~~`fertility` is of type `int64`.~~\n",
    "- `GDP` and `life` are positively correlated.\n",
    "\n",
    "\n",
    "  [sbhm]: http://seaborn.pydata.org/generated/seaborn.heatmap.html"
   ]
  },
  {
   "cell_type": "code",
   "execution_count": null,
   "metadata": {},
   "outputs": [],
   "source": [
    "sns.heatmap(df.corr(), square=True, cmap='RdYlGn')"
   ]
  },
  {
   "cell_type": "markdown",
   "metadata": {},
   "source": [
    "## The basics of linear regression\n",
    "\n",
    "- How does linear regression work?\n",
    "\n",
    "**Regression mechanics**\n",
    "- We want to ft a line to the data and a line in two dimensions is always of the form $y=a*x+b$, where $y$ is the _target_, $x$ is the single feature, and $a$ and $b$ are the parameters of the model that we want to learn.\n",
    "- The question of fitting is reduced to: how do we choose $a$ and $b$?\n",
    "- A common method is to define an error function for any given line, and then choose the line that minimizes the error function.\n",
    "  - Such an error function is also called a loss or a cost function.\n",
    "  \n",
    "**The loss function**\n",
    "- What will our loss function be?\n",
    "- We want the line to be as close to the actual data points as possible.\n",
    "  - For this reason, we wish to minimize the vertical distance between the fit, and the data.\n",
    "- For each data point, calculate the vertical distance between it and the line.\n",
    "  - This distance is called a residual.\n",
    "- We could try to minimize the sum of the residuals, but then a large positive residual would cancel out a large negative residual.\n",
    "  - For this reason, **we minimize the sum of the squares of the residuals**.\n",
    "  - This will be the loss function, and using this loss function is commonly called _ordinary least squares (OLS)_.\n",
    "  - ![][loss]\n",
    "  - Note this is the same as minimizing the mean squared error of the predictions on the training set.\n",
    "    - See the statistic curriculum for more detail.\n",
    "- When `.fit` is called on a linear regression model in scikit-learn, it performs this OLS, under the hood.\n",
    "\n",
    "**Linear regression in higher dimensions**\n",
    "- When we have two features and one target, a line is in the form $y=a_{1}x_{1}+a_{2}x_{2}+b$, so to fit a linear regression model, is to specify three variables, $a_{1}$, $a_{2}$, and $b$.\n",
    "- In higher dimensions, with more than one or two features, a line is of this form, $y=a_{1}x_{1}+a_{2}x_{2}+a_{3}x_{3}+...+a_{n}x_{n}+b$, so fitting a linear regression model is to specify a coefficient, $a_{i}$, for each features, as well as the variable $b$.\n",
    "- The scikit-learn API works exactly the same in this case: pass two arrays to the `.fit` method, one containing the _features_, the other is the _target_ variable.\n",
    "\n",
    "**Linear regression on all _Boston Housing_ features**\n",
    "- The default scoring method for linear regression is called $R^2$.\n",
    "  - This metric quantifies the amount of variance in the target variable that is predicted from the feature variables.\n",
    "    - See the scikit-learn documentation, and the DataCamp statistics curriculum for more details.\n",
    "  - To compute $R^2$, apply the [.score][score] method to the model, and pass it two arguments, the features and target data.\n",
    "- Generally, linear regression will never be used out of the box, like this; you will mostly likely wish to use _regularization_, which we'll see soon, and which places further constraints on the model coefficients.\n",
    "- Learning about linear regression and how to use it in scikit-learn, is an essential first step toward using regularized linear models.\n",
    "\n",
    "  \n",
    "  [loss]: https://raw.githubusercontent.com/trenton3983/DataCamp/master/Images/2020-10-14_supervised_learning_sklearn/loss.JPG\n",
    "  [score]: https://scikit-learn.org/stable/modules/generated/sklearn.linear_model.LinearRegression.html#sklearn.linear_model.LinearRegression.score"
   ]
  },
  {
   "cell_type": "code",
   "execution_count": null,
   "metadata": {},
   "outputs": [],
   "source": [
    "boston.head()"
   ]
  },
  {
   "cell_type": "code",
   "execution_count": null,
   "metadata": {},
   "outputs": [],
   "source": [
    "# split the data\n",
    "X_train, X_test, y_train, y_test = train_test_split(boston.drop('MEDV', axis=1), boston.MEDV, test_size=0.3, random_state=42)\n",
    "\n",
    "# instantiate the regressor\n",
    "reg_all = LinearRegression()\n",
    "\n",
    "# fit on the training set\n",
    "reg_all.fit(X_train, y_train)\n",
    "\n",
    "# predict on the test set\n",
    "y_pred = reg_all.predict(X_test)\n",
    "\n",
    "# score the model\n",
    "score = reg_all.score(X_test, y_test)\n",
    "\n",
    "print(f'Model Score: {score:0.3f}')"
   ]
  },
  {
   "cell_type": "markdown",
   "metadata": {},
   "source": [
    "### Fit & predict for regression\n",
    "\n",
    "Now, you will fit a linear regression and predict life expectancy using just one feature. You saw Andy do this earlier using the `'RM'` feature of the Boston housing dataset. In this exercise, you will use the `'fertility'` feature of the Gapminder dataset. Since the goal is to predict life expectancy, the target variable here is `'life'`. The array for the target variable has been pre-loaded as `y` and the array for `'fertility'` has been pre-loaded as `X_fertility`.\n",
    "\n",
    "A scatter plot with `'fertility'` on the x-axis and `'life'` on the y-axis has been generated. As you can see, there is a strongly negative correlation, so a linear regression should be able to capture this trend. Your job is to fit a linear regression and then predict the life expectancy, overlaying these predicted values on the plot to generate a regression line. You will also compute and print the $R^2$ score using sckit-learn's `.score()` method.\n",
    "\n",
    "**Instructions**\n",
    "\n",
    "- Import `LinearRegression` from `sklearn.linear_model`.\n",
    "- Create a `LinearRegression` regressor called `reg`.\n",
    "- Set up the prediction space to range from the minimum to the maximum of `X_fertility`. This has been done for you.\n",
    "- Fit the regressor to the data (`X_fertility` and `y`) and compute its predictions using the `.predict()` method and the `prediction_space` array.\n",
    "- Compute and print the $R^2$ score using the `.score()` method.\n",
    "- Overlay the plot with your linear regression line. This has been done for you, so hit 'Submit Answer' to see the result!"
   ]
  },
  {
   "cell_type": "code",
   "execution_count": null,
   "metadata": {},
   "outputs": [],
   "source": [
    "df.head()"
   ]
  },
  {
   "cell_type": "code",
   "execution_count": null,
   "metadata": {},
   "outputs": [],
   "source": [
    "X_fertility = df.fertility.to_numpy().reshape(-1, 1)\n",
    "y = df.life.to_numpy().reshape(-1, 1)\n",
    "\n",
    "# Create the regressor: reg\n",
    "reg = LinearRegression()\n",
    "\n",
    "# Create the prediction space\n",
    "prediction_space = np.linspace(df.fertility.max(), df.fertility.min()).reshape(-1,1)\n",
    "\n",
    "# Fit the model to the data\n",
    "reg.fit(X_fertility, y)\n",
    "\n",
    "# Compute predictions over the prediction space: y_pred\n",
    "y_pred = reg.predict(prediction_space)\n",
    "\n",
    "# Print R^2 \n",
    "score = reg.score(X_fertility, y)\n",
    "print(f'Score: {score}')\n",
    "\n",
    "# Plot regression line\n",
    "sns.scatterplot(data=df, x='fertility', y='life')\n",
    "plt.xlabel('Fertility')\n",
    "plt.ylabel('Life Expectancy')\n",
    "plt.plot(prediction_space, y_pred, color='black', linewidth=3)\n",
    "plt.show()"
   ]
  },
  {
   "cell_type": "markdown",
   "metadata": {},
   "source": [
    "**Notice how the line captures the underlying trend in the data. And the performance is quite decent for this basic regression model with only one feature.**"
   ]
  },
  {
   "cell_type": "markdown",
   "metadata": {},
   "source": [
    "### Train/test split for regression\n",
    "\n",
    "As you learned in Chapter 1, train and test sets are vital to ensure that your supervised learning model is able to generalize well to new data. This was true for classification models, and is equally true for linear regression models.\n",
    "\n",
    "In this exercise, you will split the Gapminder dataset into training and testing sets, and then fit and predict a linear regression over **all** features. In addition to computing the $R^2$ score, you will also compute the Root Mean Squared Error (RMSE), which is another commonly used metric to evaluate regression models. The feature array `X` and target variable array `y` have been pre-loaded for you from the DataFrame `df`.\n",
    "\n",
    "**Instructions**\n",
    "\n",
    "- Import `LinearRegression` from `sklearn.linear_model`, [`mean_squared_error`][mse] from `sklearn.metrics`, and `train_test_split` from `sklearn.model_selection`.\n",
    "- Using `X` and `y`, create training and test sets such that 30% is used for testing and 70% for training. Use a random state of `42`.\n",
    "- Create a linear regression regressor called `reg_all`, fit it to the training set, and evaluate it on the test set.\n",
    "- Compute and print the $R^2$ score using the `.score()` method on the test set.\n",
    "- Compute and print the RMSE. To do this, first compute the Mean Squared Error using the `mean_squared_error()` function with the arguments `y_test` and `y_pred`, and then take its square root using `np.sqrt()`.\n",
    "\n",
    "  [mse]: https://scikit-learn.org/stable/modules/generated/sklearn.metrics.mean_squared_error.html"
   ]
  },
  {
   "cell_type": "code",
   "execution_count": null,
   "metadata": {},
   "outputs": [],
   "source": [
    "X = df.drop(['life', 'Region'], axis=1).to_numpy()\n",
    "y = df.life.to_numpy()\n",
    "\n",
    "# Create training and test sets\n",
    "X_train, X_test, y_train, y_test = train_test_split(X, y, test_size = 0.3, random_state=42)\n",
    "\n",
    "# Create the regressor: reg_all\n",
    "reg_all = LinearRegression()\n",
    "\n",
    "# Fit the regressor to the training data\n",
    "reg_all.fit(X_train, y_train)\n",
    "\n",
    "# Predict on the test data: y_pred\n",
    "y_pred = reg_all.predict(X_test)\n",
    "\n",
    "# Compute and print R^2 and RMSE\n",
    "print(f\"R^2: {reg_all.score(X_test, y_test):0.3f}\")\n",
    "rmse = np.sqrt(mean_squared_error(y_test, y_pred))\n",
    "print(f\"Root Mean Squared Error: {rmse:0.3f}\")"
   ]
  },
  {
   "cell_type": "markdown",
   "metadata": {},
   "source": [
    "**Using all features has improved the model score. This makes sense, as the model has more information to learn from. However, there is one potential pitfall to this process. Can you spot it? You'll learn about this, as well how to better validate your models, in the next section.**"
   ]
  },
  {
   "cell_type": "markdown",
   "metadata": {},
   "source": [
    "## Cross-validation\n",
    "\n",
    "- You're now also becoming more acquainted with train test split, and computing model performance metrics on the test set.\n",
    "- Can you spot a potential pitfall of this process?\n",
    "  - If you're computing $R^2$ on your test set, the $R^2$ returned, is dependent on the way the data is split.\n",
    "  - The data points in the test set may have some peculiarities that mean the $R^2$ computed on it, is not representative of the model's ability to generalize to unseen data.\n",
    "- To combat this dependence on what is essentially an arbitrary split, we use a technique call _cross-validation_.\n",
    "- ![][cv]\n",
    "  - Begin by splitting the dataset into five groups, or folds.\n",
    "  - Hold out the first fold as a test set, fit the model on the remaining 4 folds, predict on the test test set, and compute the metric of interest.\n",
    "  - Next, hold out the second fold as the test set, fit on the remaining data, predict on the test set, and compute the metric of interest.\n",
    "  - Then, similarly, with the third, fourth and fifth fold.\n",
    "  - As a result, there are five values of $R^2$ from which statistics of interest can be computed, such as mean, median, and 95% confidence interval.\n",
    "- As the dataset is split into 5 folds, this process is called _5-fold cross validation_.\n",
    "  - 10 folds would be _10-fold cross validation_.\n",
    "- Generally, if _k_ folds are used, it is called _k-fold cross validation_ or _k-fold CV_.\n",
    "- The trade-off is, more folds are computationally more expensive, because there is more fitting and predicting.\n",
    "- This method avoids the problem of the metric of choice being dependent on the train test split.\n",
    "\n",
    "\n",
    "**Cross-validation in scikit-learn**\n",
    "- [`sklearn.model_selection.cross_val_score`][cvs]\n",
    "- This returns an array of _cross-validation_ scores, which are assigned to `cv_results`\n",
    "- The length of the array is the number of folds specified by the `cv` parameter.\n",
    "- The reported score is $R^2$, the default score for linear regression\n",
    "- We can also compute the `mean`\n",
    "\n",
    "\n",
    "\n",
    "  [cv]: https://raw.githubusercontent.com/trenton3983/DataCamp/master/Images/2020-10-14_supervised_learning_sklearn/crossvalidation.JPG\n",
    "  [cvs]: https://scikit-learn.org/stable/modules/generated/sklearn.model_selection.cross_val_score.html"
   ]
  },
  {
   "cell_type": "code",
   "execution_count": null,
   "metadata": {},
   "outputs": [],
   "source": [
    "# instantiate the model\n",
    "reg = LinearRegression()\n",
    "\n",
    "# call cross_val_score\n",
    "cv_results = cross_val_score(reg, boston.drop('MEDV', axis=1), boston.MEDV, cv=5)\n",
    "\n",
    "print(f'Scores: {np.round(cv_results, 3)}')\n",
    "print(f'Scores mean: {np.round(np.mean(cv_results), 3)}')"
   ]
  },
  {
   "cell_type": "markdown",
   "metadata": {},
   "source": [
    "### 5-fold cross-validation\n",
    "\n",
    "Cross-validation is a vital step in evaluating a model. It maximizes the amount of data that is used to train the model, as during the course of training, the model is not only trained, but also tested on all of the available data.\n",
    "\n",
    "In this exercise, you will practice 5-fold cross validation on the Gapminder data. By default, scikit-learn's `cross_val_score()` function uses $R^2$ as the metric of choice for regression. Since you are performing 5-fold cross-validation, the function will return 5 scores. Your job is to compute these 5 scores and then take their average.\n",
    "\n",
    "The DataFrame has been loaded as `df` and split into the feature/target variable arrays `X` and `y`. The modules `pandas` and `numpy` have been imported as `pd` and `np`, respectively.\n",
    "\n",
    "**Instructions**\n",
    "\n",
    "- Import `LinearRegression` from `sklearn.linear_model` and `cross_val_score` from `sklearn.model_selection`.\n",
    "- Create a linear regression regressor called `reg`.\n",
    "- Use the `cross_val_score()` function to perform 5-fold cross-validation on `X` and `y`.\n",
    "- Compute and print the average cross-validation score. You can use NumPy's `mean()` function to compute the average."
   ]
  },
  {
   "cell_type": "code",
   "execution_count": null,
   "metadata": {},
   "outputs": [],
   "source": [
    "# Create a linear regression object: reg\n",
    "reg = LinearRegression()\n",
    "\n",
    "# Compute 5-fold cross-validation scores: cv_scores\n",
    "cv_scores = cross_val_score(reg, X, y, cv=5)\n",
    "\n",
    "# Print the 5-fold cross-validation scores\n",
    "print(f'Scores: {np.round(cv_scores, 3)}')\n",
    "\n",
    "print(f'Scores mean: {np.round(np.mean(cv_scores), 3)}')"
   ]
  },
  {
   "cell_type": "markdown",
   "metadata": {},
   "source": [
    "**Now that you have cross-validated your model, you can more confidently evaluate its predictions.**"
   ]
  },
  {
   "cell_type": "markdown",
   "metadata": {},
   "source": [
    "### K-Fold CV comparison\n",
    "\n",
    "Cross validation is essential but do not forget that the more folds you use, the more computationally expensive cross-validation becomes. In this exercise, you will explore this for yourself. Your job is to perform 3-fold cross-validation and then 10-fold cross-validation on the Gapminder dataset.\n",
    "\n",
    "In the IPython Shell, you can use `%timeit` to see how long each 3-fold CV takes compared to 10-fold CV by executing the following `cv=3` and `cv=10`:\n",
    "\n",
    "`%timeit cross_val_score(reg, X, y, cv = ____)`\n",
    "\n",
    "`pandas` and `numpy` are available in the workspace as `pd` and `np`. The DataFrame has been loaded as `df` and the feature/target variable arrays `X` and `y` have been created.\n",
    "\n",
    "**Instructions**\n",
    "\n",
    "- Import `LinearRegression` from `sklearn.linear_model` and `cross_val_score` from `sklearn.model_selection`.\n",
    "- Create a linear regression regressor called `reg`.\n",
    "- Perform 3-fold CV and then 10-fold CV. Compare the resulting mean scores."
   ]
  },
  {
   "cell_type": "code",
   "execution_count": null,
   "metadata": {},
   "outputs": [],
   "source": [
    "# Create a linear regression object: reg\n",
    "reg = LinearRegression()\n",
    "\n",
    "# Perform 3-fold CV\n",
    "cvscores_3 = cross_val_score(reg, X, y, cv=3)\n",
    "print(f'cv=3 scores mean: {np.round(np.mean(cvscores_3), 3)}')\n",
    "\n",
    "# Perform 10-fold CV\n",
    "cvscores_10 = cross_val_score(reg, X, y, cv=10)\n",
    "print(f'cv=10 scores mean: {np.round(np.mean(cvscores_10), 3)}')"
   ]
  },
  {
   "cell_type": "code",
   "execution_count": null,
   "metadata": {},
   "outputs": [],
   "source": [
    "cv3 = %timeit -n10 -r3 -q -o cross_val_score(reg, X, y, cv=3)\n",
    "cv10 = %timeit -n10 -r3 -q -o cross_val_score(reg, X, y, cv=10)\n",
    "\n",
    "print(f'cv=3 time: {cv3}\\ncv=10 time: {cv10}')"
   ]
  },
  {
   "cell_type": "markdown",
   "metadata": {},
   "source": [
    "## Regularized regression\n",
    "\n",
    "**Why regularize?**\n",
    "- Recall that what a linear regression does, is minimize a loss function, to choose a coefficient, $a_{i}$, for each feature variable.\n",
    "- If we allow these coefficients, or parameters, to be super large, we can get _overfitting_.\n",
    "- It isn't easy to see in two dimensions, but when there are many features, this is, if the data sit in a high-dimensional space with large coefficients, it gets easy to predict nearly anything.\n",
    "- For this reason, it's common practice to alter the loss function, so it penalizes for large coefficients.\n",
    "  - This is called _**Regularization**_.\n",
    "\n",
    "**Ridge regression**\n",
    "- The first type of regularized regression that we'll look at, is called _ridge regression_, in which out loss function is the standard _OLS_ loss function, plus the squared value of each coefficient, multiplied by some constant, $\\alpha$\n",
    "  - $\\text{Loss function}=\\text{OLS loss function}+\\alpha*\\sum_{i=1}^n a_{i}^2$\n",
    "  - Thus, when minimizing the loss function to fit to our data, models are penalized for coefficients with a large magnitude: large positive and large negative coefficients.\n",
    "  - Note, $\\alpha$ is a parameter we need to choose in order to fit and predict.\n",
    "  - Essentially, we can select the $\\alpha$ for which our model performs best.\n",
    "  - Picking $\\alpha$ for ridge regression is similar to picking `k` in `KNN`.\n",
    "- This is called _hyperparameter tuning_, and we'll see much more of this in section 3.\n",
    "- This $\\alpha$, which you may also see called $\\lambda$ in the wild, can be thought of as a parameter that controls the model complexity.\n",
    "- Notice when $\\alpha = 0$, we get back $\\text{OLS}$, which can lead to _overfitting_.\n",
    "  - Large coefficients, in this case, are not penalized, and the _overfitting_ problem is not accounted for.\n",
    "- A very high $\\alpha$ means large coefficients are significantly penalized, which can lead to a model that's too simple, and end up _underfitting_ the data.\n",
    "- The method of performing _ridge regression_ with scikit-learn, mirrors the other models we have seen.\n",
    "\n",
    "**Ridge regression in scikit-learn**\n",
    "- [`sklearn.linear_model.Ridge`][ridge]\n",
    "- Set $\\alpha$ with the `alpha` parameter.\n",
    "- Setting the `normalize` parameter to `True`, ensures all the variables are on the same scale, which will be covered later in more depth.\n",
    "\n",
    "**Lasso regression**\n",
    "- There is another type of _regularized regression_ called _lasso regression_, in which our loss function is the standard _OLS_ loss function, plus the absolute value of each coefficient, multiplied by some constant, $\\alpha$.\n",
    "  - $\\text{Loss function}=\\text{OLS loss function}+\\alpha*\\sum_{i=1}^n |a_{i}|$\n",
    "\n",
    "**Lasso regression in scikit-learn**\n",
    "- [`sklearn.linear_model.Lasso`][lasso]\n",
    "- Lasso regression in scikit-learn, mirrors ridge regression.\n",
    "\n",
    "**Lasso regression for feature selection**\n",
    "- One of the useful aspects of _lasso regression_ is it can be used to select important features of a dataset.\n",
    "  - This is because it tends to reduce the coefficients of less important features to be exactly zero.\n",
    "  - The features whose coefficients are not shrunk to zero, are 'selected' by the `LASSO` algorithm.\n",
    "- Plotting the coefficients as a function of feature name, yields graph below, and you can see directly, the most important predictor for our target variable, `housing price`, is number of rooms, `'RM'`.\n",
    "- This is not surprising, and is a great sanity check.\n",
    "- This type of feature selection is very important for machine learning in an industry or business setting, because it allows you, as the Data Scientist, to communicate important results to non-technical colleagues.\n",
    "- The power of reporting important features from a linear model, cannot be overestimated.\n",
    "- It is also valuable in research science, in order to identify which factors are important predictors for various physical phenomena.\n",
    "\n",
    "  [ridge]: https://scikit-learn.org/stable/modules/generated/sklearn.linear_model.Ridge.html\n",
    "  [lasso]: https://scikit-learn.org/stable/modules/generated/sklearn.linear_model.Lasso.html"
   ]
  },
  {
   "cell_type": "markdown",
   "metadata": {},
   "source": [
    "#### Ridge Regression"
   ]
  },
  {
   "cell_type": "code",
   "execution_count": null,
   "metadata": {},
   "outputs": [],
   "source": [
    "# split the data\n",
    "X_train, X_test, y_train, y_test = train_test_split(boston.drop('MEDV', axis=1), boston.MEDV, test_size=0.3, random_state=42)\n",
    "\n",
    "# instantiate the model\n",
    "ridge = Ridge(alpha=0.1, normalize=True)\n",
    "\n",
    "# fit the model\n",
    "ridge.fit(X_train, y_train)\n",
    "\n",
    "# predict on the test data\n",
    "ridge_pred = ridge.predict(X_test)\n",
    "\n",
    "# get the score\n",
    "rs = ridge.score(X_test, y_test)\n",
    "\n",
    "print(f'Ridge Score: {round(rs, 4)}')"
   ]
  },
  {
   "cell_type": "markdown",
   "metadata": {},
   "source": [
    "#### Lasso Regression"
   ]
  },
  {
   "cell_type": "code",
   "execution_count": null,
   "metadata": {},
   "outputs": [],
   "source": [
    "# split the data\n",
    "X_train, X_test, y_train, y_test = train_test_split(boston.drop('MEDV', axis=1), boston.MEDV, test_size=0.3, random_state=42)\n",
    "\n",
    "# instantiate the regressor\n",
    "lasso = Lasso(alpha=0.1, normalize=True)\n",
    "\n",
    "# fit the model\n",
    "lasso.fit(X_train, y_train)\n",
    "\n",
    "# predict on the test data\n",
    "lasso_pred = lasso.predict(X_test)\n",
    "\n",
    "# get the score\n",
    "ls = lasso.score(X_test, y_test)\n",
    "\n",
    "print(f'Ridge Score: {round(ls, 4)}')"
   ]
  },
  {
   "cell_type": "markdown",
   "metadata": {},
   "source": [
    "#### Lasso Regression for Feature Selection"
   ]
  },
  {
   "cell_type": "code",
   "execution_count": null,
   "metadata": {},
   "outputs": [],
   "source": [
    "# store the feature names\n",
    "names = boston.drop('MEDV', axis=1).columns\n",
    "\n",
    "# instantiate the regressor\n",
    "lasso = Lasso(alpha=0.1)\n",
    "\n",
    "# extract and store the coef attribute\n",
    "lasso_coef = lasso.fit(boston.drop('MEDV', axis=1), boston.MEDV).coef_\n",
    "\n",
    "plt.plot(range(len(names)), lasso_coef)\n",
    "plt.xticks(range(len(names)), names, rotation=60)\n",
    "plt.ylabel('Coefficients')\n",
    "plt.grid()\n",
    "plt.show()"
   ]
  },
  {
   "cell_type": "markdown",
   "metadata": {},
   "source": [
    "### Questions"
   ]
  },
  {
   "cell_type": "markdown",
   "metadata": {},
   "source": [
    "### Questions"
   ]
  },
  {
   "cell_type": "markdown",
   "metadata": {},
   "source": [
    "# Fine-tuning your model\n",
    "\n",
    "Having trained your model, your next task is to evaluate its performance. In this chapter, you will learn about some of the other metrics available in scikit-learn that will allow you to assess your model's performance in a more nuanced manner. Next, learn to optimize your classification and regression models using hyperparameter tuning."
   ]
  },
  {
   "cell_type": "markdown",
   "metadata": {},
   "source": [
    "## How good is your model"
   ]
  },
  {
   "cell_type": "markdown",
   "metadata": {},
   "source": [
    "### Questions"
   ]
  },
  {
   "cell_type": "markdown",
   "metadata": {},
   "source": [
    "## Logistic regression and the ROC curve"
   ]
  },
  {
   "cell_type": "markdown",
   "metadata": {},
   "source": [
    "### Questions"
   ]
  },
  {
   "cell_type": "markdown",
   "metadata": {},
   "source": [
    "### Questions"
   ]
  },
  {
   "cell_type": "markdown",
   "metadata": {},
   "source": [
    "### Questions"
   ]
  },
  {
   "cell_type": "markdown",
   "metadata": {},
   "source": [
    "## Area under the ROC curve"
   ]
  },
  {
   "cell_type": "markdown",
   "metadata": {},
   "source": [
    "### Questions"
   ]
  },
  {
   "cell_type": "markdown",
   "metadata": {},
   "source": [
    "## Hyperparameter tuning"
   ]
  },
  {
   "cell_type": "markdown",
   "metadata": {},
   "source": [
    "### Questions"
   ]
  },
  {
   "cell_type": "markdown",
   "metadata": {},
   "source": [
    "### Questions"
   ]
  },
  {
   "cell_type": "markdown",
   "metadata": {},
   "source": [
    "## Hold-out set for final evaluation"
   ]
  },
  {
   "cell_type": "markdown",
   "metadata": {},
   "source": [
    "### Questions"
   ]
  },
  {
   "cell_type": "markdown",
   "metadata": {},
   "source": [
    "### Questions"
   ]
  },
  {
   "cell_type": "markdown",
   "metadata": {},
   "source": [
    "### Questions"
   ]
  },
  {
   "cell_type": "markdown",
   "metadata": {},
   "source": [
    "# Preprocessing and pipelines\n",
    "\n",
    "This chapter introduces pipelines, and how scikit-learn allows for transformers and estimators to be chained together and used as a single unit. Preprocessing techniques will be introduced as a way to enhance model performance, and pipelines will tie together concepts from previous chapters."
   ]
  },
  {
   "cell_type": "markdown",
   "metadata": {},
   "source": [
    "## Preprocessing data"
   ]
  },
  {
   "cell_type": "markdown",
   "metadata": {},
   "source": [
    "### Questions"
   ]
  },
  {
   "cell_type": "markdown",
   "metadata": {},
   "source": [
    "### Questions"
   ]
  },
  {
   "cell_type": "markdown",
   "metadata": {},
   "source": [
    "### Questions"
   ]
  },
  {
   "cell_type": "markdown",
   "metadata": {},
   "source": [
    "## Handling missing data"
   ]
  },
  {
   "cell_type": "markdown",
   "metadata": {},
   "source": [
    "### Questions"
   ]
  },
  {
   "cell_type": "markdown",
   "metadata": {},
   "source": [
    "### Questions"
   ]
  },
  {
   "cell_type": "markdown",
   "metadata": {},
   "source": [
    "### Questions"
   ]
  },
  {
   "cell_type": "markdown",
   "metadata": {},
   "source": [
    "## Centering and scaling\n",
    "\n"
   ]
  },
  {
   "cell_type": "markdown",
   "metadata": {},
   "source": [
    "### Questions"
   ]
  },
  {
   "cell_type": "markdown",
   "metadata": {},
   "source": [
    "### Questions"
   ]
  },
  {
   "cell_type": "markdown",
   "metadata": {},
   "source": [
    "### Questions"
   ]
  },
  {
   "cell_type": "markdown",
   "metadata": {},
   "source": [
    "### Questions"
   ]
  },
  {
   "cell_type": "markdown",
   "metadata": {},
   "source": [
    "# Certificate\n",
    "\n",
    "![](https://raw.githubusercontent.com/trenton3983/DataCamp/master/Images/jpd_dir/file.jpg)"
   ]
  }
 ],
 "metadata": {
  "kernelspec": {
   "display_name": "Python 3",
   "language": "python",
   "name": "python3"
  },
  "language_info": {
   "codemirror_mode": {
    "name": "ipython",
    "version": 3
   },
   "file_extension": ".py",
   "mimetype": "text/x-python",
   "name": "python",
   "nbconvert_exporter": "python",
   "pygments_lexer": "ipython3",
   "version": "3.8.5"
  },
  "toc-autonumbering": true
 },
 "nbformat": 4,
 "nbformat_minor": 4
}
