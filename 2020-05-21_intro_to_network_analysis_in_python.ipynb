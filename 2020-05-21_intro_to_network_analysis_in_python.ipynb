{
 "cells": [
  {
   "cell_type": "markdown",
   "metadata": {},
   "source": [
    "- Notebook Author: [Trenton McKinney][1]\n",
    "- Course: **[DataCamp: Introduction to Network Analysis in Python][2]**\n",
    " - This [notebook][3] was created as a reproducible reference.\n",
    " - The material is from the course\n",
    " - I completed the exercises\n",
    " - If you find the content beneficial, consider a [DataCamp Subscription][4].\n",
    " - I added a function (**`create_dir_save_file`**) to automatically download and save the required data (`data/2020-05-21_intro_to_network_analysis_in_python`) and image (`Images/2020-05-21_intro_to_network_analysis_in_python`) files.\n",
    "\n",
    "  [1]: https://trenton3983.github.io/\n",
    "  [2]: https://learn.datacamp.com/courses/introduction-to-network-analysis-in-python\n",
    "  [3]: https://github.com/trenton3983/DataCamp/blob/master/2020-05-21_intro_to_network_analysis_in_python.ipynb\n",
    "  [4]: https://www.datacamp.com/pricing"
   ]
  },
  {
   "cell_type": "markdown",
   "metadata": {},
   "source": [
    "#### Course Description\n",
    "\n",
    "From on-line social networks such as Facebook and Twitter to transportation networks such as bike sharing systems, networks are everywhere. And knowing how to analyze them will open up a new world of possibilities for you as a data scientist. This course will equip you with the skills to analyze, visualize, and make sense of networks. You'll apply the concepts you learn to real-world network data using the powerful `NetworkX` library. With the knowledge gained in this course, you'll develop your network thinking skills and be able to look at your data with a fresh perspective."
   ]
  },
  {
   "cell_type": "markdown",
   "metadata": {},
   "source": [
    "#### Imports"
   ]
  },
  {
   "cell_type": "code",
   "execution_count": null,
   "metadata": {},
   "outputs": [],
   "source": [
    "import pandas as pd\n",
    "from pathlib import Path\n",
    "import requests\n",
    "import networkx as nx\n",
    "import matplotlib.pyplot as plt\n",
    "from datetime import datetime, date\n",
    "from pprint import pprint as pp"
   ]
  },
  {
   "cell_type": "markdown",
   "metadata": {},
   "source": [
    "#### Pandas Configuration Options"
   ]
  },
  {
   "cell_type": "code",
   "execution_count": null,
   "metadata": {},
   "outputs": [],
   "source": [
    "pd.set_option('max_columns', 200)\n",
    "pd.set_option('max_rows', 300)\n",
    "pd.set_option('display.expand_frame_repr', True)"
   ]
  },
  {
   "cell_type": "markdown",
   "metadata": {},
   "source": [
    "#### Functions"
   ]
  },
  {
   "cell_type": "code",
   "execution_count": null,
   "metadata": {},
   "outputs": [],
   "source": [
    "def create_dir_save_file(dir_path: Path, url: str):\n",
    "    \"\"\"\n",
    "    Check if the path exists and create it if it does not.\n",
    "    Check if the file exists and download it if it does not.\n",
    "    \"\"\"\n",
    "    if not dir_path.parents[0].exists():\n",
    "        dir_path.parents[0].mkdir(parents=True)\n",
    "        print(f'Directory Created: {dir_path.parents[0]}')\n",
    "    else:\n",
    "        print('Directory Exists')\n",
    "        \n",
    "    if not dir_path.exists():\n",
    "        r = requests.get(url, allow_redirects=True)\n",
    "        open(dir_path, 'wb').write(r.content)\n",
    "        print(f'File Created: {dir_path.name}')\n",
    "    else:\n",
    "        print('File Exists')"
   ]
  },
  {
   "cell_type": "code",
   "execution_count": null,
   "metadata": {},
   "outputs": [],
   "source": [
    "data_dir = Path('data/2020-05-21_intro_to_network_analysis_in_python')\n",
    "images_dir = Path('Images/2020-05-21_intro_to_network_analysis_in_python')"
   ]
  },
  {
   "cell_type": "markdown",
   "metadata": {},
   "source": [
    "#### Datasets"
   ]
  },
  {
   "cell_type": "code",
   "execution_count": null,
   "metadata": {},
   "outputs": [],
   "source": [
    "twitter = 'https://assets.datacamp.com/production/repositories/580/datasets/64cf6963a7e8005e3771ef3b256812a5797320f0/ego-twitter.p'\n",
    "github = 'https://assets.datacamp.com/production/repositories/580/datasets/69ada08d5cce7f35f38ffefe8f2291b7cfcd6000/github_users.p'"
   ]
  },
  {
   "cell_type": "code",
   "execution_count": null,
   "metadata": {},
   "outputs": [],
   "source": [
    "datasets = [twitter, github]\n",
    "data_paths = list()\n",
    "\n",
    "for data in datasets:\n",
    "    file_name = data.split('/')[-1].replace('?raw=true', '')\n",
    "    data_path = data_dir / file_name\n",
    "    create_dir_save_file(data_path, data)\n",
    "    data_paths.append(data_path)"
   ]
  },
  {
   "cell_type": "markdown",
   "metadata": {},
   "source": [
    "#### Data"
   ]
  },
  {
   "cell_type": "code",
   "execution_count": null,
   "metadata": {},
   "outputs": [],
   "source": [
    "T = nx.read_gpickle(data_paths[0])\n",
    "Gh = nx.read_gpickle(data_paths[1])"
   ]
  },
  {
   "cell_type": "markdown",
   "metadata": {},
   "source": [
    "# Introduction to networks\n",
    "\n",
    "In this chapter, you'll be introduced to fundamental concepts in network analytics while exploring a real-world Twitter network dataset. You'll also learn about [NetworkX][1], a library that allows you to manipulate, analyze, and model graph data. You'll learn about the different types of graphs and how to rationally visualize them.\n",
    "\n",
    "  [1]: https://networkx.github.io/documentation/stable/index.html"
   ]
  },
  {
   "cell_type": "markdown",
   "metadata": {},
   "source": [
    "## Networks\n",
    "\n",
    "### Examples of Networks\n",
    "1. Social\n",
    " - In a social network, we're modeling the relationship between people.\n",
    "1. Transportation\n",
    " - In a transportation network, we're modeling the connectivity between locations, as determined by the roads or flight paths connection them.\n",
    "- Networks are a useful tool for modeling relationships between entities.\n",
    "\n",
    "### Insights\n",
    "1. Important entities: influencers in social networks\n",
    "1. Pathfinding: most efficient transportation path\n",
    "1. Clustering: finding communities\n",
    "- By modeling the data as a network, you can gain insight into what entities (or nodes) are important, such as broadcasters or influencers in a social network.\n",
    "- You can start to think about optimizing transportation between cities.\n",
    "- Leverage the network structure to find communities in the network.\n",
    "\n",
    "### Network Structure\n",
    "\n",
    "![network_structure][1]\n",
    "\n",
    "- Networks are described by two sets of items, which form a \"network\".\n",
    " - Nodes\n",
    " - Edges\n",
    "- In mathematical terms, this is a graph.\n",
    "- Nodes and edges can have metadata associated with them.\n",
    " - Lets say there are two friends, Hugo and myself, who met on May 21, 2016.\n",
    " - The nodes may be \"Hugo\" and myself, with metadata stored in a `key-value` pair as `id` and `age`.\n",
    " - The friendship is represented as a line between two nodes, and may have metadata such as `date`, which represents the date we first met.\n",
    " \n",
    "![social graph][2]\n",
    "\n",
    "### NetworkX\n",
    "\n",
    "- This python library allows us to manipulate, analyze, and model, graph data.\n",
    "- Using `nx.Graph()`, we initialize an empty graph, to which we can add nodes and edges\n",
    "- The integers 1, 2, and 3 can be entered as nodes, using the `add_nodes_from` method, passing in the list `[1, 2, 3]`, as an argument.\n",
    "- Use the `.nodes` method to see the nodes present in the graph.\n",
    "- Similarly, use `.add_edges` and `.edges` to add and see the edges present in the graph.\n",
    "- Edges between nodes are represented as a tuple, in which each tuple shows the nodes that are present on that edge.\n",
    "\n",
    "```python\n",
    "import networkx as nx\n",
    "\n",
    "G = nx.Graph()\n",
    "G.add_nodes_from([1, 2, 3])\n",
    "G.nodes()\n",
    ">>> [1, 2, 3]\n",
    "G.add_edge(1, 2)\n",
    "G.edges()\n",
    ">>> [(1, 2)]\n",
    "```\n",
    "\n",
    "- Metadata can be stored on the graph as well.\n",
    "- For example, I can add to the node `1`, a `label` key with the value `blue`, just as I would assign a value to the key of a dictionary.\n",
    "- The node list can be retrieved with `G.nodes()` and passing the `data=True` parameter.\n",
    " - This returns a list of tuples, in which the first element of each tuple is the node, and the second element is a dictionary, in which the `key-value` pairs correspond to the metadata.\n",
    "\n",
    "```python\n",
    "G.node[1]['label'] = 'blue'\n",
    "G.nodes(data=True)\n",
    ">>>[(1, {'label': 'blue}), (2, {}), (3, {})]\n",
    "```\n",
    "\n",
    "- `networkx` as provides basic drawing functionality, using the `nx.draw()` function, which takes in a graph `G` as an argument.\n",
    "- In the IPyhton shell, you'll also have to call `plt.show()` function in order to display the graph screen.\n",
    "- With this graph, the `nx.draw()` function will draw to screen what we call a **node-link diagram** rendering of the graph.\n",
    "\n",
    "```python\n",
    "import matplotlib.pyplot as plt\n",
    "\n",
    "nx.draw(G)\n",
    "plt.show()\n",
    "```\n",
    "\n",
    "- The first set of exercises we'll be doing is essentially exploratory data analysis on graphs.\n",
    "\n",
    "### Other Resources\n",
    "1. [Wikipedia: Network Theory][3]\n",
    "\n",
    "\n",
    "  [1]: https://raw.githubusercontent.com/trenton3983/DataCamp/master/Images/2020-05-21_intro_to_network_analysis_in_python/network_structure_1.JPG\n",
    "  [2]: https://raw.githubusercontent.com/trenton3983/DataCamp/master/Images/2020-05-21_intro_to_network_analysis_in_python/network_structure_2.JPG\n",
    "  [3]: https://en.wikipedia.org/wiki/Network_theory"
   ]
  },
  {
   "cell_type": "markdown",
   "metadata": {},
   "source": [
    "### What is a network?\n",
    "\n",
    "Let's think again about examples of networks. Which of the following data is least easily modeled as a network?\n",
    "\n",
    "- ~~Airplane transportation.~~\n",
    "- **Phone numbers in a telephone directory.**\n",
    "- ~~Co-authorship of papers.~~\n",
    "- ~~Atoms in a molecule.~~\n",
    "\n",
    "1. Compared to the other options, it would not be as easy to model phone numbers in a telephone directory as a network."
   ]
  },
  {
   "cell_type": "markdown",
   "metadata": {},
   "source": [
    "### Basics of NetworkX API, using Twitter network\n",
    "\n",
    "To get you up and running with the NetworkX API, we will run through some basic functions that let you query a Twitter network that has been pre-loaded for you and is available in the IPython Shell as `T`. The Twitter network comes from [KONECT][1], and shows a snapshot of a subset of Twitter users. It is an anonymized Twitter network with metadata.\n",
    "\n",
    "You're now going to use the NetworkX API to explore some basic properties of the network, and are encouraged to experiment with the data in the IPython Shell.\n",
    "\n",
    "Wait for the IPython shell to indicate that the graph that has been preloaded under the variable name T (representing a Twitter network), and then answer the following question:\n",
    "\n",
    "What is the size of the graph `T`, the type of `T.nodes()`, and the data structure of the third element of the last edge listed in `T.edges(data=True)`? The `len()` and `type()` functions will be useful here. To access the last entry of `T.edges(data=True)`, you can use `list(T.edges(data=True))[-1]`.\n",
    "\n",
    "- **23369, `networkx.classes.reportviews.NodeView`, `dict`.**\n",
    "- ~~32369, `tuple`, `datetime`.~~\n",
    "- ~~23369, `networkx.classes.reportviews.NodeView`, `datetime`.~~\n",
    "- ~~22339, `dict`, `dict`.~~\n",
    "\n",
    "\n",
    "  [1]: http://konect.uni-koblenz.de/"
   ]
  },
  {
   "cell_type": "code",
   "execution_count": null,
   "metadata": {},
   "outputs": [],
   "source": [
    "print(len(T))\n",
    "print(type(T.nodes()))\n",
    "print(list(T.edges(data=True))[-1])\n",
    "print(type(list(T.edges(data=True))[-1][2]))"
   ]
  },
  {
   "cell_type": "markdown",
   "metadata": {},
   "source": [
    "### Basic drawing of a network using NetworkX\n",
    "\n",
    "NetworkX provides some basic drawing functionality that works for small graphs. We have selected a subset of nodes from the graph for you to practice using NetworkX's drawing facilities. It has been pre-loaded as `T_sub`.\n",
    "\n",
    "**Instructions**\n",
    "\n",
    "- Import `matplotlib.pyplot` as `plt` and `networkx` as `nx`.\n",
    "- Draw `T_sub` to the screen by using the `nx.draw()` function, and don't forget to also use `plt.show()` to display it.\n",
    "\n",
    "#### Creating `T_sub`\n",
    "- Use [DiGraph][1] instead of [Graph][2]\n",
    "- [Why don't edges added with G.add_edges_from(), match G.edges()?][3]\n",
    "\n",
    "\n",
    "  [1]: https://networkx.github.io/documentation/networkx-1.10/reference/classes.digraph.html#networkx.DiGraph\n",
    "  [2]: https://networkx.github.io/documentation/networkx-1.10/reference/classes.graph.html#networkx.Graph\n",
    "  [3]: https://stackoverflow.com/questions/62032404/why-dont-edges-added-with-g-add-edges-from-match-g-edges"
   ]
  },
  {
   "cell_type": "code",
   "execution_count": null,
   "metadata": {},
   "outputs": [],
   "source": [
    "T_sub = nx.DiGraph()\n",
    "edges_from_T = [x for x in T.edges(list(range(50)), data=True) if x[0] in [1, 16, 18, 19, 28, 36, 37, 39, 42, 43, 45] if x[1] < 50]\n",
    "T_sub.add_edges_from(edges_from_T)"
   ]
  },
  {
   "cell_type": "code",
   "execution_count": null,
   "metadata": {},
   "outputs": [],
   "source": [
    "plt.figure(figsize=(8, 8))\n",
    "nx.draw(T_sub, with_labels=True)\n",
    "plt.show()"
   ]
  },
  {
   "cell_type": "markdown",
   "metadata": {},
   "source": [
    "### Queries on a graph\n",
    "\n",
    "Now that you know some basic properties of the graph and have practiced using NetworkX's drawing facilities to visualize components of it, it's time to explore how you can query it for nodes and edges. Specifically, you're going to look for \"nodes of interest\" and \"edges of interest\". To achieve this, you'll make use of the `.nodes()` and `.edges()` methods that Eric went over in the video. The `.nodes()` method returns a list of nodes, while the `.edges()` method returns a list of tuples, in which each tuple shows the nodes that are present on that edge. Recall that passing in the keyword argument data=True in these methods retrieves the corresponding metadata associated with the nodes and edges as well.\n",
    "\n",
    "You'll write list comprehensions to effectively build these queries in one line. For a refresher on list comprehensions, refer to [Part 2][1] of DataCamp's Python Data Science Toolbox course. Here's the recipe for a list comprehension:\n",
    "\n",
    "`[` *output expression* `for` *iterator variable* `in` *iterable* `if` *predicate expression* `]`.\n",
    "\n",
    "You have to fill in the `_iterable_` and the `_predicate expression_`. Feel free to prototype your answer by exploring the graph in the IPython Shell before submitting your solution.\n",
    "\n",
    "**Instructions**\n",
    "\n",
    "- Use a list comprehension to get a **list of nodes** from the graph `T` that have the `'occupation'` label of `'scientist'`.\n",
    " - The _output expression_ `n` has been specified for you, along with the _iterator variables_ `n` and `d`. Your task is to fill in the _iterable_ and the _conditional expression_.\n",
    " - Use the `.nodes()` method of `T` access its nodes, and be sure to specify `data=True` to obtain the metadata for the nodes.\n",
    " - The iterator variable `d` is a dictionary. The key of interest here is `'occupation'` and value of interest is `'scientist'`.\n",
    "- Use a list comprehension to get a **list of edges** from the graph T that were formed for at least 6 years, i.e., from before **1 Jan 2010**.\n",
    " - Your task once again is to fill in the _iterable_ and _conditional expression_.\n",
    " - Use the `.edges()` method of `T` to access its edges. Be sure to obtain the metadata for the edges as well.\n",
    " - The dates are stored as `datetime.date` objects in the metadata dictionary `d`, under the key `'date'`. To access the date 1 Jan 2009, for example, the dictionary value would be `date(2009, 1, 1)`.\n",
    "\n",
    "\n",
    "  [1]: https://www.datacamp.com/courses/python-data-science-toolbox-part-2"
   ]
  },
  {
   "cell_type": "code",
   "execution_count": null,
   "metadata": {},
   "outputs": [],
   "source": [
    "# Use a list comprehension to get the nodes of interest: noi\n",
    "noi = [n for n, d in T.nodes(data=True) if d['occupation'] == 'scientist']\n",
    "\n",
    "# Use a list comprehension to get the edges of interest: eoi\n",
    "eoi = [(u, v) for u, v, d in T.edges(data=True) if d['date'].year < 2010]"
   ]
  },
  {
   "cell_type": "code",
   "execution_count": null,
   "metadata": {},
   "outputs": [],
   "source": [
    "print(noi[:10])\n",
    "print(eoi[:10])"
   ]
  },
  {
   "cell_type": "markdown",
   "metadata": {},
   "source": [
    "## Types of Graphs\n",
    "\n",
    "1. Undirected graphs\n",
    " - Facebook\n",
    " - They are comprised of edges that don't have any inherent directionality associated with them.\n",
    " - With Facebook, for example, when one user befriends another, the two are automatically connected with an edge.\n",
    " - This is commonly drawn as a line with no arrows between two circles.\n",
    " - Undirected graphs have the type `Graph`\n",
    " \n",
    "```python\n",
    "import networkx as nx\n",
    "\n",
    "G = nx.Graph()\n",
    "type(G)\n",
    ">>> networkx.classes.graph.Graph\n",
    "``` \n",
    "\n",
    "2. Directed graphs\n",
    " - Twitter\n",
    " - This is because of the nature of how users interact with one another.\n",
    " - For example, one user may follow another, but that other user may not follow back.\n",
    " - As such, there's an inherent directionality associated with the graph\n",
    " - Directed grasphs have the type `DiGraph`\n",
    " \n",
    "```python\n",
    "D = nx.DiGraph()\n",
    "type(D)\n",
    ">>> networkx.classes.digraph.DiGraph\n",
    "```\n",
    "\n",
    "3. Muti-edge (Directed) graphs\n",
    " - Graph in which there are multiple edges permitted between the nodes\n",
    " - For example, we may want to model trips between bike sharing stations\n",
    " - Each trip may be one edge between the pair of stations\n",
    " - Sometimes, for practical reasons, it may be too memory-intensive too model multiple edges per pair of nodes, and so one may choose to collapse the edges into a single edge that contains a metadata summary of the original.\n",
    "    - For example, we may want to collapse these three edges into a single one and give them a _weight_ metadata with the value _3_, indicating that it was originally 3 edges between the pair of nodes.\n",
    "\n",
    "![multi-edge][1]\n",
    "\n",
    "```python\n",
    "M = nx.MultiGraph\n",
    "type(M)\n",
    ">>> networkx.classes.multigraph.MultiGraph\n",
    "\n",
    "MD = nx.MultiDiGraph\n",
    "type(MD)\n",
    ">>> networkx.classes.multidigraph.MultiDiGraph\n",
    "```\n",
    "\n",
    "4. Self-loops\n",
    " - Self-loops can be used in certain scenarios, such as in bike sharing data, where a trip begins at a station and ends at the same station.\n",
    "\n",
    "\n",
    "  [1]: https://raw.githubusercontent.com/trenton3983/DataCamp/master/Images/2020-05-21_intro_to_network_analysis_in_python/multi-edge.JPG"
   ]
  },
  {
   "cell_type": "markdown",
   "metadata": {},
   "source": [
    "### Checking the un/directed status of a graph\n",
    "\n",
    "In the video, Eric described to you different types of graphs. Which type of graph do you think the Twitter network data you have been working with corresponds to? Use Python's built-in `type()` function in the IPython Shell to find out. The network, as before, has been pre-loaded as `T`.\n",
    "\n",
    "Of the four below choices below, which one corresponds to the type of graph that `T` is?\n",
    "\n",
    "- ~~Undirected Graph.~~\n",
    "- **Directed Graph.**\n",
    "- ~~Undirected Multi-Edge Graph.~~\n",
    "- ~~Directed Multi-Edge Graph.~~"
   ]
  },
  {
   "cell_type": "markdown",
   "metadata": {},
   "source": [
    "### Specifying a weight on edges\n",
    "\n",
    "Weights can be added to edges in a graph, typically indicating the \"strength\" of an edge. In NetworkX, the weight is indicated by the `'weight'` key in the metadata dictionary.\n",
    "\n",
    "Before attempting the exercise, use the IPython Shell to access the dictionary metadata of `T` and explore it, for instance by running the commands `T.edges[1, 10]` and then `T.edges[10, 1]`. Note how there's only one field, and now you're going to add another field, called `'weight'`.\n",
    "\n",
    "**Instructions**\n",
    "\n",
    "- Set the `'weight'` attribute of the edge between node `1` and `10` of `T` to be equal to `2`. Refer to the following template to set an attribute of an edge: `network_name.edges[node1, node2]['attribute'] = value`. Here, the `'attribute'` is `'weight'`.\n",
    "- Set the weight of every edge involving node `293` to be equal to `1.1`. To do this:\n",
    " - Using a `for` loop, iterate over all the edges of `T`, including the `metadata`.\n",
    " - If `293` is involved in the list of nodes `[u, v]`:\n",
    "    - Set the weight of the edge between `u` and `v` to be `1.1`."
   ]
  },
  {
   "cell_type": "code",
   "execution_count": null,
   "metadata": {},
   "outputs": [],
   "source": [
    "# Set the weight of the edge\n",
    "T.edges[1, 10]['weight'] = 2\n",
    "\n",
    "# Iterate over all the edges (with metadata)\n",
    "for u, v, d in T.edges(data=True):\n",
    "\n",
    "    # Check if node 293 is involved\n",
    "    if 293 in [u, v]:\n",
    "\n",
    "        # Set the weight to 1.1\n",
    "        T.edges[u, v]['weight'] = 1.1"
   ]
  },
  {
   "cell_type": "markdown",
   "metadata": {},
   "source": [
    "### Checking whether there are self-loops in the graph\n",
    "\n",
    "As Eric discussed, NetworkX also allows edges that begin and end on the same node; while this would be non-intuitive for a social network graph, it is useful to model data such as trip networks, in which individuals begin at one location and end in another.\n",
    "\n",
    "It is useful to check for this before proceeding with further analyses, and NetworkX graphs provide a method for this purpose: `.number_of_selfloops().`\n",
    "\n",
    "In this exercise as well as later ones, you'll find the `assert` statement useful. An `assert`-ions checks whether the statement placed after it evaluates to True, otherwise it will throw an `AssertionError`.\n",
    "\n",
    "To begin, use the `.number_of_selfloops()` method on `T` in the IPython Shell to get the number of edges that begin and end on the same node. A number of self-loops have been synthetically added to the graph. Your job in this exercise is to write a function that returns these edges.\n",
    "\n",
    "**Instructions**\n",
    "\n",
    "- Define a function called `find_selfloop_nodes()` which takes one argument: `G`.\n",
    " - Using a `for` loop, iterate over all the edges in `G` (excluding the metadata).\n",
    " - If node `u` is equal to node `v`:\n",
    "   - Append `u` to the list `nodes_in_selfloops`.\n",
    "   - Return the list `nodes_in_selfloops`.\n",
    "- Check that the number of self loops in the graph equals the number of nodes in self loops. This has been done for you, so hit 'Submit Answer' to see the result!"
   ]
  },
  {
   "cell_type": "code",
   "execution_count": null,
   "metadata": {},
   "outputs": [],
   "source": [
    "# Define find_selfloop_nodes()\n",
    "def find_selfloop_nodes(G):\n",
    "    \"\"\"\n",
    "    Finds all nodes that have self-loops in the graph G.\n",
    "    \"\"\"\n",
    "    nodes_in_selfloops = []\n",
    "\n",
    "    # Iterate over all the edges of G\n",
    "    for u, v in G.edges():\n",
    "\n",
    "    # Check if node u and node v are the same\n",
    "        if u == v:\n",
    "\n",
    "            # Append node u to nodes_in_selfloops\n",
    "            nodes_in_selfloops.append(u)\n",
    "\n",
    "    return nodes_in_selfloops\n",
    "\n",
    "# Check whether number of self loops equals the number of nodes in self loops\n",
    "# number_of_selfloops() is deprecated\n",
    "assert len(list(nx.selfloop_edges(T))) == len(find_selfloop_nodes(T))"
   ]
  },
  {
   "cell_type": "code",
   "execution_count": null,
   "metadata": {},
   "outputs": [],
   "source": [
    "len(list(nx.selfloop_edges(T)))"
   ]
  },
  {
   "cell_type": "markdown",
   "metadata": {},
   "source": [
    "**There are 42 nodes in T that have self-loops.**"
   ]
  },
  {
   "cell_type": "markdown",
   "metadata": {},
   "source": [
    "## Network Visualization"
   ]
  },
  {
   "cell_type": "markdown",
   "metadata": {},
   "source": [
    "### Visualizing using Matrix plots\n",
    "\n",
    "It is time to try your first \"fancy\" graph visualization method: a matrix plot. To do this, nxviz provides a MatrixPlot object.\n",
    "\n",
    "nxviz is a package for visualizing graphs in a rational fashion. Under the hood, the MatrixPlot utilizes nx.to_numpy_matrix(G), which returns the matrix form of the graph. Here, each node is one column and one row, and an edge between the two nodes is indicated by the value 1. In doing so, however, only the weight metadata is preserved; all other metadata is lost, as you'll verify using an assert statement.\n",
    "\n",
    "A corresponding nx.from_numpy_matrix(A) allows one to quickly create a graph from a NumPy matrix. The default graph type is Graph(); if you want to make it a DiGraph(), that has to be specified using the create_using keyword argument, e.g. (nx.from_numpy_matrix(A, create_using=nx.DiGraph)).\n",
    "\n",
    "One final note, matplotlib.pyplot and networkx have already been imported as plt and nx, respectively, and the graph T has been pre-loaded. For simplicity and speed, we have sub-sampled only 100 edges from the network.\n",
    "\n",
    "Instructions\n",
    "100 XP\n",
    "Import nxviz as nv.\n",
    "Plot the graph T as a matrix plot. To do this:\n",
    "Create the MatrixPlot object called m using the nv.MatrixPlot() function with T passed in as an argument.\n",
    "Draw the m to the screen using the .draw() method.\n",
    "Display the plot using plt.show().\n",
    "Convert the graph to a matrix format, and then convert the graph to back to the NetworkX form from the matrix as a directed graph. This has been done for you.\n",
    "Check that the category metadata field is lost from each node. This has also been done for you, so hit 'Submit Answer' to see the results!"
   ]
  },
  {
   "cell_type": "code",
   "execution_count": null,
   "metadata": {},
   "outputs": [],
   "source": []
  },
  {
   "cell_type": "markdown",
   "metadata": {},
   "source": [
    "### Visualizing using Circos plots\n",
    "\n",
    "Circos plots are a rational, non-cluttered way of visualizing graph data, in which nodes are ordered around the circumference in some fashion, and the edges are drawn within the circle that results, giving a beautiful as well as informative visualization about the structure of the network.\n",
    "\n",
    "In this exercise, you'll continue getting practice with the nxviz API, this time with the CircosPlot object. matplotlib.pyplot has been imported for you as plt.\n",
    "\n",
    "Instructions\n",
    "100 XP\n",
    "Import CircosPlot from nxviz.\n",
    "Plot the Twitter network T as a Circos plot without any styling. Use the CircosPlot() function to do this. Don't forget to draw it to the screen using .draw() and then display it using plt.show()."
   ]
  },
  {
   "cell_type": "code",
   "execution_count": null,
   "metadata": {},
   "outputs": [],
   "source": []
  },
  {
   "cell_type": "markdown",
   "metadata": {},
   "source": [
    "### Visualizing using Arc plots\n",
    "\n",
    "Following on what you've learned about the nxviz API, now try making an ArcPlot of the network. Two keyword arguments that you will try here are node_order='keyX' and node_color='keyX', in which you specify a key in the node metadata dictionary to color and order the nodes by.\n",
    "\n",
    "matplotlib.pyplot has been imported for you as plt.\n",
    "\n",
    "Instructions\n",
    "100 XP\n",
    "Import ArcPlot from nxviz.\n",
    "Create an un-customized ArcPlot of T. To do this, use the ArcPlot() function with just T as the argument.\n",
    "Create another ArcPlot of T in which the nodes are ordered and colored by the 'category' keyword. You'll have to specify the node_order and node_color parameters to do this. For both plots, be sure to draw them to the screen and display them with plt.show().\n"
   ]
  },
  {
   "cell_type": "code",
   "execution_count": null,
   "metadata": {},
   "outputs": [],
   "source": []
  },
  {
   "cell_type": "markdown",
   "metadata": {},
   "source": [
    "# Important nodes\n",
    "\n",
    "You'll learn about ways to identify nodes that are important in a network. In doing so, you'll be introduced to more advanced concepts in network analysis as well as the basics of path-finding algorithms. The chapter concludes with a deep dive into the Twitter network dataset which will reinforce the concepts you've learned, such as degree centrality and betweenness centrality."
   ]
  },
  {
   "cell_type": "markdown",
   "metadata": {},
   "source": [
    "## Degree Centrality"
   ]
  },
  {
   "cell_type": "markdown",
   "metadata": {},
   "source": [
    "### Compute number of neighbors for each node\n",
    "\n",
    "How do you evaluate whether a node is an important one or not? There are a few ways to do so, and here, you're going to look at one metric: the number of neighbors that a node has.\n",
    "\n",
    "Every NetworkX graph G exposes a .neighbors(n) method that returns a list of nodes that are the neighbors of the node n. To begin, use this method in the IPython Shell on the Twitter network T to get the neighbors of of node 1. This will get you familiar with how the function works. Then, your job in this exercise is to write a function that returns all nodes that have m neighbors.\n",
    "\n",
    "Instructions\n",
    "100 XP\n",
    "Write a function called nodes_with_m_nbrs() that has two parameters - G and m - and returns all nodes that have m neighbors. To do this:\n",
    "Iterate over all nodes in G (not including the metadata).\n",
    "Use the len() and list() functions together with the .neighbors() method to calculate the total number of neighbors that node n in graph G has.\n",
    "If the number of neighbors of node n is equal to m, add n to the set nodes using the .add() method.\n",
    "After iterating over all the nodes in G, return the set nodes.\n",
    "Use your nodes_with_m_nbrs() function to retrieve all the nodes that have 6 neighbors in the graph T."
   ]
  },
  {
   "cell_type": "code",
   "execution_count": null,
   "metadata": {},
   "outputs": [],
   "source": []
  },
  {
   "cell_type": "markdown",
   "metadata": {},
   "source": [
    "### Compute degree distribution\n",
    "\n",
    "The number of neighbors that a node has is called its \"degree\", and it's possible to compute the degree distribution across the entire graph. In this exercise, your job is to compute the degree distribution across T.\n",
    "\n",
    "Instructions\n",
    "100 XP\n",
    "Use a list comprehension along with the .neighbors(n) method to get the degree of every node. The result should be a list of integers.\n",
    "Use n as your iterator variable.\n",
    "The output expression of your list comprehension should be the number of neighbors that node n has - that is, its degree. Use the len() and list() functions together with the .neighbors() method to compute this.\n",
    "The iterable in your list comprehension is all the nodes in T, accessed using the .nodes() method.\n",
    "Print the degrees."
   ]
  },
  {
   "cell_type": "code",
   "execution_count": null,
   "metadata": {},
   "outputs": [],
   "source": []
  },
  {
   "cell_type": "markdown",
   "metadata": {},
   "source": [
    "### Degree centrality distribution\n",
    "\n",
    "The degree of a node is the number of neighbors that it has. The degree centrality is the number of neighbors divided by all possible neighbors that it could have. Depending on whether self-loops are allowed, the set of possible neighbors a node could have could also include the node itself.\n",
    "\n",
    "The nx.degree_centrality(G) function returns a dictionary, where the keys are the nodes and the values are their degree centrality values.\n",
    "\n",
    "The degree distribution degrees you computed in the previous exercise using the list comprehension has been pre-loaded.\n",
    "\n",
    "Instructions\n",
    "100 XP\n",
    "Compute the degree centrality of the Twitter network T.\n",
    "Using plt.hist(), plot a histogram of the degree centrality distribution of T. This can be accessed using list(deg_cent.values()).\n",
    "Plot a histogram of the degree distribution degrees of T. This is the same list you computed in the last exercise.\n",
    "Create a scatter plot with degrees on the x-axis and the degree centrality distribution list(deg_cent.values()) on the y-axis."
   ]
  },
  {
   "cell_type": "code",
   "execution_count": null,
   "metadata": {},
   "outputs": [],
   "source": []
  },
  {
   "cell_type": "markdown",
   "metadata": {},
   "source": [
    "## Graph Algorithms"
   ]
  },
  {
   "cell_type": "markdown",
   "metadata": {},
   "source": [
    "### Shortest Path I\n",
    "\n",
    "You can leverage what you know about finding neighbors to try finding paths in a network. One algorithm for path-finding between two nodes is the \"breadth-first search\" (BFS) algorithm. In a BFS algorithm, you start from a particular node and iteratively search through its neighbors and neighbors' neighbors until you find the destination node.\n",
    "\n",
    "Pathfinding algorithms are important because they provide another way of assessing node importance; you'll see this in a later exercise.\n",
    "\n",
    "In this set of 3 exercises, you're going to build up slowly to get to the final BFS algorithm. The problem has been broken into 3 parts that, if you complete in succession, will get you to a first pass implementation of the BFS algorithm.\n",
    "\n",
    "Instructions\n",
    "100 XP\n",
    "Create a function called path_exists() that has 3 parameters - G, node1, and node2 - and returns whether or not a path exists between the two nodes.\n",
    "Initialize the queue of nodes to visit with the first node, node1. queue should be a list.\n",
    "Iterate over the nodes in queue.\n",
    "Get the neighbors of the node using the .neighbors() method of the graph G.\n",
    "Check to see if the destination node node2 is in the set of neighbors. If it is, return True."
   ]
  },
  {
   "cell_type": "code",
   "execution_count": null,
   "metadata": {},
   "outputs": [],
   "source": []
  },
  {
   "cell_type": "markdown",
   "metadata": {},
   "source": [
    "### Shortest Path II\n",
    "\n",
    "Now that you've got the code for checking whether the destination node is present in neighbors, next up, you're going to extend the same function to write the code for the condition where the destination node is not present in the neighbors.\n",
    "\n",
    "All the code you need to write is in the else condition; that is, if node2 is not in neighbors.\n",
    "\n",
    "Instructions\n",
    "100 XP\n",
    "Using the .add() method, add the current node node to the set visited_nodes to keep track of what nodes have already been visited.\n",
    "Add the neighbors of the current node node that have not yet been visited to queue. To do this, you'll need to use the .extend() method of queue together with a list comprehension. The .extend() method appends all the items in a given list.\n",
    "The output expression and iterator variable of the list comprehension are both n. The iterable is the list neighbors, and the conditional is if n is not in the visited nodes."
   ]
  },
  {
   "cell_type": "code",
   "execution_count": null,
   "metadata": {},
   "outputs": [],
   "source": []
  },
  {
   "cell_type": "markdown",
   "metadata": {},
   "source": [
    "### Shortest Path III\n",
    "\n",
    "This is the final exercise of this trio! You're now going to complete the problem by writing the code that returns False if there's no path between two nodes.\n",
    "\n",
    "Instructions\n",
    "100 XP\n",
    "Check to see if the queue has been emptied. You can do this by inspecting the last element of queue with [-1].\n",
    "Place the appropriate return statement for indicating whether there's a path between these two nodes."
   ]
  },
  {
   "cell_type": "code",
   "execution_count": null,
   "metadata": {},
   "outputs": [],
   "source": []
  },
  {
   "cell_type": "markdown",
   "metadata": {},
   "source": [
    "## Betweenness Centrality"
   ]
  },
  {
   "cell_type": "markdown",
   "metadata": {},
   "source": [
    "### NetworkX betweenness centrality on a social network\n",
    "\n",
    "Betweenness centrality is a node importance metric that uses information about the shortest paths in a network. It is defined as the fraction of all possible shortest paths between any pair of nodes that pass through the node.\n",
    "\n",
    "NetworkX provides the nx.betweenness_centrality(G) function for computing the betweenness centrality of every node in a graph, and it returns a dictionary where the keys are the nodes and the values are their betweenness centrality measures.\n",
    "\n",
    "Instructions\n",
    "100 XP\n",
    "Compute the betweenness centrality bet_cen of the nodes in the graph T.\n",
    "Compute the degree centrality deg_cen of the nodes in the graph T.\n",
    "Compare betweenness centrality to degree centrality by creating a scatterplot of the two, with list(bet_cen.values()) on the x-axis and list(deg_cen.values()) on the y-axis."
   ]
  },
  {
   "cell_type": "code",
   "execution_count": null,
   "metadata": {},
   "outputs": [],
   "source": []
  },
  {
   "cell_type": "markdown",
   "metadata": {},
   "source": [
    "### Deep dive - Twitter network\n",
    "\n",
    "You're going to now take a deep dive into a Twitter network, which will help reinforce what you've learned earlier. First, you're going to find the nodes that can broadcast messages very efficiently to lots of people one degree of separation away.\n",
    "\n",
    "NetworkX has been pre-imported for you as nx.\n",
    "\n",
    "Instructions\n",
    "100 XP\n",
    "Write a function find_nodes_with_highest_deg_cent(G) that returns the node(s) with the highest degree centrality using the following steps:\n",
    "Compute the degree centrality of G.\n",
    "Compute the maximum degree centrality using the max() function on list(deg_cent.values()).\n",
    "Iterate over the degree centrality dictionary, deg_cent.items().\n",
    "If the degree centrality value v of the current node k is equal to max_dc, add it to the set of nodes.\n",
    "Use your function to find the node(s) that has the highest degree centrality in T.\n",
    "Write an assertion statement that checks that the node(s) is/are correctly identified. This has been done for you, so hit 'Submit Answer' to see the result!"
   ]
  },
  {
   "cell_type": "code",
   "execution_count": null,
   "metadata": {},
   "outputs": [],
   "source": []
  },
  {
   "cell_type": "markdown",
   "metadata": {},
   "source": [
    "### Deep dive - Twitter network part II\n",
    "\n",
    "Next, you're going to do an analogous deep dive on betweenness centrality! Just a few hints to help you along: remember that betweenness centrality is computed using nx.betweenness_centrality(G).\n",
    "\n",
    "Instructions\n",
    "100 XP\n",
    "Write a function find_node_with_highest_bet_cent(G) that returns the node(s) with the highest betweenness centrality.\n",
    "Compute the betweenness centrality of G.\n",
    "Compute the maximum betweenness centrality using the max() function on list(bet_cent.values()).\n",
    "Iterate over the degree centrality dictionary, bet_cent.items().\n",
    "If the degree centrality value v of the current node k is equal to max_bc, add it to the set of nodes.\n",
    "Use your function to find the node(s) that has the highest betweenness centrality in T.\n",
    "Write an assertion statement that you've got the right node. This has been done for you, so hit 'Submit Answer' to see the result!"
   ]
  },
  {
   "cell_type": "code",
   "execution_count": null,
   "metadata": {},
   "outputs": [],
   "source": []
  },
  {
   "cell_type": "markdown",
   "metadata": {},
   "source": [
    "# Structures\n",
    "\n",
    "This chapter is all about finding interesting structures within network data. You'll learn about essential concepts such as cliques, communities, and subgraphs, which will leverage all of the skills you acquired in Chapter 2. By the end of this chapter, you'll be ready to apply the concepts you've learned to a real-world case study."
   ]
  },
  {
   "cell_type": "markdown",
   "metadata": {},
   "source": [
    "## Communities & Cliques"
   ]
  },
  {
   "cell_type": "markdown",
   "metadata": {},
   "source": [
    "### Identifying triangle relationships\n",
    "\n",
    "Now that you've learned about cliques, it's time to try leveraging what you know to find structures in a network. Triangles are what you'll go for first. We may be interested in triangles because they're the simplest complex clique. Let's write a few functions; these exercises will bring you through the fundamental logic behind network algorithms.\n",
    "\n",
    "In the Twitter network, each node has an 'occupation' label associated with it, in which the Twitter user's work occupation is divided into celebrity, politician and scientist. One potential application of triangle-finding algorithms is to find out whether users that have similar occupations are more likely to be in a clique with one another.\n",
    "\n",
    "Instructions\n",
    "100 XP\n",
    "Import combinations from itertools.\n",
    "Write a function is_in_triangle() that has two parameters - G and n - and checks whether a given node is in a triangle relationship or not.\n",
    "combinations(iterable, n) returns combinations of size n from iterable. This will be useful here, as you want combinations of size 2 from G.neighbors(n).\n",
    "To check whether an edge exists between two nodes, use the .has_edge(node1, node2) method. If an edge exists, then the given node is in a triangle relationship, and you should return True."
   ]
  },
  {
   "cell_type": "code",
   "execution_count": null,
   "metadata": {},
   "outputs": [],
   "source": []
  },
  {
   "cell_type": "markdown",
   "metadata": {},
   "source": [
    "### Finding nodes involved in triangles\n",
    "\n",
    "NetworkX provides an API for counting the number of triangles that every node is involved in: nx.triangles(G). It returns a dictionary of nodes as the keys and number of triangles as the values. Your job in this exercise is to modify the function defined earlier to extract all of the nodes involved in a triangle relationship with a given node.\n",
    "\n",
    "Instructions\n",
    "100 XP\n",
    "Write a function nodes_in_triangle() that has two parameters - G and n - and identifies all nodes in a triangle relationship with a given node.\n",
    "In the for loop, iterate over all possible triangle relationship combinations.\n",
    "Check whether the nodes n1 and n2 have an edge between them. If they do, add both nodes to the set triangle_nodes.\n",
    "Use your function in an assert statement to check that the number of nodes involved in a triangle relationship with node 1 of graph T is equal to 35."
   ]
  },
  {
   "cell_type": "code",
   "execution_count": null,
   "metadata": {},
   "outputs": [],
   "source": []
  },
  {
   "cell_type": "markdown",
   "metadata": {},
   "source": [
    "### Finding open triangles\n",
    "\n",
    "Let us now move on to finding open triangles! Recall that they form the basis of friend recommendation systems; if \"A\" knows \"B\" and \"A\" knows \"C\", then it's probable that \"B\" also knows \"C\".\n",
    "\n",
    "Instructions\n",
    "100 XP\n",
    "Write a function node_in_open_triangle() that has two parameters - G and n - and identifies whether a node is present in an open triangle with its neighbors.\n",
    "In the for loop, iterate over all possible triangle relationship combinations.\n",
    "If the nodes n1 and n2 do not have an edge between them, set in_open_triangle to True, break out from the if statement and return in_open_triangle.\n",
    "Use this function to count the number of open triangles that exist in T.\n",
    "In the for loop, iterate over all the nodes in T.\n",
    "If the current node n is in an open triangle, increment num_open_triangles."
   ]
  },
  {
   "cell_type": "code",
   "execution_count": null,
   "metadata": {},
   "outputs": [],
   "source": []
  },
  {
   "cell_type": "markdown",
   "metadata": {},
   "source": [
    "## Maximal Cliques"
   ]
  },
  {
   "cell_type": "markdown",
   "metadata": {},
   "source": [
    "### Finding all maximal cliques of size \"n\"\n",
    "\n",
    "Now that you've explored triangles (and open triangles), let's move on to the concept of maximal cliques. Maximal cliques are cliques that cannot be extended by adding an adjacent edge, and are a useful property of the graph when finding communities. NetworkX provides a function that allows you to identify the nodes involved in each maximal clique in a graph: nx.find_cliques(G). Play around with the function by using it on T in the IPython Shell, and then try answering the exercise.\n",
    "\n",
    "Instructions\n",
    "100 XP\n",
    "Write a function maximal_cliques() that has two parameters - G and size - and finds all maximal cliques of size n.\n",
    "In the for loop, iterate over all the cliques in G using the nx.find_cliques() function.\n",
    "If the current clique is of size size, append it to the list mcs.\n",
    "Use an assert statement and your maximal_cliques() function to check that there are 33 maximal cliques of size 3 in the graph T."
   ]
  },
  {
   "cell_type": "code",
   "execution_count": null,
   "metadata": {},
   "outputs": [],
   "source": []
  },
  {
   "cell_type": "markdown",
   "metadata": {},
   "source": [
    "## Subgraphs"
   ]
  },
  {
   "cell_type": "markdown",
   "metadata": {},
   "source": [
    "### Subgraphs I\n",
    "\n",
    "There may be times when you just want to analyze a subset of nodes in a network. To do so, you can copy them out into another graph object using G.subgraph(nodes), which returns a new graph object (of the same type as the original graph) that is comprised of the iterable of nodes that was passed in.\n",
    "\n",
    "matplotlib.pyplot has been imported for you as plt.\n",
    "\n",
    "Instructions\n",
    "100 XP\n",
    "Write a function get_nodes_and_nbrs(G, nodes_of_interest) that extracts the subgraph from graph G comprised of the nodes_of_interest and their neighbors.\n",
    "In the first for loop, iterate over nodes_of_interest and append the current node n to nodes_to_draw.\n",
    "In the second for loop, iterate over the neighbors of n, and append all the neighbors nbr to nodes_to_draw.\n",
    "Use the function to extract the subgraph from T comprised of nodes 29, 38, and 42 (contained in the pre-defined list nodes_of_interest) and their neighbors. Save the result as T_draw.\n",
    "Draw the subgraph T_draw to the screen."
   ]
  },
  {
   "cell_type": "code",
   "execution_count": null,
   "metadata": {},
   "outputs": [],
   "source": []
  },
  {
   "cell_type": "markdown",
   "metadata": {},
   "source": [
    "### Subgraphs II\n",
    "\n",
    "In the previous exercise, we gave you a list of nodes whose neighbors we asked you to extract.\n",
    "\n",
    "Let's try one more exercise in which you extract nodes that have a particular metadata property and their neighbors. This should hark back to what you've learned about using list comprehensions to find nodes. The exercise will also build your capacity to compose functions that you've already written before.\n",
    "\n",
    "Instructions\n",
    "100 XP\n",
    "Using a list comprehension, extract nodes that have the metadata 'occupation' as 'celebrity' alongside their neighbors:\n",
    "The output expression of the list comprehension is n, and there are two iterator variables: n and d. The iterable is the list of nodes of T (including the metadata, which you can specify using data=True) and the conditional expression is if the 'occupation' key of the metadata dictionary d equals 'celebrity'.\n",
    "Place them in a new subgraph called T_sub. To do this:\n",
    "Iterate over the nodes, compute the neighbors of each node, and add them to the set of nodes nodeset by using the .union() method. This last part has been done for you.\n",
    "Use nodeset along with the T.subgraph() method to calculate T_sub.\n",
    "Draw T_sub to the screen."
   ]
  },
  {
   "cell_type": "code",
   "execution_count": null,
   "metadata": {},
   "outputs": [],
   "source": []
  },
  {
   "cell_type": "markdown",
   "metadata": {},
   "source": [
    "# Bringing it all together\n",
    "\n",
    "In this final chapter of the course, you'll consolidate everything you've learned through an in-depth case study of GitHub collaborator network data. This is a great example of real-world social network data, and your newly acquired skills will be fully tested. By the end of this chapter, you'll have developed your very own recommendation system to connect GitHub users who should collaborate together."
   ]
  },
  {
   "cell_type": "markdown",
   "metadata": {},
   "source": [
    "## Case Study"
   ]
  },
  {
   "cell_type": "markdown",
   "metadata": {},
   "source": [
    "### Characterizing the network (I)\n",
    "To start out, let's do some basic characterization of the network, by looking at the number of nodes and number of edges in a network. It has been pre-loaded as G and is available for exploration in the IPython Shell. Your job in this exercise is to identify how many nodes and edges are present in the network. You can use the functions len(G.nodes()) and len(G.edges()) to calculate the number of nodes and edges respectively.\n",
    "\n",
    "Instructions\n",
    "50 XP\n",
    "Possible Answers\n",
    "- 72900 nodes, 56519 edges.\n",
    "- 56519 nodes, 72900 edges.\n",
    "- 47095 nodes, 65789 edges.\n",
    "- 63762 nodes, 71318 edges."
   ]
  },
  {
   "cell_type": "markdown",
   "metadata": {},
   "source": [
    "### Characterizing the network (II)\n",
    "\n",
    "Let's continue recalling what you've learned before about node importances, by plotting the degree distribution of a network. This is the distribution of node degrees computed across all nodes in a network.\n",
    "\n",
    "Instructions\n",
    "100 XP\n",
    "Plot the degree distribution of the GitHub collaboration network G. Recall that there are four steps involved here:\n",
    "Calculating the degree centrality of G.\n",
    "Using the .values() method of G and converting it into a list.\n",
    "Passing the list of degree distributions to plt.hist().\n",
    "Displaying the histogram with plt.show()."
   ]
  },
  {
   "cell_type": "code",
   "execution_count": null,
   "metadata": {},
   "outputs": [],
   "source": []
  },
  {
   "cell_type": "markdown",
   "metadata": {},
   "source": [
    "### Characterizing the network (III)\n",
    "\n",
    "The last exercise was on degree centrality; this time round, let's recall betweenness centrality!\n",
    "\n",
    "A small note: if executed correctly, this exercise may need about 5 seconds to execute.\n",
    "\n",
    "Instructions\n",
    "100 XP\n",
    "Plot the betweenness centrality distribution of the GitHub collaboration network. You have to follow exactly the same four steps as in the previous exercise, substituting nx.betweenness_centrality() in place of nx.degree_centrality()."
   ]
  },
  {
   "cell_type": "code",
   "execution_count": null,
   "metadata": {},
   "outputs": [],
   "source": []
  },
  {
   "cell_type": "markdown",
   "metadata": {},
   "source": [
    "## Case Study: Visualization"
   ]
  },
  {
   "cell_type": "markdown",
   "metadata": {},
   "source": [
    "### MatrixPlot\n",
    "\n",
    "Let's now practice making some visualizations. The first one will be the MatrixPlot. In a MatrixPlot, the matrix is the representation of the edges.\n",
    "\n",
    "Instructions\n",
    "100 XP\n",
    "Make a MatrixPlot visualization of the largest connected component subgraph, with authors grouped by their user group number.\n",
    "First, calculate the largest connected component subgraph by using the nx.connected_component_subgraphs(G) inside the provided sorted() function. Python's built-in sorted() function takes an iterable and returns a sorted list (in ascending order, by default). Therefore, to access the largest connected component subgraph, the statement is sliced with [-1].\n",
    "Create the MatrixPlot object h. You have to specify the parameters graph and node_grouping to be the largest connected component subgraph and 'grouping', respectively.\n",
    "Draw the MatrixPlot object to the screen and display the plot."
   ]
  },
  {
   "cell_type": "code",
   "execution_count": null,
   "metadata": {},
   "outputs": [],
   "source": []
  },
  {
   "cell_type": "markdown",
   "metadata": {},
   "source": [
    "### ArcPlot\n",
    "\n",
    "Next up, let's use the ArcPlot to visualize the network. You're going to practice sorting the nodes in the graph as well.\n",
    "\n",
    "Note: this exercise may take about 4-7 seconds to execute if done correctly.\n",
    "\n",
    "Instructions\n",
    "100 XP\n",
    "Make an ArcPlot of the GitHub collaboration network, with authors sorted by degree. To do this:\n",
    "Iterate over all the nodes in G, including the metadata (by specifying data=True).\n",
    "In each iteration of the loop, calculate the degree of each node n with nx.degree() and set its 'degree' attribute. nx.degree() accepts two arguments: A graph and a node.\n",
    "Create the ArcPlot object a by specifying two parameters: the graph, which is G, and the node_order, which is 'degree', so that the nodes are sorted.\n",
    "Draw the ArcPlot object to the screen."
   ]
  },
  {
   "cell_type": "code",
   "execution_count": null,
   "metadata": {},
   "outputs": [],
   "source": []
  },
  {
   "cell_type": "markdown",
   "metadata": {},
   "source": [
    "### CircosPlot\n",
    "\n",
    "Finally, you're going to make a CircosPlot of the network!\n",
    "\n",
    "Instructions\n",
    "100 XP\n",
    "Make a CircosPlot of the network, again, with GitHub users sorted by their degree, and grouped and coloured by their 'grouping' key. To do this:\n",
    "Iterate over all the nodes in G, including the metadata (by specifying data=True).\n",
    "In each iteration of the loop, calculate the degree of each node n with nx.degree() and set its 'degree' attribute.\n",
    "Create the CircosPlot object c by specifying three parameters in addition to the graph G: the node_order, which is 'degree', the node_grouping and the node_color, which are both 'grouping'.\n",
    "Draw the CircosPlot object to the screen."
   ]
  },
  {
   "cell_type": "code",
   "execution_count": null,
   "metadata": {},
   "outputs": [],
   "source": []
  },
  {
   "cell_type": "markdown",
   "metadata": {},
   "source": [
    "## Case Study: Cliques"
   ]
  },
  {
   "cell_type": "markdown",
   "metadata": {},
   "source": [
    "### Finding cliques (I)\n",
    "\n",
    "You're now going to practice finding cliques in G. Recall that cliques are \"groups of nodes that are fully connected to one another\", while a maximal clique is a clique that cannot be extended by adding another node in the graph.\n",
    "\n",
    "Instructions\n",
    "100 XP\n",
    "Count the number of maximal cliques present in the graph and print it.\n",
    "Use the nx.find_cliques() function of G to find the maximal cliques.\n",
    "The nx.find_cliques() function returns a generator object. To count the number of maximal cliques, you need to first convert it to a list with list() and then use the len() function. Place this inside a print() function to print it."
   ]
  },
  {
   "cell_type": "code",
   "execution_count": null,
   "metadata": {},
   "outputs": [],
   "source": []
  },
  {
   "cell_type": "markdown",
   "metadata": {},
   "source": [
    "### Finding cliques (II)\n",
    "\n",
    "Great work! Let's continue by finding a particular maximal clique, and then plotting that clique.\n",
    "\n",
    "Instructions\n",
    "100 XP\n",
    "Find the author(s) that are part of the largest maximal clique, and plot the subgraph of that/one of those clique(s) using a CircosPlot. To do this:\n",
    "Use the nx.find_cliques() function to calculate the maximal cliques in G. Place this within the provided sorted() function to calculate the largest maximal clique.\n",
    "Create the subgraph consisting of the largest maximal clique using the .subgraph() method and largest_clique.\n",
    "Create the CircosPlot object using the subgraph G_lc (without any other arguments) and plot it."
   ]
  },
  {
   "cell_type": "code",
   "execution_count": null,
   "metadata": {},
   "outputs": [],
   "source": []
  },
  {
   "cell_type": "markdown",
   "metadata": {},
   "source": [
    "## Case Study: Final Tasks"
   ]
  },
  {
   "cell_type": "markdown",
   "metadata": {},
   "source": [
    "### Finding important collaborators\n",
    "\n",
    "Almost there! You'll now look at important nodes once more. Here, you'll make use of the degree_centrality() and betweenness_centrality() functions in NetworkX to compute each of the respective centrality scores, and then use that information to find the \"important nodes\". In other words, your job in this exercise is to find the user(s) that have collaborated with the most number of users.\n",
    "\n",
    "Instructions\n",
    "100 XP\n",
    "Compute the degree centralities of G. Store the result as deg_cent.\n",
    "Compute the maximum degree centrality. Since deg_cent is a dictionary, you'll have to use the .values() method to get a list of its values before computing the maximum degree centrality with max().\n",
    "Identify the most prolific collaborators using a list comprehension:\n",
    "Iterate over the degree centrality dictionary deg_cent that was computed earlier using its .items() method. What condition should be satisfied if you are seeking to find user(s) that have collaborated with the most number of users? Hint: It has do to with the maximum degree centrality.\n",
    "Hit 'Submit Answer' to see who the most prolific collaborator(s) is/are!"
   ]
  },
  {
   "cell_type": "code",
   "execution_count": null,
   "metadata": {},
   "outputs": [],
   "source": []
  },
  {
   "cell_type": "markdown",
   "metadata": {},
   "source": [
    "### Characterizing editing communities\n",
    "\n",
    "You're now going to combine what you've learned about the BFS algorithm and concept of maximal cliques to visualize the network with an ArcPlot.\n",
    "\n",
    "The largest maximal clique in the Github user collaboration network has been assigned to the subgraph G_lmc. Note that for NetworkX version 2.x and later, G.subgraph(nodelist) returns only an immutable view on the original graph. We must explicitly ask for a .copy() of the graph to obtain a mutatable version.\n",
    "\n",
    "Instructions\n",
    "100 XP\n",
    "Go out 1 degree of separation from the clique, and add those users to the subgraph. Inside the first for loop:\n",
    "Add nodes to G_lmc from the neighbors of G using the .add_nodes_from() and .neighbors() methods.\n",
    "Using the .add_edges_from(), method, add edges to G_lmc between the current node and all its neighbors. To do this, you'll have create a list of tuples using the zip() function consisting of the current node and each of its neighbors. The first argument to zip() should be [node]*len(list(G.neighbors(node))), and the second argument should be the neighbors of node.\n",
    "Record each node's degree centrality score in its node metadata.\n",
    "Do this by assigning nx.degree_centrality(G_lmc)[n] to G_lmc.node[n]['degree centrality'] in the second for loop.\n",
    "Visualize this network with an ArcPlot sorting the nodes by degree centrality (you can do this using the keyword argument node_order='degree centrality').\n"
   ]
  },
  {
   "cell_type": "code",
   "execution_count": null,
   "metadata": {},
   "outputs": [],
   "source": []
  },
  {
   "cell_type": "markdown",
   "metadata": {},
   "source": [
    "### Recommending co-editors who have yet to edit together\n",
    "\n",
    "Finally, you're going to leverage the concept of open triangles to recommend users on GitHub to collaborate!\n",
    "\n",
    "Instructions\n",
    "100 XP\n",
    "Compile a list of GitHub users that should be recommended to collaborate with one another. To do this:\n",
    "In the first for loop, iterate over all the nodes in G, including the metadata (by specifying data=True).\n",
    "In the second for loop, iterate over all the possible triangle combinations, which can be identified using the combinations() function with a size of 2.\n",
    "If n1 and n2 do not have an edge between them, a collaboration between these two nodes (users) should be recommended, so increment the (n1), (n2) value of the recommended dictionary in this case. You can check whether or not n1 and n2 have an edge between them using the .has_edge() method.\n",
    "Using a list comprehension, identify the top 10 pairs of users that should be recommended to collaborate. The iterable should be the key-value pairs of the recommended dictionary (which can be accessed with the .items() method), while the conditional should be satisfied if count is greater than the top 10 in all_counts. Note that all_counts is sorted in ascending order, so you can access the top 10 with all_counts[-10]."
   ]
  },
  {
   "cell_type": "code",
   "execution_count": null,
   "metadata": {},
   "outputs": [],
   "source": []
  },
  {
   "cell_type": "markdown",
   "metadata": {},
   "source": [
    "# Certificate\n",
    "\n",
    "![](https://raw.githubusercontent.com/trenton3983/DataCamp/master/Images/jpd_dir/file.jpg)"
   ]
  }
 ],
 "metadata": {
  "kernelspec": {
   "display_name": "Python 3",
   "language": "python",
   "name": "python3"
  },
  "language_info": {
   "codemirror_mode": {
    "name": "ipython",
    "version": 3
   },
   "file_extension": ".py",
   "mimetype": "text/x-python",
   "name": "python",
   "nbconvert_exporter": "python",
   "pygments_lexer": "ipython3",
   "version": "3.7.7"
  }
 },
 "nbformat": 4,
 "nbformat_minor": 4
}
