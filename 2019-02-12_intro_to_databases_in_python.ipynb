{
 "cells": [
  {
   "cell_type": "code",
   "execution_count": null,
   "metadata": {},
   "outputs": [],
   "source": [
    "import pandas as pd\n",
    "from sqlalchemy import create_engine, Table, MetaData"
   ]
  },
  {
   "cell_type": "code",
   "execution_count": null,
   "metadata": {},
   "outputs": [],
   "source": [
    "pd.set_option('max_columns', 200)\n",
    "pd.set_option('max_rows', 300)\n",
    "pd.set_option('display.expand_frame_repr', True)"
   ]
  },
  {
   "cell_type": "markdown",
   "metadata": {},
   "source": [
    "### Data Files Location\n",
    "\n",
    "* Most data files for the exercises can be found on the [course site](#https://www.datacamp.com/courses/introduction-to-relational-databases-in-python)\n",
    "    * [Census (CSV)](#https://assets.datacamp.com/production/repositories/274/datasets/7a5a4567430ee737c70994d1c4747f252e0fd527/census.csv)\n",
    "    * [Census (SQLite)](#https://assets.datacamp.com/production/repositories/274/datasets/f6eda83e7fb90ac06a22af4132a355933763785c/census.sqlite)\n",
    "    * [Employees (SQLite)](#https://assets.datacamp.com/production/repositories/274/datasets/af705f788c225cad7e6ef405ed5490db36ed03bf/employees.sqlite)    \n",
    "* Other data files may be found in my [DataCamp repository](#https://github.com/trenton3983/DataCamp/tree/master/data)"
   ]
  },
  {
   "cell_type": "markdown",
   "metadata": {},
   "source": [
    "### Data File Objects"
   ]
  },
  {
   "cell_type": "code",
   "execution_count": null,
   "metadata": {},
   "outputs": [],
   "source": [
    "census_csv_data = 'data/intro_to_databases_in_python/census.csv'\n",
    "census_sql_data = 'sqlite:///data/intro_to_databases_in_python/census.sqlite'\n",
    "employees_sql_data = 'sqlite:///data/intro_to_databases_in_python/employees.sqlite'"
   ]
  },
  {
   "cell_type": "markdown",
   "metadata": {
    "toc-hr-collapsed": false
   },
   "source": [
    "# Introduction to Databases in Python\n",
    "\n",
    "***Course Description***\n",
    "\n",
    "In this Python SQL course, you'll learn the basics of using Structured Query Language (SQL) with Python. This will be useful since whether you like it or not, databases are ubiquitous and, as a data scientist, you'll need to interact with them constantly. The Python SQL toolkit SQLAlchemy provides an accessible and intuitive way to query, build & write to SQLite, MySQL and Postgresql databases (among many others), all of which you will encounter in the daily life of a data scientist."
   ]
  },
  {
   "cell_type": "markdown",
   "metadata": {
    "toc-hr-collapsed": false
   },
   "source": [
    "## 1: Basics of Relational Databases\n",
    "\n",
    "In this chapter, you will become acquainted with the fundamentals of Relational Databases and the Relational Model. You will learn how to connect to a database and then interact with it by writing basic SQL queries, both in raw SQL as well as with SQLAlchemy, which provides a Pythonic way of interacting with databases."
   ]
  },
  {
   "cell_type": "markdown",
   "metadata": {},
   "source": [
    "### 1.a: Introduction to Databases"
   ]
  },
  {
   "cell_type": "markdown",
   "metadata": {},
   "source": [
    "#### A database consists of tables"
   ]
  },
  {
   "cell_type": "markdown",
   "metadata": {},
   "source": [
    "![alt text](https://github.com/trenton3983/DataCamp/blob/master/Images/intro_to_databases_in_python/tables.JPG?raw=true \"Tables\")"
   ]
  },
  {
   "cell_type": "markdown",
   "metadata": {},
   "source": [
    "#### Table consists of columns and rows"
   ]
  },
  {
   "cell_type": "markdown",
   "metadata": {},
   "source": [
    "![alt text](https://github.com/trenton3983/DataCamp/blob/master/Images/intro_to_databases_in_python/columns_rows.JPG?raw=true \"Columns and Rows\")"
   ]
  },
  {
   "cell_type": "markdown",
   "metadata": {},
   "source": [
    "#### Tables can be related"
   ]
  },
  {
   "cell_type": "markdown",
   "metadata": {},
   "source": [
    "![alt text](https://github.com/trenton3983/DataCamp/blob/master/Images/intro_to_databases_in_python/related.JPG?raw=true \"Related\")"
   ]
  },
  {
   "cell_type": "markdown",
   "metadata": {},
   "source": [
    "### Exercises"
   ]
  },
  {
   "cell_type": "markdown",
   "metadata": {},
   "source": [
    "#### Relational Model\n",
    "\n",
    "Which of the following is not part of the relational model?\n",
    "\n",
    "Answer the question\n",
    "\n",
    "1. Tables\n",
    "2. Columns\n",
    "3. Rows\n",
    "4. __Dimensions__\n",
    "5. Relationships\n"
   ]
  },
  {
   "cell_type": "markdown",
   "metadata": {},
   "source": [
    "### 1.b: Connecting to a Database"
   ]
  },
  {
   "cell_type": "markdown",
   "metadata": {},
   "source": [
    "#### Meet SQLAlchemy\n",
    "\n",
    "* Two Main Pieces\n",
    "    * Core (Relational Model focused)\n",
    "    * ORM (User Data Model focused)\n",
    "        * Object Relational Model"
   ]
  },
  {
   "cell_type": "markdown",
   "metadata": {},
   "source": [
    "#### There are many types of databases\n",
    "\n",
    "* SQLite\n",
    "* PostgreSQL\n",
    "* MySQL\n",
    "* MS SQL\n",
    "* Oracle\n",
    "* Many more"
   ]
  },
  {
   "cell_type": "markdown",
   "metadata": {},
   "source": [
    "#### Connecting to a database\n",
    "\n",
    "```python\n",
    "In [1]: from sqlalchemy import create_engine\n",
    "In [2]: engine = create_engine('sqlite:///census_nyc.sqlite')\n",
    "In [3]: connection = engine.connect()\n",
    "```\n",
    "\n",
    "* Engine: common interface to the database from SQLAlchemy\n",
    "* Connection string: All the details required to find the database (and login, if necessary)"
   ]
  },
  {
   "cell_type": "markdown",
   "metadata": {},
   "source": [
    "#### A word on connection strings\n",
    "* 'sqlite:///census_nyc.sqlite'\n",
    "* Driver+Dialect Filename"
   ]
  },
  {
   "cell_type": "markdown",
   "metadata": {},
   "source": [
    "#### What’s in your database?\n",
    "\n",
    "* Before querying your database, you’ll want to know what is in it: what the tables are, for example:\n",
    "\n",
    "```python\n",
    "In [1]: from sqlalchemy import create_engine\n",
    "In [2]: engine = create_engine('sqlite:///census_nyc.sqlite')\n",
    "In [3]: print(engine.table_names())\n",
    "Out[3]: ['census', 'state_fact']\n",
    "```"
   ]
  },
  {
   "cell_type": "markdown",
   "metadata": {},
   "source": [
    "#### Reflection\n",
    "\n",
    "* Reflection reads database and builds SQLAlchemy Table objects\n",
    "\n",
    "```python\n",
    "In [1]: from sqlalchemy import MetaData, Table\n",
    "In [2]: metadata = MetaData()\n",
    "In [3]: census = Table('census', metadata, autoload=True, autoload_with=engine)\n",
    "In [4]: print(repr(census))\n",
    "Out[4]:\n",
    "Table('census', MetaData(bind=None), Column('state',\n",
    "VARCHAR(length=30), table=<census>), Column('sex',\n",
    "VARCHAR(length=1), table=<census>), Column('age', INTEGER(),\n",
    "table=<census>), Column('pop2000', INTEGER(), table=<census>),\n",
    "Column('pop2008', INTEGER(), table=<census>), schema=None)\n",
    "```"
   ]
  },
  {
   "cell_type": "markdown",
   "metadata": {},
   "source": [
    "### Exercises"
   ]
  },
  {
   "cell_type": "markdown",
   "metadata": {},
   "source": [
    "#### Engines and Connection Strings\n",
    "\n",
    "Alright, it's time to create your first engine! An engine is just a common interface to a database, and the information it requires to connect to one is contained in a connection string, such as **sqlite:///census_nyc.sqlite**. Here, **sqlite** is the database driver, while **census_nyc.sqlite** is a SQLite file contained in the local directory.\n",
    "\n",
    "You can learn a lot more about connection strings in the [SQLAlchemy documentation](#http://docs.sqlalchemy.org/en/latest/core/engines.html#database-urls).\n",
    "\n",
    "Your job in this exercise is to create an engine that connects to a local SQLite file named **census.sqlite**. Then, print the names of the tables it contains using the **.table_names()** method. Note that when you just want to print the table names, you do not need to use **engine.connect()** after creating the engine.\n",
    "\n",
    "**Instructions**\n",
    "\n",
    "* Import **create_engine** from the **sqlalchemy** module.\n",
    "* Using the **create_engine()** function, create an engine for a local file named **census.sqlite** with **sqlite** as the driver. Be sure to enclose the connection string within quotation marks.\n",
    "* Print the output from the **.table_names()** method on the **engine**."
   ]
  },
  {
   "cell_type": "code",
   "execution_count": null,
   "metadata": {},
   "outputs": [],
   "source": [
    "# Import create_engine - at top of notebook\n",
    "\n",
    "# Create an engine that connects to the census.sqlite file: engine\n",
    "engine = create_engine(census_sql_data)\n",
    "\n",
    "# Print table names\n",
    "engine.table_names()"
   ]
  },
  {
   "cell_type": "markdown",
   "metadata": {},
   "source": [
    "#### Autoloading Tables from a Database\n",
    "\n",
    "SQLAlchemy can be used to automatically load tables from a database using something called reflection. Reflection is the process of reading the database and building the metadata based on that information. It's the opposite of creating a Table by hand and is very useful for working with existing databases. To perform reflection, you need to import the **Table** object from the SQLAlchemy package. Then, you use this **Table** object to read your table from the engine and autoload the columns. Using the **Table** object in this manner is a lot like passing arguments to a function. For example, to autoload the columns with the engine, you have to specify the keyword arguments **autoload=True** and **autoload_with=engine** to **Table()**.\n",
    "\n",
    "In this exercise, your job is to reflect the **census** table available on your **engine** into a variable called **census**. The metadata has already been loaded for you using **MetaData()** and is available in the variable **metadata**.\n",
    "\n",
    "**Instructions**\n",
    "\n",
    "* Import the **Table** object from **sqlalchemy**.\n",
    "* Reflect the **census** table by using the Table object with the arguments:\n",
    "    * The name of the table as a string (**'census'**).\n",
    "    * The metadata, contained in the variable **metadata**.\n",
    "    * **autoload=True**\n",
    "    * The engine to autoload with - in this case, **engine**.\n",
    "* Print the details of **census** using the **repr()** function."
   ]
  },
  {
   "cell_type": "code",
   "execution_count": null,
   "metadata": {},
   "outputs": [],
   "source": [
    "# Import Table - at top of Notebook\n",
    "\n",
    "# Reflect census table from the engine: census\n",
    "metadata = MetaData()\n",
    "census = Table('census', metadata, autoload=True, autoload_with=engine)\n",
    "\n",
    "# Print census table metadata\n",
    "repr(census)"
   ]
  },
  {
   "cell_type": "markdown",
   "metadata": {},
   "source": [
    "#### Viewing Table Details\n",
    "\n",
    "Great job reflecting the **census** table! Now you can begin to learn more about the columns and structure of your table. It is important to get an understanding of your database by examining the column names. This can be done by using the **.columns** attribute and accessing the **.keys()** method. For example, **census.columns.keys()** would return a list of column names of the **census** table.\n",
    "\n",
    "Following this, we can use the metadata container to find out more details about the reflected table such as the columns and their types. For example, table objects are stored in the **metadata.tables** dictionary, so you can get the metadata of your **census** table with **metadata.tables['census']**. This is similar to your use of the **repr()** function on the census table from the previous exercise.\n",
    "\n",
    "**Instructions**\n",
    "\n",
    "* Reflect the **census** table as you did in the previous exercise using the **Table()** function.\n",
    "* Print a list of column names of the **census** table by applying the **.keys()** method to **census.columns**.\n",
    "* Print the details of the **census** table using the **metadata.tables** dictionary along with the **repr()** function. To do this, first access the **'census'** key of the **metadata.tables** dictionary, and place this inside the provided **repr()** function."
   ]
  },
  {
   "cell_type": "code",
   "execution_count": null,
   "metadata": {},
   "outputs": [],
   "source": [
    "# Reflect the census table from the engine: census\n",
    "census = Table('census', metadata, autoload=True, autoload_with=engine)\n",
    "\n",
    "# Print the column names\n",
    "census.columns.keys()"
   ]
  },
  {
   "cell_type": "code",
   "execution_count": null,
   "metadata": {},
   "outputs": [],
   "source": [
    "# Print full table metadata\n",
    "repr(metadata.tables['census'])"
   ]
  },
  {
   "cell_type": "markdown",
   "metadata": {},
   "source": [
    "### 1.c: Introduction to SQL"
   ]
  },
  {
   "cell_type": "markdown",
   "metadata": {},
   "source": [
    "### Exercises"
   ]
  },
  {
   "cell_type": "markdown",
   "metadata": {},
   "source": [
    "#### Selecting data from a Table: raw SQL"
   ]
  },
  {
   "cell_type": "markdown",
   "metadata": {},
   "source": [
    "#### Selecting data from a Table with SQLAlchemy"
   ]
  },
  {
   "cell_type": "markdown",
   "metadata": {},
   "source": [
    "#### Handling a ResultSet"
   ]
  },
  {
   "cell_type": "markdown",
   "metadata": {},
   "source": [
    "## 2: Applying Filtering, Ordering and Grouping to Queries\n",
    "\n",
    "In this chapter, you will build on the database knowledge you began acquiring in the previous chapter by writing more nuanced queries that allow you to filter, order, and count your data, all within the Pythonic framework provided by SQLAlchemy!"
   ]
  },
  {
   "cell_type": "markdown",
   "metadata": {},
   "source": [
    "## 3: Advanced SQLAlchemy Queries\n",
    "\n",
    "Herein, you will learn to perform advanced - and incredibly useful - queries that will enable you to interact with your data in powerful ways."
   ]
  },
  {
   "cell_type": "markdown",
   "metadata": {},
   "source": [
    "## 4: Creating and Manipulating your own Databases\n",
    "\n",
    "In the previous chapters, you interacted with existing databases and queried them in various different ways. Now, you will learn how to build your own databases and keep them updated!"
   ]
  },
  {
   "cell_type": "markdown",
   "metadata": {},
   "source": [
    "## 5: Putting it all together\n",
    "\n",
    "Here, you will bring together all of the skills you acquired in the previous chapters to work on a real life project! From connecting to a database, to populating it, to reading and querying it, you will have a chance to apply all the key concepts you learned in this course."
   ]
  },
  {
   "cell_type": "markdown",
   "metadata": {},
   "source": []
  }
 ],
 "metadata": {
  "kernelspec": {
   "display_name": "Python 3",
   "language": "python",
   "name": "python3"
  },
  "language_info": {
   "codemirror_mode": {
    "name": "ipython",
    "version": 3
   },
   "file_extension": ".py",
   "mimetype": "text/x-python",
   "name": "python",
   "nbconvert_exporter": "python",
   "pygments_lexer": "ipython3",
   "version": "3.7.2"
  }
 },
 "nbformat": 4,
 "nbformat_minor": 2
}
