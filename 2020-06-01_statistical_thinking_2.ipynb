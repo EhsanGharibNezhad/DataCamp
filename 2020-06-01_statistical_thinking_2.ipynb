{
 "cells": [
  {
   "cell_type": "markdown",
   "metadata": {},
   "source": [
    "- Notebook Author: [Trenton McKinney][1]\n",
    "- Course: **[DataCamp: Statistical Thinking in Python (Part 2)][2]**\n",
    " - This [notebook][3] was created as a reproducible reference.\n",
    " - The material is from the course\n",
    " - I completed the exercises\n",
    " - If you find the content beneficial, consider a [DataCamp Subscription][4].\n",
    " - I added a function (**`create_dir_save_file`**) to automatically download and save the required data (`data/2020-06-01_statistical_thinking_2`) and image (`Images/2020-06-01_statistical_thinking_2`) files.\n",
    "\n",
    "  [1]: https://trenton3983.github.io/\n",
    "  [2]: https://learn.datacamp.com/courses/statistical-thinking-in-python-part-2\n",
    "  [3]: https://github.com/trenton3983/DataCamp/blob/master/2020-06-01_statistical_thinking_2.ipynb\n",
    "  [4]: https://www.datacamp.com/pricing"
   ]
  },
  {
   "cell_type": "markdown",
   "metadata": {},
   "source": [
    "#### Course Description\n",
    "\n",
    "After completing Statistical Thinking in Python (Part 1), you have the probabilistic mindset and foundational hacker stats skills to dive into data sets and extract useful information from them. In this course, you will do just that, expanding and honing your hacker stats toolbox to perform the two key tasks in statistical inference, parameter estimation and hypothesis testing. You will work with real data sets as you learn, culminating with analysis of measurements of the beaks of the Darwin's famous finches. You will emerge from this course with new knowledge and lots of practice under your belt, ready to attack your own inference problems out in the world."
   ]
  },
  {
   "cell_type": "markdown",
   "metadata": {},
   "source": [
    "#### Imports"
   ]
  },
  {
   "cell_type": "code",
   "execution_count": null,
   "metadata": {},
   "outputs": [],
   "source": [
    "import pandas as pd\n",
    "import matplotlib.pyplot as plt\n",
    "from matplotlib import collections as mc\n",
    "import numpy as np\n",
    "from scipy.stats import pearsonr\n",
    "import seaborn as sns\n",
    "from pathlib import Path\n",
    "import requests"
   ]
  },
  {
   "cell_type": "code",
   "execution_count": null,
   "metadata": {},
   "outputs": [],
   "source": [
    "import matplotlib as mpl"
   ]
  },
  {
   "cell_type": "code",
   "execution_count": null,
   "metadata": {},
   "outputs": [],
   "source": [
    "mpl.__version__"
   ]
  },
  {
   "cell_type": "markdown",
   "metadata": {},
   "source": [
    "#### Pandas Configuration Options"
   ]
  },
  {
   "cell_type": "code",
   "execution_count": null,
   "metadata": {},
   "outputs": [],
   "source": [
    "pd.set_option('max_columns', 200)\n",
    "pd.set_option('max_rows', 300)\n",
    "pd.set_option('display.expand_frame_repr', True)"
   ]
  },
  {
   "cell_type": "markdown",
   "metadata": {},
   "source": [
    "#### Matplotlib Configuration Options"
   ]
  },
  {
   "cell_type": "code",
   "execution_count": null,
   "metadata": {},
   "outputs": [],
   "source": [
    "plt.rcParams['figure.figsize'] = (10.0, 10.0)\n",
    "plt.style.use('seaborn-dark-palette')\n",
    "plt.rcParams['axes.grid'] = True\n",
    "plt.rcParams[\"patch.force_edgecolor\"] = True"
   ]
  },
  {
   "cell_type": "markdown",
   "metadata": {},
   "source": [
    "#### Functions"
   ]
  },
  {
   "cell_type": "markdown",
   "metadata": {},
   "source": [
    "##### def create_dir_save_file()"
   ]
  },
  {
   "cell_type": "code",
   "execution_count": null,
   "metadata": {},
   "outputs": [],
   "source": [
    "def create_dir_save_file(dir_path: Path, url: str):\n",
    "    \"\"\"\n",
    "    Check if the path exists and create it if it does not.\n",
    "    Check if the file exists and download it if it does not.\n",
    "    \"\"\"\n",
    "    if not dir_path.parents[0].exists():\n",
    "        dir_path.parents[0].mkdir(parents=True)\n",
    "        print(f'Directory Created: {dir_path.parents[0]}')\n",
    "    else:\n",
    "        print('Directory Exists')\n",
    "        \n",
    "    if not dir_path.exists():\n",
    "        r = requests.get(url, allow_redirects=True)\n",
    "        open(dir_path, 'wb').write(r.content)\n",
    "        print(f'File Created: {dir_path.name}')\n",
    "    else:\n",
    "        print('File Exists')"
   ]
  },
  {
   "cell_type": "code",
   "execution_count": null,
   "metadata": {},
   "outputs": [],
   "source": [
    "data_dir = Path('data/2020-06-01_statistical_thinking_2')\n",
    "images_dir = Path('Images/2020-06-01_statistical_thinking_2')"
   ]
  },
  {
   "cell_type": "markdown",
   "metadata": {},
   "source": [
    "##### def ecdf()\n",
    "\n",
    " - empirical cumulative distribution function\n",
    " - [Computing the ECDF][1]\n",
    " \n",
    "  [1]: https://trenton3983.github.io/files/projects/2019-07-10_statistical_thinking_1/2019-07-10_statistical_thinking_1.html#Computing-the-ECDF"
   ]
  },
  {
   "cell_type": "code",
   "execution_count": null,
   "metadata": {},
   "outputs": [],
   "source": [
    "def ecdf(data):\n",
    "    \"\"\"Compute ECDF for a one-dimensional array of measurements.\"\"\"\n",
    "    # Number of data points: n\n",
    "    n = len(data)\n",
    "\n",
    "    # x-data for the ECDF: x\n",
    "    x = np.sort(data)\n",
    "\n",
    "    # y-data for the ECDF: y\n",
    "    y = np.arange(1, n+1) / n\n",
    "\n",
    "    return x, y"
   ]
  },
  {
   "cell_type": "markdown",
   "metadata": {},
   "source": [
    "##### def pearson()\n",
    "\n",
    "- pearson correlation coefficient\n",
    "- [Computing the Pearson correlation coefficient][1]\n",
    "\n",
    "  [1]: https://trenton3983.github.io/files/projects/2019-07-10_statistical_thinking_1/2019-07-10_statistical_thinking_1.html#Computing-the-Pearson-correlation-coefficient"
   ]
  },
  {
   "cell_type": "code",
   "execution_count": null,
   "metadata": {},
   "outputs": [],
   "source": [
    "def pearson_r(x, y):\n",
    "    \"\"\"Compute Pearson correlation coefficient between two arrays.\"\"\"\n",
    "    # Compute correlation matrix: corr_mat\n",
    "    corr_mat = np.corrcoef(x, y)\n",
    "\n",
    "    # Return entry [0,1]\n",
    "    return corr_mat[0,1]"
   ]
  },
  {
   "cell_type": "markdown",
   "metadata": {},
   "source": [
    "##### def pearson_r()"
   ]
  },
  {
   "cell_type": "code",
   "execution_count": null,
   "metadata": {},
   "outputs": [],
   "source": [
    "def pearson_r(x, y):\n",
    "    \"\"\"Compute Pearson correlation coefficient between two arrays.\"\"\"\n",
    "    # Compute correlation matrix: corr_mat\n",
    "    corr_mat = np.corrcoef(x, y)\n",
    "\n",
    "    # Return entry [0,1]\n",
    "    return corr_mat[0,1]"
   ]
  },
  {
   "cell_type": "markdown",
   "metadata": {},
   "source": [
    "#### Datasets"
   ]
  },
  {
   "cell_type": "code",
   "execution_count": null,
   "metadata": {},
   "outputs": [],
   "source": [
    "anscombe = 'https://assets.datacamp.com/production/repositories/470/datasets/fe820c6cbe9bcf4060eeb9e31dd86aa04264153a/anscombe.csv'\n",
    "bee_sperm = 'https://assets.datacamp.com/production/repositories/470/datasets/e427679d28d154934a6c087b2fa945bc7696db6d/bee_sperm.csv'\n",
    "female_lit_fer = 'https://assets.datacamp.com/production/repositories/470/datasets/f1e7f8a98c18da5c60b625cb8af04c3217f4a5c3/female_literacy_fertility.csv'\n",
    "finch_beaks_1975 = 'https://assets.datacamp.com/production/repositories/470/datasets/eb228490f7d823bfa6458b93db075ca5ccd3ec3d/finch_beaks_1975.csv'\n",
    "finch_beaks_2012 = 'https://assets.datacamp.com/production/repositories/470/datasets/b28d5bf65e38460dca7b3c5c0e4d53bdfc1eb905/finch_beaks_2012.csv'\n",
    "fortis_beak = 'https://assets.datacamp.com/production/repositories/470/datasets/532cb2fecd1bffb006c79a28f344af2290d643f3/fortis_beak_depth_heredity.csv'\n",
    "frog_tongue = 'https://assets.datacamp.com/production/repositories/470/datasets/df6e0479c0f292ce9d2b951385f64df8e2a8e6ac/frog_tongue.csv'\n",
    "basball = 'https://assets.datacamp.com/production/repositories/470/datasets/593c37a3588980e321b126e30873597620ca50b7/mlb_nohitters.csv'\n",
    "scandens_beak = 'https://assets.datacamp.com/production/repositories/470/datasets/7ff772e1f4e99ed93685296063b6e604a334236d/scandens_beak_depth_heredity.csv'\n",
    "sheffield_weather = 'https://assets.datacamp.com/production/repositories/470/datasets/129cba08c45749a82701fbe02180c5b69eb9adaf/sheffield_weather_station.csv'\n",
    "nohitter_time = 'https://raw.githubusercontent.com/trenton3983/DataCamp/master/data/2020-06-01_statistical_thinking_2/nohitter_time.csv'\n",
    "sol = 'https://assets.datacamp.com/production/repositories/469/datasets/df23780d215774ff90be0ea93e53f4fb5ebbade8/michelson_speed_of_light.csv'\n",
    "votes = 'https://assets.datacamp.com/production/repositories/469/datasets/8fb59b9a99957c3b9b1c82b623aea54d8ccbcd9f/2008_all_states.csv'\n",
    "swing = 'https://assets.datacamp.com/production/repositories/469/datasets/e079fddb581197780e1a7b7af2aeeff7242535f0/2008_swing_states.csv'"
   ]
  },
  {
   "cell_type": "code",
   "execution_count": null,
   "metadata": {},
   "outputs": [],
   "source": [
    "datasets = [anscombe, bee_sperm, female_lit_fer, finch_beaks_1975, finch_beaks_2012, fortis_beak, frog_tongue, basball, scandens_beak, sheffield_weather, nohitter_time, sol, votes, swing]\n",
    "data_paths = list()\n",
    "\n",
    "for data in datasets:\n",
    "    file_name = data.split('/')[-1].replace('?raw=true', '')\n",
    "    data_path = data_dir / file_name\n",
    "    create_dir_save_file(data_path, data)\n",
    "    data_paths.append(data_path)"
   ]
  },
  {
   "cell_type": "markdown",
   "metadata": {},
   "source": [
    "#### DataFrames"
   ]
  },
  {
   "cell_type": "code",
   "execution_count": null,
   "metadata": {},
   "outputs": [],
   "source": [
    "df_bb = pd.read_csv(data_paths[7])\n",
    "nohitter_times = pd.read_csv(data_paths[10])\n",
    "sol = pd.read_csv(data_paths[11])\n",
    "votes = pd.read_csv(data_paths[12])\n",
    "swing = pd.read_csv(data_paths[13])\n",
    "fem = pd.read_csv(data_paths[2])\n",
    "anscombe = pd.read_csv(data_paths[0], header=[0, 1])\n",
    "anscombe.columns = [f'{x[1]}_{x[0]}' for x in anscombe.columns]\n",
    "sheffield = pd.read_csv(data_paths[9], header=[8], sep='\\\\s+')"
   ]
  },
  {
   "cell_type": "markdown",
   "metadata": {},
   "source": [
    "# Parameter estimation by optimization\n",
    "\n",
    "When doing statistical inference, we speak the language of probability. A probability distribution that describes your data has parameters. So, a major goal of statistical inference is to estimate the values of these parameters, which allows us to concisely and unambiguously describe our data and draw conclusions from it. In this chapter, you will learn how to find the optimal parameters, those that best describe your data."
   ]
  },
  {
   "cell_type": "markdown",
   "metadata": {},
   "source": [
    "## Optimal parameters\n",
    "\n",
    "- Outcomes of measurements follow probability distributions defined by the story of how the data came to be.\n",
    "- When we looked at Michelson's speed of light in air measurements, we assumed that the results were Normally distributed.\n",
    "- We verified that both by looking at the PDF and the CDF, which was more effective becasue there is no binning bias.\n",
    "\n",
    "### Checking Normality of the Michelson data\n",
    "- To compute the theoretical CDF by sampling, we pass two parameters to `np.random.normal`\n",
    "- Calculate the mean and standard deviation (std) of the data\n",
    "- The values chosen for these parameters are the mean and std of the data\n",
    "\n",
    "### CDF of the Michelson measurements\n",
    "- The theoretical CDF overlays nicely with the empirical CDF.\n",
    "- How did we know the mean and std calculated from the data were the appropriate values for the _**Normal**_ parameters?\n",
    "\n",
    "### CDF with Bad Estimates\n",
    "- We could have chosen others\n",
    " - What if the std differs by 50%?\n",
    "   - The CDF no longer match.\n",
    " - What if the main varies by just 0.01%?\n",
    " \n",
    "### Optimal Parameters\n",
    "- If we believe the process that generates our data gives Normally distributed results, the set of parameters that brings the model, in this case, a Normal distribution, in closest agreement with the data, uses the mean and std computed directly from the data.\n",
    " - Parameter values that bring the model in closest agreement with the data\n",
    " - **These are the optimal parameters.**\n",
    "- Remember though, the parameters are only optimal for the model chosen for the data.\n",
    "\n",
    "### Mass of MA Large mouth bass\n",
    "![cdf_bass][1]\n",
    "- When your model is wrong, the optimal parameters are not really meaningful.\n",
    "- Finding the optimal parameters is not always as easy as just computing the mean and std from the data.\n",
    "- We'll encounter this later in this chapter when we do linear regressions and we rely on built-in Numpy functions to find the optimal parameter for us.\n",
    "\n",
    "### Packages to do statistical inference\n",
    "- There are great tolls in the Python ecosystem for doing statistical inference, including by optimization\n",
    " - [scipy.stats][2]\n",
    " - [statsmodels][3]\n",
    "- In this course we focus on hacker statistics using Numpy.\n",
    " - The same simple principle is applicable to a wide variety of statistical problems.\n",
    "\n",
    "\n",
    "  [1]: https://raw.githubusercontent.com/trenton3983/DataCamp/master/Images/2020-06-01_statistical_thinking_2/cdf_bass.JPG\n",
    "  [2]: https://docs.scipy.org/doc/scipy/reference/stats.html#module-scipy.stats\n",
    "  [3]: https://www.statsmodels.org/stable/index.html"
   ]
  },
  {
   "cell_type": "code",
   "execution_count": null,
   "metadata": {},
   "outputs": [],
   "source": [
    "f, axes = plt.subplots(2, 2, figsize=(20, 10), sharex=False)\n",
    "\n",
    "# Plot 1\n",
    "sns.distplot(sol['velocity of light in air (km/s)'], bins=9, ax=axes[0, 0])\n",
    "axes[0, 0].set_title('Histogram of the Michelson Measurements')\n",
    "axes[0, 0].set_ylabel('PDF')\n",
    "\n",
    "# Plot 2\n",
    "mean = np.mean(sol['velocity of light in air (km/s)'])\n",
    "std = np.std(sol['velocity of light in air (km/s)'])\n",
    "\n",
    "samples = np.random.normal(mean, std, size=10000)\n",
    "x, y = ecdf(sol['velocity of light in air (km/s)'])\n",
    "x_theor, y_theor = ecdf(samples)\n",
    "\n",
    "sns.set()\n",
    "sns.lineplot(x_theor, y_theor, label='theoretical', ax=axes[0, 1])\n",
    "sns.scatterplot(x, y, label='measured', color='purple', ax=axes[0, 1])\n",
    "axes[0, 1].set_title('CDF of the Michelson Measurements')\n",
    "axes[0, 1].set_xlabel('speed of light (km/s)')\n",
    "axes[0, 1].set_ylabel('CDF')\n",
    "\n",
    "# Plot 3\n",
    "samples = np.random.normal(mean, std*1.5, size=10000)\n",
    "x_theor3, y_theor3 = ecdf(samples)\n",
    "\n",
    "sns.set()\n",
    "sns.lineplot(x_theor3, y_theor3, label='theoretical', ax=axes[1, 0])\n",
    "sns.scatterplot(x, y, label='measured', color='purple', ax=axes[1, 0])\n",
    "axes[1, 0].set_title('CDF of the Michelson Measurements: STD 50% Larger')\n",
    "axes[1, 0].set_xlabel('speed of light (km/s)')\n",
    "axes[1, 0].set_ylabel('CDF')\n",
    "ticks= axes[1, 0].get_xticks()\n",
    "\n",
    "# Plot 4\n",
    "samples = np.random.normal(mean*1.0001, std, size=10000)\n",
    "x_theor4, y_theor4 = ecdf(samples)\n",
    "\n",
    "sns.set()\n",
    "sns.lineplot(x_theor4, y_theor4, label='theoretical', ax=axes[1, 1])\n",
    "sns.scatterplot(x, y, label='measured', color='purple', ax=axes[1, 1])\n",
    "axes[1, 1].set_title('CDF of the Michelson Measurements: Mean 0.01% Larger')\n",
    "axes[1, 1].set_xlabel('speed of light (km/s)')\n",
    "axes[1, 1].set_ylabel('CDF')\n",
    "\n",
    "plt.tight_layout()\n",
    "plt.show()"
   ]
  },
  {
   "cell_type": "markdown",
   "metadata": {},
   "source": [
    "### How often do we get no-hitters?\n",
    "\n",
    "The number of games played between each no-hitter in the modern era (1901-2015) of Major League Baseball is stored in the array `nohitter_times`.\n",
    "\n",
    "If you assume that no-hitters are described as a Poisson process, then the time between no-hitters is Exponentially distributed. As you have seen, the Exponential distribution has a single parameter, which we will call $\\tau$, the typical interval time. The value of the parameter $\\tau$ that makes the exponential distribution best match the data is the mean interval time (where time is in units of number of games) between no-hitters.\n",
    "\n",
    "Compute the value of this parameter from the data. Then, use `np.random.exponential()` to \"repeat\" the history of Major League Baseball by drawing inter-no-hitter times from an exponential distribution with the $\\tau$ you found and plot the histogram as an approximation to the PDF.\n",
    "\n",
    "NumPy, pandas, matlotlib.pyplot, and seaborn have been imported for you as `np`, `pd`, `plt`, and `sns`, respectively.\n",
    "\n",
    "**Instructions**\n",
    "\n",
    "- Seed the random number generator with `42`.\n",
    "- Compute the mean time (in units of number of games) between no-hitters.\n",
    "- Draw 100,000 samples from an Exponential distribution with the parameter you computed from the mean of the inter-no-hitter times.\n",
    "- Plot the theoretical PDF using `plt.hist()`. Remember to use keyword arguments `bins=50`, `normed=True`, and `histtype='step'`. Be sure to label your axes.\n",
    "- Show your plot."
   ]
  },
  {
   "cell_type": "code",
   "execution_count": null,
   "metadata": {},
   "outputs": [],
   "source": [
    "# Seed random number generator\n",
    "np.random.seed(42)\n",
    "\n",
    "# Compute mean no-hitter time: tau\n",
    "tau = np.mean(nohitter_times)\n",
    "\n",
    "# Draw out of an exponential distribution with parameter tau: inter_nohitter_time\n",
    "inter_nohitter_time = np.random.exponential(tau, 100000)\n",
    "\n",
    "# Plot the PDF and label axes\n",
    "_ = plt.hist(inter_nohitter_time, bins=50, density=True, histtype='step')\n",
    "_ = plt.xlabel('Games between no-hitters')\n",
    "_ = plt.ylabel('PDF')\n",
    "\n",
    "# Show the plot\n",
    "plt.show()"
   ]
  },
  {
   "cell_type": "markdown",
   "metadata": {},
   "source": [
    "**We see the typical shape of the Exponential distribution, going from a maximum at 0 and decaying to the right.**"
   ]
  },
  {
   "cell_type": "markdown",
   "metadata": {},
   "source": [
    "### Do the data follow our story?\n",
    "\n",
    "You have modeled no-hitters using an Exponential distribution. Create an ECDF of the real data. Overlay the theoretical CDF with the ECDF from the data. This helps you to verify that the Exponential distribution describes the observed data.\n",
    "\n",
    "It may be helpful to remind yourself of the [function you created in the previous course][1] to compute the ECDF, as well as the code you wrote to [plot it][2].\n",
    "\n",
    "**Instructions**\n",
    "\n",
    "- Compute an ECDF from the actual time between no-hitters (`nohitter_times`). Use the `ecdf()` function you wrote in the prequel course.\n",
    "- Create a CDF from the theoretical samples you took in the last exercise (`inter_nohitter_time`).\n",
    "- Plot `x_theor` and `y_theor` as a line using `plt.plot()`. Then overlay the ECDF of the real data `x` and `y` as points. To do this, you have to specify the keyword arguments `marker = '.'` and `linestyle = 'none'` in addition to `x` and `y` inside `plt.plot()`.\n",
    "- Set a 2% margin on the plot.\n",
    "- Show the plot.\n",
    "\n",
    "  [1]: https://trenton3983.github.io/files/projects/2019-07-10_statistical_thinking_1/2019-07-10_statistical_thinking_1.html#def-ecdf()\n",
    "  [2]: https://trenton3983.github.io/files/projects/2019-07-10_statistical_thinking_1/2019-07-10_statistical_thinking_1.html#Plotting-the-ECDF"
   ]
  },
  {
   "cell_type": "code",
   "execution_count": null,
   "metadata": {},
   "outputs": [],
   "source": [
    "# Create an ECDF from real data: x, y\n",
    "x, y = ecdf(nohitter_times.nohitter_time)\n",
    "\n",
    "# Create a CDF from theoretical samples: x_theor, y_theor\n",
    "x_theor, y_theor = ecdf(inter_nohitter_time)\n",
    "\n",
    "# Overlay the plots\n",
    "plt.plot(x_theor, y_theor, label='Theoretical ECDF')\n",
    "plt.plot(x, y, marker='.', linestyle='none', label='Real ECDF')\n",
    "\n",
    "# Margins and axis labels\n",
    "plt.margins(0.02)\n",
    "plt.xlabel('Games between no-hitters')\n",
    "plt.ylabel('CDF')\n",
    "plt.legend()\n",
    "\n",
    "# Show the plot\n",
    "plt.show()"
   ]
  },
  {
   "cell_type": "markdown",
   "metadata": {},
   "source": [
    "**It looks like no-hitters in the modern era of Major League Baseball are Exponentially distributed. Based on the story of the Exponential distribution, this suggests that they are a random process; when a no-hitter will happen is independent of when the last no-hitter was.**"
   ]
  },
  {
   "cell_type": "markdown",
   "metadata": {},
   "source": [
    "### How is this parameter optimal?\n",
    "\n",
    "Now sample out of an exponential distribution with $\\tau$ being twice as large as the optimal $\\tau$. Do it again for $\\tau$ half as large. Make CDFs of these samples and overlay them with your data. You can see that they do not reproduce the data as well. Thus, the $\\tau$ you computed from the mean inter-no-hitter times is optimal in that it best reproduces the data.\n",
    "\n",
    "Note: In this and all subsequent exercises, the random number generator is pre-seeded for you to save you some typing.\n",
    "\n",
    "**Instructions**\n",
    "\n",
    "- Take `10000` samples out of an Exponential distribution with parameter $\\tau_{\\frac{1}{2}} =$ `tau/2`.\n",
    "- Take `10000` samples out of an Exponential distribution with parameter $\\tau_{2} =$ `2*tau`.\n",
    "- Generate CDFs from these two sets of samples using your `ecdf()` function.\n",
    "- Add these two CDFs as lines to your plot. This has been done for you, so hit 'Submit Answer' to view the plot!"
   ]
  },
  {
   "cell_type": "code",
   "execution_count": null,
   "metadata": {},
   "outputs": [],
   "source": [
    "# Plot the theoretical CDFs\n",
    "plt.plot(x_theor, y_theor, label='Theoretical ECDF')\n",
    "plt.plot(x, y, marker='.', linestyle='none', label='Real ECDF')\n",
    "plt.margins(0.02)\n",
    "plt.xlabel('Games between no-hitters')\n",
    "plt.ylabel('CDF')\n",
    "\n",
    "# Compute mean no-hitter time: tau\n",
    "tau = np.mean(nohitter_times)\n",
    "\n",
    "# Take samples with half tau: samples_half\n",
    "samples_half = np.random.exponential(tau/2, 10000)\n",
    "\n",
    "# Take samples with double tau: samples_double\n",
    "samples_double = np.random.exponential(tau*2, 10000)\n",
    "\n",
    "# Generate CDFs from these samples\n",
    "x_half, y_half = ecdf(samples_half)\n",
    "x_double, y_double = ecdf(samples_double)\n",
    "\n",
    "# Plot these CDFs as lines\n",
    "_ = plt.plot(x_half, y_half, label='Half tau')\n",
    "_ = plt.plot(x_double, y_double, label='Double tau')\n",
    "\n",
    "plt.legend(bbox_to_anchor=(1.05, 1), loc='upper left')\n",
    "\n",
    "# Show the plot\n",
    "plt.show()"
   ]
  },
  {
   "cell_type": "markdown",
   "metadata": {},
   "source": [
    "**Notice how the value of tau given by the mean matches the data best. In this way, tau is an optimal parameter.**"
   ]
  },
  {
   "cell_type": "markdown",
   "metadata": {},
   "source": [
    "## Linear regression by least squares\n",
    "\n",
    "- Sometimes, two variables are related\n",
    "- You may recall from the [prequel course][1] that we computed the Pearson correlation coefficient between Obama's vote share in each county in swing states and the total vote count of the respective counties.\n",
    "- The Pearson correlation coefficient is important to compute, be we might like to get a fuller understanding of how the data are related to each other.\n",
    "- Specifically, we might suspect some underlying function give the data its shape.\n",
    "- Often times, a linear function is appropriate to describe the data, and this is what we focus on in the course.\n",
    "- The parameters of the function are slope and intercept.\n",
    "- The slope sets how steep the line is, and the intercept sets where the line crosses the y-axis.\n",
    "- How do we figure out which slope and intercept best describe the data?\n",
    " - We want to choose the slope and intercept such that the data points collectively lie as close as possible to the line.\n",
    " - This is easiest to think about by first considering one data point.\n",
    " - The vertical distance between the data point and the line is called the _**residual**_\n",
    "   - In this case, the residual has a negative value because the data point lies below the line.\n",
    " - Each data point has an associated residual.\n",
    "\n",
    "### Least squares\n",
    "- The process of finding the parameters for which the sum of the squares of the residual is minimal, is called _**lease squares**_\n",
    "- We define the line that is closest to the data to be the line for which the sum of the squares of all the residuals is minimal.\n",
    "- There are many algorithms to do this in practice.\n",
    "\n",
    "### Lease squares with `np.polyfit()`\n",
    "- We will use the [np.polyfit()][2], which performs least squares analysis with polynomial functions.\n",
    "- We can use it because a linear function is a first degree polynomial.\n",
    "- The first two arguments to this function are the x and y data.\n",
    "- The thirst argument is the degree of the polynomial you wish to fit; for linear functions, use 1.\n",
    "- The function returns the slope and intercept of the best fit line.\n",
    "- The slope tells us we get about 4 more percent votes for Obama for every 100,000 additional voters in a county.\n",
    "\n",
    "```python\n",
    "slope, intercept = np.polyfit(swing.total_votes, swing.dem_share, 1)\n",
    "print(slope)\n",
    ">>> 4.0370717009465555e-05\n",
    "print(intercept)\n",
    ">>> 40.113911968641744\n",
    "```\n",
    "\n",
    "  [1]: https://trenton3983.github.io/files/projects/2019-07-10_statistical_thinking_1/2019-07-10_statistical_thinking_1.html#Covariance-and-Pearson-correlation-coefficient\n",
    "  [2]: https://numpy.org/doc/stable/reference/generated/numpy.polyfit.html#numpy-polyfit"
   ]
  },
  {
   "cell_type": "code",
   "execution_count": null,
   "metadata": {},
   "outputs": [],
   "source": [
    "g = sns.regplot('total_votes', 'dem_share', data=swing, color='purple')\n",
    "plt.xlim(0, 900000)\n",
    "plt.ylabel('Percent of Vote for Obama')\n",
    "plt.xlabel('Total Votes')\n",
    "plt.title('2008 US Swing State Election Results')\n",
    "\n",
    "plt.annotate('intercept', xy=(0, 40.1), weight='bold', xytext=(300000, 25),\n",
    "             fontsize=15, arrowprops=dict(arrowstyle=\"->\", color='black'))\n",
    "\n",
    "plt.text(550000, 70, 'slope', fontsize=15, weight='bold')\n",
    "lc = mc.LineCollection([[(500000, 69), (720000, 69)], [(500000, 69), (500000, 60)]], color='black')\n",
    "g.add_collection(lc)\n",
    "\n",
    "plt.text(520000, 57, 'residual', fontsize=15, weight='bold')\n",
    "plt.annotate('', xy=(513312, 53.59), xytext=(513312, 61), arrowprops=dict(arrowstyle=\"<->\", color='black'))\n",
    "\n",
    "plt.show()"
   ]
  },
  {
   "cell_type": "markdown",
   "metadata": {},
   "source": [
    "### EDA of literacy/fertility data\n",
    "\n",
    "In the next few exercises, we will look at the correlation between female literacy and fertility (defined as the average number of children born per woman) throughout the world. For ease of analysis and interpretation, we will work with the illiteracy rate.\n",
    "\n",
    "It is always a good idea to do some EDA ahead of our analysis. To this end, plot the fertility versus illiteracy and compute the Pearson correlation coefficient. The Numpy array `illiteracy` has the illiteracy rate among females for most of the world's nations. The array `fertility` has the corresponding fertility data.\n",
    "\n",
    "Here, it may be useful to refer back to the [function you wrote in the previous course][1] to compute the Pearson correlation coefficient.\n",
    "\n",
    "**Instructions**\n",
    "\n",
    "- Plot `fertility` (y-axis) versus `illiteracy` (x-axis) as a scatter plot.\n",
    "- Set a 2% margin.\n",
    "- Compute and print the Pearson correlation coefficient between `illiteracy` and `fertility`.\n",
    "\n",
    "  [1]: https://trenton3983.github.io/files/projects/2019-07-10_statistical_thinking_1/2019-07-10_statistical_thinking_1.html#Computing-the-Pearson-correlation-coefficient"
   ]
  },
  {
   "cell_type": "code",
   "execution_count": null,
   "metadata": {},
   "outputs": [],
   "source": [
    "fem.head()"
   ]
  },
  {
   "cell_type": "code",
   "execution_count": null,
   "metadata": {},
   "outputs": [],
   "source": [
    "illiteracy = 100 - fem['female literacy']\n",
    "fertility = fem['fertility']"
   ]
  },
  {
   "cell_type": "code",
   "execution_count": null,
   "metadata": {},
   "outputs": [],
   "source": [
    "# Plot the illiteracy rate versus fertility\n",
    "plt.plot(illiteracy, fertility, marker='.', linestyle='none')\n",
    "\n",
    "# Set the margins and label axes\n",
    "plt.margins(0.02)\n",
    "plt.xlabel('percent illiterate')\n",
    "plt.ylabel('fertility')\n",
    "\n",
    "# Show the plot\n",
    "plt.show()\n",
    "\n",
    "# Show the Pearson correlation coefficient\n",
    "print(pearson_r(illiteracy, fertility))\n",
    "print(pearsonr(illiteracy, fertility))"
   ]
  },
  {
   "cell_type": "markdown",
   "metadata": {},
   "source": [
    "**You can see the correlation between illiteracy and fertility by eye, and by the substantial Pearson correlation coefficient of 0.8. It is difficult to resolve in the scatter plot, but there are many points around near-zero illiteracy and about 1.8 children/woman.**"
   ]
  },
  {
   "cell_type": "markdown",
   "metadata": {},
   "source": [
    "### Linear regression\n",
    "\n",
    "We will assume that fertility is a linear function of the female illiteracy rate. That is, $f=ai+b$, where a is the slope and b is the intercept. We can think of the intercept as the minimal fertility rate, probably somewhere between one and two. The slope tells us how the fertility rate varies with illiteracy. We can find the best fit line using `np.polyfit()`.\n",
    "\n",
    "Plot the data and the best fit line. Print out the slope and intercept. (Think: what are their units?)\n",
    "\n",
    "**Instructions**\n",
    "\n",
    "- Compute the slope and intercept of the regression line using `np.polyfit()`. Remember, `fertility` is on the y-axis and `illiteracy` on the x-axis.\n",
    "- Print out the slope and intercept from the linear regression.\n",
    "- To plot the best fit line, create an array `x` that consists of 0 and 100 using `np.array()`. Then, compute the theoretical values of `y` based on your regression parameters. I.e., `y = a * x + b`.\n",
    "- Plot the data and the regression line on the same plot. Be sure to label your axes.\n",
    "- Hit 'Submit Answer' to display your plot."
   ]
  },
  {
   "cell_type": "code",
   "execution_count": null,
   "metadata": {},
   "outputs": [],
   "source": [
    "# Plot the illiteracy rate versus fertility\n",
    "plt.plot(illiteracy, fertility, marker='.', linestyle='none')\n",
    "plt.margins(0.02)\n",
    "plt.xlabel('percent illiterate')\n",
    "plt.ylabel('fertility')\n",
    "\n",
    "# Perform a linear regression using np.polyfit(): a, b\n",
    "a, b = np.polyfit(illiteracy, fertility, 1)\n",
    "\n",
    "# Print the results to the screen\n",
    "print('slope =', a, 'children per woman / percent illiterate')\n",
    "print('intercept =', b, 'children per woman')\n",
    "\n",
    "# Make theoretical line to plot\n",
    "x = np.array([0, 100])\n",
    "y = a * x + b\n",
    "\n",
    "# Add regression line to your plot\n",
    "plt.plot(x, y)\n",
    "\n",
    "# Draw the plot\n",
    "plt.show()"
   ]
  },
  {
   "cell_type": "markdown",
   "metadata": {},
   "source": [
    "### How is it optimal?\n",
    "The function `np.polyfit()` that you used to get your regression parameters finds the optimal slope and intercept. It is optimizing the sum of the squares of the residuals, also known as RSS (for residual sum of squares). In this exercise, you will plot the function that is being optimized, the RSS, versus the slope parameter `a`. To do this, fix the intercept to be what you found in the optimization. Then, plot the RSS vs. the slope. Where is it minimal?\n",
    "\n",
    "**Instructions**\n",
    "\n",
    "- Specify the values of the slope to compute the RSS. Use `np.linspace()` to get `200` points in the range between `0` and `0.1`. For example, to get `100` points in the range between `0` and `0.5`, you could use `np.linspace()` like so: `np.linspace(0, 0.5, 100)`.\n",
    "- Initialize an array, `rss`, to contain the RSS using `np.empty_like()` and the array you created above. The `empty_like()` function returns a new array with the same shape and type as a given array (in this case, `a_vals`).\n",
    "- Write a `for` loop to compute the sum of RSS of the slope. Hint: the RSS is given by `np.sum((y_data - a * x_data - b)**2)`. The variable `b` you computed in the last exercise is already in your namespace. Here, `fertility` is the `y_data` and `illiteracy` the `x_data`.\n",
    "- Plot the RSS (`rss`) versus slope (`a_vals`).\n",
    "- Hit 'Submit Answer' to see the plot!"
   ]
  },
  {
   "cell_type": "code",
   "execution_count": null,
   "metadata": {},
   "outputs": [],
   "source": [
    "# Specify slopes to consider: a_vals\n",
    "a_vals = np.linspace(0, 0.1, 200)\n",
    "\n",
    "# Initialize sum of square of residuals: rss\n",
    "rss = np.empty_like(a_vals)\n",
    "\n",
    "# Compute sum of square of residuals for each value of a_vals\n",
    "for i, a in enumerate(a_vals):\n",
    "    rss[i] = np.sum((fertility - a*illiteracy - b)**2)\n",
    "\n",
    "# Plot the RSS\n",
    "plt.plot(a_vals, rss, '-')\n",
    "plt.xlabel('slope (children per woman / percent illiterate)')\n",
    "plt.ylabel('sum of square of residuals')\n",
    "\n",
    "plt.show()"
   ]
  },
  {
   "cell_type": "markdown",
   "metadata": {},
   "source": [
    "**Notice that the minimum on the plot, that is the value of the slope that gives the minimum sum of the square of the residuals, is the same value you got when performing the regression.**"
   ]
  },
  {
   "cell_type": "markdown",
   "metadata": {},
   "source": [
    "## The importance of EDA: Anscombe's quartet\n",
    "\n",
    "- In 1973, statistician Francis Anscombe published a paper that contained for fictitious x-y data sets, plotted below.\n",
    "- He uses these data sets to make an important point.\n",
    "- The point becomes clear if we blindly go about doing parameter estimation on these data sets.\n",
    "- Lets look at the mean x & y values of the four data sets.\n",
    " -  They're all the same\n",
    "- What if we do a linear regression on each of the data sets?\n",
    " - They're the same\n",
    " - Some of the fits are less optimal than others\n",
    "- Let's look at the sum of the squares of the residuals.\n",
    " - They're basically all the same\n",
    "- The data sets were constructed so this would happen.\n",
    "- He was making a very important point\n",
    "- There are already some powerful tolls for statistical inference.\n",
    " - You can compute summary statistics and optimal parameters, including linear regression parameters, and by the end of the course, you'll be able to construct confidence intervals which quantify uncertainty about the parameter estimates.\n",
    " - These are crucial skills for any data analyst, no doubt\n",
    "\n",
    "### Look before you leap!\n",
    "- This is a powerful reminder to do some graphical exploratory data analysis before you start computing and making judgments about your data.\n",
    "\n",
    "### Anscombe's quartet\n",
    "- For example, plot[0, 0] (`x_0, y_0`) might be well modeled with a line, and the regression parameters will be meaningful.\n",
    "- The same is true of plot[1, 0] (`x_2, y_2`), but the outlier throws off the slope and intercept\n",
    " - After doing EDA, you should look into what is causing that outlier\n",
    "- Plot[1, 1] (`x_3, y_3`) might also have a linear relationship between x, and y, but from the plot, you can conclude that you should try to acquire more data for intermediate x values to make sure that it does.\n",
    "- Plot[0, 1] (`x_1, y_1`) is definitely not linear, and you need to choose another model.\n",
    "- **Explore your data first!**"
   ]
  },
  {
   "cell_type": "code",
   "execution_count": null,
   "metadata": {},
   "outputs": [],
   "source": [
    "anscombe"
   ]
  },
  {
   "cell_type": "code",
   "execution_count": null,
   "metadata": {},
   "outputs": [],
   "source": [
    "for i in range(1, 5):\n",
    "    plt.subplot(2, 2, i)\n",
    "    g = sns.scatterplot(x=f'x_{i-1}', y=f'y_{i-1}', data=anscombe)\n",
    "    \n",
    "    # x & y mean\n",
    "    x_mean = anscombe.loc[:, f'x_{i-1}'].mean()\n",
    "    y_mean = anscombe.loc[:, f'y_{i-1}'].mean()\n",
    "    plt.vlines(anscombe.loc[:, f'x_{i-1}'].mean(), 0, 14, color='g')\n",
    "    plt.text(9.2, 4, f'x-mean: {x_mean}')\n",
    "    plt.hlines(anscombe.loc[:, f'y_{i-1}'].mean(), 2, 20, color='g')\n",
    "    plt.text(13, 6.9, f'y-mean: {y_mean:0.1f}')\n",
    "    \n",
    "    # regression line\n",
    "    slope, intercept = np.polyfit(anscombe[f'x_{i-1}'], anscombe[f'y_{i-1}'], 1)\n",
    "    y1 = slope*2 + intercept\n",
    "    y2 = slope*20 + intercept\n",
    "    lc = mc.LineCollection([[(2, y1), (20, y2)]], color='green')\n",
    "    g.add_collection(lc)\n",
    "    plt.text(15, 12, 'reg-line')\n",
    "    \n",
    "    # sum of the squares of the residuals\n",
    "    A = np.vstack((anscombe.loc[:, f'x_{i-1}'], np.ones(11))).T\n",
    "    resid = np.linalg.lstsq(A, anscombe.loc[:, f'y_{i-1}'], rcond=-1)[1][0]\n",
    "    plt.text(12.3, 1, f'sum sq. resid: {resid:0.1f}')\n",
    "    \n",
    "    plt.ylim(0, 14)\n",
    "    plt.xlim(2, 20)\n",
    "    plt.xticks(list(range(4, 22, 2)))\n",
    "    plt.ylabel('y')\n",
    "    plt.xlabel('x')"
   ]
  },
  {
   "cell_type": "markdown",
   "metadata": {},
   "source": [
    "### The importance of EDA\n",
    "\n",
    "Why should exploratory data analysis be the first step in an analysis of data (after getting your data imported and cleaned, of course)?\n",
    "\n",
    "**Answer the question**\n",
    "\n",
    "- You can be protected from misinterpretation of the type demonstrated by Anscombe's quartet.\n",
    "- EDA provides a good starting point for planning the rest of your analysis.\n",
    "- EDA is not really any more difficult than any of the subsequent analysis, so there is no excuse for not exploring the data.\n",
    "- **All of these reasons!**"
   ]
  },
  {
   "cell_type": "markdown",
   "metadata": {},
   "source": [
    "### Linear regression on appropriate Anscombe data\n",
    "\n",
    "For practice, perform a linear regression on the data set from Anscombe's quartet that is most reasonably interpreted with linear regression.\n",
    "\n",
    "**Instructions**\n",
    "\n",
    "- Compute the parameters for the slope and intercept using `np.polyfit()`. The Anscombe data are stored in the arrays `x` and `y`.\n",
    "- Print the slope `a` and intercept `b`.\n",
    "- Generate theoretical $x$ and $y$ data from the linear regression. Your $x$ array, which you can create with `np.array()`, should consist of `3` and `15`. To generate the $y$ data, multiply the slope by `x_theor` and add the intercept.\n",
    "- Plot the Anscombe data as a scatter plot and then plot the theoretical line. Remember to include the `marker='.'` and `linestyle='none'` keyword arguments in addition to `x` and `y` when you plot the Anscombe data as a scatter plot. You do not need these arguments when plotting the theoretical line.\n",
    "- Hit 'Submit Answer' to see the plot!"
   ]
  },
  {
   "cell_type": "code",
   "execution_count": null,
   "metadata": {},
   "outputs": [],
   "source": [
    "x = anscombe.x_0\n",
    "y = anscombe.y_0"
   ]
  },
  {
   "cell_type": "code",
   "execution_count": null,
   "metadata": {},
   "outputs": [],
   "source": [
    "# Perform linear regression: a, b\n",
    "a, b = np.polyfit(x, y, 1)\n",
    "\n",
    "# Print the slope and intercept\n",
    "print(a, b)\n",
    "\n",
    "# Generate theoretical x and y data: x_theor, y_theor\n",
    "x_theor = np.array([3, 15])\n",
    "y_theor = a * x_theor + b\n",
    "\n",
    "# Plot the Anscombe data and theoretical line\n",
    "_ = plt.plot(x, y, marker='.', linestyle='none')\n",
    "_ = plt.plot(x_theor, y_theor)\n",
    "\n",
    "# Label the axes\n",
    "plt.xlabel('x')\n",
    "plt.ylabel('y')\n",
    "\n",
    "# Show the plot\n",
    "plt.show()"
   ]
  },
  {
   "cell_type": "markdown",
   "metadata": {},
   "source": [
    "### Linear regression on all Anscombe data\n",
    "\n",
    "Now, to verify that all four of the Anscombe data sets have the same slope and intercept from a linear regression, you will compute the slope and intercept for each set. The data are stored in lists; `anscombe_x = [x1, x2, x3, x4]` and `anscombe_y = [y1, y2, y3, y4]`, where, for example, `x2` and `y2` are the $x$ and $y$ values for the second Anscombe data set.\n",
    "\n",
    "**Instructions**\n",
    "\n",
    "- Write a `for` loop to do the following for each Anscombe data set.\n",
    "- Compute the slope and intercept.\n",
    "- Print the slope and intercept."
   ]
  },
  {
   "cell_type": "code",
   "execution_count": null,
   "metadata": {},
   "outputs": [],
   "source": [
    "# Iterate through x,y pairs\n",
    "for i in range(0, 4):\n",
    "    # Compute the slope and intercept: a, b\n",
    "    x = anscombe.loc[:, f'x_{i}']\n",
    "    y = anscombe.loc[:, f'y_{i}']\n",
    "    a, b = np.polyfit(x, y, 1)\n",
    "\n",
    "    # Print the result\n",
    "    print(f'x_{i} & y_{i} slope: {a:0.4f} intercept: {b:0.4f}')"
   ]
  },
  {
   "cell_type": "markdown",
   "metadata": {},
   "source": [
    "# Bootstrap confidence intervals\n",
    "\n",
    "To \"pull yourself up by your bootstraps\" is a classic idiom meaning that you achieve a difficult task by yourself with no help at all. In statistical inference, you want to know what would happen if you could repeat your data acquisition an infinite number of times. This task is impossible, but can we use only the data we actually have to get close to the same result as an infinitude of experiments? The answer is yes! The technique to do it is aptly called bootstrapping. This chapter will introduce you to this extraordinarily powerful tool."
   ]
  },
  {
   "cell_type": "markdown",
   "metadata": {},
   "source": [
    "## Generating bootstrap replicates\n",
    "\n",
    "- In the prequel to this course we computed summary statistics of measurements, including the mean, median and standard deviation (std).\n",
    "- Remember, we need to think probabilistically.\n",
    "- What if we acquire the data again?\n",
    "- Would we get the same mean? Probably not.\n",
    "- In inference problems, it is rare that we are interested in the result from a single experiment or data acquisition.\n",
    "- We want to say something more general.\n",
    "- Michaelson was not interested in what the measured speed of light was in the specific 100 measurements conducted in the summer of 1879.\n",
    "- He wanted to know what the speed of light actually is.\n",
    "- Statistically speaking, that means he wanted to know what speed of light he would observe if he did the experiment over and over again an infinite number of times.\n",
    "- Unfortunately, actually repeating the experiment lots and lots of times is just not possible.\n",
    "- But, as hackers, we can simulate getting the data again.\n",
    "- The idea is that we resample the data we have and recompute the summary statistic of interest, say the mean.\n",
    "- To resample an array of measurements, we randomly select one entry and store it, \n",
    "- Importantly, we replace the entry in the original array, or equivalently, we just don't delete it.\n",
    "- This is call _**sampling with replacement**_.\n",
    "- The, we randomly select another one and store it.\n",
    "- We do this _n_ times, where _n_ is the total number of measurements, five in this case.\n",
    "- We then have a resampled array of data.\n",
    " - Data: `[23.3, 27.1, 24.3, 25.7, 26.0]`\n",
    "  - Mean = 25.2\n",
    " - Resampled Data: `[27.1, 26.0, 23.3, 25.7, 23.3]`\n",
    "  - Mean = 25.08\n",
    "- Using this new resampled array, we compute the summary statistic and store the result.\n",
    "- Resampling the speed of light data is as if we repeated Michelson's set of measurements.\n",
    "- We do this over and over again to get a large number of summary statistics from the resampled data sets.\n",
    "- We can use these results to plot an ECDF, for example, to get a picture of the probability distribution describing the summary statistic.\n",
    "- This process is an example of bootstrapping, which more generally is the use of resampled data to perform statistical inference.\n",
    "- To make sure we have our terminology down, each resampled array is called a _**bootstrap sample**_\n",
    "- A _**bootstrap replicate**_ is the value of the summary statistic computed from the bootstrap sample.\n",
    "- The name makes sense; it's a simulated replica of the original data acquired by bootstrapping.\n",
    "- Let's look at how we can generate a bootstrap sample and compute a bootstrap replicate from it using Python.\n",
    " - We'll use Michelson's measurements of the speed of light.\n",
    "\n",
    "### Resampling\n",
    "- We'll use [np.random.choice][1] to perform the resampling.\n",
    " - There is a `size` argument so we can specify the sample size\n",
    " - The function does not delete an entry we it samples out of the array.\n",
    "- With this, we can draw 100 samples out of the Michelson speed of light data.\n",
    "- This is a bootstrap sample, since there we 100 data points and we are choosing 100 of them with replacement.\n",
    "- Now that we have a bootstrap sample, we can compute a bootstrap replicate.\n",
    " - We can pick whatever summary statistic we like.\n",
    " - We'll compute the mean, median and std.\n",
    "- It's as simple as treating the bootstrap sample as though it were a dataset.\n",
    "\n",
    "  [1]: https://het.as.utexas.edu/HET/Software/Numpy/reference/generated/numpy.random.choice.html#numpy-random-choice"
   ]
  },
  {
   "cell_type": "code",
   "execution_count": null,
   "metadata": {},
   "outputs": [],
   "source": [
    "np.random.choice(list(range(1, 6)), size=5)"
   ]
  },
  {
   "cell_type": "code",
   "execution_count": null,
   "metadata": {},
   "outputs": [],
   "source": [
    "vel = sol['velocity of light in air (km/s)']\n",
    "print(f'Mean: {vel.mean()}')\n",
    "print(f'Median: {vel.median()}')\n",
    "print(f'STD: {vel.std()}')"
   ]
  },
  {
   "cell_type": "code",
   "execution_count": null,
   "metadata": {},
   "outputs": [],
   "source": [
    "bs_sample = np.random.choice(vel, size=100)\n",
    "print(f'Mean: {bs_sample.mean()}')\n",
    "print(f'Median: {np.median(bs_sample)}')\n",
    "print(f'STD: {np.std(bs_sample)}')"
   ]
  },
  {
   "cell_type": "markdown",
   "metadata": {},
   "source": [
    "### Getting the terminology down\n",
    "\n",
    "Getting tripped up over terminology is a common cause of frustration in students. Unfortunately, you often will read and hear other data scientists using different terminology for bootstrap samples and replicates. This is even more reason why we need everything to be clear and consistent for this course. So, before going forward discussing bootstrapping, let's get our terminology down. If we have a data set with $n$ repeated measurements, a **bootstrap sample** is an array of length $n$ that was drawn from the original data with replacement. What is a **bootstrap replicate**?\n",
    "\n",
    "**Answer the question**\n",
    "\n",
    "- ~~Just another name for a bootstrap sample.~~\n",
    "- **A single value of a statistic computed from a bootstrap sample.**\n",
    "- ~~An actual repeat of the measurements.~~"
   ]
  },
  {
   "cell_type": "markdown",
   "metadata": {},
   "source": [
    "### Bootstrapping by hand\n",
    "To help you gain intuition about how bootstrapping works, imagine you have a data set that has only three points, `[-1, 0, 1]`. How many unique bootstrap samples can be drawn (e.g., `[-1, 0, 1]` and `[1, 0, -1]` are unique), and what is the maximum mean you can get from a bootstrap sample? It might be useful to jot down the samples on a piece of paper.\n",
    "\n",
    "(These are too few data to get meaningful results from bootstrap procedures, but this example is useful for intuition.)\n",
    "\n",
    "**Instructions**\n",
    "\n",
    "- ~~There are 3 unique samples, and the maximum mean is 0.~~\n",
    "- ~~There are 10 unique samples, and the maximum mean is 0.~~\n",
    "- ~~There are 10 unique samples, and the maximum mean is 1.~~\n",
    "- ~~There are 27 unique samples, and the maximum mean is 0.~~\n",
    "- **There are 27 unique samples, and the maximum mean is 1.**\n",
    "\n",
    "\n",
    "- Types to choose from? `n = 3`\n",
    "- Number of chosen? `r = 3`\n",
    "- Order is important.\n",
    "- Repetition is allowed.\n",
    "- Formula: $n^{r}$\n",
    "\n",
    "**There are 27 total bootstrap samples, and one of them, [1,1,1] has a mean of 1. Conversely, 7 of them have a mean of zero.**"
   ]
  },
  {
   "cell_type": "markdown",
   "metadata": {},
   "source": [
    "### Visualizing bootstrap samples\n",
    "\n",
    "In this exercise, you will generate bootstrap samples from the set of annual rainfall data measured at the Sheffield Weather Station in the UK from 1883 to 2015. The data are stored in the NumPy array `rainfall` in units of millimeters (mm). By graphically displaying the bootstrap samples with an ECDF, you can get a feel for how bootstrap sampling allows probabilistic descriptions of data.\n",
    "\n",
    "**Instructions**\n",
    "\n",
    "- Write a `for` loop to acquire `50` bootstrap samples of the rainfall data and plot their ECDF.\n",
    " - Use `np.random.choice()` to generate a bootstrap sample from the NumPy array `rainfall`. Be sure that the `size` of the resampled array is `len(rainfall)`.\n",
    " - Use the function `ecdf()` that you wrote in the prequel to this course to generate the `x` and `y` values for the ECDF of the bootstrap sample `bs_sample`.\n",
    " - Plot the ECDF values. Specify `color='gray'` (to make gray dots) and `alpha=0.1` (to make them semi-transparent, since we are overlaying so many) in addition to the `marker='.'` and `linestyle='none'` keyword arguments.\n",
    "- Use `ecdf()` to generate `x` and `y` values for the ECDF of the original `rainfall` data available in the array rainfall.\n",
    "- Plot the ECDF values of the original data.\n",
    "- Hit 'Submit Answer' to visualize the samples!"
   ]
  },
  {
   "cell_type": "code",
   "execution_count": null,
   "metadata": {},
   "outputs": [],
   "source": [
    "rainfall = sheffield.groupby('yyyy').agg({'rain': 'sum'})['rain'].tolist()"
   ]
  },
  {
   "cell_type": "code",
   "execution_count": null,
   "metadata": {},
   "outputs": [],
   "source": [
    "for _ in range(50):\n",
    "    # Generate bootstrap sample: bs_sample\n",
    "    bs_sample = np.random.choice(rainfall, size=len(rainfall))\n",
    "\n",
    "    # Compute and plot ECDF from bootstrap sample\n",
    "    x, y = ecdf(bs_sample)\n",
    "    _ = plt.plot(x, y, marker='.', linestyle='none',\n",
    "                 color='gray', alpha=0.1)\n",
    "\n",
    "# Compute and plot ECDF from original data\n",
    "x, y = ecdf(rainfall)\n",
    "_ = plt.plot(x, y, marker='.', label='real data')\n",
    "\n",
    "# Make margins and label axes\n",
    "plt.margins(0.02)\n",
    "_ = plt.xlabel('yearly rainfall (mm)')\n",
    "_ = plt.ylabel('ECDF')\n",
    "plt.legend()\n",
    "\n",
    "# Show the plot\n",
    "plt.show()"
   ]
  },
  {
   "cell_type": "markdown",
   "metadata": {},
   "source": [
    "**Notice how the bootstrap samples give an idea of how the distribution of rainfalls is spread.**"
   ]
  },
  {
   "cell_type": "markdown",
   "metadata": {},
   "source": [
    "## Bootstrap confidence intervals\n",
    "\n",
    "- In the last video, we learned how to take a set of data, create a bootstrap sample, and then compute a bootstrap replicate of a given statistic.\n",
    "- Since we will repeat the replicates over and over again, we can write a function to generate a bootstrap replicate.\n",
    "- We will call the function `bootstrap_replicate_1d`, since it works on 1-dimensional arrays.\n",
    "- We pass in the data and also a function that computes the statistic of interest.\n",
    "- We could pass `np.mean` or `np.median` for example.\n",
    "- Generating a replicate takes two steps.\n",
    " - First, we choose entries out of the data array so that the bootstrap sample has the same number of entries as the original data.\n",
    " - Then, we compute the statistic using the specified function\n",
    "- If we call the function, we get a bootstrap replicate\n"
   ]
  },
  {
   "cell_type": "markdown",
   "metadata": {},
   "source": [
    "#### def bootstrap_replicate_1d"
   ]
  },
  {
   "cell_type": "code",
   "execution_count": null,
   "metadata": {},
   "outputs": [],
   "source": [
    "def bootstrap_replicate_1d(data, func):\n",
    "    \"\"\"Generate bootstrap replicate of 1D data.\"\"\"\n",
    "    bs_sample = np.random.choice(data, len(data))\n",
    "    return func(bs_sample)"
   ]
  },
  {
   "cell_type": "code",
   "execution_count": null,
   "metadata": {},
   "outputs": [],
   "source": [
    "bootstrap_replicate_1d(sol['velocity of light in air (km/s)'], np.mean)"
   ]
  },
  {
   "cell_type": "code",
   "execution_count": null,
   "metadata": {},
   "outputs": [],
   "source": [
    "bootstrap_replicate_1d(sol['velocity of light in air (km/s)'], np.mean)"
   ]
  },
  {
   "cell_type": "markdown",
   "metadata": {},
   "source": [
    "### Many bootstrap replicates\n",
    "\n",
    "- How do we repeatedly get replicates?\n",
    "- First, we have to initialize an array to store our bootstrap replicates.\n",
    "- We will make 10,000 replicates, so we use `np.empty` to create the empty array.\n",
    "- Next, we write a `for-loop` to generate a replicate and store it in the `bs_replicates` array.\n",
    "- Now that we have the replicates, we can make a histogram to see what we might expect to get for the mean of repeated measurements of the speed of light.\n",
    " - `density=True` sets the height of the bars of the histogram such that the total area of the bars is equal to one.\n",
    " - This is call normalization, and we do it so that the histogram approximates a probability density function.\n",
    " - The area under the PDF gives a probability.\n",
    "- So, we have computed the approximate PDF of the mean speed of light we would expect to get if we performed the measurements again.\n",
    "- If we repeat the experiment again and again, we are likely to only see the sample mean vary by about 30 km/s.\n",
    "- Now it's useful to summarize this result without having to resort to a graphical method like a histogram.\n",
    "\n",
    "### Confidence interval of a statistic\n",
    "- To do this, we will compute the 95% confidence interval of the mean.\n",
    "- The p% confidence interval is defined as follows\n",
    "- If we repeated measurements over and over again, p% of the observed values would lie within the p% confidence interval.\n",
    "- In our case, if we repeated the 100 measurements of the speed of light over and over again, 95% of the sample means would lie within the 95% confidence interval.\n",
    "- By doing bootstrap replicas, we just \"repeated\" the experiment over and over again.\n",
    "- We just use `np.perentile` to compute the 2.5th and 97.5th percentiles to get the 95% confidence interval."
   ]
  },
  {
   "cell_type": "code",
   "execution_count": null,
   "metadata": {},
   "outputs": [],
   "source": [
    "bs_replicates = np.empty(10000)\n",
    "\n",
    "for i in range(10000):\n",
    "    bs_replicates[i] = bootstrap_replicate_1d(sol['velocity of light in air (km/s)'], np.mean)\n",
    "    \n",
    "conf_int = np.percentile(bs_replicates, [2.5, 97.5])\n",
    "print(conf_int)\n",
    "\n",
    "n, bins, _ = plt.hist(bs_replicates, bins=30, density=True)\n",
    "\n",
    "plt.fill_betweenx([0, n.max()], conf_int[0], conf_int[1], alpha=0.3)\n",
    "\n",
    "plt.xlabel('mean speed of light (km/s)')\n",
    "plt.ylabel('PDF')\n",
    "plt.show()"
   ]
  },
  {
   "cell_type": "markdown",
   "metadata": {},
   "source": [
    "### Generating many bootstrap replicates\n",
    "\n",
    "The function bootstrap_replicate_1d() from the video is available in your namespace. Now you'll write another function, draw_bs_reps(data, func, size=1), which generates many bootstrap replicates from the data set. This function will come in handy for you again and again as you compute confidence intervals and later when you do hypothesis tests.\n",
    "\n",
    "\n",
    "\n",
    "\n",
    "**Instructions**\n",
    "\n",
    "- Define a function with call signature draw_bs_reps(data, func, size=1).\n",
    " - Using np.empty(), initialize an array called bs_replicates of size size to hold all of the bootstrap replicates.\n",
    " - Write a for loop that ranges over size and computes a replicate using bootstrap_replicate_1d(). Refer to the exercise description above to see the function signature of bootstrap_replicate_1d(). Store the replicate in the appropriate index of bs_replicates.\n",
    " - Return the array of replicates bs_replicates. This has already been done for you."
   ]
  },
  {
   "cell_type": "markdown",
   "metadata": {},
   "source": [
    "### Bootstrap replicates of the mean and the SEM\n",
    "\n",
    "In this exercise, you will compute a bootstrap estimate of the probability density function of the mean annual rainfall at the Sheffield Weather Station. Remember, we are estimating the mean annual rainfall we would get if the Sheffield Weather Station could repeat all of the measurements from 1883 to 2015 over and over again. This is a probabilistic estimate of the mean. You will plot the PDF as a histogram, and you will see that it is Normal.\n",
    "\n",
    "In fact, it can be shown theoretically that under not-too-restrictive conditions, the value of the mean will always be Normally distributed. (This does not hold in general, just for the mean and a few other statistics.) The standard deviation of this distribution, called the **standard error of the mean**, or SEM, is given by the standard deviation of the data divided by the square root of the number of data points. I.e., for a data set, `sem = np.std(data) / np.sqrt(len(data))`. Using hacker statistics, you get this same result without the need to derive it, but you will verify this result from your bootstrap replicates.\n",
    "\n",
    "The dataset has been pre-loaded for you into an array called `rainfall`.\n",
    "\n",
    "**Instructions**\n",
    "\n",
    "- Draw 10000 bootstrap replicates of the **mean** annual rainfall using your draw_bs_reps() function and the rainfall array. Hint: Pass in np.mean for func to compute the mean.\n",
    " - As a reminder, draw_bs_reps() accepts 3 arguments: data, func, and size.\n",
    "- Compute and print the standard error of the mean of rainfall.\n",
    " - The formula to compute this is np.std(data) / np.sqrt(len(data)).\n",
    "- Compute and print the standard deviation of your bootstrap replicates bs_replicates.\n",
    "- Make a histogram of the replicates using the normed=True keyword argument and 50 bins.\n",
    "- Hit 'Submit Answer' to see the plot!"
   ]
  },
  {
   "cell_type": "markdown",
   "metadata": {},
   "source": [
    "### Confidence intervals of rainfall data\n",
    "\n",
    "A confidence interval gives upper and lower bounds on the range of parameter values you might expect to get if we repeat our measurements. For named distributions, you can compute them analytically or look them up, but one of the many beautiful properties of the bootstrap method is that you can take percentiles of your bootstrap replicates to get your confidence interval. Conveniently, you can use the np.percentile() function.\n",
    "\n",
    "Use the bootstrap replicates you just generated to compute the 95% confidence interval. That is, give the 2.5th and 97.5th percentile of your bootstrap replicates stored as bs_replicates. What is the 95% confidence interval?\n",
    "\n",
    "- (765, 776) mm/year\n",
    "- (780, 821) mm/year\n",
    "- (761, 817) mm/year\n",
    "- (761, 841) mm/year"
   ]
  },
  {
   "cell_type": "markdown",
   "metadata": {},
   "source": [
    "### Bootstrap replicates of other statistics\n",
    "\n",
    "We saw in a previous exercise that the mean is Normally distributed. This does not necessarily hold for other statistics, but no worry: as hackers, we can always take bootstrap replicates! In this exercise, you'll generate bootstrap replicates for the variance of the annual rainfall at the Sheffield Weather Station and plot the histogram of the replicates.\n",
    "\n",
    "Here, you will make use of the draw_bs_reps() function [you defined a few exercises ago][1]. It is provided below for your reference:\n",
    "\n",
    "```python\n",
    "def draw_bs_reps(data, func, size=1):\n",
    "    \"\"\"Draw bootstrap replicates.\"\"\"\n",
    "    # Initialize array of replicates\n",
    "    bs_replicates = np.empty(size)\n",
    "    # Generate replicates\n",
    "    for i in range(size):\n",
    "        bs_replicates[i] = bootstrap_replicate_1d(data, func)\n",
    "    return bs_replicates\n",
    "```\n",
    "\n",
    "**Instructions**\n",
    "\n",
    "- Draw 10000 bootstrap replicates of the variance in annual rainfall, stored in the rainfall dataset, using your draw_bs_reps() function. Hint: Pass in np.var for computing the variance.\n",
    "- Divide your variance replicates (bs_replicates) by 100 to put the variance in units of square centimeters for convenience.\n",
    "- Make a histogram of bs_replicates using the normed=True keyword argument and 50 bins.\n",
    "\n",
    "  [1]: https://campus.datacamp.com/courses/statistical-thinking-in-python-part-2/bootstrap-confidence-intervals?ex=6"
   ]
  },
  {
   "cell_type": "markdown",
   "metadata": {},
   "source": [
    "### Confidence interval on the rate of no-hitters\n",
    "\n",
    "Consider again the inter-no-hitter intervals for the modern era of baseball. Generate 10,000 bootstrap replicates of the optimal parameter \bτ. Plot a histogram of your replicates and report a 95% confidence interval.\n",
    "\n",
    "**Instructions**\n",
    "\n",
    "- Generate 10000 bootstrap replicates of τ from the nohitter_times data using your draw_bs_reps() function. Recall that the optimal τ is calculated as the mean of the data.\n",
    "- Compute the 95% confidence interval using np.percentile() and passing in two arguments: The array bs_replicates, and the list of percentiles - in this case 2.5 and 97.5.\n",
    "- Print the confidence interval.\n",
    "- Plot a histogram of your bootstrap replicates. This has been done for you, so hit 'Submit Answer' to see the plot!"
   ]
  },
  {
   "cell_type": "markdown",
   "metadata": {},
   "source": [
    "## Pairs bootstrap"
   ]
  },
  {
   "cell_type": "markdown",
   "metadata": {},
   "source": [
    "### A function to do pairs bootstrap\n",
    "\n",
    "As discussed in the video, pairs bootstrap involves resampling pairs of data. Each collection of pairs fit with a line, in this case using np.polyfit(). We do this again and again, getting bootstrap replicates of the parameter values. To have a useful tool for doing pairs bootstrap, you will write a function to perform pairs bootstrap on a set of x,y data.\n",
    "\n",
    "**Instructions**\n",
    "\n",
    "- Define a function with call signature draw_bs_pairs_linreg(x, y, size=1) to perform pairs bootstrap estimates on linear regression parameters.\n",
    " - Use np.arange() to set up an array of indices going from 0 to len(x). These are what you will resample and use them to pick values out of the x and y arrays.\n",
    " - Use np.empty() to initialize the slope and intercept replicate arrays to be of size size.\n",
    " - Write a for loop to:\n",
    "   - Resample the indices inds. Use np.random.choice() to do this.\n",
    "   - Make new x and y arrays bs_x and bs_y using the the resampled indices bs_inds. To do this, slice x and y with bs_inds.\n",
    "   - Use np.polyfit() on the new x and y arrays and store the computed slope and intercept.\n",
    " - Return the pair bootstrap replicates of the slope and intercept."
   ]
  },
  {
   "cell_type": "markdown",
   "metadata": {},
   "source": [
    "### Pairs bootstrap of literacy/fertility data\n",
    "Using the function you just wrote, perform pairs bootstrap to plot a histogram describing the estimate of the slope from the illiteracy/fertility data. Also report the 95% confidence interval of the slope. The data is available to you in the NumPy arrays illiteracy and fertility.\n",
    "\n",
    "As a reminder, draw_bs_pairs_linreg() has a function signature of draw_bs_pairs_linreg(x, y, size=1), and it returns two values: bs_slope_reps and bs_intercept_reps.\n",
    "\n",
    "**Instructions**\n",
    "\n",
    "- Use your draw_bs_pairs_linreg() function to take 1000 bootstrap replicates of the slope and intercept. The x-axis data is illiteracy and y-axis data is fertility.\n",
    "- Compute and print the 95% bootstrap confidence interval for the slope.\n",
    "- Plot and show a histogram of the slope replicates. Be sure to label your axes. This has been done for you, so click 'Submit Answer' to see your histogram!"
   ]
  },
  {
   "cell_type": "markdown",
   "metadata": {},
   "source": [
    "### Plotting bootstrap regressions\n",
    "\n",
    "A nice way to visualize the variability we might expect in a linear regression is to plot the line you would get from each bootstrap replicate of the slope and intercept. Do this for the first 100 of your bootstrap replicates of the slope and intercept (stored as bs_slope_reps and bs_intercept_reps).\n",
    "\n",
    "**Instructions**\n",
    "\n",
    "- Generate an array of x-values consisting of 0 and 100 for the plot of the regression lines. Use the np.array() function for this.\n",
    "- Write a for loop in which you plot a regression line with a slope and intercept given by the pairs bootstrap replicates. Do this for 100 lines.\n",
    " - When plotting the regression lines in each iteration of the for loop, recall the regression equation y = a*x + b. Here, a is bs_slope_reps[i] and b is bs_intercept_reps[i].\n",
    " - Specify the keyword arguments linewidth=0.5, alpha=0.2, and color='red' in your call to plt.plot().\n",
    "- Make a scatter plot with illiteracy on the x-axis and fertility on the y-axis. Remember to specify the marker='.' and linestyle='none' keyword arguments.\n",
    "- Label the axes, set a 2% margin, and show the plot. This has been done for you, so hit 'Submit Answer' to visualize the bootstrap regressions!"
   ]
  },
  {
   "cell_type": "markdown",
   "metadata": {},
   "source": [
    "# Introduction to hypothesis testing\n",
    "\n",
    "You now know how to define and estimate parameters given a model. But the question remains: how reasonable is it to observe your data if a model is true? This question is addressed by hypothesis tests. They are the icing on the inference cake. After completing this chapter, you will be able to carefully construct and test hypotheses using hacker statistics."
   ]
  },
  {
   "cell_type": "markdown",
   "metadata": {},
   "source": [
    "## Formulating and simulating a hypothesis"
   ]
  },
  {
   "cell_type": "markdown",
   "metadata": {},
   "source": [
    "### Generating a permutation sample\n",
    "\n",
    "In the video, you learned that permutation sampling is a great way to simulate the hypothesis that two variables have identical probability distributions. This is often a hypothesis you want to test, so in this exercise, you will write a function to generate a permutation sample from two data sets.\n",
    "\n",
    "Remember, a permutation sample of two arrays having respectively n1 and n2 entries is constructed by concatenating the arrays together, scrambling the contents of the concatenated array, and then taking the first n1 entries as the permutation sample of the first array and the last n2 entries as the permutation sample of the second array.\n",
    "\n",
    "**Instructions**\n",
    "\n",
    "- Concatenate the two input arrays into one using np.concatenate(). Be sure to pass in data1 and data2 as one argument (data1, data2).\n",
    "- Use np.random.permutation() to permute the concatenated array.\n",
    "- Store the first len(data1) entries of permuted_data as perm_sample_1 and the last len(data2) entries of permuted_data as perm_sample_2. In practice, this can be achieved by using :len(data1) and len(data1): to slice permuted_data.\n",
    "- Return perm_sample_1 and perm_sample_2."
   ]
  },
  {
   "cell_type": "markdown",
   "metadata": {},
   "source": [
    "### Visualizing permutation sampling\n",
    "\n",
    "To help see how permutation sampling works, in this exercise you will generate permutation samples and look at them graphically.\n",
    "\n",
    "We will use the Sheffield Weather Station data again, this time considering the monthly rainfall in June (a dry month) and November (a wet month). We expect these might be differently distributed, so we will take permutation samples to see how their ECDFs would look if they were identically distributed.\n",
    "\n",
    "The data are stored in the Numpy arrays rain_june and rain_november.\n",
    "\n",
    "As a reminder, permutation_sample() has a function signature of permutation_sample(data_1, data_2) with a return value of permuted_data[:len(data_1)], permuted_data[len(data_1):], where permuted_data = np.random.permutation(np.concatenate((data_1, data_2))).\n",
    "\n",
    "**Instructions**\n",
    "\n",
    "- Write a for loop to generate 50 permutation samples, compute their ECDFs, and plot them.\n",
    " - Generate a permutation sample pair from rain_june and rain_november using your permutation_sample() function.\n",
    " - Generate the x and y values for an ECDF for each of the two permutation samples for the ECDF using your ecdf() function.\n",
    " - Plot the ECDF of the first permutation sample (x_1 and y_1) as dots. Do the same for the second permutation sample (x_2 and y_2).\n",
    "- Generate x and y values for ECDFs for the rain_june and rain_november data and plot the ECDFs using respectively the keyword arguments color='red' and color='blue'.\n",
    "- Label your axes, set a 2% margin, and show your plot. This has been done for you, so just hit 'Submit Answer' to view the plot!"
   ]
  },
  {
   "cell_type": "markdown",
   "metadata": {},
   "source": [
    "## Test statistics and p-values"
   ]
  },
  {
   "cell_type": "markdown",
   "metadata": {},
   "source": [
    "### Test statistics\n",
    "\n",
    "When performing hypothesis tests, your choice of test statistic should be:\n",
    "\n",
    "Answer the question\n",
    "\n",
    "- something well-known, like the mean or median.\n",
    "- be a parameter that can be estimated.\n",
    "- be pertinent to the question you are seeking to answer in your hypothesis test."
   ]
  },
  {
   "cell_type": "markdown",
   "metadata": {},
   "source": [
    "### What is a p-value?\n",
    "\n",
    "The p-value is generally a measure of:\n",
    "\n",
    "Answer the question\n",
    "\n",
    "- the probability that the hypothesis you are testing is true.\n",
    "- the probability of observing your data if the hypothesis you are testing is true.\n",
    "- the probability of observing a test statistic equally or more extreme than the one you observed, given that the null hypothesis is true."
   ]
  },
  {
   "cell_type": "markdown",
   "metadata": {},
   "source": [
    "### Generating permutation replicates\n",
    "\n",
    "As discussed in the video, a permutation replicate is a single value of a statistic computed from a permutation sample. As the draw_bs_reps() function [you wrote in chapter 2][1] is useful for you to generate bootstrap replicates, it is useful to have a similar function, draw_perm_reps(), to generate permutation replicates. You will write this useful function in this exercise.\n",
    "\n",
    "The function has call signature draw_perm_reps(data_1, data_2, func, size=1). Importantly, func must be a function that takes two arrays as arguments. In most circumstances, func will be a function you write yourself.\n",
    "\n",
    "**Instructions**\n",
    "\n",
    "- Define a function with this signature: draw_perm_reps(data_1, data_2, func, size=1).\n",
    " - Initialize an array to hold the permutation replicates using np.empty().\n",
    " - Write a for loop to:\n",
    "   - Compute a permutation sample using your permutation_sample() function\n",
    "   - Pass the samples into func() to compute the replicate and store the result in your array of replicates.\n",
    "- Return the array of replicates.\n",
    "\n",
    "  [1]: https://campus.datacamp.com/courses/statistical-thinking-in-python-part-2/bootstrap-confidence-intervals?ex=6"
   ]
  },
  {
   "cell_type": "markdown",
   "metadata": {},
   "source": [
    "### Look before you leap: EDA before hypothesis testing\n",
    "\n",
    "Kleinteich and Gorb (Sci. Rep., 4, 5225, 2014) performed an interesting experiment with South American horned frogs. They held a plate connected to a force transducer, along with a bait fly, in front of them. They then measured the impact force and adhesive force of the frog's tongue when it struck the target.\n",
    "\n",
    "Frog A is an adult and Frog B is a juvenile. The researchers measured the impact force of 20 strikes for each frog. In the next exercise, we will test the hypothesis that the two frogs have the same distribution of impact forces. But, remember, it is important to do EDA first! Let's make a bee swarm plot for the data. They are stored in a Pandas data frame, df, where column ID is the identity of the frog and column impact_force is the impact force in Newtons (N).\n",
    "\n",
    "**Instructions**\n",
    "\n",
    "- Use sns.swarmplot() to make a bee swarm plot of the data by specifying the x, y, and data keyword arguments.\n",
    "- Label your axes.\n",
    "- Show the plot."
   ]
  },
  {
   "cell_type": "markdown",
   "metadata": {},
   "source": [
    "### Permutation test on frog data\n",
    "\n",
    "The average strike force of Frog A was 0.71 Newtons (N), and that of Frog B was 0.42 N for a difference of 0.29 N. It is possible the frogs strike with the same force and this observed difference was by chance. You will compute the probability of getting at least a 0.29 N difference in mean strike force under the hypothesis that the distributions of strike forces for the two frogs are identical. We use a permutation test with a test statistic of the difference of means to test this hypothesis.\n",
    "\n",
    "For your convenience, the data has been stored in the arrays force_a and force_b.\n",
    "\n",
    "**Instructions**\n",
    "\n",
    "- Define a function with call signature diff_of_means(data_1, data_2) that returns the differences in means between two data sets, mean of data_1 minus mean of data_2.\n",
    "- Use this function to compute the empirical difference of means that was observed in the frogs.\n",
    "- Draw 10,000 permutation replicates of the difference of means.\n",
    "- Compute the p-value.\n",
    "- Print the p-value."
   ]
  },
  {
   "cell_type": "markdown",
   "metadata": {},
   "source": [
    "## Bootstrap hypothesis tests"
   ]
  },
  {
   "cell_type": "markdown",
   "metadata": {},
   "source": [
    "### A one-sample bootstrap hypothesis test\n",
    "\n",
    "Another juvenile frog was studied, Frog C, and you want to see if Frog B and Frog C have similar impact forces. Unfortunately, you do not have Frog C's impact forces available, but you know they have a mean of 0.55 N. Because you don't have the original data, you cannot do a permutation test, and you cannot assess the hypothesis that the forces from Frog B and Frog C come from the same distribution. You will therefore test another, less restrictive hypothesis: The mean strike force of Frog B is equal to that of Frog C.\n",
    "\n",
    "To set up the bootstrap hypothesis test, you will take the mean as our test statistic. Remember, your goal is to calculate the probability of getting a mean impact force less than or equal to what was observed for Frog B if the hypothesis that the true mean of Frog B's impact forces is equal to that of Frog C is true. You first translate all of the data of Frog B such that the mean is 0.55 N. This involves adding the mean force of Frog C and subtracting the mean force of Frog B from each measurement of Frog B. This leaves other properties of Frog B's distribution, such as the variance, unchanged.\n",
    "\n",
    "**Instructions**\n",
    "\n",
    "- Translate the impact forces of Frog B such that its mean is 0.55 N.\n",
    "- Use your draw_bs_reps() function to take 10,000 bootstrap replicates of the mean of your translated forces.\n",
    "- Compute the p-value by finding the fraction of your bootstrap replicates that are less than the observed mean impact force of Frog B. Note that the variable of interest here is force_b.\n",
    "- Print your p-value."
   ]
  },
  {
   "cell_type": "markdown",
   "metadata": {},
   "source": [
    "### A two-sample bootstrap hypothesis test for difference of means\n",
    "\n",
    "We now want to test the hypothesis that Frog A and Frog B have the same mean impact force, but not necessarily the same distribution, which is also impossible with a permutation test.\n",
    "\n",
    "To do the two-sample bootstrap test, we shift both arrays to have the same mean, since we are simulating the hypothesis that their means are, in fact, equal. We then draw bootstrap samples out of the shifted arrays and compute the difference in means. This constitutes a bootstrap replicate, and we generate many of them. The p-value is the fraction of replicates with a difference in means greater than or equal to what was observed.\n",
    "\n",
    "The objects forces_concat and empirical_diff_means are already in your namespace.\n",
    "\n",
    "**Instructions**\n",
    "\n",
    "- Compute the mean of all forces (from forces_concat) using np.mean().\n",
    "- Generate shifted data sets for both force_a and force_b such that the mean of each is the mean of the concatenated array of impact forces.\n",
    "- Generate 10,000 bootstrap replicates of the mean each for the two shifted arrays.\n",
    "- Compute the bootstrap replicates of the difference of means by subtracting the replicates of the shifted impact force of Frog B from those of Frog A.\n",
    "- Compute and print the p-value from your bootstrap replicates."
   ]
  },
  {
   "cell_type": "markdown",
   "metadata": {},
   "source": [
    "# Hypothesis test examples\n",
    "\n",
    "As you saw from the last chapter, hypothesis testing can be a bit tricky. You need to define the null hypothesis, figure out how to simulate it, and define clearly what it means to be \"more extreme\" in order to compute the p-value. Like any skill, practice makes perfect, and this chapter gives you some good practice with hypothesis tests."
   ]
  },
  {
   "cell_type": "markdown",
   "metadata": {},
   "source": [
    "## A/B testing"
   ]
  },
  {
   "cell_type": "markdown",
   "metadata": {},
   "source": [
    "### The vote for the Civil Rights Act in 1964\n",
    "\n",
    "The Civil Rights Act of 1964 was one of the most important pieces of legislation ever passed in the USA. Excluding \"present\" and \"abstain\" votes, 153 House Democrats and 136 Republicans voted yea. However, 91 Democrats and 35 Republicans voted nay. Did party affiliation make a difference in the vote?\n",
    "\n",
    "To answer this question, you will evaluate the hypothesis that the party of a House member has no bearing on his or her vote. You will use the fraction of Democrats voting in favor as your test statistic and evaluate the probability of observing a fraction of Democrats voting in favor at least as small as the observed fraction of 153/244. (That's right, at least as small as. In 1964, it was the Democrats who were less progressive on civil rights issues.) To do this, permute the party labels of the House voters and then arbitrarily divide them into \"Democrats\" and \"Republicans\" and compute the fraction of Democrats voting yea.\n",
    "\n",
    "**Instructions**\n",
    "\n",
    "- Construct Boolean arrays, dems and reps that contain the votes of the respective parties; e.g., dems has 153 True entries and 91 False entries.\n",
    "- Write a function, frac_yea_dems(dems, reps) that returns the fraction of Democrats that voted yea. The first input is an array of Booleans, Two inputs are required to use your draw_perm_reps() function, but the second is not used.\n",
    "- Use your draw_perm_reps() function to draw 10,000 permutation replicates of the fraction of Democrat yea votes.\n",
    "- Compute and print the p-value."
   ]
  },
  {
   "cell_type": "markdown",
   "metadata": {},
   "source": [
    "### What is equivalent?\n",
    "\n",
    "You have experience matching stories to probability distributions. Similarly, you use the same procedure for two different A/B tests if their stories match. In the Civil Rights Act example you just did, you performed an A/B test on voting data, which has a Yes/No type of outcome for each subject (in that case, a voter). Which of the following situations involving testing by a web-based company has an equivalent set up for an A/B test as the one you just did with the Civil Rights Act of 1964?\n",
    "\n",
    "**Answer the question**\n",
    "\n",
    "- You measure how much time each customer spends on your website before and after an advertising campaign.\n",
    "- You measure the number of people who click on an ad on your company's website before and after changing its color.\n",
    "- You measure how many clicks each person has on your company's website before and after changing the header layout."
   ]
  },
  {
   "cell_type": "markdown",
   "metadata": {},
   "source": [
    "### A time-on-website analog\n",
    "\n",
    "It turns out that you already did a hypothesis test analogous to an A/B test where you are interested in how much time is spent on the website before and after an ad campaign. The frog tongue force (a continuous quantity like time on the website) is an analog. \"Before\" = Frog A and \"after\" = Frog B. Let's practice this again with something that actually is a before/after scenario.\n",
    "\n",
    "We return to the no-hitter data set. In 1920, Major League Baseball implemented important rule changes that ended the so-called dead ball era. Importantly, the pitcher was no longer allowed to spit on or scuff the ball, an activity that greatly favors pitchers. In this problem you will perform an A/B test to determine if these rule changes resulted in a slower rate of no-hitters (i.e., longer average time between no-hitters) using the difference in mean inter-no-hitter time as your test statistic. The inter-no-hitter times for the respective eras are stored in the arrays nht_dead and nht_live, where \"nht\" is meant to stand for \"no-hitter time.\"\n",
    "\n",
    "Since you will be using your draw_perm_reps() function in this exercise, it may be useful to remind yourself of its call signature: draw_perm_reps(d1, d2, func, size=1) or even [referring back][1] to the chapter 3 exercise in which you defined it.\n",
    "\n",
    "**Instructions**\n",
    "\n",
    "- Compute the observed difference in mean inter-nohitter time using diff_of_means().\n",
    "- Generate 10,000 permutation replicates of the difference of means using draw_perm_reps().\n",
    "- Compute and print the p-value.\n",
    "\n",
    "  [1]: https://campus.datacamp.com/courses/statistical-thinking-in-python-part-2/introduction-to-hypothesis-testing?ex=7"
   ]
  },
  {
   "cell_type": "markdown",
   "metadata": {},
   "source": [
    "### What should you have done first?\n",
    "\n",
    "That was a nice hypothesis test you just did to check out whether the rule changes in 1920 changed the rate of no-hitters. But what should you have done with the data first?\n",
    "\n",
    "**Answer the question**\n",
    "\n",
    "- Performed EDA, perhaps plotting the ECDFs of inter-no-hitter times in the dead ball and live ball eras.\n",
    "- Nothing. The hypothesis test was only a few lines of code."
   ]
  },
  {
   "cell_type": "markdown",
   "metadata": {},
   "source": [
    "## Test of correlation"
   ]
  },
  {
   "cell_type": "markdown",
   "metadata": {},
   "source": [
    "### Simulating a null hypothesis concerning correlation\n",
    "\n",
    "The observed correlation between female illiteracy and fertility in the data set of 162 countries may just be by chance; the fertility of a given country may actually be totally independent of its illiteracy. You will test this null hypothesis in the next exercise.\n",
    "\n",
    "To do the test, you need to simulate the data assuming the null hypothesis is true. Of the following choices, which is the best way to do it?\n",
    "\n",
    "**Answer the question**\n",
    "\n",
    "- Choose 162 random numbers to represent the illiteracy rate and 162 random numbers to represent the corresponding fertility rate.\n",
    "- Do a pairs bootstrap: Sample pairs of observed data with replacement to generate a new set of (illiteracy, fertility) data.\n",
    "- Do a bootstrap sampling in which you sample 162 illiteracy values with replacement and then 162 fertility values with replacement.\n",
    "- Do a permutation test: Permute the illiteracy values but leave the fertility values fixed to generate a new set of (illiteracy, fertility) data.\n",
    "- Do a permutation test: Permute both the illiteracy and fertility values to generate a new set of (illiteracy, fertility data)."
   ]
  },
  {
   "cell_type": "markdown",
   "metadata": {},
   "source": [
    "### Hypothesis test on Pearson correlation\n",
    "\n",
    "The observed correlation between female illiteracy and fertility may just be by chance; the fertility of a given country may actually be totally independent of its illiteracy. You will test this hypothesis. To do so, permute the illiteracy values but leave the fertility values fixed. This simulates the hypothesis that they are totally independent of each other. For each permutation, compute the Pearson correlation coefficient and assess how many of your permutation replicates have a Pearson correlation coefficient greater than the observed one.\n",
    "\n",
    "The function pearson_r() that you [wrote in the prequel to this course][1] for computing the Pearson correlation coefficient is already in your name space.\n",
    "\n",
    "**Instructions**\n",
    "\n",
    "- Compute the observed Pearson correlation between illiteracy and fertility.\n",
    "- Initialize an array to store your permutation replicates.\n",
    "- Write a for loop to draw 10,000 replicates:\n",
    " - Permute the illiteracy measurements using np.random.permutation().\n",
    " - Compute the Pearson correlation between the permuted illiteracy array, illiteracy_permuted, and fertility.\n",
    "- Compute and print the p-value from the replicates.\n",
    "\n",
    "  [1]: https://campus.datacamp.com/courses/statistical-thinking-in-python-part-1/quantitative-exploratory-data-analysis?ex=15"
   ]
  },
  {
   "cell_type": "markdown",
   "metadata": {},
   "source": [
    "### Do neonicotinoid insecticides have unintended consequences?\n",
    "\n",
    "As a final exercise in hypothesis testing before we put everything together in our case study in the next chapter, you will investigate the effects of neonicotinoid insecticides on bee reproduction. These insecticides are very widely used in the United States to combat aphids and other pests that damage plants.\n",
    "\n",
    "In a recent study, Straub, et al. ([Proc. Roy. Soc. B, 2016][1]) investigated the effects of neonicotinoids on the sperm of pollinating bees. In this and the next exercise, you will study how the pesticide treatment affected the count of live sperm per half milliliter of semen.\n",
    "\n",
    "First, we will do EDA, as usual. Plot ECDFs of the alive sperm count for untreated bees (stored in the Numpy array control) and bees treated with pesticide (stored in the Numpy array treated).\n",
    "\n",
    "**Instructions**\n",
    "\n",
    "- Use your ecdf() function to generate x,y values from the control and treated arrays for plotting the ECDFs.\n",
    "- Plot the ECDFs on the same plot.\n",
    "- The margins have been set for you, along with the legend and axis labels. Hit 'Submit Answer' to see the result!\n",
    "\n",
    "  [1]: http://dx.doi.org/10.1098/rspb.2016.0506"
   ]
  },
  {
   "cell_type": "markdown",
   "metadata": {},
   "source": [
    "### Bootstrap hypothesis test on bee sperm counts\n",
    "\n",
    "Now, you will test the following hypothesis: On average, male bees treated with neonicotinoid insecticide have the same number of active sperm per milliliter of semen than do untreated male bees. You will use the difference of means as your test statistic.\n",
    "\n",
    "For your reference, the call signature for the draw_bs_reps() function [you wrote in chapter 2][1] is draw_bs_reps(data, func, size=1).\n",
    "\n",
    "**Instructions**\n",
    "\n",
    "- Compute the mean alive sperm count of control minus that of treated.\n",
    "- Compute the mean of all alive sperm counts. To do this, first concatenate control and treated and take the mean of the concatenated array.\n",
    "- Generate shifted data sets for both control and treated such that the shifted data sets have the same mean. This has already been done for you.\n",
    "- Generate 10,000 bootstrap replicates of the mean each for the two shifted arrays. Use your draw_bs_reps() function.\n",
    "- Compute the bootstrap replicates of the difference of means.\n",
    "- The code to compute and print the p-value has been written for you. Hit 'Submit Answer' to see the result!\n",
    "\n",
    "  [1]: https://campus.datacamp.com/courses/statistical-thinking-in-python-part-2/bootstrap-confidence-intervals?ex=6"
   ]
  },
  {
   "cell_type": "markdown",
   "metadata": {},
   "source": [
    "# Putting it all together: a case study\n",
    "\n",
    "Every year for the past 40-plus years, Peter and Rosemary Grant have gone to the Galápagos island of Daphne Major and collected data on Darwin's finches. Using your skills in statistical inference, you will spend this chapter with their data, and witness first hand, through data, evolution in action. It's an exhilarating way to end the course!"
   ]
  },
  {
   "cell_type": "markdown",
   "metadata": {},
   "source": [
    "## Finch beaks and the need for statistics"
   ]
  },
  {
   "cell_type": "markdown",
   "metadata": {},
   "source": [
    "### EDA of beak depths of Darwin's finches\n",
    "\n",
    "For your first foray into the Darwin finch data, you will study how the beak depth (the distance, top to bottom, of a closed beak) of the finch species Geospiza scandens has changed over time. The Grants have noticed some changes of beak geometry depending on the types of seeds available on the island, and they also noticed that there was some interbreeding with another major species on Daphne Major, Geospiza fortis. These effects can lead to changes in the species over time.\n",
    "\n",
    "In the next few problems, you will look at the beak depth of G. scandens on Daphne Major in 1975 and in 2012. To start with, let's plot all of the beak depth measurements in 1975 and 2012 in a bee swarm plot.\n",
    "\n",
    "The data are stored in a pandas DataFrame called df with columns 'year' and 'beak_depth'. The units of beak depth are millimeters (mm).\n",
    "\n",
    "**Instructions**\n",
    "\n",
    "- Create the beeswarm plot.\n",
    "- Label the axes.\n",
    "- Show the plot."
   ]
  },
  {
   "cell_type": "markdown",
   "metadata": {},
   "source": [
    "### ECDFs of beak depths\n",
    "\n",
    "While bee swarm plots are useful, we found that ECDFs are often even better when doing EDA. Plot the ECDFs for the 1975 and 2012 beak depth measurements on the same plot.\n",
    "\n",
    "For your convenience, the beak depths for the respective years has been stored in the NumPy arrays bd_1975 and bd_2012.\n",
    "\n",
    "**Instructions**\n",
    "\n",
    "- Compute the ECDF for the 1975 and 2012 data.\n",
    "- Plot the two ECDFs.\n",
    "- Set a 2% margin and add axis labels and a legend to the plot.\n",
    "- Hit 'Submit Answer' to view the plot!"
   ]
  },
  {
   "cell_type": "markdown",
   "metadata": {},
   "source": [
    "### Parameter estimates of beak depths\n",
    "\n",
    "Estimate the difference of the mean beak depth of the G. scandens samples from 1975 and 2012 and report a 95% confidence interval.\n",
    "\n",
    "Since in this exercise you will use the draw_bs_reps() function you wrote in chapter 2, it may be helpful to [refer back to it][1].\n",
    "\n",
    "**Instructions**\n",
    "\n",
    "- Compute the difference of the sample means.\n",
    "- Take 10,000 bootstrap replicates of the mean for the 1975 beak depths using your draw_bs_reps() function. Also get 10,000 bootstrap replicates of the mean for the 2012 beak depths.\n",
    "- Subtract the 1975 replicates from the 2012 replicates to get bootstrap replicates of the difference of means.\n",
    "- Use the replicates to compute the 95% confidence interval.\n",
    "- Hit 'Submit Answer' to view the results!\n",
    "\n",
    "  [1]: https://campus.datacamp.com/courses/statistical-thinking-in-python-part-2/bootstrap-confidence-intervals?ex=6"
   ]
  },
  {
   "cell_type": "markdown",
   "metadata": {},
   "source": [
    "### Hypothesis test: Are beaks deeper in 2012?\n",
    "\n",
    "Your plot of the ECDF and determination of the confidence interval make it pretty clear that the beaks of G. scandens on Daphne Major have gotten deeper. But is it possible that this effect is just due to random chance? In other words, what is the probability that we would get the observed difference in mean beak depth if the means were the same?\n",
    "\n",
    "Be careful! The hypothesis we are testing is not that the beak depths come from the same distribution. For that we could use a permutation test. The hypothesis is that the means are equal. To perform this hypothesis test, we need to shift the two data sets so that they have the same mean and then use bootstrap sampling to compute the difference of means.\n",
    "\n",
    "**Instructions**\n",
    "\n",
    "- Make a concatenated array of the 1975 and 2012 beak depths and compute and store its mean.\n",
    "- Shift bd_1975 and bd_2012 such that their means are equal to the one you just computed for the combined data set.\n",
    "- Take 10,000 bootstrap replicates of the mean each for the 1975 and 2012 beak depths.\n",
    "- Subtract the 1975 replicates from the 2012 replicates to get bootstrap replicates of the difference.\n",
    "- Compute and print the p-value. The observed difference in means you computed in the last exercise is still in your namespace as mean_diff."
   ]
  },
  {
   "cell_type": "markdown",
   "metadata": {},
   "source": [
    "## Variation in beak shapes"
   ]
  },
  {
   "cell_type": "markdown",
   "metadata": {},
   "source": [
    "### EDA of beak length and depth\n",
    "\n",
    "The beak length data are stored as bl_1975 and bl_2012, again with units of millimeters (mm). You still have the beak depth data stored in bd_1975 and bd_2012. Make scatter plots of beak depth (y-axis) versus beak length (x-axis) for the 1975 and 2012 specimens.\n",
    "\n",
    "**Instructions**\n",
    "\n",
    "- Make a scatter plot of the 1975 data. Use the color='blue' keyword argument. Also use an alpha=0.5 keyword argument to have transparency in case data points overlap.\n",
    "- Do the same for the 2012 data, but use the color='red' keyword argument.\n",
    "- Add a legend and label the axes.\n",
    "- Show your plot."
   ]
  },
  {
   "cell_type": "markdown",
   "metadata": {},
   "source": [
    "### Linear regressions\n",
    "Perform a linear regression for both the 1975 and 2012 data. Then, perform pairs bootstrap estimates for the regression parameters. Report 95% confidence intervals on the slope and intercept of the regression line.\n",
    "\n",
    "You will use the draw_bs_pairs_linreg() function you [wrote back in chapter 2][1].\n",
    "\n",
    "As a reminder, its call signature is draw_bs_pairs_linreg(x, y, size=1), and it returns bs_slope_reps and bs_intercept_reps. The beak length data are stored as bl_1975 and bl_2012, and the beak depth data is stored in bd_1975 and bd_2012.\n",
    "\n",
    "**Instructions**\n",
    "\n",
    "- Compute the slope and intercept for both the 1975 and 2012 data sets.\n",
    "- Obtain 1000 pairs bootstrap samples for the linear regressions using your draw_bs_pairs_linreg() function.\n",
    "- Compute 95% confidence intervals for the slopes and the intercepts.\n",
    "\n",
    "  [1]: https://campus.datacamp.com/courses/statistical-thinking-in-python-part-2/bootstrap-confidence-intervals?ex=12"
   ]
  },
  {
   "cell_type": "markdown",
   "metadata": {},
   "source": [
    "### Displaying the linear regression results\n",
    "\n",
    "Now, you will display your linear regression results on the scatter plot, the code for which is already pre-written for you from your previous exercise. To do this, take the first 100 bootstrap samples (stored in bs_slope_reps_1975, bs_intercept_reps_1975, bs_slope_reps_2012, and bs_intercept_reps_2012) and plot the lines with alpha=0.2 and linewidth=0.5 keyword arguments to plt.plot().\n",
    "\n",
    "**Instructions**\n",
    "\n",
    "- Generate the x-values for the bootstrap lines using np.array(). They should consist of 10 mm and 17 mm.\n",
    "- Write a for loop to plot 100 of the bootstrap lines for the 1975 and 2012 data sets. The lines for the 1975 data set should be 'blue' and those for the 2012 data set should be 'red'.\n",
    "- Hit 'Submit Answer' to view the plot!"
   ]
  },
  {
   "cell_type": "markdown",
   "metadata": {},
   "source": [
    "### Beak length to depth ratio\n",
    "The linear regressions showed interesting information about the beak geometry. The slope was the same in 1975 and 2012, suggesting that for every millimeter gained in beak length, the birds gained about half a millimeter in depth in both years. However, if we are interested in the shape of the beak, we want to compare the ratio of beak length to beak depth. Let's make that comparison.\n",
    "\n",
    "Remember, the data are stored in bd_1975, bd_2012, bl_1975, and bl_2012.\n",
    "\n",
    "**Instructions**\n",
    "\n",
    "- Make arrays of the beak length to depth ratio of each bird for 1975 and for 2012.\n",
    "- Compute the mean of the length to depth ratio for 1975 and for 2012.\n",
    "- Generate 10,000 bootstrap replicates each for the mean ratio for 1975 and 2012 using your draw_bs_reps() function.\n",
    "- Get a 99% bootstrap confidence interval for the length to depth ratio for 1975 and 2012.\n",
    "- Print the results."
   ]
  },
  {
   "cell_type": "markdown",
   "metadata": {},
   "source": [
    "### How different is the ratio?\n",
    "In the previous exercise, you computed the mean beak length to depth ratio with 99% confidence intervals for 1975 and for 2012. The results of that calculation are shown graphically in the plot accompanying this problem. In addition to these results, what would you say about the ratio of beak length to depth?\n",
    "\n",
    "**Instructions**\n",
    "\n",
    "- The mean beak length-to-depth ratio decreased by about 0.1, or 7%, from 1975 to 2012. The 99% confidence intervals are not even close to overlapping, so this is a real change. The beak shape changed.\n",
    "- It is impossible to say if this is a real effect or just due to noise without computing a p-value. Let me compute the p-value and get back to you."
   ]
  },
  {
   "cell_type": "markdown",
   "metadata": {},
   "source": [
    "## Calculation of heritability"
   ]
  },
  {
   "cell_type": "markdown",
   "metadata": {},
   "source": [
    "### EDA of heritability\n",
    "\n",
    "The array bd_parent_scandens contains the average beak depth (in mm) of two parents of the species G. scandens. The array bd_offspring_scandens contains the average beak depth of the offspring of the respective parents. The arrays bd_parent_fortis and bd_offspring_fortis contain the same information about measurements from G. fortis birds.\n",
    "\n",
    "Make a scatter plot of the average offspring beak depth (y-axis) versus average parental beak depth (x-axis) for both species. Use the alpha=0.5 keyword argument to help you see overlapping points.\n",
    "\n",
    "**Instructions**\n",
    "\n",
    "- Generate scatter plots for both species. Display the data for G. fortis in blue and G. scandens in red.\n",
    "- Set the axis labels, make a legend, and show the plot."
   ]
  },
  {
   "cell_type": "markdown",
   "metadata": {},
   "source": [
    "### Correlation of offspring and parental data\n",
    "\n",
    "In an effort to quantify the correlation between offspring and parent beak depths, we would like to compute statistics, such as the Pearson correlation coefficient, between parents and offspring. To get confidence intervals on this, we need to do a pairs bootstrap.\n",
    "\n",
    "You have [already written][1] a function to do pairs bootstrap to get estimates for parameters derived from linear regression. Your task in this exercise is to make a new function with call signature draw_bs_pairs(x, y, func, size=1) that performs pairs bootstrap and computes a single statistic on pairs samples defined. The statistic of interest is computed by calling func(bs_x, bs_y). In the next exercise, you will use pearson_r for func.\n",
    "\n",
    "**Instructions**\n",
    "\n",
    "- Set up an array of indices to sample from. (Remember, when doing pairs bootstrap, we randomly choose indices and use those to get the pairs.)\n",
    "- Initialize the array of bootstrap replicates. This should be a one-dimensional array of length size.\n",
    "- Write a for loop to draw the samples.\n",
    "- Randomly choose indices from the array of indices you previously set up.\n",
    "- Extract x values and y values from the input array using the indices you just chose to generate a bootstrap sample.\n",
    "- Use func to compute the statistic of interest from the bootstrap samples of x and y and store it in your array of bootstrap replicates.\n",
    "- Return the array of bootstrap replicates.\n",
    "\n",
    " [1]: https://campus.datacamp.com/courses/statistical-thinking-in-python-part-2/bootstrap-confidence-intervals?ex=12"
   ]
  },
  {
   "cell_type": "markdown",
   "metadata": {},
   "source": [
    "### Pearson correlation of offspring and parental data\n",
    "\n",
    "The Pearson correlation coefficient seems like a useful measure of how strongly the beak depth of parents are inherited by their offspring. Compute the Pearson correlation coefficient between parental and offspring beak depths for G. scandens. Do the same for G. fortis. Then, use the function you wrote in the last exercise to compute a 95% confidence interval using pairs bootstrap.\n",
    "\n",
    "Remember, the data are stored in bd_parent_scandens, bd_offspring_scandens, bd_parent_fortis, and bd_offspring_fortis.\n",
    "\n",
    "**Instructions**\n",
    "\n",
    "- Use the pearson_r() function [you wrote in the prequel to this course][1] to compute the Pearson correlation coefficient for G. scandens and G. fortis.\n",
    "- Acquire 1000 pairs bootstrap replicates of the Pearson correlation coefficient using the draw_bs_pairs() function you wrote in the previous exercise for G. scandens and G. fortis.\n",
    "- Compute the 95% confidence interval for both using your bootstrap replicates.\n",
    "\n",
    "  [1]: https://campus.datacamp.com/courses/statistical-thinking-in-python-part-1/quantitative-exploratory-data-analysis?ex=15"
   ]
  },
  {
   "cell_type": "markdown",
   "metadata": {},
   "source": [
    "### Measuring heritability\n",
    "\n",
    "Remember that the Pearson correlation coefficient is the ratio of the covariance to the geometric mean of the variances of the two data sets. This is a measure of the correlation between parents and offspring, but might not be the best estimate of heritability. If we stop and think, it makes more sense to define heritability as the ratio of the covariance between parent and offspring to the variance of the parents alone. In this exercise, you will estimate the heritability and perform a pairs bootstrap calculation to get the 95% confidence interval.\n",
    "\n",
    "This exercise highlights a very important point. Statistical inference (and data analysis in general) is not a plug-n-chug enterprise. You need to think carefully about the questions you are seeking to answer with your data and analyze them appropriately. If you are interested in how heritable traits are, the quantity we defined as the heritability is more apt than the off-the-shelf statistic, the Pearson correlation coefficient.\n",
    "\n",
    "Remember, the data are stored in bd_parent_scandens, bd_offspring_scandens, bd_parent_fortis, and bd_offspring_fortis.\n",
    "\n",
    "**Instructions**\n",
    "\n",
    "- Write a function heritability(parents, offspring) that computes heritability defined as the ratio of the covariance of the trait in parents and offspring divided by the variance of the trait in the parents. Hint: Remind yourself of the np.cov() function we covered in the prequel to this course.\n",
    "- Use this function to compute the heritability for G. scandens and G. fortis.\n",
    "- Acquire 1000 bootstrap replicates of the heritability using pairs bootstrap for G. scandens and G. fortis.\n",
    "- Compute the 95% confidence interval for both using your bootstrap replicates.\n",
    "- Print the results."
   ]
  },
  {
   "cell_type": "markdown",
   "metadata": {},
   "source": [
    "### Is beak depth heritable at all in G. scandens?\n",
    "\n",
    "The heritability of beak depth in G. scandens seems low. It could be that this observed heritability was just achieved by chance and beak depth is actually not really heritable in the species. You will test that hypothesis here. To do this, you will do a pairs permutation test.\n",
    "\n",
    "**Instructions**\n",
    "\n",
    "- Initialize your array of replicates of heritability. We will take 10,000 pairs permutation replicates.\n",
    "- Write a for loop to generate your replicates.\n",
    " - Permute the bd_parent_scandens array using np.random.permutation().\n",
    " - Compute the heritability between the permuted array and the bd_offspring_scandens array using the heritability() function you wrote in the last exercise. Store the result in the replicates array.\n",
    "- Compute the p-value as the number of replicates that are greater than the observed heritability_scandens you computed in the last exercise."
   ]
  },
  {
   "cell_type": "markdown",
   "metadata": {},
   "source": [
    "## Final thoughts"
   ]
  },
  {
   "cell_type": "markdown",
   "metadata": {},
   "source": [
    "# Certificate\n",
    "\n",
    "![](https://raw.githubusercontent.com/trenton3983/DataCamp/master/Images/jpd_dir/file.jpg)"
   ]
  }
 ],
 "metadata": {
  "kernelspec": {
   "display_name": "Python 3",
   "language": "python",
   "name": "python3"
  },
  "language_info": {
   "codemirror_mode": {
    "name": "ipython",
    "version": 3
   },
   "file_extension": ".py",
   "mimetype": "text/x-python",
   "name": "python",
   "nbconvert_exporter": "python",
   "pygments_lexer": "ipython3",
   "version": "3.7.7"
  }
 },
 "nbformat": 4,
 "nbformat_minor": 4
}
